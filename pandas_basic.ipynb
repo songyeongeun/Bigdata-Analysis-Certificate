{
 "cells": [
  {
   "cell_type": "code",
   "execution_count": 4,
   "id": "d0584026-1dad-4a52-a92d-c451a3b17d9e",
   "metadata": {},
   "outputs": [],
   "source": [
    "import pandas as pd"
   ]
  },
  {
   "cell_type": "code",
   "execution_count": 7,
   "id": "00e29e8b-51da-439f-b295-1f4b8c5f2726",
   "metadata": {},
   "outputs": [
    {
     "data": {
      "text/plain": [
       "0    육회비빔밥\n",
       "1     타코야끼\n",
       "2    불닭볶음면\n",
       "dtype: object"
      ]
     },
     "execution_count": 7,
     "metadata": {},
     "output_type": "execute_result"
    }
   ],
   "source": [
    "#시리즈 만들기(문자열)\n",
    "menu = pd.Series(['육회비빔밥','타코야끼','불닭볶음면'])\n",
    "menu"
   ]
  },
  {
   "cell_type": "code",
   "execution_count": 8,
   "id": "af20fef4-4cab-49b5-9f33-1a87b1dd0e82",
   "metadata": {},
   "outputs": [
    {
     "data": {
      "text/plain": [
       "0    10000\n",
       "1     9000\n",
       "2     3000\n",
       "dtype: int64"
      ]
     },
     "execution_count": 8,
     "metadata": {},
     "output_type": "execute_result"
    }
   ],
   "source": [
    "#시리즈 만들기(정수)\n",
    "price = pd.Series([10000,9000,3000])\n",
    "price"
   ]
  },
  {
   "cell_type": "code",
   "execution_count": 9,
   "id": "9e66e8e9-c850-41c7-a104-b0d3b46a93a3",
   "metadata": {},
   "outputs": [
    {
     "data": {
      "text/html": [
       "<div>\n",
       "<style scoped>\n",
       "    .dataframe tbody tr th:only-of-type {\n",
       "        vertical-align: middle;\n",
       "    }\n",
       "\n",
       "    .dataframe tbody tr th {\n",
       "        vertical-align: top;\n",
       "    }\n",
       "\n",
       "    .dataframe thead th {\n",
       "        text-align: right;\n",
       "    }\n",
       "</style>\n",
       "<table border=\"1\" class=\"dataframe\">\n",
       "  <thead>\n",
       "    <tr style=\"text-align: right;\">\n",
       "      <th></th>\n",
       "      <th>메뉴</th>\n",
       "      <th>가격</th>\n",
       "    </tr>\n",
       "  </thead>\n",
       "  <tbody>\n",
       "    <tr>\n",
       "      <th>0</th>\n",
       "      <td>육회비빔밥</td>\n",
       "      <td>10000</td>\n",
       "    </tr>\n",
       "    <tr>\n",
       "      <th>1</th>\n",
       "      <td>타코야끼</td>\n",
       "      <td>9000</td>\n",
       "    </tr>\n",
       "    <tr>\n",
       "      <th>2</th>\n",
       "      <td>불닭볶음면</td>\n",
       "      <td>3000</td>\n",
       "    </tr>\n",
       "  </tbody>\n",
       "</table>\n",
       "</div>"
      ],
      "text/plain": [
       "      메뉴     가격\n",
       "0  육회비빔밥  10000\n",
       "1   타코야끼   9000\n",
       "2  불닭볶음면   3000"
      ]
     },
     "execution_count": 9,
     "metadata": {},
     "output_type": "execute_result"
    }
   ],
   "source": [
    "#데이터 프레임 만들기 pd.DataFrame({\"컬럼명\":데이터})\n",
    "pd.DataFrame({\n",
    "    \"메뉴\":menu,\n",
    "    \"가격\":price\n",
    "})"
   ]
  },
  {
   "cell_type": "code",
   "execution_count": 11,
   "id": "ad54c1bb-9365-480d-94c5-735d3ecdf34d",
   "metadata": {},
   "outputs": [
    {
     "data": {
      "text/html": [
       "<div>\n",
       "<style scoped>\n",
       "    .dataframe tbody tr th:only-of-type {\n",
       "        vertical-align: middle;\n",
       "    }\n",
       "\n",
       "    .dataframe tbody tr th {\n",
       "        vertical-align: top;\n",
       "    }\n",
       "\n",
       "    .dataframe thead th {\n",
       "        text-align: right;\n",
       "    }\n",
       "</style>\n",
       "<table border=\"1\" class=\"dataframe\">\n",
       "  <thead>\n",
       "    <tr style=\"text-align: right;\">\n",
       "      <th></th>\n",
       "      <th>메뉴</th>\n",
       "      <th>가격</th>\n",
       "      <th>원산지</th>\n",
       "    </tr>\n",
       "  </thead>\n",
       "  <tbody>\n",
       "    <tr>\n",
       "      <th>0</th>\n",
       "      <td>육회비빔밥</td>\n",
       "      <td>10000</td>\n",
       "      <td>국내산</td>\n",
       "    </tr>\n",
       "    <tr>\n",
       "      <th>1</th>\n",
       "      <td>타코야끼</td>\n",
       "      <td>9000</td>\n",
       "      <td>국내산</td>\n",
       "    </tr>\n",
       "    <tr>\n",
       "      <th>2</th>\n",
       "      <td>불닭볶음면</td>\n",
       "      <td>3000</td>\n",
       "      <td>국내산</td>\n",
       "    </tr>\n",
       "  </tbody>\n",
       "</table>\n",
       "</div>"
      ],
      "text/plain": [
       "      메뉴     가격  원산지\n",
       "0  육회비빔밥  10000  국내산\n",
       "1   타코야끼   9000  국내산\n",
       "2  불닭볶음면   3000  국내산"
      ]
     },
     "execution_count": 11,
     "metadata": {},
     "output_type": "execute_result"
    }
   ],
   "source": [
    "#데이터 프레임 만들기 pd.DataFrame({\"컬럼명\":데이터})\n",
    "df = pd.DataFrame({\n",
    "    \"메뉴\":['육회비빔밥','타코야끼','불닭볶음면'],\n",
    "    \"가격\":['10000','9000','3000'],\n",
    "    \"원산지\":['국내산','국내산','국내산']\n",
    "})\n",
    "df"
   ]
  },
  {
   "cell_type": "code",
   "execution_count": 15,
   "id": "03ae9828-b869-4904-bbd9-d8001b511e0a",
   "metadata": {},
   "outputs": [
    {
     "data": {
      "text/plain": [
       "0    육회비빔밥\n",
       "1     타코야끼\n",
       "2    불닭볶음면\n",
       "Name: 메뉴, dtype: object"
      ]
     },
     "execution_count": 15,
     "metadata": {},
     "output_type": "execute_result"
    }
   ],
   "source": [
    "#시리즈 선택(메뉴)\n",
    "df['메뉴']"
   ]
  },
  {
   "cell_type": "code",
   "execution_count": 16,
   "id": "5efc350f-9bda-4d37-84c2-7febd031a62c",
   "metadata": {},
   "outputs": [
    {
     "data": {
      "text/html": [
       "<div>\n",
       "<style scoped>\n",
       "    .dataframe tbody tr th:only-of-type {\n",
       "        vertical-align: middle;\n",
       "    }\n",
       "\n",
       "    .dataframe tbody tr th {\n",
       "        vertical-align: top;\n",
       "    }\n",
       "\n",
       "    .dataframe thead th {\n",
       "        text-align: right;\n",
       "    }\n",
       "</style>\n",
       "<table border=\"1\" class=\"dataframe\">\n",
       "  <thead>\n",
       "    <tr style=\"text-align: right;\">\n",
       "      <th></th>\n",
       "      <th>메뉴</th>\n",
       "      <th>가격</th>\n",
       "    </tr>\n",
       "  </thead>\n",
       "  <tbody>\n",
       "    <tr>\n",
       "      <th>0</th>\n",
       "      <td>육회비빔밥</td>\n",
       "      <td>10000</td>\n",
       "    </tr>\n",
       "    <tr>\n",
       "      <th>1</th>\n",
       "      <td>타코야끼</td>\n",
       "      <td>9000</td>\n",
       "    </tr>\n",
       "    <tr>\n",
       "      <th>2</th>\n",
       "      <td>불닭볶음면</td>\n",
       "      <td>3000</td>\n",
       "    </tr>\n",
       "  </tbody>\n",
       "</table>\n",
       "</div>"
      ],
      "text/plain": [
       "      메뉴     가격\n",
       "0  육회비빔밥  10000\n",
       "1   타코야끼   9000\n",
       "2  불닭볶음면   3000"
      ]
     },
     "execution_count": 16,
     "metadata": {},
     "output_type": "execute_result"
    }
   ],
   "source": [
    "#데이터 프레임 선택(메뉴,가격)\n",
    "df[['메뉴','가격']]"
   ]
  },
  {
   "cell_type": "code",
   "execution_count": 17,
   "id": "a1ef08cc-8f1b-4440-b028-661e2c58abae",
   "metadata": {},
   "outputs": [
    {
     "data": {
      "text/html": [
       "<div>\n",
       "<style scoped>\n",
       "    .dataframe tbody tr th:only-of-type {\n",
       "        vertical-align: middle;\n",
       "    }\n",
       "\n",
       "    .dataframe tbody tr th {\n",
       "        vertical-align: top;\n",
       "    }\n",
       "\n",
       "    .dataframe thead th {\n",
       "        text-align: right;\n",
       "    }\n",
       "</style>\n",
       "<table border=\"1\" class=\"dataframe\">\n",
       "  <thead>\n",
       "    <tr style=\"text-align: right;\">\n",
       "      <th></th>\n",
       "      <th>메뉴</th>\n",
       "      <th>가격</th>\n",
       "    </tr>\n",
       "  </thead>\n",
       "  <tbody>\n",
       "    <tr>\n",
       "      <th>0</th>\n",
       "      <td>육회비빔밥</td>\n",
       "      <td>10000</td>\n",
       "    </tr>\n",
       "    <tr>\n",
       "      <th>1</th>\n",
       "      <td>타코야끼</td>\n",
       "      <td>9000</td>\n",
       "    </tr>\n",
       "    <tr>\n",
       "      <th>2</th>\n",
       "      <td>불닭볶음면</td>\n",
       "      <td>3000</td>\n",
       "    </tr>\n",
       "  </tbody>\n",
       "</table>\n",
       "</div>"
      ],
      "text/plain": [
       "      메뉴     가격\n",
       "0  육회비빔밥  10000\n",
       "1   타코야끼   9000\n",
       "2  불닭볶음면   3000"
      ]
     },
     "execution_count": 17,
     "metadata": {},
     "output_type": "execute_result"
    }
   ],
   "source": [
    "#데이터 프레임 선택(메뉴,가격)\n",
    "cols = ['메뉴','가격']\n",
    "df[cols]"
   ]
  },
  {
   "cell_type": "code",
   "execution_count": 21,
   "id": "837fc67a-0758-4fca-937c-b4e73807b4c5",
   "metadata": {},
   "outputs": [
    {
     "name": "stdout",
     "output_type": "stream",
     "text": [
      "df           :  <class 'pandas.core.frame.DataFrame'>\n",
      "df['가격']   :  <class 'pandas.core.series.Series'>\n",
      "df[['가격']] :  <class 'pandas.core.frame.DataFrame'>\n"
     ]
    }
   ],
   "source": [
    "#데이터 프레임 type 확인\n",
    "print(\"df           : \",type(df))\n",
    "print(\"df['가격']   : \",type(df['가격']))\n",
    "print(\"df[['가격']] : \",type(df[['가격']]))"
   ]
  },
  {
   "cell_type": "code",
   "execution_count": 22,
   "id": "6710e94f-7822-4a58-933a-d5c9a81de89b",
   "metadata": {},
   "outputs": [
    {
     "data": {
      "text/html": [
       "<div>\n",
       "<style scoped>\n",
       "    .dataframe tbody tr th:only-of-type {\n",
       "        vertical-align: middle;\n",
       "    }\n",
       "\n",
       "    .dataframe tbody tr th {\n",
       "        vertical-align: top;\n",
       "    }\n",
       "\n",
       "    .dataframe thead th {\n",
       "        text-align: right;\n",
       "    }\n",
       "</style>\n",
       "<table border=\"1\" class=\"dataframe\">\n",
       "  <thead>\n",
       "    <tr style=\"text-align: right;\">\n",
       "      <th></th>\n",
       "      <th>메뉴</th>\n",
       "      <th>가격</th>\n",
       "      <th>칼로리</th>\n",
       "    </tr>\n",
       "  </thead>\n",
       "  <tbody>\n",
       "    <tr>\n",
       "      <th>0</th>\n",
       "      <td>아메리카노</td>\n",
       "      <td>4000</td>\n",
       "      <td>20</td>\n",
       "    </tr>\n",
       "    <tr>\n",
       "      <th>1</th>\n",
       "      <td>카페라뗴</td>\n",
       "      <td>5000</td>\n",
       "      <td>110</td>\n",
       "    </tr>\n",
       "    <tr>\n",
       "      <th>2</th>\n",
       "      <td>카페모카</td>\n",
       "      <td>5000</td>\n",
       "      <td>250</td>\n",
       "    </tr>\n",
       "    <tr>\n",
       "      <th>3</th>\n",
       "      <td>에스프레소</td>\n",
       "      <td>3000</td>\n",
       "      <td>20</td>\n",
       "    </tr>\n",
       "    <tr>\n",
       "      <th>4</th>\n",
       "      <td>밀크티</td>\n",
       "      <td>5500</td>\n",
       "      <td>300</td>\n",
       "    </tr>\n",
       "  </tbody>\n",
       "</table>\n",
       "</div>"
      ],
      "text/plain": [
       "      메뉴    가격  칼로리\n",
       "0  아메리카노  4000   20\n",
       "1   카페라뗴  5000  110\n",
       "2   카페모카  5000  250\n",
       "3  에스프레소  3000   20\n",
       "4    밀크티  5500  300"
      ]
     },
     "execution_count": 22,
     "metadata": {},
     "output_type": "execute_result"
    }
   ],
   "source": [
    "df = pd.DataFrame({\n",
    "    \"메뉴\":['아메리카노','카페라뗴','카페모카','에스프레소','밀크티'],\n",
    "    \"가격\":[4000,5000,5000,3000,5500],\n",
    "    \"칼로리\":[20,110,250,20,300],\n",
    "})\n",
    "df"
   ]
  },
  {
   "cell_type": "code",
   "execution_count": 23,
   "id": "dd2d809d-8a45-4b57-8014-b54f5ac63829",
   "metadata": {},
   "outputs": [],
   "source": [
    "df.to_csv('temp.csv')"
   ]
  },
  {
   "cell_type": "code",
   "execution_count": 24,
   "id": "ec995b03-bc03-47d0-8fe0-bae6adea074c",
   "metadata": {},
   "outputs": [
    {
     "data": {
      "text/html": [
       "<div>\n",
       "<style scoped>\n",
       "    .dataframe tbody tr th:only-of-type {\n",
       "        vertical-align: middle;\n",
       "    }\n",
       "\n",
       "    .dataframe tbody tr th {\n",
       "        vertical-align: top;\n",
       "    }\n",
       "\n",
       "    .dataframe thead th {\n",
       "        text-align: right;\n",
       "    }\n",
       "</style>\n",
       "<table border=\"1\" class=\"dataframe\">\n",
       "  <thead>\n",
       "    <tr style=\"text-align: right;\">\n",
       "      <th></th>\n",
       "      <th>Unnamed: 0</th>\n",
       "      <th>메뉴</th>\n",
       "      <th>가격</th>\n",
       "      <th>칼로리</th>\n",
       "    </tr>\n",
       "  </thead>\n",
       "  <tbody>\n",
       "    <tr>\n",
       "      <th>0</th>\n",
       "      <td>0</td>\n",
       "      <td>아메리카노</td>\n",
       "      <td>4000</td>\n",
       "      <td>20</td>\n",
       "    </tr>\n",
       "    <tr>\n",
       "      <th>1</th>\n",
       "      <td>1</td>\n",
       "      <td>카페라뗴</td>\n",
       "      <td>5000</td>\n",
       "      <td>110</td>\n",
       "    </tr>\n",
       "    <tr>\n",
       "      <th>2</th>\n",
       "      <td>2</td>\n",
       "      <td>카페모카</td>\n",
       "      <td>5000</td>\n",
       "      <td>250</td>\n",
       "    </tr>\n",
       "    <tr>\n",
       "      <th>3</th>\n",
       "      <td>3</td>\n",
       "      <td>에스프레소</td>\n",
       "      <td>3000</td>\n",
       "      <td>20</td>\n",
       "    </tr>\n",
       "    <tr>\n",
       "      <th>4</th>\n",
       "      <td>4</td>\n",
       "      <td>밀크티</td>\n",
       "      <td>5500</td>\n",
       "      <td>300</td>\n",
       "    </tr>\n",
       "  </tbody>\n",
       "</table>\n",
       "</div>"
      ],
      "text/plain": [
       "   Unnamed: 0     메뉴    가격  칼로리\n",
       "0           0  아메리카노  4000   20\n",
       "1           1   카페라뗴  5000  110\n",
       "2           2   카페모카  5000  250\n",
       "3           3  에스프레소  3000   20\n",
       "4           4    밀크티  5500  300"
      ]
     },
     "execution_count": 24,
     "metadata": {},
     "output_type": "execute_result"
    }
   ],
   "source": [
    "temp_df = pd.read_csv('temp.csv')\n",
    "temp_df.head()\n",
    "#갑자기 unnamed가 생긴 것을 볼 수 있음"
   ]
  },
  {
   "cell_type": "code",
   "execution_count": 25,
   "id": "2e587603-6bfe-4205-95b6-0ac8bfabcaa4",
   "metadata": {},
   "outputs": [
    {
     "data": {
      "text/html": [
       "<div>\n",
       "<style scoped>\n",
       "    .dataframe tbody tr th:only-of-type {\n",
       "        vertical-align: middle;\n",
       "    }\n",
       "\n",
       "    .dataframe tbody tr th {\n",
       "        vertical-align: top;\n",
       "    }\n",
       "\n",
       "    .dataframe thead th {\n",
       "        text-align: right;\n",
       "    }\n",
       "</style>\n",
       "<table border=\"1\" class=\"dataframe\">\n",
       "  <thead>\n",
       "    <tr style=\"text-align: right;\">\n",
       "      <th></th>\n",
       "      <th>메뉴</th>\n",
       "      <th>가격</th>\n",
       "      <th>칼로리</th>\n",
       "    </tr>\n",
       "  </thead>\n",
       "  <tbody>\n",
       "    <tr>\n",
       "      <th>0</th>\n",
       "      <td>아메리카노</td>\n",
       "      <td>4000</td>\n",
       "      <td>20</td>\n",
       "    </tr>\n",
       "    <tr>\n",
       "      <th>1</th>\n",
       "      <td>카페라뗴</td>\n",
       "      <td>5000</td>\n",
       "      <td>110</td>\n",
       "    </tr>\n",
       "    <tr>\n",
       "      <th>2</th>\n",
       "      <td>카페모카</td>\n",
       "      <td>5000</td>\n",
       "      <td>250</td>\n",
       "    </tr>\n",
       "    <tr>\n",
       "      <th>3</th>\n",
       "      <td>에스프레소</td>\n",
       "      <td>3000</td>\n",
       "      <td>20</td>\n",
       "    </tr>\n",
       "    <tr>\n",
       "      <th>4</th>\n",
       "      <td>밀크티</td>\n",
       "      <td>5500</td>\n",
       "      <td>300</td>\n",
       "    </tr>\n",
       "  </tbody>\n",
       "</table>\n",
       "</div>"
      ],
      "text/plain": [
       "      메뉴    가격  칼로리\n",
       "0  아메리카노  4000   20\n",
       "1   카페라뗴  5000  110\n",
       "2   카페모카  5000  250\n",
       "3  에스프레소  3000   20\n",
       "4    밀크티  5500  300"
      ]
     },
     "execution_count": 25,
     "metadata": {},
     "output_type": "execute_result"
    }
   ],
   "source": [
    "df.to_csv('cafe.csv',index=False) #index 저장하지 않겠다\n",
    "df = pd.read_csv('cafe.csv')\n",
    "df.head()"
   ]
  },
  {
   "cell_type": "code",
   "execution_count": 26,
   "id": "415757ce-1a5f-4552-b0dc-2cdaca786229",
   "metadata": {},
   "outputs": [
    {
     "data": {
      "text/html": [
       "<div>\n",
       "<style scoped>\n",
       "    .dataframe tbody tr th:only-of-type {\n",
       "        vertical-align: middle;\n",
       "    }\n",
       "\n",
       "    .dataframe tbody tr th {\n",
       "        vertical-align: top;\n",
       "    }\n",
       "\n",
       "    .dataframe thead th {\n",
       "        text-align: right;\n",
       "    }\n",
       "</style>\n",
       "<table border=\"1\" class=\"dataframe\">\n",
       "  <thead>\n",
       "    <tr style=\"text-align: right;\">\n",
       "      <th></th>\n",
       "      <th>메뉴</th>\n",
       "      <th>가격</th>\n",
       "      <th>칼로리</th>\n",
       "    </tr>\n",
       "  </thead>\n",
       "  <tbody>\n",
       "    <tr>\n",
       "      <th>0</th>\n",
       "      <td>아메리카노</td>\n",
       "      <td>4000</td>\n",
       "      <td>20</td>\n",
       "    </tr>\n",
       "    <tr>\n",
       "      <th>1</th>\n",
       "      <td>카페라뗴</td>\n",
       "      <td>5000</td>\n",
       "      <td>110</td>\n",
       "    </tr>\n",
       "  </tbody>\n",
       "</table>\n",
       "</div>"
      ],
      "text/plain": [
       "      메뉴    가격  칼로리\n",
       "0  아메리카노  4000   20\n",
       "1   카페라뗴  5000  110"
      ]
     },
     "execution_count": 26,
     "metadata": {},
     "output_type": "execute_result"
    }
   ],
   "source": [
    "df.head(2)"
   ]
  },
  {
   "cell_type": "code",
   "execution_count": 27,
   "id": "e4ccd5d3-8600-485d-884e-e428e7b2045f",
   "metadata": {},
   "outputs": [
    {
     "data": {
      "text/html": [
       "<div>\n",
       "<style scoped>\n",
       "    .dataframe tbody tr th:only-of-type {\n",
       "        vertical-align: middle;\n",
       "    }\n",
       "\n",
       "    .dataframe tbody tr th {\n",
       "        vertical-align: top;\n",
       "    }\n",
       "\n",
       "    .dataframe thead th {\n",
       "        text-align: right;\n",
       "    }\n",
       "</style>\n",
       "<table border=\"1\" class=\"dataframe\">\n",
       "  <thead>\n",
       "    <tr style=\"text-align: right;\">\n",
       "      <th></th>\n",
       "      <th>메뉴</th>\n",
       "      <th>가격</th>\n",
       "      <th>칼로리</th>\n",
       "    </tr>\n",
       "  </thead>\n",
       "  <tbody>\n",
       "    <tr>\n",
       "      <th>2</th>\n",
       "      <td>카페모카</td>\n",
       "      <td>5000</td>\n",
       "      <td>250</td>\n",
       "    </tr>\n",
       "    <tr>\n",
       "      <th>3</th>\n",
       "      <td>에스프레소</td>\n",
       "      <td>3000</td>\n",
       "      <td>20</td>\n",
       "    </tr>\n",
       "    <tr>\n",
       "      <th>4</th>\n",
       "      <td>밀크티</td>\n",
       "      <td>5500</td>\n",
       "      <td>300</td>\n",
       "    </tr>\n",
       "  </tbody>\n",
       "</table>\n",
       "</div>"
      ],
      "text/plain": [
       "      메뉴    가격  칼로리\n",
       "2   카페모카  5000  250\n",
       "3  에스프레소  3000   20\n",
       "4    밀크티  5500  300"
      ]
     },
     "execution_count": 27,
     "metadata": {},
     "output_type": "execute_result"
    }
   ],
   "source": [
    "df.tail(3)"
   ]
  },
  {
   "cell_type": "code",
   "execution_count": 28,
   "id": "87aa7500-654a-46dd-814e-93f43fde0086",
   "metadata": {},
   "outputs": [
    {
     "data": {
      "text/html": [
       "<div>\n",
       "<style scoped>\n",
       "    .dataframe tbody tr th:only-of-type {\n",
       "        vertical-align: middle;\n",
       "    }\n",
       "\n",
       "    .dataframe tbody tr th {\n",
       "        vertical-align: top;\n",
       "    }\n",
       "\n",
       "    .dataframe thead th {\n",
       "        text-align: right;\n",
       "    }\n",
       "</style>\n",
       "<table border=\"1\" class=\"dataframe\">\n",
       "  <thead>\n",
       "    <tr style=\"text-align: right;\">\n",
       "      <th></th>\n",
       "      <th>메뉴</th>\n",
       "      <th>가격</th>\n",
       "      <th>칼로리</th>\n",
       "    </tr>\n",
       "  </thead>\n",
       "  <tbody>\n",
       "    <tr>\n",
       "      <th>4</th>\n",
       "      <td>밀크티</td>\n",
       "      <td>5500</td>\n",
       "      <td>300</td>\n",
       "    </tr>\n",
       "    <tr>\n",
       "      <th>0</th>\n",
       "      <td>아메리카노</td>\n",
       "      <td>4000</td>\n",
       "      <td>20</td>\n",
       "    </tr>\n",
       "    <tr>\n",
       "      <th>2</th>\n",
       "      <td>카페모카</td>\n",
       "      <td>5000</td>\n",
       "      <td>250</td>\n",
       "    </tr>\n",
       "  </tbody>\n",
       "</table>\n",
       "</div>"
      ],
      "text/plain": [
       "      메뉴    가격  칼로리\n",
       "4    밀크티  5500  300\n",
       "0  아메리카노  4000   20\n",
       "2   카페모카  5000  250"
      ]
     },
     "execution_count": 28,
     "metadata": {},
     "output_type": "execute_result"
    }
   ],
   "source": [
    "df.sample(3) #랜덤으로 보여짐"
   ]
  },
  {
   "cell_type": "code",
   "execution_count": 29,
   "id": "42f0ea12-c3af-463c-bf80-a46aee663ca4",
   "metadata": {},
   "outputs": [
    {
     "data": {
      "text/plain": [
       "(5, 3)"
      ]
     },
     "execution_count": 29,
     "metadata": {},
     "output_type": "execute_result"
    }
   ],
   "source": [
    "#데이터프레임 크기(행, 컬럼)\n",
    "df.shape"
   ]
  },
  {
   "cell_type": "code",
   "execution_count": 30,
   "id": "812f81ed-a5bd-44b0-82cb-d970328027f0",
   "metadata": {},
   "outputs": [
    {
     "name": "stdout",
     "output_type": "stream",
     "text": [
      "<class 'pandas.core.frame.DataFrame'>\n",
      "RangeIndex: 5 entries, 0 to 4\n",
      "Data columns (total 3 columns):\n",
      " #   Column  Non-Null Count  Dtype \n",
      "---  ------  --------------  ----- \n",
      " 0   메뉴      5 non-null      object\n",
      " 1   가격      5 non-null      int64 \n",
      " 2   칼로리     5 non-null      int64 \n",
      "dtypes: int64(2), object(1)\n",
      "memory usage: 252.0+ bytes\n"
     ]
    }
   ],
   "source": [
    "#컬럼 형태(type)\n",
    "df.info()"
   ]
  },
  {
   "cell_type": "code",
   "execution_count": 31,
   "id": "aec364d3-98de-4693-8d0e-ff26e226b5a3",
   "metadata": {},
   "outputs": [
    {
     "data": {
      "text/html": [
       "<div>\n",
       "<style scoped>\n",
       "    .dataframe tbody tr th:only-of-type {\n",
       "        vertical-align: middle;\n",
       "    }\n",
       "\n",
       "    .dataframe tbody tr th {\n",
       "        vertical-align: top;\n",
       "    }\n",
       "\n",
       "    .dataframe thead th {\n",
       "        text-align: right;\n",
       "    }\n",
       "</style>\n",
       "<table border=\"1\" class=\"dataframe\">\n",
       "  <thead>\n",
       "    <tr style=\"text-align: right;\">\n",
       "      <th></th>\n",
       "      <th>가격</th>\n",
       "      <th>칼로리</th>\n",
       "    </tr>\n",
       "  </thead>\n",
       "  <tbody>\n",
       "    <tr>\n",
       "      <th>가격</th>\n",
       "      <td>1.000000</td>\n",
       "      <td>0.847408</td>\n",
       "    </tr>\n",
       "    <tr>\n",
       "      <th>칼로리</th>\n",
       "      <td>0.847408</td>\n",
       "      <td>1.000000</td>\n",
       "    </tr>\n",
       "  </tbody>\n",
       "</table>\n",
       "</div>"
      ],
      "text/plain": [
       "           가격       칼로리\n",
       "가격   1.000000  0.847408\n",
       "칼로리  0.847408  1.000000"
      ]
     },
     "execution_count": 31,
     "metadata": {},
     "output_type": "execute_result"
    }
   ],
   "source": [
    "#상관관계\n",
    "df.corr(numeric_only=True) #데이터프레임에 object컬럼이 있기 때문에"
   ]
  },
  {
   "cell_type": "code",
   "execution_count": 32,
   "id": "d2befdfd-cc0c-443d-ae50-63d075403215",
   "metadata": {},
   "outputs": [
    {
     "data": {
      "text/html": [
       "<div>\n",
       "<style scoped>\n",
       "    .dataframe tbody tr th:only-of-type {\n",
       "        vertical-align: middle;\n",
       "    }\n",
       "\n",
       "    .dataframe tbody tr th {\n",
       "        vertical-align: top;\n",
       "    }\n",
       "\n",
       "    .dataframe thead th {\n",
       "        text-align: right;\n",
       "    }\n",
       "</style>\n",
       "<table border=\"1\" class=\"dataframe\">\n",
       "  <thead>\n",
       "    <tr style=\"text-align: right;\">\n",
       "      <th></th>\n",
       "      <th>car</th>\n",
       "      <th>size</th>\n",
       "    </tr>\n",
       "  </thead>\n",
       "  <tbody>\n",
       "    <tr>\n",
       "      <th>0</th>\n",
       "      <td>Sedan</td>\n",
       "      <td>S</td>\n",
       "    </tr>\n",
       "    <tr>\n",
       "      <th>1</th>\n",
       "      <td>SUV</td>\n",
       "      <td>M</td>\n",
       "    </tr>\n",
       "    <tr>\n",
       "      <th>2</th>\n",
       "      <td>Sedan</td>\n",
       "      <td>S</td>\n",
       "    </tr>\n",
       "  </tbody>\n",
       "</table>\n",
       "</div>"
      ],
      "text/plain": [
       "     car size\n",
       "0  Sedan    S\n",
       "1    SUV    M\n",
       "2  Sedan    S"
      ]
     },
     "execution_count": 32,
     "metadata": {},
     "output_type": "execute_result"
    }
   ],
   "source": [
    "df_car = pd.DataFrame({\n",
    "    \"car\":['Sedan','SUV','Sedan','SUV','SUV','SUV','Sedan','SUV','Sedan','Sedan'],\n",
    "    \"size\":['S','M','S','S','M','M','L','S','S','M']\n",
    "})\n",
    "df_car.head(3)"
   ]
  },
  {
   "cell_type": "code",
   "execution_count": 33,
   "id": "f82e06b6-699d-4171-8dea-6790accb283f",
   "metadata": {},
   "outputs": [
    {
     "data": {
      "text/plain": [
       "car     2\n",
       "size    3\n",
       "dtype: int64"
      ]
     },
     "execution_count": 33,
     "metadata": {},
     "output_type": "execute_result"
    }
   ],
   "source": [
    "#항목 종류 \n",
    "df_car.nunique() #숫자"
   ]
  },
  {
   "cell_type": "code",
   "execution_count": 34,
   "id": "d21ac841-f9e5-41b9-b197-c41cd644bf6b",
   "metadata": {},
   "outputs": [
    {
     "name": "stdout",
     "output_type": "stream",
     "text": [
      "['Sedan' 'SUV']\n",
      "['S' 'M' 'L']\n"
     ]
    }
   ],
   "source": [
    "#항목 종류\n",
    "print(df_car['car'].unique())\n",
    "print(df_car['size'].unique())"
   ]
  },
  {
   "cell_type": "code",
   "execution_count": 35,
   "id": "a583dc8d-d415-4503-80a2-d5c66bfd4620",
   "metadata": {},
   "outputs": [
    {
     "name": "stdout",
     "output_type": "stream",
     "text": [
      "car\n",
      "Sedan    5\n",
      "SUV      5\n",
      "Name: count, dtype: int64\n",
      "size\n",
      "S    5\n",
      "M    4\n",
      "L    1\n",
      "Name: count, dtype: int64\n"
     ]
    }
   ],
   "source": [
    "#항목별 개수\n",
    "print(df_car['car'].value_counts())\n",
    "print(df_car['size'].value_counts())"
   ]
  },
  {
   "cell_type": "code",
   "execution_count": 36,
   "id": "b89b35e2-723a-4410-bc95-1168b4d4dd12",
   "metadata": {},
   "outputs": [
    {
     "data": {
      "text/html": [
       "<div>\n",
       "<style scoped>\n",
       "    .dataframe tbody tr th:only-of-type {\n",
       "        vertical-align: middle;\n",
       "    }\n",
       "\n",
       "    .dataframe tbody tr th {\n",
       "        vertical-align: top;\n",
       "    }\n",
       "\n",
       "    .dataframe thead th {\n",
       "        text-align: right;\n",
       "    }\n",
       "</style>\n",
       "<table border=\"1\" class=\"dataframe\">\n",
       "  <thead>\n",
       "    <tr style=\"text-align: right;\">\n",
       "      <th></th>\n",
       "      <th>가격</th>\n",
       "      <th>칼로리</th>\n",
       "    </tr>\n",
       "  </thead>\n",
       "  <tbody>\n",
       "    <tr>\n",
       "      <th>count</th>\n",
       "      <td>5.0</td>\n",
       "      <td>5.00000</td>\n",
       "    </tr>\n",
       "    <tr>\n",
       "      <th>mean</th>\n",
       "      <td>4500.0</td>\n",
       "      <td>140.00000</td>\n",
       "    </tr>\n",
       "    <tr>\n",
       "      <th>std</th>\n",
       "      <td>1000.0</td>\n",
       "      <td>129.80755</td>\n",
       "    </tr>\n",
       "    <tr>\n",
       "      <th>min</th>\n",
       "      <td>3000.0</td>\n",
       "      <td>20.00000</td>\n",
       "    </tr>\n",
       "    <tr>\n",
       "      <th>25%</th>\n",
       "      <td>4000.0</td>\n",
       "      <td>20.00000</td>\n",
       "    </tr>\n",
       "    <tr>\n",
       "      <th>50%</th>\n",
       "      <td>5000.0</td>\n",
       "      <td>110.00000</td>\n",
       "    </tr>\n",
       "    <tr>\n",
       "      <th>75%</th>\n",
       "      <td>5000.0</td>\n",
       "      <td>250.00000</td>\n",
       "    </tr>\n",
       "    <tr>\n",
       "      <th>max</th>\n",
       "      <td>5500.0</td>\n",
       "      <td>300.00000</td>\n",
       "    </tr>\n",
       "  </tbody>\n",
       "</table>\n",
       "</div>"
      ],
      "text/plain": [
       "           가격        칼로리\n",
       "count     5.0    5.00000\n",
       "mean   4500.0  140.00000\n",
       "std    1000.0  129.80755\n",
       "min    3000.0   20.00000\n",
       "25%    4000.0   20.00000\n",
       "50%    5000.0  110.00000\n",
       "75%    5000.0  250.00000\n",
       "max    5500.0  300.00000"
      ]
     },
     "execution_count": 36,
     "metadata": {},
     "output_type": "execute_result"
    }
   ],
   "source": [
    "df.describe()"
   ]
  },
  {
   "cell_type": "code",
   "execution_count": 37,
   "id": "63104314-3ae6-4957-a277-beea993816ee",
   "metadata": {},
   "outputs": [
    {
     "data": {
      "text/html": [
       "<div>\n",
       "<style scoped>\n",
       "    .dataframe tbody tr th:only-of-type {\n",
       "        vertical-align: middle;\n",
       "    }\n",
       "\n",
       "    .dataframe tbody tr th {\n",
       "        vertical-align: top;\n",
       "    }\n",
       "\n",
       "    .dataframe thead th {\n",
       "        text-align: right;\n",
       "    }\n",
       "</style>\n",
       "<table border=\"1\" class=\"dataframe\">\n",
       "  <thead>\n",
       "    <tr style=\"text-align: right;\">\n",
       "      <th></th>\n",
       "      <th>car</th>\n",
       "      <th>size</th>\n",
       "    </tr>\n",
       "  </thead>\n",
       "  <tbody>\n",
       "    <tr>\n",
       "      <th>count</th>\n",
       "      <td>10</td>\n",
       "      <td>10</td>\n",
       "    </tr>\n",
       "    <tr>\n",
       "      <th>unique</th>\n",
       "      <td>2</td>\n",
       "      <td>3</td>\n",
       "    </tr>\n",
       "    <tr>\n",
       "      <th>top</th>\n",
       "      <td>Sedan</td>\n",
       "      <td>S</td>\n",
       "    </tr>\n",
       "    <tr>\n",
       "      <th>freq</th>\n",
       "      <td>5</td>\n",
       "      <td>5</td>\n",
       "    </tr>\n",
       "  </tbody>\n",
       "</table>\n",
       "</div>"
      ],
      "text/plain": [
       "          car size\n",
       "count      10   10\n",
       "unique      2    3\n",
       "top     Sedan    S\n",
       "freq        5    5"
      ]
     },
     "execution_count": 37,
     "metadata": {},
     "output_type": "execute_result"
    }
   ],
   "source": [
    "df_car.describe(include=\"O\")"
   ]
  },
  {
   "cell_type": "code",
   "execution_count": 38,
   "id": "8e226525-7bcd-40db-b87a-f9f088723f77",
   "metadata": {},
   "outputs": [
    {
     "data": {
      "text/html": [
       "<div>\n",
       "<style scoped>\n",
       "    .dataframe tbody tr th:only-of-type {\n",
       "        vertical-align: middle;\n",
       "    }\n",
       "\n",
       "    .dataframe tbody tr th {\n",
       "        vertical-align: top;\n",
       "    }\n",
       "\n",
       "    .dataframe thead th {\n",
       "        text-align: right;\n",
       "    }\n",
       "</style>\n",
       "<table border=\"1\" class=\"dataframe\">\n",
       "  <thead>\n",
       "    <tr style=\"text-align: right;\">\n",
       "      <th></th>\n",
       "      <th>메뉴</th>\n",
       "    </tr>\n",
       "  </thead>\n",
       "  <tbody>\n",
       "    <tr>\n",
       "      <th>count</th>\n",
       "      <td>5</td>\n",
       "    </tr>\n",
       "    <tr>\n",
       "      <th>unique</th>\n",
       "      <td>5</td>\n",
       "    </tr>\n",
       "    <tr>\n",
       "      <th>top</th>\n",
       "      <td>아메리카노</td>\n",
       "    </tr>\n",
       "    <tr>\n",
       "      <th>freq</th>\n",
       "      <td>1</td>\n",
       "    </tr>\n",
       "  </tbody>\n",
       "</table>\n",
       "</div>"
      ],
      "text/plain": [
       "           메뉴\n",
       "count       5\n",
       "unique      5\n",
       "top     아메리카노\n",
       "freq        1"
      ]
     },
     "execution_count": 38,
     "metadata": {},
     "output_type": "execute_result"
    }
   ],
   "source": [
    "df.describe(include=\"O\")"
   ]
  },
  {
   "cell_type": "code",
   "execution_count": 40,
   "id": "b3313e04-e45f-4bcf-882b-37922b564013",
   "metadata": {},
   "outputs": [
    {
     "name": "stdout",
     "output_type": "stream",
     "text": [
      "<class 'pandas.core.frame.DataFrame'>\n",
      "RangeIndex: 5 entries, 0 to 4\n",
      "Data columns (total 3 columns):\n",
      " #   Column  Non-Null Count  Dtype  \n",
      "---  ------  --------------  -----  \n",
      " 0   메뉴      5 non-null      object \n",
      " 1   가격      5 non-null      float64\n",
      " 2   칼로리     5 non-null      object \n",
      "dtypes: float64(1), object(2)\n",
      "memory usage: 252.0+ bytes\n"
     ]
    }
   ],
   "source": [
    "data = {\n",
    "    \"메뉴\":['아메리카노','카페라뗴','카페모카','에스프레소','밀크티'],\n",
    "    \"가격\":[4000.0,5000.0,5000.0,3000.0,5500.0],\n",
    "    \"칼로리\":['20','110','250','20','300'],\n",
    "}\n",
    "df=pd.DataFrame(data)\n",
    "df.info()"
   ]
  },
  {
   "cell_type": "code",
   "execution_count": 41,
   "id": "dcedb5a6-e1f4-46df-9f69-259a3a67e1ac",
   "metadata": {},
   "outputs": [
    {
     "name": "stdout",
     "output_type": "stream",
     "text": [
      "<class 'pandas.core.frame.DataFrame'>\n",
      "RangeIndex: 5 entries, 0 to 4\n",
      "Data columns (total 3 columns):\n",
      " #   Column  Non-Null Count  Dtype \n",
      "---  ------  --------------  ----- \n",
      " 0   메뉴      5 non-null      object\n",
      " 1   가격      5 non-null      int64 \n",
      " 2   칼로리     5 non-null      object\n",
      "dtypes: int64(1), object(2)\n",
      "memory usage: 252.0+ bytes\n"
     ]
    }
   ],
   "source": [
    "#자료형 변환 / astype / float->int\n",
    "df['가격'] = df['가격'].astype('int')\n",
    "df.info()"
   ]
  },
  {
   "cell_type": "code",
   "execution_count": 42,
   "id": "99b2c300-bd2d-4d2a-8991-5d9f44d58089",
   "metadata": {},
   "outputs": [
    {
     "name": "stdout",
     "output_type": "stream",
     "text": [
      "<class 'pandas.core.frame.DataFrame'>\n",
      "RangeIndex: 5 entries, 0 to 4\n",
      "Data columns (total 3 columns):\n",
      " #   Column  Non-Null Count  Dtype  \n",
      "---  ------  --------------  -----  \n",
      " 0   메뉴      5 non-null      object \n",
      " 1   가격      5 non-null      int64  \n",
      " 2   칼로리     5 non-null      float64\n",
      "dtypes: float64(1), int64(1), object(1)\n",
      "memory usage: 252.0+ bytes\n"
     ]
    }
   ],
   "source": [
    "#자료형 변환 / astype / object->float\n",
    "df['칼로리'] = df['칼로리'].astype('float')\n",
    "df.info()"
   ]
  },
  {
   "cell_type": "code",
   "execution_count": 44,
   "id": "03217062-4bd6-45c7-b680-70ccd4a042b2",
   "metadata": {},
   "outputs": [
    {
     "data": {
      "text/html": [
       "<div>\n",
       "<style scoped>\n",
       "    .dataframe tbody tr th:only-of-type {\n",
       "        vertical-align: middle;\n",
       "    }\n",
       "\n",
       "    .dataframe tbody tr th {\n",
       "        vertical-align: top;\n",
       "    }\n",
       "\n",
       "    .dataframe thead th {\n",
       "        text-align: right;\n",
       "    }\n",
       "</style>\n",
       "<table border=\"1\" class=\"dataframe\">\n",
       "  <thead>\n",
       "    <tr style=\"text-align: right;\">\n",
       "      <th></th>\n",
       "      <th>메뉴</th>\n",
       "      <th>가격</th>\n",
       "      <th>칼로리</th>\n",
       "    </tr>\n",
       "  </thead>\n",
       "  <tbody>\n",
       "    <tr>\n",
       "      <th>0</th>\n",
       "      <td>아메리카노</td>\n",
       "      <td>4000</td>\n",
       "      <td>20</td>\n",
       "    </tr>\n",
       "    <tr>\n",
       "      <th>1</th>\n",
       "      <td>카페라뗴</td>\n",
       "      <td>5000</td>\n",
       "      <td>110</td>\n",
       "    </tr>\n",
       "  </tbody>\n",
       "</table>\n",
       "</div>"
      ],
      "text/plain": [
       "      메뉴    가격  칼로리\n",
       "0  아메리카노  4000   20\n",
       "1   카페라뗴  5000  110"
      ]
     },
     "execution_count": 44,
     "metadata": {},
     "output_type": "execute_result"
    }
   ],
   "source": [
    "df = pd.read_csv('cafe.csv')\n",
    "df.head(2)"
   ]
  },
  {
   "cell_type": "code",
   "execution_count": 45,
   "id": "ff4fafaf-1966-492b-bd0d-5912aba4b35e",
   "metadata": {},
   "outputs": [
    {
     "data": {
      "text/html": [
       "<div>\n",
       "<style scoped>\n",
       "    .dataframe tbody tr th:only-of-type {\n",
       "        vertical-align: middle;\n",
       "    }\n",
       "\n",
       "    .dataframe tbody tr th {\n",
       "        vertical-align: top;\n",
       "    }\n",
       "\n",
       "    .dataframe thead th {\n",
       "        text-align: right;\n",
       "    }\n",
       "</style>\n",
       "<table border=\"1\" class=\"dataframe\">\n",
       "  <thead>\n",
       "    <tr style=\"text-align: right;\">\n",
       "      <th></th>\n",
       "      <th>메뉴</th>\n",
       "      <th>가격</th>\n",
       "      <th>칼로리</th>\n",
       "      <th>new</th>\n",
       "    </tr>\n",
       "  </thead>\n",
       "  <tbody>\n",
       "    <tr>\n",
       "      <th>0</th>\n",
       "      <td>아메리카노</td>\n",
       "      <td>4000</td>\n",
       "      <td>20</td>\n",
       "      <td>0</td>\n",
       "    </tr>\n",
       "    <tr>\n",
       "      <th>1</th>\n",
       "      <td>카페라뗴</td>\n",
       "      <td>5000</td>\n",
       "      <td>110</td>\n",
       "      <td>0</td>\n",
       "    </tr>\n",
       "  </tbody>\n",
       "</table>\n",
       "</div>"
      ],
      "text/plain": [
       "      메뉴    가격  칼로리  new\n",
       "0  아메리카노  4000   20    0\n",
       "1   카페라뗴  5000  110    0"
      ]
     },
     "execution_count": 45,
     "metadata": {},
     "output_type": "execute_result"
    }
   ],
   "source": [
    "#새로운 컬럼 추가 (값은 0)\n",
    "df['new'] = 0\n",
    "df.head(2)"
   ]
  },
  {
   "cell_type": "code",
   "execution_count": 46,
   "id": "3dd81d76-771e-433b-9c8d-4d3f6d24480e",
   "metadata": {},
   "outputs": [
    {
     "data": {
      "text/html": [
       "<div>\n",
       "<style scoped>\n",
       "    .dataframe tbody tr th:only-of-type {\n",
       "        vertical-align: middle;\n",
       "    }\n",
       "\n",
       "    .dataframe tbody tr th {\n",
       "        vertical-align: top;\n",
       "    }\n",
       "\n",
       "    .dataframe thead th {\n",
       "        text-align: right;\n",
       "    }\n",
       "</style>\n",
       "<table border=\"1\" class=\"dataframe\">\n",
       "  <thead>\n",
       "    <tr style=\"text-align: right;\">\n",
       "      <th></th>\n",
       "      <th>메뉴</th>\n",
       "      <th>가격</th>\n",
       "      <th>칼로리</th>\n",
       "      <th>new</th>\n",
       "      <th>할인가</th>\n",
       "    </tr>\n",
       "  </thead>\n",
       "  <tbody>\n",
       "    <tr>\n",
       "      <th>0</th>\n",
       "      <td>아메리카노</td>\n",
       "      <td>4000</td>\n",
       "      <td>20</td>\n",
       "      <td>0</td>\n",
       "      <td>3200.0</td>\n",
       "    </tr>\n",
       "    <tr>\n",
       "      <th>1</th>\n",
       "      <td>카페라뗴</td>\n",
       "      <td>5000</td>\n",
       "      <td>110</td>\n",
       "      <td>0</td>\n",
       "      <td>4000.0</td>\n",
       "    </tr>\n",
       "  </tbody>\n",
       "</table>\n",
       "</div>"
      ],
      "text/plain": [
       "      메뉴    가격  칼로리  new     할인가\n",
       "0  아메리카노  4000   20    0  3200.0\n",
       "1   카페라뗴  5000  110    0  4000.0"
      ]
     },
     "execution_count": 46,
     "metadata": {},
     "output_type": "execute_result"
    }
   ],
   "source": [
    "#할인가 컬럼 추가\n",
    "discount=0.2\n",
    "df['할인가']=df['가격'] * (1-discount)\n",
    "df.head(2)"
   ]
  },
  {
   "cell_type": "code",
   "execution_count": 48,
   "id": "e66f6648-a70a-44e5-b918-f32b42736c8e",
   "metadata": {},
   "outputs": [
    {
     "data": {
      "text/html": [
       "<div>\n",
       "<style scoped>\n",
       "    .dataframe tbody tr th:only-of-type {\n",
       "        vertical-align: middle;\n",
       "    }\n",
       "\n",
       "    .dataframe tbody tr th {\n",
       "        vertical-align: top;\n",
       "    }\n",
       "\n",
       "    .dataframe thead th {\n",
       "        text-align: right;\n",
       "    }\n",
       "</style>\n",
       "<table border=\"1\" class=\"dataframe\">\n",
       "  <thead>\n",
       "    <tr style=\"text-align: right;\">\n",
       "      <th></th>\n",
       "      <th>메뉴</th>\n",
       "      <th>가격</th>\n",
       "      <th>칼로리</th>\n",
       "      <th>new</th>\n",
       "      <th>할인가</th>\n",
       "    </tr>\n",
       "  </thead>\n",
       "  <tbody>\n",
       "    <tr>\n",
       "      <th>0</th>\n",
       "      <td>아메리카노</td>\n",
       "      <td>4000</td>\n",
       "      <td>20</td>\n",
       "      <td>0</td>\n",
       "      <td>3200.0</td>\n",
       "    </tr>\n",
       "    <tr>\n",
       "      <th>2</th>\n",
       "      <td>카페모카</td>\n",
       "      <td>5000</td>\n",
       "      <td>250</td>\n",
       "      <td>0</td>\n",
       "      <td>4000.0</td>\n",
       "    </tr>\n",
       "    <tr>\n",
       "      <th>3</th>\n",
       "      <td>에스프레소</td>\n",
       "      <td>3000</td>\n",
       "      <td>20</td>\n",
       "      <td>0</td>\n",
       "      <td>2400.0</td>\n",
       "    </tr>\n",
       "  </tbody>\n",
       "</table>\n",
       "</div>"
      ],
      "text/plain": [
       "      메뉴    가격  칼로리  new     할인가\n",
       "0  아메리카노  4000   20    0  3200.0\n",
       "2   카페모카  5000  250    0  4000.0\n",
       "3  에스프레소  3000   20    0  2400.0"
      ]
     },
     "execution_count": 48,
     "metadata": {},
     "output_type": "execute_result"
    }
   ],
   "source": [
    "#행 삭제\n",
    "df = df.drop(1,axis=0)\n",
    "df.head(3)"
   ]
  },
  {
   "cell_type": "code",
   "execution_count": 50,
   "id": "8d1966e2-c738-4edc-8e2d-7b5838441e7c",
   "metadata": {},
   "outputs": [
    {
     "data": {
      "text/html": [
       "<div>\n",
       "<style scoped>\n",
       "    .dataframe tbody tr th:only-of-type {\n",
       "        vertical-align: middle;\n",
       "    }\n",
       "\n",
       "    .dataframe tbody tr th {\n",
       "        vertical-align: top;\n",
       "    }\n",
       "\n",
       "    .dataframe thead th {\n",
       "        text-align: right;\n",
       "    }\n",
       "</style>\n",
       "<table border=\"1\" class=\"dataframe\">\n",
       "  <thead>\n",
       "    <tr style=\"text-align: right;\">\n",
       "      <th></th>\n",
       "      <th>메뉴</th>\n",
       "      <th>가격</th>\n",
       "      <th>new</th>\n",
       "      <th>할인가</th>\n",
       "    </tr>\n",
       "  </thead>\n",
       "  <tbody>\n",
       "    <tr>\n",
       "      <th>0</th>\n",
       "      <td>아메리카노</td>\n",
       "      <td>4000</td>\n",
       "      <td>0</td>\n",
       "      <td>3200.0</td>\n",
       "    </tr>\n",
       "    <tr>\n",
       "      <th>2</th>\n",
       "      <td>카페모카</td>\n",
       "      <td>5000</td>\n",
       "      <td>0</td>\n",
       "      <td>4000.0</td>\n",
       "    </tr>\n",
       "    <tr>\n",
       "      <th>3</th>\n",
       "      <td>에스프레소</td>\n",
       "      <td>3000</td>\n",
       "      <td>0</td>\n",
       "      <td>2400.0</td>\n",
       "    </tr>\n",
       "  </tbody>\n",
       "</table>\n",
       "</div>"
      ],
      "text/plain": [
       "      메뉴    가격  new     할인가\n",
       "0  아메리카노  4000    0  3200.0\n",
       "2   카페모카  5000    0  4000.0\n",
       "3  에스프레소  3000    0  2400.0"
      ]
     },
     "execution_count": 50,
     "metadata": {},
     "output_type": "execute_result"
    }
   ],
   "source": [
    "#컬럼 삭제\n",
    "#axis=0:행방향, axis=1:열방향(컬럼)\n",
    "df = df.drop('칼로리',axis=1)\n",
    "df.head(3)"
   ]
  },
  {
   "cell_type": "code",
   "execution_count": 51,
   "id": "7f7274de-e30a-4183-8b26-6adc89dfd7e6",
   "metadata": {},
   "outputs": [
    {
     "data": {
      "text/html": [
       "<div>\n",
       "<style scoped>\n",
       "    .dataframe tbody tr th:only-of-type {\n",
       "        vertical-align: middle;\n",
       "    }\n",
       "\n",
       "    .dataframe tbody tr th {\n",
       "        vertical-align: top;\n",
       "    }\n",
       "\n",
       "    .dataframe thead th {\n",
       "        text-align: right;\n",
       "    }\n",
       "</style>\n",
       "<table border=\"1\" class=\"dataframe\">\n",
       "  <thead>\n",
       "    <tr style=\"text-align: right;\">\n",
       "      <th></th>\n",
       "      <th>메뉴</th>\n",
       "      <th>가격</th>\n",
       "      <th>칼로리</th>\n",
       "    </tr>\n",
       "  </thead>\n",
       "  <tbody>\n",
       "    <tr>\n",
       "      <th>0</th>\n",
       "      <td>아메리카노</td>\n",
       "      <td>4000</td>\n",
       "      <td>20</td>\n",
       "    </tr>\n",
       "    <tr>\n",
       "      <th>1</th>\n",
       "      <td>카페라뗴</td>\n",
       "      <td>5000</td>\n",
       "      <td>110</td>\n",
       "    </tr>\n",
       "  </tbody>\n",
       "</table>\n",
       "</div>"
      ],
      "text/plain": [
       "      메뉴    가격  칼로리\n",
       "0  아메리카노  4000   20\n",
       "1   카페라뗴  5000  110"
      ]
     },
     "execution_count": 51,
     "metadata": {},
     "output_type": "execute_result"
    }
   ],
   "source": [
    "df = pd.read_csv('cafe.csv')\n",
    "df.head(2)"
   ]
  },
  {
   "cell_type": "code",
   "execution_count": 52,
   "id": "c393954e-3edd-4028-b75f-b7f7657765cd",
   "metadata": {},
   "outputs": [
    {
     "data": {
      "text/plain": [
       "메뉴     아메리카노\n",
       "가격      4000\n",
       "칼로리       20\n",
       "Name: 0, dtype: object"
      ]
     },
     "execution_count": 52,
     "metadata": {},
     "output_type": "execute_result"
    }
   ],
   "source": [
    "#인덱싱 (행 전체)\n",
    "#아메리카노\n",
    "df.loc[0]"
   ]
  },
  {
   "cell_type": "code",
   "execution_count": 54,
   "id": "a4bf4520-5f6e-4c82-b46e-ae28ab5bf465",
   "metadata": {},
   "outputs": [
    {
     "name": "stdout",
     "output_type": "stream",
     "text": [
      "5000\n"
     ]
    }
   ],
   "source": [
    "#카페라뗴 가격\n",
    "df.loc[1,\"가격\"]\n",
    "print(df.loc[1,\"가격\"])"
   ]
  },
  {
   "cell_type": "code",
   "execution_count": 55,
   "id": "508c6437-c199-484f-bb27-de12f86ff2e9",
   "metadata": {},
   "outputs": [
    {
     "data": {
      "text/plain": [
       "0    4000\n",
       "1    5000\n",
       "2    5000\n",
       "3    3000\n",
       "4    5500\n",
       "Name: 가격, dtype: int64"
      ]
     },
     "execution_count": 55,
     "metadata": {},
     "output_type": "execute_result"
    }
   ],
   "source": [
    "#슬라이싱 (컬럼 전체)\n",
    "#가격\n",
    "df.loc[:,\"가격\"]"
   ]
  },
  {
   "cell_type": "code",
   "execution_count": 56,
   "id": "9b2fd7ca-4e3a-409d-b35c-66f62f016a7c",
   "metadata": {},
   "outputs": [
    {
     "data": {
      "text/plain": [
       "메뉴     카페모카\n",
       "가격     5000\n",
       "칼로리     250\n",
       "Name: 2, dtype: object"
      ]
     },
     "execution_count": 56,
     "metadata": {},
     "output_type": "execute_result"
    }
   ],
   "source": [
    "#슬라이싱\n",
    "df.loc[2,'메뉴':'칼로리']"
   ]
  },
  {
   "cell_type": "code",
   "execution_count": 57,
   "id": "06f25180-db5d-4fc1-921e-9f083492de63",
   "metadata": {},
   "outputs": [
    {
     "data": {
      "text/plain": [
       "메뉴     카페모카\n",
       "칼로리     250\n",
       "Name: 2, dtype: object"
      ]
     },
     "execution_count": 57,
     "metadata": {},
     "output_type": "execute_result"
    }
   ],
   "source": [
    "#슬라이싱\n",
    "#카페모카 메뉴와 칼로리\n",
    "df.loc[2,['메뉴','칼로리']]"
   ]
  },
  {
   "cell_type": "code",
   "execution_count": 59,
   "id": "64d4c836-bad3-47fa-a77a-2cab71527e1d",
   "metadata": {},
   "outputs": [
    {
     "data": {
      "text/html": [
       "<div>\n",
       "<style scoped>\n",
       "    .dataframe tbody tr th:only-of-type {\n",
       "        vertical-align: middle;\n",
       "    }\n",
       "\n",
       "    .dataframe tbody tr th {\n",
       "        vertical-align: top;\n",
       "    }\n",
       "\n",
       "    .dataframe thead th {\n",
       "        text-align: right;\n",
       "    }\n",
       "</style>\n",
       "<table border=\"1\" class=\"dataframe\">\n",
       "  <thead>\n",
       "    <tr style=\"text-align: right;\">\n",
       "      <th></th>\n",
       "      <th>메뉴</th>\n",
       "      <th>가격</th>\n",
       "    </tr>\n",
       "  </thead>\n",
       "  <tbody>\n",
       "    <tr>\n",
       "      <th>1</th>\n",
       "      <td>카페라뗴</td>\n",
       "      <td>5000</td>\n",
       "    </tr>\n",
       "    <tr>\n",
       "      <th>2</th>\n",
       "      <td>카페모카</td>\n",
       "      <td>5000</td>\n",
       "    </tr>\n",
       "    <tr>\n",
       "      <th>3</th>\n",
       "      <td>에스프레소</td>\n",
       "      <td>3000</td>\n",
       "    </tr>\n",
       "  </tbody>\n",
       "</table>\n",
       "</div>"
      ],
      "text/plain": [
       "      메뉴    가격\n",
       "1   카페라뗴  5000\n",
       "2   카페모카  5000\n",
       "3  에스프레소  3000"
      ]
     },
     "execution_count": 59,
     "metadata": {},
     "output_type": "execute_result"
    }
   ],
   "source": [
    "#슬라이싱\n",
    "df.loc[1:3,['메뉴','가격']]"
   ]
  },
  {
   "cell_type": "code",
   "execution_count": 60,
   "id": "a91e5cd7-984f-4671-8674-e14a0730ee3d",
   "metadata": {},
   "outputs": [
    {
     "data": {
      "text/html": [
       "<div>\n",
       "<style scoped>\n",
       "    .dataframe tbody tr th:only-of-type {\n",
       "        vertical-align: middle;\n",
       "    }\n",
       "\n",
       "    .dataframe tbody tr th {\n",
       "        vertical-align: top;\n",
       "    }\n",
       "\n",
       "    .dataframe thead th {\n",
       "        text-align: right;\n",
       "    }\n",
       "</style>\n",
       "<table border=\"1\" class=\"dataframe\">\n",
       "  <thead>\n",
       "    <tr style=\"text-align: right;\">\n",
       "      <th></th>\n",
       "      <th>메뉴</th>\n",
       "      <th>가격</th>\n",
       "      <th>칼로리</th>\n",
       "    </tr>\n",
       "  </thead>\n",
       "  <tbody>\n",
       "    <tr>\n",
       "      <th>1</th>\n",
       "      <td>카페라뗴</td>\n",
       "      <td>5000</td>\n",
       "      <td>110</td>\n",
       "    </tr>\n",
       "    <tr>\n",
       "      <th>2</th>\n",
       "      <td>카페모카</td>\n",
       "      <td>5000</td>\n",
       "      <td>250</td>\n",
       "    </tr>\n",
       "  </tbody>\n",
       "</table>\n",
       "</div>"
      ],
      "text/plain": [
       "     메뉴    가격  칼로리\n",
       "1  카페라뗴  5000  110\n",
       "2  카페모카  5000  250"
      ]
     },
     "execution_count": 60,
     "metadata": {},
     "output_type": "execute_result"
    }
   ],
   "source": [
    "df = pd.read_csv('cafe.csv')\n",
    "df = df.drop(0,axis=0)#첫번째행 삭제\n",
    "df.head(2)"
   ]
  },
  {
   "cell_type": "code",
   "execution_count": 61,
   "id": "74595b6e-ff18-43f3-9b10-7fb973937328",
   "metadata": {},
   "outputs": [
    {
     "data": {
      "text/plain": [
       "메뉴     카페라뗴\n",
       "가격     5000\n",
       "칼로리     110\n",
       "Name: 1, dtype: object"
      ]
     },
     "execution_count": 61,
     "metadata": {},
     "output_type": "execute_result"
    }
   ],
   "source": [
    "#인덱싱(행 전체)\n",
    "#카페라뗴\n",
    "df.iloc[0]"
   ]
  },
  {
   "cell_type": "code",
   "execution_count": 62,
   "id": "dabbc3e9-3bf2-43cf-825c-ddd692b125a8",
   "metadata": {},
   "outputs": [
    {
     "data": {
      "text/plain": [
       "1    5000\n",
       "2    5000\n",
       "3    3000\n",
       "4    5500\n",
       "Name: 가격, dtype: int64"
      ]
     },
     "execution_count": 62,
     "metadata": {},
     "output_type": "execute_result"
    }
   ],
   "source": [
    "#슬라이싱(컬럼 전체)\n",
    "#가격\n",
    "df.iloc[:,1]"
   ]
  },
  {
   "cell_type": "code",
   "execution_count": 63,
   "id": "d7908113-1a25-4af9-8832-20f433db7fd2",
   "metadata": {},
   "outputs": [
    {
     "data": {
      "text/html": [
       "<div>\n",
       "<style scoped>\n",
       "    .dataframe tbody tr th:only-of-type {\n",
       "        vertical-align: middle;\n",
       "    }\n",
       "\n",
       "    .dataframe tbody tr th {\n",
       "        vertical-align: top;\n",
       "    }\n",
       "\n",
       "    .dataframe thead th {\n",
       "        text-align: right;\n",
       "    }\n",
       "</style>\n",
       "<table border=\"1\" class=\"dataframe\">\n",
       "  <thead>\n",
       "    <tr style=\"text-align: right;\">\n",
       "      <th></th>\n",
       "      <th>메뉴</th>\n",
       "      <th>가격</th>\n",
       "      <th>칼로리</th>\n",
       "    </tr>\n",
       "  </thead>\n",
       "  <tbody>\n",
       "    <tr>\n",
       "      <th>1</th>\n",
       "      <td>카페라뗴</td>\n",
       "      <td>5000</td>\n",
       "      <td>110</td>\n",
       "    </tr>\n",
       "    <tr>\n",
       "      <th>2</th>\n",
       "      <td>카페모카</td>\n",
       "      <td>5000</td>\n",
       "      <td>250</td>\n",
       "    </tr>\n",
       "    <tr>\n",
       "      <th>3</th>\n",
       "      <td>에스프레소</td>\n",
       "      <td>3000</td>\n",
       "      <td>20</td>\n",
       "    </tr>\n",
       "    <tr>\n",
       "      <th>4</th>\n",
       "      <td>밀크티</td>\n",
       "      <td>5500</td>\n",
       "      <td>300</td>\n",
       "    </tr>\n",
       "  </tbody>\n",
       "</table>\n",
       "</div>"
      ],
      "text/plain": [
       "      메뉴    가격  칼로리\n",
       "1   카페라뗴  5000  110\n",
       "2   카페모카  5000  250\n",
       "3  에스프레소  3000   20\n",
       "4    밀크티  5500  300"
      ]
     },
     "execution_count": 63,
     "metadata": {},
     "output_type": "execute_result"
    }
   ],
   "source": [
    "df"
   ]
  },
  {
   "cell_type": "code",
   "execution_count": 64,
   "id": "6fef0f4e-01f9-4125-8abc-37c28798e1a5",
   "metadata": {},
   "outputs": [
    {
     "data": {
      "text/plain": [
       "메뉴    에스프레소\n",
       "가격     3000\n",
       "Name: 3, dtype: object"
      ]
     },
     "execution_count": 64,
     "metadata": {},
     "output_type": "execute_result"
    }
   ],
   "source": [
    "#슬라이싱\n",
    "#에스프레소 메뉴와 가격\n",
    "df.iloc[2,0:2]"
   ]
  },
  {
   "cell_type": "code",
   "execution_count": 65,
   "id": "62722b7d-11a9-4e2d-b64c-65dbf257619a",
   "metadata": {},
   "outputs": [
    {
     "data": {
      "text/html": [
       "<div>\n",
       "<style scoped>\n",
       "    .dataframe tbody tr th:only-of-type {\n",
       "        vertical-align: middle;\n",
       "    }\n",
       "\n",
       "    .dataframe tbody tr th {\n",
       "        vertical-align: top;\n",
       "    }\n",
       "\n",
       "    .dataframe thead th {\n",
       "        text-align: right;\n",
       "    }\n",
       "</style>\n",
       "<table border=\"1\" class=\"dataframe\">\n",
       "  <thead>\n",
       "    <tr style=\"text-align: right;\">\n",
       "      <th></th>\n",
       "      <th>메뉴</th>\n",
       "      <th>가격</th>\n",
       "      <th>칼로리</th>\n",
       "    </tr>\n",
       "  </thead>\n",
       "  <tbody>\n",
       "    <tr>\n",
       "      <th>2</th>\n",
       "      <td>카페모카</td>\n",
       "      <td>5000</td>\n",
       "      <td>250</td>\n",
       "    </tr>\n",
       "    <tr>\n",
       "      <th>3</th>\n",
       "      <td>에스프레소</td>\n",
       "      <td>3000</td>\n",
       "      <td>20</td>\n",
       "    </tr>\n",
       "  </tbody>\n",
       "</table>\n",
       "</div>"
      ],
      "text/plain": [
       "      메뉴    가격  칼로리\n",
       "2   카페모카  5000  250\n",
       "3  에스프레소  3000   20"
      ]
     },
     "execution_count": 65,
     "metadata": {},
     "output_type": "execute_result"
    }
   ],
   "source": [
    "#슬라이싱(카페모카와 에스프레소의 전체 데이터)\n",
    "df.iloc[1:3]"
   ]
  },
  {
   "cell_type": "code",
   "execution_count": 66,
   "id": "b79fdb47-f0af-4d1a-a62a-12758532c7b4",
   "metadata": {},
   "outputs": [
    {
     "data": {
      "text/html": [
       "<div>\n",
       "<style scoped>\n",
       "    .dataframe tbody tr th:only-of-type {\n",
       "        vertical-align: middle;\n",
       "    }\n",
       "\n",
       "    .dataframe tbody tr th {\n",
       "        vertical-align: top;\n",
       "    }\n",
       "\n",
       "    .dataframe thead th {\n",
       "        text-align: right;\n",
       "    }\n",
       "</style>\n",
       "<table border=\"1\" class=\"dataframe\">\n",
       "  <thead>\n",
       "    <tr style=\"text-align: right;\">\n",
       "      <th></th>\n",
       "      <th>메뉴</th>\n",
       "      <th>가격</th>\n",
       "      <th>칼로리</th>\n",
       "    </tr>\n",
       "  </thead>\n",
       "  <tbody>\n",
       "    <tr>\n",
       "      <th>2</th>\n",
       "      <td>카페모카</td>\n",
       "      <td>5000</td>\n",
       "      <td>250</td>\n",
       "    </tr>\n",
       "    <tr>\n",
       "      <th>3</th>\n",
       "      <td>에스프레소</td>\n",
       "      <td>3000</td>\n",
       "      <td>20</td>\n",
       "    </tr>\n",
       "  </tbody>\n",
       "</table>\n",
       "</div>"
      ],
      "text/plain": [
       "      메뉴    가격  칼로리\n",
       "2   카페모카  5000  250\n",
       "3  에스프레소  3000   20"
      ]
     },
     "execution_count": 66,
     "metadata": {},
     "output_type": "execute_result"
    }
   ],
   "source": [
    "#loc 슬라이싱(카페모카와 에스프레소의 전체 데이터)\n",
    "df.loc[2:3,'메뉴':'칼로리']"
   ]
  },
  {
   "cell_type": "code",
   "execution_count": 71,
   "id": "75e8b980-07a4-4f4a-80ec-057d51d00f3f",
   "metadata": {},
   "outputs": [
    {
     "data": {
      "text/html": [
       "<div>\n",
       "<style scoped>\n",
       "    .dataframe tbody tr th:only-of-type {\n",
       "        vertical-align: middle;\n",
       "    }\n",
       "\n",
       "    .dataframe tbody tr th {\n",
       "        vertical-align: top;\n",
       "    }\n",
       "\n",
       "    .dataframe thead th {\n",
       "        text-align: right;\n",
       "    }\n",
       "</style>\n",
       "<table border=\"1\" class=\"dataframe\">\n",
       "  <thead>\n",
       "    <tr style=\"text-align: right;\">\n",
       "      <th></th>\n",
       "      <th>메뉴</th>\n",
       "      <th>가격</th>\n",
       "      <th>칼로리</th>\n",
       "      <th>원산지</th>\n",
       "    </tr>\n",
       "  </thead>\n",
       "  <tbody>\n",
       "    <tr>\n",
       "      <th>4</th>\n",
       "      <td>밀크티</td>\n",
       "      <td>5500</td>\n",
       "      <td>300</td>\n",
       "      <td>NaN</td>\n",
       "    </tr>\n",
       "    <tr>\n",
       "      <th>1</th>\n",
       "      <td>카페라뗴</td>\n",
       "      <td>5000</td>\n",
       "      <td>110</td>\n",
       "      <td>NaN</td>\n",
       "    </tr>\n",
       "    <tr>\n",
       "      <th>2</th>\n",
       "      <td>카페모카</td>\n",
       "      <td>5000</td>\n",
       "      <td>250</td>\n",
       "      <td>NaN</td>\n",
       "    </tr>\n",
       "    <tr>\n",
       "      <th>0</th>\n",
       "      <td>아메리카노</td>\n",
       "      <td>4000</td>\n",
       "      <td>20</td>\n",
       "      <td>NaN</td>\n",
       "    </tr>\n",
       "  </tbody>\n",
       "</table>\n",
       "</div>"
      ],
      "text/plain": [
       "      메뉴    가격  칼로리  원산지\n",
       "4    밀크티  5500  300  NaN\n",
       "1   카페라뗴  5000  110  NaN\n",
       "2   카페모카  5000  250  NaN\n",
       "0  아메리카노  4000   20  NaN"
      ]
     },
     "execution_count": 71,
     "metadata": {},
     "output_type": "execute_result"
    }
   ],
   "source": [
    "import numpy as np\n",
    "df['원산지']=np.nan\n",
    "df.head(4)"
   ]
  },
  {
   "cell_type": "code",
   "execution_count": 73,
   "id": "0887a3f5-e2af-4bc7-ab00-47e71fcd57bf",
   "metadata": {},
   "outputs": [
    {
     "data": {
      "text/html": [
       "<div>\n",
       "<style scoped>\n",
       "    .dataframe tbody tr th:only-of-type {\n",
       "        vertical-align: middle;\n",
       "    }\n",
       "\n",
       "    .dataframe tbody tr th {\n",
       "        vertical-align: top;\n",
       "    }\n",
       "\n",
       "    .dataframe thead th {\n",
       "        text-align: right;\n",
       "    }\n",
       "</style>\n",
       "<table border=\"1\" class=\"dataframe\">\n",
       "  <thead>\n",
       "    <tr style=\"text-align: right;\">\n",
       "      <th></th>\n",
       "      <th>메뉴</th>\n",
       "      <th>가격</th>\n",
       "      <th>칼로리</th>\n",
       "      <th>원산지</th>\n",
       "    </tr>\n",
       "  </thead>\n",
       "  <tbody>\n",
       "    <tr>\n",
       "      <th>4</th>\n",
       "      <td>밀크티</td>\n",
       "      <td>5500</td>\n",
       "      <td>300</td>\n",
       "      <td>NaN</td>\n",
       "    </tr>\n",
       "    <tr>\n",
       "      <th>1</th>\n",
       "      <td>카페라뗴</td>\n",
       "      <td>5000</td>\n",
       "      <td>110</td>\n",
       "      <td>과테말라</td>\n",
       "    </tr>\n",
       "    <tr>\n",
       "      <th>2</th>\n",
       "      <td>카페모카</td>\n",
       "      <td>5000</td>\n",
       "      <td>250</td>\n",
       "      <td>과테말라</td>\n",
       "    </tr>\n",
       "    <tr>\n",
       "      <th>0</th>\n",
       "      <td>아메리카노</td>\n",
       "      <td>4000</td>\n",
       "      <td>20</td>\n",
       "      <td>콜롬비아</td>\n",
       "    </tr>\n",
       "  </tbody>\n",
       "</table>\n",
       "</div>"
      ],
      "text/plain": [
       "      메뉴    가격  칼로리   원산지\n",
       "4    밀크티  5500  300   NaN\n",
       "1   카페라뗴  5000  110  과테말라\n",
       "2   카페모카  5000  250  과테말라\n",
       "0  아메리카노  4000   20  콜롬비아"
      ]
     },
     "execution_count": 73,
     "metadata": {},
     "output_type": "execute_result"
    }
   ],
   "source": [
    "df.loc[0,\"원산지\"]='콜롬비아'\n",
    "df.loc[1:2, \"원산지\"]='과테말라'\n",
    "df.head(4)"
   ]
  },
  {
   "cell_type": "code",
   "execution_count": 75,
   "id": "00b205fc-dcad-4ece-9dc9-92291adea26f",
   "metadata": {},
   "outputs": [
    {
     "data": {
      "text/html": [
       "<div>\n",
       "<style scoped>\n",
       "    .dataframe tbody tr th:only-of-type {\n",
       "        vertical-align: middle;\n",
       "    }\n",
       "\n",
       "    .dataframe tbody tr th {\n",
       "        vertical-align: top;\n",
       "    }\n",
       "\n",
       "    .dataframe thead th {\n",
       "        text-align: right;\n",
       "    }\n",
       "</style>\n",
       "<table border=\"1\" class=\"dataframe\">\n",
       "  <thead>\n",
       "    <tr style=\"text-align: right;\">\n",
       "      <th></th>\n",
       "      <th>메뉴</th>\n",
       "      <th>가격</th>\n",
       "      <th>칼로리</th>\n",
       "      <th>원산지</th>\n",
       "    </tr>\n",
       "  </thead>\n",
       "  <tbody>\n",
       "    <tr>\n",
       "      <th>0</th>\n",
       "      <td>아메리카노</td>\n",
       "      <td>4000</td>\n",
       "      <td>20</td>\n",
       "      <td>콜롬비아</td>\n",
       "    </tr>\n",
       "    <tr>\n",
       "      <th>3</th>\n",
       "      <td>에스프레소</td>\n",
       "      <td>3000</td>\n",
       "      <td>20</td>\n",
       "      <td>과테말라</td>\n",
       "    </tr>\n",
       "    <tr>\n",
       "      <th>시즌</th>\n",
       "      <td>크리스마스라떼</td>\n",
       "      <td>600</td>\n",
       "      <td>300</td>\n",
       "      <td>한국</td>\n",
       "    </tr>\n",
       "  </tbody>\n",
       "</table>\n",
       "</div>"
      ],
      "text/plain": [
       "         메뉴    가격  칼로리   원산지\n",
       "0     아메리카노  4000   20  콜롬비아\n",
       "3     에스프레소  3000   20  과테말라\n",
       "시즌  크리스마스라떼   600  300    한국"
      ]
     },
     "execution_count": 75,
     "metadata": {},
     "output_type": "execute_result"
    }
   ],
   "source": [
    "df.loc['시즌']=['크리스마스라떼',600,300,'한국']\n",
    "df.tail(3)"
   ]
  },
  {
   "cell_type": "code",
   "execution_count": 76,
   "id": "cd27c027-cca9-4abe-a7b2-65d817d897d8",
   "metadata": {},
   "outputs": [
    {
     "data": {
      "text/html": [
       "<div>\n",
       "<style scoped>\n",
       "    .dataframe tbody tr th:only-of-type {\n",
       "        vertical-align: middle;\n",
       "    }\n",
       "\n",
       "    .dataframe tbody tr th {\n",
       "        vertical-align: top;\n",
       "    }\n",
       "\n",
       "    .dataframe thead th {\n",
       "        text-align: right;\n",
       "    }\n",
       "</style>\n",
       "<table border=\"1\" class=\"dataframe\">\n",
       "  <thead>\n",
       "    <tr style=\"text-align: right;\">\n",
       "      <th></th>\n",
       "      <th>메뉴</th>\n",
       "      <th>가격</th>\n",
       "      <th>칼로리</th>\n",
       "      <th>원산지</th>\n",
       "    </tr>\n",
       "  </thead>\n",
       "  <tbody>\n",
       "    <tr>\n",
       "      <th>3</th>\n",
       "      <td>에스프레소</td>\n",
       "      <td>3000</td>\n",
       "      <td>20</td>\n",
       "      <td>과테말라</td>\n",
       "    </tr>\n",
       "    <tr>\n",
       "      <th>시즌</th>\n",
       "      <td>크리스마스라떼</td>\n",
       "      <td>600</td>\n",
       "      <td>300</td>\n",
       "      <td>한국</td>\n",
       "    </tr>\n",
       "    <tr>\n",
       "      <th>7</th>\n",
       "      <td>딴짓커피</td>\n",
       "      <td>2000</td>\n",
       "      <td>20</td>\n",
       "      <td>NaN</td>\n",
       "    </tr>\n",
       "  </tbody>\n",
       "</table>\n",
       "</div>"
      ],
      "text/plain": [
       "         메뉴    가격  칼로리   원산지\n",
       "3     에스프레소  3000   20  과테말라\n",
       "시즌  크리스마스라떼   600  300    한국\n",
       "7      딴짓커피  2000   20   NaN"
      ]
     },
     "execution_count": 76,
     "metadata": {},
     "output_type": "execute_result"
    }
   ],
   "source": [
    "df.loc[7]={'메뉴':'딴짓커피','가격':2000,'칼로리':20}\n",
    "df.tail(3)"
   ]
  },
  {
   "cell_type": "code",
   "execution_count": 78,
   "id": "74879f92-853a-4870-bee6-e293ff6b2fea",
   "metadata": {},
   "outputs": [
    {
     "ename": "KeyError",
     "evalue": "\"['시즌'] not found in axis\"",
     "output_type": "error",
     "traceback": [
      "\u001b[31m---------------------------------------------------------------------------\u001b[39m",
      "\u001b[31mKeyError\u001b[39m                                  Traceback (most recent call last)",
      "\u001b[36mCell\u001b[39m\u001b[36m \u001b[39m\u001b[32mIn[78]\u001b[39m\u001b[32m, line 1\u001b[39m\n\u001b[32m----> \u001b[39m\u001b[32m1\u001b[39m df = \u001b[43mdf\u001b[49m\u001b[43m.\u001b[49m\u001b[43mdrop\u001b[49m\u001b[43m(\u001b[49m\u001b[33;43m\"\u001b[39;49m\u001b[33;43m시즌\u001b[39;49m\u001b[33;43m\"\u001b[39;49m\u001b[43m,\u001b[49m\u001b[43maxis\u001b[49m\u001b[43m=\u001b[49m\u001b[32;43m0\u001b[39;49m\u001b[43m)\u001b[49m\n\u001b[32m      2\u001b[39m df.to_csv(\u001b[33m'\u001b[39m\u001b[33mcafe2.csv\u001b[39m\u001b[33m'\u001b[39m,index=\u001b[38;5;28;01mFalse\u001b[39;00m)\n",
      "\u001b[36mFile \u001b[39m\u001b[32mC:\\Python313\\Lib\\site-packages\\pandas\\core\\frame.py:5588\u001b[39m, in \u001b[36mDataFrame.drop\u001b[39m\u001b[34m(self, labels, axis, index, columns, level, inplace, errors)\u001b[39m\n\u001b[32m   5440\u001b[39m \u001b[38;5;28;01mdef\u001b[39;00m\u001b[38;5;250m \u001b[39m\u001b[34mdrop\u001b[39m(\n\u001b[32m   5441\u001b[39m     \u001b[38;5;28mself\u001b[39m,\n\u001b[32m   5442\u001b[39m     labels: IndexLabel | \u001b[38;5;28;01mNone\u001b[39;00m = \u001b[38;5;28;01mNone\u001b[39;00m,\n\u001b[32m   (...)\u001b[39m\u001b[32m   5449\u001b[39m     errors: IgnoreRaise = \u001b[33m\"\u001b[39m\u001b[33mraise\u001b[39m\u001b[33m\"\u001b[39m,\n\u001b[32m   5450\u001b[39m ) -> DataFrame | \u001b[38;5;28;01mNone\u001b[39;00m:\n\u001b[32m   5451\u001b[39m \u001b[38;5;250m    \u001b[39m\u001b[33;03m\"\"\"\u001b[39;00m\n\u001b[32m   5452\u001b[39m \u001b[33;03m    Drop specified labels from rows or columns.\u001b[39;00m\n\u001b[32m   5453\u001b[39m \n\u001b[32m   (...)\u001b[39m\u001b[32m   5586\u001b[39m \u001b[33;03m            weight  1.0     0.8\u001b[39;00m\n\u001b[32m   5587\u001b[39m \u001b[33;03m    \"\"\"\u001b[39;00m\n\u001b[32m-> \u001b[39m\u001b[32m5588\u001b[39m     \u001b[38;5;28;01mreturn\u001b[39;00m \u001b[38;5;28;43msuper\u001b[39;49m\u001b[43m(\u001b[49m\u001b[43m)\u001b[49m\u001b[43m.\u001b[49m\u001b[43mdrop\u001b[49m\u001b[43m(\u001b[49m\n\u001b[32m   5589\u001b[39m \u001b[43m        \u001b[49m\u001b[43mlabels\u001b[49m\u001b[43m=\u001b[49m\u001b[43mlabels\u001b[49m\u001b[43m,\u001b[49m\n\u001b[32m   5590\u001b[39m \u001b[43m        \u001b[49m\u001b[43maxis\u001b[49m\u001b[43m=\u001b[49m\u001b[43maxis\u001b[49m\u001b[43m,\u001b[49m\n\u001b[32m   5591\u001b[39m \u001b[43m        \u001b[49m\u001b[43mindex\u001b[49m\u001b[43m=\u001b[49m\u001b[43mindex\u001b[49m\u001b[43m,\u001b[49m\n\u001b[32m   5592\u001b[39m \u001b[43m        \u001b[49m\u001b[43mcolumns\u001b[49m\u001b[43m=\u001b[49m\u001b[43mcolumns\u001b[49m\u001b[43m,\u001b[49m\n\u001b[32m   5593\u001b[39m \u001b[43m        \u001b[49m\u001b[43mlevel\u001b[49m\u001b[43m=\u001b[49m\u001b[43mlevel\u001b[49m\u001b[43m,\u001b[49m\n\u001b[32m   5594\u001b[39m \u001b[43m        \u001b[49m\u001b[43minplace\u001b[49m\u001b[43m=\u001b[49m\u001b[43minplace\u001b[49m\u001b[43m,\u001b[49m\n\u001b[32m   5595\u001b[39m \u001b[43m        \u001b[49m\u001b[43merrors\u001b[49m\u001b[43m=\u001b[49m\u001b[43merrors\u001b[49m\u001b[43m,\u001b[49m\n\u001b[32m   5596\u001b[39m \u001b[43m    \u001b[49m\u001b[43m)\u001b[49m\n",
      "\u001b[36mFile \u001b[39m\u001b[32mC:\\Python313\\Lib\\site-packages\\pandas\\core\\generic.py:4807\u001b[39m, in \u001b[36mNDFrame.drop\u001b[39m\u001b[34m(self, labels, axis, index, columns, level, inplace, errors)\u001b[39m\n\u001b[32m   4805\u001b[39m \u001b[38;5;28;01mfor\u001b[39;00m axis, labels \u001b[38;5;129;01min\u001b[39;00m axes.items():\n\u001b[32m   4806\u001b[39m     \u001b[38;5;28;01mif\u001b[39;00m labels \u001b[38;5;129;01mis\u001b[39;00m \u001b[38;5;129;01mnot\u001b[39;00m \u001b[38;5;28;01mNone\u001b[39;00m:\n\u001b[32m-> \u001b[39m\u001b[32m4807\u001b[39m         obj = \u001b[43mobj\u001b[49m\u001b[43m.\u001b[49m\u001b[43m_drop_axis\u001b[49m\u001b[43m(\u001b[49m\u001b[43mlabels\u001b[49m\u001b[43m,\u001b[49m\u001b[43m \u001b[49m\u001b[43maxis\u001b[49m\u001b[43m,\u001b[49m\u001b[43m \u001b[49m\u001b[43mlevel\u001b[49m\u001b[43m=\u001b[49m\u001b[43mlevel\u001b[49m\u001b[43m,\u001b[49m\u001b[43m \u001b[49m\u001b[43merrors\u001b[49m\u001b[43m=\u001b[49m\u001b[43merrors\u001b[49m\u001b[43m)\u001b[49m\n\u001b[32m   4809\u001b[39m \u001b[38;5;28;01mif\u001b[39;00m inplace:\n\u001b[32m   4810\u001b[39m     \u001b[38;5;28mself\u001b[39m._update_inplace(obj)\n",
      "\u001b[36mFile \u001b[39m\u001b[32mC:\\Python313\\Lib\\site-packages\\pandas\\core\\generic.py:4849\u001b[39m, in \u001b[36mNDFrame._drop_axis\u001b[39m\u001b[34m(self, labels, axis, level, errors, only_slice)\u001b[39m\n\u001b[32m   4847\u001b[39m         new_axis = axis.drop(labels, level=level, errors=errors)\n\u001b[32m   4848\u001b[39m     \u001b[38;5;28;01melse\u001b[39;00m:\n\u001b[32m-> \u001b[39m\u001b[32m4849\u001b[39m         new_axis = \u001b[43maxis\u001b[49m\u001b[43m.\u001b[49m\u001b[43mdrop\u001b[49m\u001b[43m(\u001b[49m\u001b[43mlabels\u001b[49m\u001b[43m,\u001b[49m\u001b[43m \u001b[49m\u001b[43merrors\u001b[49m\u001b[43m=\u001b[49m\u001b[43merrors\u001b[49m\u001b[43m)\u001b[49m\n\u001b[32m   4850\u001b[39m     indexer = axis.get_indexer(new_axis)\n\u001b[32m   4852\u001b[39m \u001b[38;5;66;03m# Case for non-unique axis\u001b[39;00m\n\u001b[32m   4853\u001b[39m \u001b[38;5;28;01melse\u001b[39;00m:\n",
      "\u001b[36mFile \u001b[39m\u001b[32mC:\\Python313\\Lib\\site-packages\\pandas\\core\\indexes\\base.py:7098\u001b[39m, in \u001b[36mIndex.drop\u001b[39m\u001b[34m(self, labels, errors)\u001b[39m\n\u001b[32m   7096\u001b[39m \u001b[38;5;28;01mif\u001b[39;00m mask.any():\n\u001b[32m   7097\u001b[39m     \u001b[38;5;28;01mif\u001b[39;00m errors != \u001b[33m\"\u001b[39m\u001b[33mignore\u001b[39m\u001b[33m\"\u001b[39m:\n\u001b[32m-> \u001b[39m\u001b[32m7098\u001b[39m         \u001b[38;5;28;01mraise\u001b[39;00m \u001b[38;5;167;01mKeyError\u001b[39;00m(\u001b[33mf\u001b[39m\u001b[33m\"\u001b[39m\u001b[38;5;132;01m{\u001b[39;00mlabels[mask].tolist()\u001b[38;5;132;01m}\u001b[39;00m\u001b[33m not found in axis\u001b[39m\u001b[33m\"\u001b[39m)\n\u001b[32m   7099\u001b[39m     indexer = indexer[~mask]\n\u001b[32m   7100\u001b[39m \u001b[38;5;28;01mreturn\u001b[39;00m \u001b[38;5;28mself\u001b[39m.delete(indexer)\n",
      "\u001b[31mKeyError\u001b[39m: \"['시즌'] not found in axis\""
     ]
    }
   ],
   "source": [
    "df = df.drop(\"시즌\",axis=0)\n",
    "df.to_csv('cafe2.csv',index=False)"
   ]
  },
  {
   "cell_type": "code",
   "execution_count": 97,
   "id": "9270f867-34db-4fb4-b378-d83b4c59a6f0",
   "metadata": {},
   "outputs": [
    {
     "data": {
      "text/html": [
       "<div>\n",
       "<style scoped>\n",
       "    .dataframe tbody tr th:only-of-type {\n",
       "        vertical-align: middle;\n",
       "    }\n",
       "\n",
       "    .dataframe tbody tr th {\n",
       "        vertical-align: top;\n",
       "    }\n",
       "\n",
       "    .dataframe thead th {\n",
       "        text-align: right;\n",
       "    }\n",
       "</style>\n",
       "<table border=\"1\" class=\"dataframe\">\n",
       "  <thead>\n",
       "    <tr style=\"text-align: right;\">\n",
       "      <th></th>\n",
       "      <th>메뉴</th>\n",
       "      <th>가격</th>\n",
       "      <th>칼로리</th>\n",
       "      <th>원산지</th>\n",
       "    </tr>\n",
       "  </thead>\n",
       "  <tbody>\n",
       "    <tr>\n",
       "      <th>0</th>\n",
       "      <td>밀크티</td>\n",
       "      <td>5500</td>\n",
       "      <td>300</td>\n",
       "      <td>NaN</td>\n",
       "    </tr>\n",
       "    <tr>\n",
       "      <th>1</th>\n",
       "      <td>카페라뗴</td>\n",
       "      <td>5000</td>\n",
       "      <td>110</td>\n",
       "      <td>과테말라</td>\n",
       "    </tr>\n",
       "  </tbody>\n",
       "</table>\n",
       "</div>"
      ],
      "text/plain": [
       "     메뉴    가격  칼로리   원산지\n",
       "0   밀크티  5500  300   NaN\n",
       "1  카페라뗴  5000  110  과테말라"
      ]
     },
     "execution_count": 97,
     "metadata": {},
     "output_type": "execute_result"
    }
   ],
   "source": [
    "df=pd.read_csv('cafe2.csv')\n",
    "df.head(2)"
   ]
  },
  {
   "cell_type": "code",
   "execution_count": 98,
   "id": "21324351-0369-4c0d-989b-314f47d17988",
   "metadata": {},
   "outputs": [
    {
     "data": {
      "text/html": [
       "<div>\n",
       "<style scoped>\n",
       "    .dataframe tbody tr th:only-of-type {\n",
       "        vertical-align: middle;\n",
       "    }\n",
       "\n",
       "    .dataframe tbody tr th {\n",
       "        vertical-align: top;\n",
       "    }\n",
       "\n",
       "    .dataframe thead th {\n",
       "        text-align: right;\n",
       "    }\n",
       "</style>\n",
       "<table border=\"1\" class=\"dataframe\">\n",
       "  <thead>\n",
       "    <tr style=\"text-align: right;\">\n",
       "      <th></th>\n",
       "      <th>메뉴</th>\n",
       "      <th>가격</th>\n",
       "      <th>칼로리</th>\n",
       "      <th>원산지</th>\n",
       "    </tr>\n",
       "  </thead>\n",
       "  <tbody>\n",
       "    <tr>\n",
       "      <th>2</th>\n",
       "      <td>카페모카</td>\n",
       "      <td>5000</td>\n",
       "      <td>250</td>\n",
       "      <td>과테말라</td>\n",
       "    </tr>\n",
       "    <tr>\n",
       "      <th>1</th>\n",
       "      <td>카페라뗴</td>\n",
       "      <td>5000</td>\n",
       "      <td>110</td>\n",
       "      <td>과테말라</td>\n",
       "    </tr>\n",
       "    <tr>\n",
       "      <th>4</th>\n",
       "      <td>에스프레소</td>\n",
       "      <td>3000</td>\n",
       "      <td>20</td>\n",
       "      <td>과테말라</td>\n",
       "    </tr>\n",
       "    <tr>\n",
       "      <th>3</th>\n",
       "      <td>아메리카노</td>\n",
       "      <td>4000</td>\n",
       "      <td>20</td>\n",
       "      <td>콜롬비아</td>\n",
       "    </tr>\n",
       "    <tr>\n",
       "      <th>0</th>\n",
       "      <td>밀크티</td>\n",
       "      <td>5500</td>\n",
       "      <td>300</td>\n",
       "      <td>NaN</td>\n",
       "    </tr>\n",
       "    <tr>\n",
       "      <th>5</th>\n",
       "      <td>딴짓커피</td>\n",
       "      <td>2000</td>\n",
       "      <td>20</td>\n",
       "      <td>NaN</td>\n",
       "    </tr>\n",
       "  </tbody>\n",
       "</table>\n",
       "</div>"
      ],
      "text/plain": [
       "      메뉴    가격  칼로리   원산지\n",
       "2   카페모카  5000  250  과테말라\n",
       "1   카페라뗴  5000  110  과테말라\n",
       "4  에스프레소  3000   20  과테말라\n",
       "3  아메리카노  4000   20  콜롬비아\n",
       "0    밀크티  5500  300   NaN\n",
       "5   딴짓커피  2000   20   NaN"
      ]
     },
     "execution_count": 98,
     "metadata": {},
     "output_type": "execute_result"
    }
   ],
   "source": [
    "df.sort_values('메뉴',ascending=False)"
   ]
  },
  {
   "cell_type": "code",
   "execution_count": 99,
   "id": "8a0e4ae9-9f55-4da1-97a3-a7b49f25e61c",
   "metadata": {},
   "outputs": [
    {
     "data": {
      "text/html": [
       "<div>\n",
       "<style scoped>\n",
       "    .dataframe tbody tr th:only-of-type {\n",
       "        vertical-align: middle;\n",
       "    }\n",
       "\n",
       "    .dataframe tbody tr th {\n",
       "        vertical-align: top;\n",
       "    }\n",
       "\n",
       "    .dataframe thead th {\n",
       "        text-align: right;\n",
       "    }\n",
       "</style>\n",
       "<table border=\"1\" class=\"dataframe\">\n",
       "  <thead>\n",
       "    <tr style=\"text-align: right;\">\n",
       "      <th></th>\n",
       "      <th>메뉴</th>\n",
       "      <th>가격</th>\n",
       "      <th>칼로리</th>\n",
       "      <th>원산지</th>\n",
       "    </tr>\n",
       "  </thead>\n",
       "  <tbody>\n",
       "    <tr>\n",
       "      <th>0</th>\n",
       "      <td>밀크티</td>\n",
       "      <td>5500</td>\n",
       "      <td>300</td>\n",
       "      <td>NaN</td>\n",
       "    </tr>\n",
       "    <tr>\n",
       "      <th>1</th>\n",
       "      <td>카페라뗴</td>\n",
       "      <td>5000</td>\n",
       "      <td>110</td>\n",
       "      <td>과테말라</td>\n",
       "    </tr>\n",
       "    <tr>\n",
       "      <th>2</th>\n",
       "      <td>카페모카</td>\n",
       "      <td>5000</td>\n",
       "      <td>250</td>\n",
       "      <td>과테말라</td>\n",
       "    </tr>\n",
       "    <tr>\n",
       "      <th>3</th>\n",
       "      <td>아메리카노</td>\n",
       "      <td>4000</td>\n",
       "      <td>20</td>\n",
       "      <td>콜롬비아</td>\n",
       "    </tr>\n",
       "    <tr>\n",
       "      <th>4</th>\n",
       "      <td>에스프레소</td>\n",
       "      <td>3000</td>\n",
       "      <td>20</td>\n",
       "      <td>과테말라</td>\n",
       "    </tr>\n",
       "    <tr>\n",
       "      <th>5</th>\n",
       "      <td>딴짓커피</td>\n",
       "      <td>2000</td>\n",
       "      <td>20</td>\n",
       "      <td>NaN</td>\n",
       "    </tr>\n",
       "  </tbody>\n",
       "</table>\n",
       "</div>"
      ],
      "text/plain": [
       "      메뉴    가격  칼로리   원산지\n",
       "0    밀크티  5500  300   NaN\n",
       "1   카페라뗴  5000  110  과테말라\n",
       "2   카페모카  5000  250  과테말라\n",
       "3  아메리카노  4000   20  콜롬비아\n",
       "4  에스프레소  3000   20  과테말라\n",
       "5   딴짓커피  2000   20   NaN"
      ]
     },
     "execution_count": 99,
     "metadata": {},
     "output_type": "execute_result"
    }
   ],
   "source": [
    "#가격과 메뉴 기준 정렬\n",
    "df=df.sort_values(['가격','메뉴'], ascending=[False, True])\n",
    "df"
   ]
  },
  {
   "cell_type": "code",
   "execution_count": 100,
   "id": "63ab9be8-e2dd-4979-8fc8-fd03357a5066",
   "metadata": {},
   "outputs": [
    {
     "data": {
      "text/html": [
       "<div>\n",
       "<style scoped>\n",
       "    .dataframe tbody tr th:only-of-type {\n",
       "        vertical-align: middle;\n",
       "    }\n",
       "\n",
       "    .dataframe tbody tr th {\n",
       "        vertical-align: top;\n",
       "    }\n",
       "\n",
       "    .dataframe thead th {\n",
       "        text-align: right;\n",
       "    }\n",
       "</style>\n",
       "<table border=\"1\" class=\"dataframe\">\n",
       "  <thead>\n",
       "    <tr style=\"text-align: right;\">\n",
       "      <th></th>\n",
       "      <th>메뉴</th>\n",
       "      <th>가격</th>\n",
       "      <th>칼로리</th>\n",
       "      <th>원산지</th>\n",
       "    </tr>\n",
       "  </thead>\n",
       "  <tbody>\n",
       "    <tr>\n",
       "      <th>0</th>\n",
       "      <td>밀크티</td>\n",
       "      <td>5500</td>\n",
       "      <td>300</td>\n",
       "      <td>NaN</td>\n",
       "    </tr>\n",
       "    <tr>\n",
       "      <th>1</th>\n",
       "      <td>카페라뗴</td>\n",
       "      <td>5000</td>\n",
       "      <td>110</td>\n",
       "      <td>과테말라</td>\n",
       "    </tr>\n",
       "    <tr>\n",
       "      <th>2</th>\n",
       "      <td>카페모카</td>\n",
       "      <td>5000</td>\n",
       "      <td>250</td>\n",
       "      <td>과테말라</td>\n",
       "    </tr>\n",
       "    <tr>\n",
       "      <th>3</th>\n",
       "      <td>아메리카노</td>\n",
       "      <td>4000</td>\n",
       "      <td>20</td>\n",
       "      <td>콜롬비아</td>\n",
       "    </tr>\n",
       "    <tr>\n",
       "      <th>4</th>\n",
       "      <td>에스프레소</td>\n",
       "      <td>3000</td>\n",
       "      <td>20</td>\n",
       "      <td>과테말라</td>\n",
       "    </tr>\n",
       "    <tr>\n",
       "      <th>5</th>\n",
       "      <td>딴짓커피</td>\n",
       "      <td>2000</td>\n",
       "      <td>20</td>\n",
       "      <td>NaN</td>\n",
       "    </tr>\n",
       "  </tbody>\n",
       "</table>\n",
       "</div>"
      ],
      "text/plain": [
       "      메뉴    가격  칼로리   원산지\n",
       "0    밀크티  5500  300   NaN\n",
       "1   카페라뗴  5000  110  과테말라\n",
       "2   카페모카  5000  250  과테말라\n",
       "3  아메리카노  4000   20  콜롬비아\n",
       "4  에스프레소  3000   20  과테말라\n",
       "5   딴짓커피  2000   20   NaN"
      ]
     },
     "execution_count": 100,
     "metadata": {},
     "output_type": "execute_result"
    }
   ],
   "source": [
    "#인덱스 새로 만들기 drop=True\n",
    "df.reset_index(drop=True)"
   ]
  },
  {
   "cell_type": "code",
   "execution_count": 112,
   "id": "ea8fec76-18b3-4ed8-acf2-6e2769836026",
   "metadata": {},
   "outputs": [
    {
     "data": {
      "text/html": [
       "<div>\n",
       "<style scoped>\n",
       "    .dataframe tbody tr th:only-of-type {\n",
       "        vertical-align: middle;\n",
       "    }\n",
       "\n",
       "    .dataframe tbody tr th {\n",
       "        vertical-align: top;\n",
       "    }\n",
       "\n",
       "    .dataframe thead th {\n",
       "        text-align: right;\n",
       "    }\n",
       "</style>\n",
       "<table border=\"1\" class=\"dataframe\">\n",
       "  <thead>\n",
       "    <tr style=\"text-align: right;\">\n",
       "      <th></th>\n",
       "      <th>메뉴</th>\n",
       "      <th>가격</th>\n",
       "      <th>칼로리</th>\n",
       "      <th>원산지</th>\n",
       "    </tr>\n",
       "  </thead>\n",
       "  <tbody>\n",
       "    <tr>\n",
       "      <th>0</th>\n",
       "      <td>밀크티</td>\n",
       "      <td>5500</td>\n",
       "      <td>300</td>\n",
       "      <td>NaN</td>\n",
       "    </tr>\n",
       "    <tr>\n",
       "      <th>1</th>\n",
       "      <td>카페라뗴</td>\n",
       "      <td>5000</td>\n",
       "      <td>110</td>\n",
       "      <td>과테말라</td>\n",
       "    </tr>\n",
       "  </tbody>\n",
       "</table>\n",
       "</div>"
      ],
      "text/plain": [
       "     메뉴    가격  칼로리   원산지\n",
       "0   밀크티  5500  300   NaN\n",
       "1  카페라뗴  5000  110  과테말라"
      ]
     },
     "execution_count": 112,
     "metadata": {},
     "output_type": "execute_result"
    }
   ],
   "source": [
    "df = pd.read_csv('cafe2.csv')\n",
    "df.head(2)"
   ]
  },
  {
   "cell_type": "code",
   "execution_count": 113,
   "id": "ac3a4f35-38b4-4f51-b1dc-d712275b0678",
   "metadata": {},
   "outputs": [
    {
     "data": {
      "text/plain": [
       "0    False\n",
       "1    False\n",
       "2    False\n",
       "3     True\n",
       "4     True\n",
       "5     True\n",
       "Name: 칼로리, dtype: bool"
      ]
     },
     "execution_count": 113,
     "metadata": {},
     "output_type": "execute_result"
    }
   ],
   "source": [
    "df['칼로리']<50"
   ]
  },
  {
   "cell_type": "code",
   "execution_count": 114,
   "id": "99c12e54-675d-45e0-bda6-2897544fabf6",
   "metadata": {},
   "outputs": [
    {
     "data": {
      "text/html": [
       "<div>\n",
       "<style scoped>\n",
       "    .dataframe tbody tr th:only-of-type {\n",
       "        vertical-align: middle;\n",
       "    }\n",
       "\n",
       "    .dataframe tbody tr th {\n",
       "        vertical-align: top;\n",
       "    }\n",
       "\n",
       "    .dataframe thead th {\n",
       "        text-align: right;\n",
       "    }\n",
       "</style>\n",
       "<table border=\"1\" class=\"dataframe\">\n",
       "  <thead>\n",
       "    <tr style=\"text-align: right;\">\n",
       "      <th></th>\n",
       "      <th>메뉴</th>\n",
       "      <th>가격</th>\n",
       "      <th>칼로리</th>\n",
       "      <th>원산지</th>\n",
       "    </tr>\n",
       "  </thead>\n",
       "  <tbody>\n",
       "    <tr>\n",
       "      <th>3</th>\n",
       "      <td>아메리카노</td>\n",
       "      <td>4000</td>\n",
       "      <td>20</td>\n",
       "      <td>콜롬비아</td>\n",
       "    </tr>\n",
       "    <tr>\n",
       "      <th>4</th>\n",
       "      <td>에스프레소</td>\n",
       "      <td>3000</td>\n",
       "      <td>20</td>\n",
       "      <td>과테말라</td>\n",
       "    </tr>\n",
       "    <tr>\n",
       "      <th>5</th>\n",
       "      <td>딴짓커피</td>\n",
       "      <td>2000</td>\n",
       "      <td>20</td>\n",
       "      <td>NaN</td>\n",
       "    </tr>\n",
       "  </tbody>\n",
       "</table>\n",
       "</div>"
      ],
      "text/plain": [
       "      메뉴    가격  칼로리   원산지\n",
       "3  아메리카노  4000   20  콜롬비아\n",
       "4  에스프레소  3000   20  과테말라\n",
       "5   딴짓커피  2000   20   NaN"
      ]
     },
     "execution_count": 114,
     "metadata": {},
     "output_type": "execute_result"
    }
   ],
   "source": [
    "#1개 조건\n",
    "cond=df['칼로리']<50\n",
    "df[cond]"
   ]
  },
  {
   "cell_type": "code",
   "execution_count": 115,
   "id": "a2f33f26-321a-4274-9864-ad8ba9e0765f",
   "metadata": {},
   "outputs": [
    {
     "data": {
      "text/html": [
       "<div>\n",
       "<style scoped>\n",
       "    .dataframe tbody tr th:only-of-type {\n",
       "        vertical-align: middle;\n",
       "    }\n",
       "\n",
       "    .dataframe tbody tr th {\n",
       "        vertical-align: top;\n",
       "    }\n",
       "\n",
       "    .dataframe thead th {\n",
       "        text-align: right;\n",
       "    }\n",
       "</style>\n",
       "<table border=\"1\" class=\"dataframe\">\n",
       "  <thead>\n",
       "    <tr style=\"text-align: right;\">\n",
       "      <th></th>\n",
       "      <th>메뉴</th>\n",
       "      <th>가격</th>\n",
       "      <th>칼로리</th>\n",
       "      <th>원산지</th>\n",
       "    </tr>\n",
       "  </thead>\n",
       "  <tbody>\n",
       "    <tr>\n",
       "      <th>3</th>\n",
       "      <td>아메리카노</td>\n",
       "      <td>4000</td>\n",
       "      <td>20</td>\n",
       "      <td>콜롬비아</td>\n",
       "    </tr>\n",
       "    <tr>\n",
       "      <th>4</th>\n",
       "      <td>에스프레소</td>\n",
       "      <td>3000</td>\n",
       "      <td>20</td>\n",
       "      <td>과테말라</td>\n",
       "    </tr>\n",
       "    <tr>\n",
       "      <th>5</th>\n",
       "      <td>딴짓커피</td>\n",
       "      <td>2000</td>\n",
       "      <td>20</td>\n",
       "      <td>NaN</td>\n",
       "    </tr>\n",
       "  </tbody>\n",
       "</table>\n",
       "</div>"
      ],
      "text/plain": [
       "      메뉴    가격  칼로리   원산지\n",
       "3  아메리카노  4000   20  콜롬비아\n",
       "4  에스프레소  3000   20  과테말라\n",
       "5   딴짓커피  2000   20   NaN"
      ]
     },
     "execution_count": 115,
     "metadata": {},
     "output_type": "execute_result"
    }
   ],
   "source": [
    "#1개 조건\n",
    "df[df['칼로리']<50]"
   ]
  },
  {
   "cell_type": "code",
   "execution_count": 116,
   "id": "8188224a-03b0-4ddf-a354-b58a81bd5092",
   "metadata": {},
   "outputs": [
    {
     "data": {
      "text/html": [
       "<div>\n",
       "<style scoped>\n",
       "    .dataframe tbody tr th:only-of-type {\n",
       "        vertical-align: middle;\n",
       "    }\n",
       "\n",
       "    .dataframe tbody tr th {\n",
       "        vertical-align: top;\n",
       "    }\n",
       "\n",
       "    .dataframe thead th {\n",
       "        text-align: right;\n",
       "    }\n",
       "</style>\n",
       "<table border=\"1\" class=\"dataframe\">\n",
       "  <thead>\n",
       "    <tr style=\"text-align: right;\">\n",
       "      <th></th>\n",
       "      <th>메뉴</th>\n",
       "      <th>가격</th>\n",
       "      <th>칼로리</th>\n",
       "      <th>원산지</th>\n",
       "    </tr>\n",
       "  </thead>\n",
       "  <tbody>\n",
       "    <tr>\n",
       "      <th>0</th>\n",
       "      <td>밀크티</td>\n",
       "      <td>5500</td>\n",
       "      <td>300</td>\n",
       "      <td>NaN</td>\n",
       "    </tr>\n",
       "    <tr>\n",
       "      <th>1</th>\n",
       "      <td>카페라뗴</td>\n",
       "      <td>5000</td>\n",
       "      <td>110</td>\n",
       "      <td>과테말라</td>\n",
       "    </tr>\n",
       "    <tr>\n",
       "      <th>2</th>\n",
       "      <td>카페모카</td>\n",
       "      <td>5000</td>\n",
       "      <td>250</td>\n",
       "      <td>과테말라</td>\n",
       "    </tr>\n",
       "  </tbody>\n",
       "</table>\n",
       "</div>"
      ],
      "text/plain": [
       "     메뉴    가격  칼로리   원산지\n",
       "0   밀크티  5500  300   NaN\n",
       "1  카페라뗴  5000  110  과테말라\n",
       "2  카페모카  5000  250  과테말라"
      ]
     },
     "execution_count": 116,
     "metadata": {},
     "output_type": "execute_result"
    }
   ],
   "source": [
    "#2개 이상일 때(and)\n",
    "cond1 = df['가격'] >= 5000\n",
    "cond2 = df['칼로리'] > 100\n",
    "df[cond1 & cond2]"
   ]
  },
  {
   "cell_type": "code",
   "execution_count": 117,
   "id": "ebf7a5e4-f2c4-452a-8cad-09e9c617ad75",
   "metadata": {},
   "outputs": [
    {
     "data": {
      "text/html": [
       "<div>\n",
       "<style scoped>\n",
       "    .dataframe tbody tr th:only-of-type {\n",
       "        vertical-align: middle;\n",
       "    }\n",
       "\n",
       "    .dataframe tbody tr th {\n",
       "        vertical-align: top;\n",
       "    }\n",
       "\n",
       "    .dataframe thead th {\n",
       "        text-align: right;\n",
       "    }\n",
       "</style>\n",
       "<table border=\"1\" class=\"dataframe\">\n",
       "  <thead>\n",
       "    <tr style=\"text-align: right;\">\n",
       "      <th></th>\n",
       "      <th>메뉴</th>\n",
       "      <th>가격</th>\n",
       "      <th>칼로리</th>\n",
       "      <th>원산지</th>\n",
       "    </tr>\n",
       "  </thead>\n",
       "  <tbody>\n",
       "    <tr>\n",
       "      <th>0</th>\n",
       "      <td>밀크티</td>\n",
       "      <td>5500</td>\n",
       "      <td>300</td>\n",
       "      <td>NaN</td>\n",
       "    </tr>\n",
       "    <tr>\n",
       "      <th>1</th>\n",
       "      <td>카페라뗴</td>\n",
       "      <td>5000</td>\n",
       "      <td>110</td>\n",
       "      <td>과테말라</td>\n",
       "    </tr>\n",
       "    <tr>\n",
       "      <th>2</th>\n",
       "      <td>카페모카</td>\n",
       "      <td>5000</td>\n",
       "      <td>250</td>\n",
       "      <td>과테말라</td>\n",
       "    </tr>\n",
       "  </tbody>\n",
       "</table>\n",
       "</div>"
      ],
      "text/plain": [
       "     메뉴    가격  칼로리   원산지\n",
       "0   밀크티  5500  300   NaN\n",
       "1  카페라뗴  5000  110  과테말라\n",
       "2  카페모카  5000  250  과테말라"
      ]
     },
     "execution_count": 117,
     "metadata": {},
     "output_type": "execute_result"
    }
   ],
   "source": [
    "#2개 이상일 때(or)\n",
    "df[cond1 | cond2]"
   ]
  },
  {
   "cell_type": "code",
   "execution_count": 118,
   "id": "7ed2dc4e-6492-457a-8892-aa6fe246c8db",
   "metadata": {},
   "outputs": [
    {
     "data": {
      "text/plain": [
       "0     True\n",
       "1    False\n",
       "2    False\n",
       "3    False\n",
       "4    False\n",
       "5    False\n",
       "Name: 메뉴, dtype: bool"
      ]
     },
     "execution_count": 118,
     "metadata": {},
     "output_type": "execute_result"
    }
   ],
   "source": [
    "df['메뉴'].isin(['밀크티'])"
   ]
  },
  {
   "cell_type": "code",
   "execution_count": 119,
   "id": "da0bf108-eeb3-4f8f-94ee-c1c4ac13a3ab",
   "metadata": {},
   "outputs": [
    {
     "data": {
      "text/html": [
       "<div>\n",
       "<style scoped>\n",
       "    .dataframe tbody tr th:only-of-type {\n",
       "        vertical-align: middle;\n",
       "    }\n",
       "\n",
       "    .dataframe tbody tr th {\n",
       "        vertical-align: top;\n",
       "    }\n",
       "\n",
       "    .dataframe thead th {\n",
       "        text-align: right;\n",
       "    }\n",
       "</style>\n",
       "<table border=\"1\" class=\"dataframe\">\n",
       "  <thead>\n",
       "    <tr style=\"text-align: right;\">\n",
       "      <th></th>\n",
       "      <th>메뉴</th>\n",
       "      <th>가격</th>\n",
       "      <th>칼로리</th>\n",
       "      <th>원산지</th>\n",
       "    </tr>\n",
       "  </thead>\n",
       "  <tbody>\n",
       "    <tr>\n",
       "      <th>0</th>\n",
       "      <td>밀크티</td>\n",
       "      <td>5500</td>\n",
       "      <td>300</td>\n",
       "      <td>NaN</td>\n",
       "    </tr>\n",
       "  </tbody>\n",
       "</table>\n",
       "</div>"
      ],
      "text/plain": [
       "    메뉴    가격  칼로리  원산지\n",
       "0  밀크티  5500  300  NaN"
      ]
     },
     "execution_count": 119,
     "metadata": {},
     "output_type": "execute_result"
    }
   ],
   "source": [
    "cond = df['메뉴'].isin(['밀크티'])\n",
    "df[cond]"
   ]
  },
  {
   "cell_type": "code",
   "execution_count": 120,
   "id": "3e92ab5b-3e27-4091-98ec-fd39101e8bc3",
   "metadata": {},
   "outputs": [
    {
     "data": {
      "text/html": [
       "<div>\n",
       "<style scoped>\n",
       "    .dataframe tbody tr th:only-of-type {\n",
       "        vertical-align: middle;\n",
       "    }\n",
       "\n",
       "    .dataframe tbody tr th {\n",
       "        vertical-align: top;\n",
       "    }\n",
       "\n",
       "    .dataframe thead th {\n",
       "        text-align: right;\n",
       "    }\n",
       "</style>\n",
       "<table border=\"1\" class=\"dataframe\">\n",
       "  <thead>\n",
       "    <tr style=\"text-align: right;\">\n",
       "      <th></th>\n",
       "      <th>메뉴</th>\n",
       "      <th>가격</th>\n",
       "      <th>칼로리</th>\n",
       "      <th>원산지</th>\n",
       "    </tr>\n",
       "  </thead>\n",
       "  <tbody>\n",
       "    <tr>\n",
       "      <th>0</th>\n",
       "      <td>밀크티</td>\n",
       "      <td>5500</td>\n",
       "      <td>300</td>\n",
       "      <td>NaN</td>\n",
       "    </tr>\n",
       "    <tr>\n",
       "      <th>1</th>\n",
       "      <td>카페라뗴</td>\n",
       "      <td>5000</td>\n",
       "      <td>110</td>\n",
       "      <td>과테말라</td>\n",
       "    </tr>\n",
       "    <tr>\n",
       "      <th>3</th>\n",
       "      <td>아메리카노</td>\n",
       "      <td>4000</td>\n",
       "      <td>20</td>\n",
       "      <td>콜롬비아</td>\n",
       "    </tr>\n",
       "  </tbody>\n",
       "</table>\n",
       "</div>"
      ],
      "text/plain": [
       "      메뉴    가격  칼로리   원산지\n",
       "0    밀크티  5500  300   NaN\n",
       "1   카페라뗴  5000  110  과테말라\n",
       "3  아메리카노  4000   20  콜롬비아"
      ]
     },
     "execution_count": 120,
     "metadata": {},
     "output_type": "execute_result"
    }
   ],
   "source": [
    "box=['아메리카노','카페라뗴','밀크티']\n",
    "cond=df['메뉴'].isin(box)\n",
    "df[cond]"
   ]
  },
  {
   "cell_type": "code",
   "execution_count": 123,
   "id": "a3b03efa-82dd-4432-b1fd-13a60c6f80b4",
   "metadata": {},
   "outputs": [
    {
     "data": {
      "text/html": [
       "<div>\n",
       "<style scoped>\n",
       "    .dataframe tbody tr th:only-of-type {\n",
       "        vertical-align: middle;\n",
       "    }\n",
       "\n",
       "    .dataframe tbody tr th {\n",
       "        vertical-align: top;\n",
       "    }\n",
       "\n",
       "    .dataframe thead th {\n",
       "        text-align: right;\n",
       "    }\n",
       "</style>\n",
       "<table border=\"1\" class=\"dataframe\">\n",
       "  <thead>\n",
       "    <tr style=\"text-align: right;\">\n",
       "      <th></th>\n",
       "      <th>메뉴</th>\n",
       "      <th>가격</th>\n",
       "      <th>칼로리</th>\n",
       "      <th>원산지</th>\n",
       "    </tr>\n",
       "  </thead>\n",
       "  <tbody>\n",
       "    <tr>\n",
       "      <th>0</th>\n",
       "      <td>밀크티</td>\n",
       "      <td>5500</td>\n",
       "      <td>300</td>\n",
       "      <td>NaN</td>\n",
       "    </tr>\n",
       "    <tr>\n",
       "      <th>1</th>\n",
       "      <td>카페라뗴</td>\n",
       "      <td>5000</td>\n",
       "      <td>110</td>\n",
       "      <td>과테말라</td>\n",
       "    </tr>\n",
       "  </tbody>\n",
       "</table>\n",
       "</div>"
      ],
      "text/plain": [
       "     메뉴    가격  칼로리   원산지\n",
       "0   밀크티  5500  300   NaN\n",
       "1  카페라뗴  5000  110  과테말라"
      ]
     },
     "execution_count": 123,
     "metadata": {},
     "output_type": "execute_result"
    }
   ],
   "source": [
    "df = pd.read_csv('cafe2.csv')\n",
    "df.head(2)"
   ]
  },
  {
   "cell_type": "code",
   "execution_count": 125,
   "id": "d0cbcfb7-d6d8-4d4a-a7c9-76a984c71f3c",
   "metadata": {},
   "outputs": [
    {
     "data": {
      "text/html": [
       "<div>\n",
       "<style scoped>\n",
       "    .dataframe tbody tr th:only-of-type {\n",
       "        vertical-align: middle;\n",
       "    }\n",
       "\n",
       "    .dataframe tbody tr th {\n",
       "        vertical-align: top;\n",
       "    }\n",
       "\n",
       "    .dataframe thead th {\n",
       "        text-align: right;\n",
       "    }\n",
       "</style>\n",
       "<table border=\"1\" class=\"dataframe\">\n",
       "  <thead>\n",
       "    <tr style=\"text-align: right;\">\n",
       "      <th></th>\n",
       "      <th>메뉴</th>\n",
       "      <th>가격</th>\n",
       "      <th>칼로리</th>\n",
       "      <th>원산지</th>\n",
       "    </tr>\n",
       "  </thead>\n",
       "  <tbody>\n",
       "    <tr>\n",
       "      <th>0</th>\n",
       "      <td>밀크티</td>\n",
       "      <td>5500</td>\n",
       "      <td>300</td>\n",
       "      <td>NaN</td>\n",
       "    </tr>\n",
       "    <tr>\n",
       "      <th>1</th>\n",
       "      <td>카페라뗴</td>\n",
       "      <td>5000</td>\n",
       "      <td>110</td>\n",
       "      <td>과테말라</td>\n",
       "    </tr>\n",
       "    <tr>\n",
       "      <th>2</th>\n",
       "      <td>카페모카</td>\n",
       "      <td>5000</td>\n",
       "      <td>250</td>\n",
       "      <td>과테말라</td>\n",
       "    </tr>\n",
       "    <tr>\n",
       "      <th>3</th>\n",
       "      <td>아메리카노</td>\n",
       "      <td>4000</td>\n",
       "      <td>20</td>\n",
       "      <td>콜롬비아</td>\n",
       "    </tr>\n",
       "    <tr>\n",
       "      <th>4</th>\n",
       "      <td>에스프레소</td>\n",
       "      <td>3000</td>\n",
       "      <td>20</td>\n",
       "      <td>과테말라</td>\n",
       "    </tr>\n",
       "    <tr>\n",
       "      <th>5</th>\n",
       "      <td>딴짓커피</td>\n",
       "      <td>2000</td>\n",
       "      <td>20</td>\n",
       "      <td>NaN</td>\n",
       "    </tr>\n",
       "  </tbody>\n",
       "</table>\n",
       "</div>"
      ],
      "text/plain": [
       "      메뉴    가격  칼로리   원산지\n",
       "0    밀크티  5500  300   NaN\n",
       "1   카페라뗴  5000  110  과테말라\n",
       "2   카페모카  5000  250  과테말라\n",
       "3  아메리카노  4000   20  콜롬비아\n",
       "4  에스프레소  3000   20  과테말라\n",
       "5   딴짓커피  2000   20   NaN"
      ]
     },
     "execution_count": 125,
     "metadata": {},
     "output_type": "execute_result"
    }
   ],
   "source": [
    "df"
   ]
  },
  {
   "cell_type": "code",
   "execution_count": 126,
   "id": "2b2bc60a-10df-4d95-87bd-b3c434e31bee",
   "metadata": {},
   "outputs": [
    {
     "data": {
      "text/html": [
       "<div>\n",
       "<style scoped>\n",
       "    .dataframe tbody tr th:only-of-type {\n",
       "        vertical-align: middle;\n",
       "    }\n",
       "\n",
       "    .dataframe tbody tr th {\n",
       "        vertical-align: top;\n",
       "    }\n",
       "\n",
       "    .dataframe thead th {\n",
       "        text-align: right;\n",
       "    }\n",
       "</style>\n",
       "<table border=\"1\" class=\"dataframe\">\n",
       "  <thead>\n",
       "    <tr style=\"text-align: right;\">\n",
       "      <th></th>\n",
       "      <th>메뉴</th>\n",
       "      <th>가격</th>\n",
       "      <th>칼로리</th>\n",
       "      <th>원산지</th>\n",
       "    </tr>\n",
       "  </thead>\n",
       "  <tbody>\n",
       "    <tr>\n",
       "      <th>0</th>\n",
       "      <td>밀크티</td>\n",
       "      <td>5500</td>\n",
       "      <td>300</td>\n",
       "      <td>코스타리카</td>\n",
       "    </tr>\n",
       "    <tr>\n",
       "      <th>1</th>\n",
       "      <td>카페라뗴</td>\n",
       "      <td>5000</td>\n",
       "      <td>110</td>\n",
       "      <td>과테말라</td>\n",
       "    </tr>\n",
       "    <tr>\n",
       "      <th>2</th>\n",
       "      <td>카페모카</td>\n",
       "      <td>5000</td>\n",
       "      <td>250</td>\n",
       "      <td>과테말라</td>\n",
       "    </tr>\n",
       "    <tr>\n",
       "      <th>3</th>\n",
       "      <td>아메리카노</td>\n",
       "      <td>4000</td>\n",
       "      <td>20</td>\n",
       "      <td>콜롬비아</td>\n",
       "    </tr>\n",
       "    <tr>\n",
       "      <th>4</th>\n",
       "      <td>에스프레소</td>\n",
       "      <td>3000</td>\n",
       "      <td>20</td>\n",
       "      <td>과테말라</td>\n",
       "    </tr>\n",
       "    <tr>\n",
       "      <th>5</th>\n",
       "      <td>딴짓커피</td>\n",
       "      <td>2000</td>\n",
       "      <td>20</td>\n",
       "      <td>코스타리카</td>\n",
       "    </tr>\n",
       "  </tbody>\n",
       "</table>\n",
       "</div>"
      ],
      "text/plain": [
       "      메뉴    가격  칼로리    원산지\n",
       "0    밀크티  5500  300  코스타리카\n",
       "1   카페라뗴  5000  110   과테말라\n",
       "2   카페모카  5000  250   과테말라\n",
       "3  아메리카노  4000   20   콜롬비아\n",
       "4  에스프레소  3000   20   과테말라\n",
       "5   딴짓커피  2000   20  코스타리카"
      ]
     },
     "execution_count": 126,
     "metadata": {},
     "output_type": "execute_result"
    }
   ],
   "source": [
    "df['원산지']=df['원산지'].fillna('코스타리카')\n",
    "df"
   ]
  },
  {
   "cell_type": "code",
   "execution_count": 127,
   "id": "f4726cd8-fdc2-4cbe-9701-7c3c15c01c06",
   "metadata": {},
   "outputs": [],
   "source": [
    "df.to_csv(\"cafe3.csv\",index=False)"
   ]
  },
  {
   "cell_type": "code",
   "execution_count": 128,
   "id": "1f2a3c63-8868-4897-b6e5-8ebbb895eddc",
   "metadata": {},
   "outputs": [
    {
     "data": {
      "text/html": [
       "<div>\n",
       "<style scoped>\n",
       "    .dataframe tbody tr th:only-of-type {\n",
       "        vertical-align: middle;\n",
       "    }\n",
       "\n",
       "    .dataframe tbody tr th {\n",
       "        vertical-align: top;\n",
       "    }\n",
       "\n",
       "    .dataframe thead th {\n",
       "        text-align: right;\n",
       "    }\n",
       "</style>\n",
       "<table border=\"1\" class=\"dataframe\">\n",
       "  <thead>\n",
       "    <tr style=\"text-align: right;\">\n",
       "      <th></th>\n",
       "      <th>메뉴</th>\n",
       "      <th>가격</th>\n",
       "      <th>칼로리</th>\n",
       "      <th>원산지</th>\n",
       "    </tr>\n",
       "  </thead>\n",
       "  <tbody>\n",
       "    <tr>\n",
       "      <th>0</th>\n",
       "      <td>밀크티</td>\n",
       "      <td>5500</td>\n",
       "      <td>300</td>\n",
       "      <td>코스타리카</td>\n",
       "    </tr>\n",
       "    <tr>\n",
       "      <th>1</th>\n",
       "      <td>카페라뗴</td>\n",
       "      <td>5000</td>\n",
       "      <td>110</td>\n",
       "      <td>과테말라</td>\n",
       "    </tr>\n",
       "    <tr>\n",
       "      <th>2</th>\n",
       "      <td>카페모카</td>\n",
       "      <td>5000</td>\n",
       "      <td>250</td>\n",
       "      <td>과테말라</td>\n",
       "    </tr>\n",
       "  </tbody>\n",
       "</table>\n",
       "</div>"
      ],
      "text/plain": [
       "     메뉴    가격  칼로리    원산지\n",
       "0   밀크티  5500  300  코스타리카\n",
       "1  카페라뗴  5000  110   과테말라\n",
       "2  카페모카  5000  250   과테말라"
      ]
     },
     "execution_count": 128,
     "metadata": {},
     "output_type": "execute_result"
    }
   ],
   "source": [
    "pd.read_csv(\"cafe3.csv\")\n",
    "df.head(3)"
   ]
  },
  {
   "cell_type": "code",
   "execution_count": 130,
   "id": "d61c06ac-7f25-46dc-a950-5051c63f6732",
   "metadata": {},
   "outputs": [
    {
     "data": {
      "text/html": [
       "<div>\n",
       "<style scoped>\n",
       "    .dataframe tbody tr th:only-of-type {\n",
       "        vertical-align: middle;\n",
       "    }\n",
       "\n",
       "    .dataframe tbody tr th {\n",
       "        vertical-align: top;\n",
       "    }\n",
       "\n",
       "    .dataframe thead th {\n",
       "        text-align: right;\n",
       "    }\n",
       "</style>\n",
       "<table border=\"1\" class=\"dataframe\">\n",
       "  <thead>\n",
       "    <tr style=\"text-align: right;\">\n",
       "      <th></th>\n",
       "      <th>메뉴</th>\n",
       "      <th>가격</th>\n",
       "      <th>칼로리</th>\n",
       "      <th>원산지</th>\n",
       "    </tr>\n",
       "  </thead>\n",
       "  <tbody>\n",
       "    <tr>\n",
       "      <th>0</th>\n",
       "      <td>그린티</td>\n",
       "      <td>5500</td>\n",
       "      <td>300</td>\n",
       "      <td>코스타리카</td>\n",
       "    </tr>\n",
       "    <tr>\n",
       "      <th>1</th>\n",
       "      <td>자허블</td>\n",
       "      <td>5000</td>\n",
       "      <td>110</td>\n",
       "      <td>과테말라</td>\n",
       "    </tr>\n",
       "    <tr>\n",
       "      <th>2</th>\n",
       "      <td>카페모카</td>\n",
       "      <td>5000</td>\n",
       "      <td>250</td>\n",
       "      <td>과테말라</td>\n",
       "    </tr>\n",
       "    <tr>\n",
       "      <th>3</th>\n",
       "      <td>아메리카노</td>\n",
       "      <td>4000</td>\n",
       "      <td>20</td>\n",
       "      <td>콜롬비아</td>\n",
       "    </tr>\n",
       "    <tr>\n",
       "      <th>4</th>\n",
       "      <td>에스프레소</td>\n",
       "      <td>3000</td>\n",
       "      <td>20</td>\n",
       "      <td>과테말라</td>\n",
       "    </tr>\n",
       "    <tr>\n",
       "      <th>5</th>\n",
       "      <td>딴짓커피</td>\n",
       "      <td>2000</td>\n",
       "      <td>20</td>\n",
       "      <td>코스타리카</td>\n",
       "    </tr>\n",
       "  </tbody>\n",
       "</table>\n",
       "</div>"
      ],
      "text/plain": [
       "      메뉴    가격  칼로리    원산지\n",
       "0    그린티  5500  300  코스타리카\n",
       "1    자허블  5000  110   과테말라\n",
       "2   카페모카  5000  250   과테말라\n",
       "3  아메리카노  4000   20   콜롬비아\n",
       "4  에스프레소  3000   20   과테말라\n",
       "5   딴짓커피  2000   20  코스타리카"
      ]
     },
     "execution_count": 130,
     "metadata": {},
     "output_type": "execute_result"
    }
   ],
   "source": [
    "#문자 변경\n",
    "df=df.replace('카페라뗴','자허블')\n",
    "df=df.replace('밀크티','그린티')\n",
    "df"
   ]
  },
  {
   "cell_type": "code",
   "execution_count": 132,
   "id": "00ec5457-de6e-4448-a462-98775534f675",
   "metadata": {},
   "outputs": [
    {
     "data": {
      "text/html": [
       "<div>\n",
       "<style scoped>\n",
       "    .dataframe tbody tr th:only-of-type {\n",
       "        vertical-align: middle;\n",
       "    }\n",
       "\n",
       "    .dataframe tbody tr th {\n",
       "        vertical-align: top;\n",
       "    }\n",
       "\n",
       "    .dataframe thead th {\n",
       "        text-align: right;\n",
       "    }\n",
       "</style>\n",
       "<table border=\"1\" class=\"dataframe\">\n",
       "  <thead>\n",
       "    <tr style=\"text-align: right;\">\n",
       "      <th></th>\n",
       "      <th>메뉴</th>\n",
       "      <th>가격</th>\n",
       "      <th>칼로리</th>\n",
       "      <th>원산지</th>\n",
       "    </tr>\n",
       "  </thead>\n",
       "  <tbody>\n",
       "    <tr>\n",
       "      <th>0</th>\n",
       "      <td>밀크티</td>\n",
       "      <td>5500</td>\n",
       "      <td>300</td>\n",
       "      <td>코스타리카</td>\n",
       "    </tr>\n",
       "    <tr>\n",
       "      <th>1</th>\n",
       "      <td>카페라떼</td>\n",
       "      <td>5000</td>\n",
       "      <td>110</td>\n",
       "      <td>과테말라</td>\n",
       "    </tr>\n",
       "    <tr>\n",
       "      <th>2</th>\n",
       "      <td>카페모카</td>\n",
       "      <td>5000</td>\n",
       "      <td>250</td>\n",
       "      <td>과테말라</td>\n",
       "    </tr>\n",
       "    <tr>\n",
       "      <th>3</th>\n",
       "      <td>아메리카노</td>\n",
       "      <td>4000</td>\n",
       "      <td>20</td>\n",
       "      <td>콜롬비아</td>\n",
       "    </tr>\n",
       "    <tr>\n",
       "      <th>4</th>\n",
       "      <td>에스프레소</td>\n",
       "      <td>3000</td>\n",
       "      <td>20</td>\n",
       "      <td>과테말라</td>\n",
       "    </tr>\n",
       "    <tr>\n",
       "      <th>5</th>\n",
       "      <td>딴짓커피</td>\n",
       "      <td>2000</td>\n",
       "      <td>20</td>\n",
       "      <td>코스타리카</td>\n",
       "    </tr>\n",
       "  </tbody>\n",
       "</table>\n",
       "</div>"
      ],
      "text/plain": [
       "      메뉴    가격  칼로리    원산지\n",
       "0    밀크티  5500  300  코스타리카\n",
       "1   카페라떼  5000  110   과테말라\n",
       "2   카페모카  5000  250   과테말라\n",
       "3  아메리카노  4000   20   콜롬비아\n",
       "4  에스프레소  3000   20   과테말라\n",
       "5   딴짓커피  2000   20  코스타리카"
      ]
     },
     "execution_count": 132,
     "metadata": {},
     "output_type": "execute_result"
    }
   ],
   "source": [
    "change = {'자허블':'카페라떼','그린티':'밀크티'}\n",
    "df=df.replace(change) #딕셔너리로 먼저 매핑 사전 만들어놓고 나중에 변경 가능\n",
    "df"
   ]
  },
  {
   "cell_type": "code",
   "execution_count": 133,
   "id": "868a9b6a-8c8c-4120-8442-aa7c9b22202e",
   "metadata": {},
   "outputs": [
    {
     "data": {
      "text/html": [
       "<div>\n",
       "<style scoped>\n",
       "    .dataframe tbody tr th:only-of-type {\n",
       "        vertical-align: middle;\n",
       "    }\n",
       "\n",
       "    .dataframe tbody tr th {\n",
       "        vertical-align: top;\n",
       "    }\n",
       "\n",
       "    .dataframe thead th {\n",
       "        text-align: right;\n",
       "    }\n",
       "</style>\n",
       "<table border=\"1\" class=\"dataframe\">\n",
       "  <thead>\n",
       "    <tr style=\"text-align: right;\">\n",
       "      <th></th>\n",
       "      <th>메뉴</th>\n",
       "      <th>가격</th>\n",
       "      <th>칼로리</th>\n",
       "      <th>원산지</th>\n",
       "    </tr>\n",
       "  </thead>\n",
       "  <tbody>\n",
       "    <tr>\n",
       "      <th>3</th>\n",
       "      <td>아메리카노</td>\n",
       "      <td>4000</td>\n",
       "      <td>20</td>\n",
       "      <td>콜롬비아</td>\n",
       "    </tr>\n",
       "    <tr>\n",
       "      <th>4</th>\n",
       "      <td>에스프레소</td>\n",
       "      <td>3000</td>\n",
       "      <td>20</td>\n",
       "      <td>대한민국</td>\n",
       "    </tr>\n",
       "    <tr>\n",
       "      <th>5</th>\n",
       "      <td>딴짓커피</td>\n",
       "      <td>2000</td>\n",
       "      <td>20</td>\n",
       "      <td>코스타리카</td>\n",
       "    </tr>\n",
       "  </tbody>\n",
       "</table>\n",
       "</div>"
      ],
      "text/plain": [
       "      메뉴    가격  칼로리    원산지\n",
       "3  아메리카노  4000   20   콜롬비아\n",
       "4  에스프레소  3000   20   대한민국\n",
       "5   딴짓커피  2000   20  코스타리카"
      ]
     },
     "execution_count": 133,
     "metadata": {},
     "output_type": "execute_result"
    }
   ],
   "source": [
    "df.loc[4,'원산지']='대한민국'\n",
    "df.tail(3)"
   ]
  },
  {
   "cell_type": "code",
   "execution_count": 134,
   "id": "d2218886-e466-464b-a3b8-127bdc21c022",
   "metadata": {},
   "outputs": [
    {
     "data": {
      "text/html": [
       "<div>\n",
       "<style scoped>\n",
       "    .dataframe tbody tr th:only-of-type {\n",
       "        vertical-align: middle;\n",
       "    }\n",
       "\n",
       "    .dataframe tbody tr th {\n",
       "        vertical-align: top;\n",
       "    }\n",
       "\n",
       "    .dataframe thead th {\n",
       "        text-align: right;\n",
       "    }\n",
       "</style>\n",
       "<table border=\"1\" class=\"dataframe\">\n",
       "  <thead>\n",
       "    <tr style=\"text-align: right;\">\n",
       "      <th></th>\n",
       "      <th>메뉴</th>\n",
       "      <th>가격</th>\n",
       "      <th>칼로리</th>\n",
       "      <th>원산지</th>\n",
       "      <th>이벤트가</th>\n",
       "    </tr>\n",
       "  </thead>\n",
       "  <tbody>\n",
       "    <tr>\n",
       "      <th>0</th>\n",
       "      <td>밀크티</td>\n",
       "      <td>5500</td>\n",
       "      <td>300</td>\n",
       "      <td>코스타리카</td>\n",
       "      <td>NaN</td>\n",
       "    </tr>\n",
       "    <tr>\n",
       "      <th>1</th>\n",
       "      <td>카페라떼</td>\n",
       "      <td>5000</td>\n",
       "      <td>110</td>\n",
       "      <td>과테말라</td>\n",
       "      <td>1000.0</td>\n",
       "    </tr>\n",
       "    <tr>\n",
       "      <th>2</th>\n",
       "      <td>카페모카</td>\n",
       "      <td>5000</td>\n",
       "      <td>250</td>\n",
       "      <td>과테말라</td>\n",
       "      <td>1000.0</td>\n",
       "    </tr>\n",
       "    <tr>\n",
       "      <th>3</th>\n",
       "      <td>아메리카노</td>\n",
       "      <td>4000</td>\n",
       "      <td>20</td>\n",
       "      <td>콜롬비아</td>\n",
       "      <td>NaN</td>\n",
       "    </tr>\n",
       "    <tr>\n",
       "      <th>4</th>\n",
       "      <td>에스프레소</td>\n",
       "      <td>3000</td>\n",
       "      <td>20</td>\n",
       "      <td>대한민국</td>\n",
       "      <td>NaN</td>\n",
       "    </tr>\n",
       "  </tbody>\n",
       "</table>\n",
       "</div>"
      ],
      "text/plain": [
       "      메뉴    가격  칼로리    원산지    이벤트가\n",
       "0    밀크티  5500  300  코스타리카     NaN\n",
       "1   카페라떼  5000  110   과테말라  1000.0\n",
       "2   카페모카  5000  250   과테말라  1000.0\n",
       "3  아메리카노  4000   20   콜롬비아     NaN\n",
       "4  에스프레소  3000   20   대한민국     NaN"
      ]
     },
     "execution_count": 134,
     "metadata": {},
     "output_type": "execute_result"
    }
   ],
   "source": [
    "df.loc[1:2,'이벤트가']=1000\n",
    "df.head()"
   ]
  },
  {
   "cell_type": "code",
   "execution_count": 135,
   "id": "386dfea5-140b-4b12-99e2-660ecb627854",
   "metadata": {},
   "outputs": [],
   "source": [
    "df.to_csv(\"cafe4.csv\",index=False)"
   ]
  },
  {
   "cell_type": "code",
   "execution_count": 1,
   "id": "846918a8-5ad8-42da-a7d4-96ffe88ccca5",
   "metadata": {},
   "outputs": [
    {
     "data": {
      "text/html": [
       "<div>\n",
       "<style scoped>\n",
       "    .dataframe tbody tr th:only-of-type {\n",
       "        vertical-align: middle;\n",
       "    }\n",
       "\n",
       "    .dataframe tbody tr th {\n",
       "        vertical-align: top;\n",
       "    }\n",
       "\n",
       "    .dataframe thead th {\n",
       "        text-align: right;\n",
       "    }\n",
       "</style>\n",
       "<table border=\"1\" class=\"dataframe\">\n",
       "  <thead>\n",
       "    <tr style=\"text-align: right;\">\n",
       "      <th></th>\n",
       "      <th>A</th>\n",
       "      <th>B</th>\n",
       "      <th>C</th>\n",
       "    </tr>\n",
       "  </thead>\n",
       "  <tbody>\n",
       "    <tr>\n",
       "      <th>0</th>\n",
       "      <td>데이터 분석</td>\n",
       "      <td>10</td>\n",
       "      <td>ab cd</td>\n",
       "    </tr>\n",
       "    <tr>\n",
       "      <th>1</th>\n",
       "      <td>기본 학습서</td>\n",
       "      <td>20</td>\n",
       "      <td>AB CD</td>\n",
       "    </tr>\n",
       "    <tr>\n",
       "      <th>2</th>\n",
       "      <td>화이팅</td>\n",
       "      <td>30</td>\n",
       "      <td>ab cd</td>\n",
       "    </tr>\n",
       "  </tbody>\n",
       "</table>\n",
       "</div>"
      ],
      "text/plain": [
       "        A   B       C\n",
       "0  데이터 분석  10   ab cd\n",
       "1  기본 학습서  20   AB CD\n",
       "2     화이팅  30  ab cd "
      ]
     },
     "execution_count": 1,
     "metadata": {},
     "output_type": "execute_result"
    }
   ],
   "source": [
    "import pandas as pd\n",
    "df = pd.DataFrame({\n",
    "    'A':['데이터 분석','기본 학습서','화이팅'],\n",
    "    'B':[10,20,30],\n",
    "    'C':['ab cd', 'AB CD', 'ab cd ']\n",
    "})\n",
    "df"
   ]
  },
  {
   "cell_type": "code",
   "execution_count": 3,
   "id": "b02f9bdc-d959-49b8-b01f-bde45002f8ae",
   "metadata": {},
   "outputs": [
    {
     "data": {
      "text/html": [
       "<div>\n",
       "<style scoped>\n",
       "    .dataframe tbody tr th:only-of-type {\n",
       "        vertical-align: middle;\n",
       "    }\n",
       "\n",
       "    .dataframe tbody tr th {\n",
       "        vertical-align: top;\n",
       "    }\n",
       "\n",
       "    .dataframe thead th {\n",
       "        text-align: right;\n",
       "    }\n",
       "</style>\n",
       "<table border=\"1\" class=\"dataframe\">\n",
       "  <thead>\n",
       "    <tr style=\"text-align: right;\">\n",
       "      <th></th>\n",
       "      <th>A</th>\n",
       "      <th>B</th>\n",
       "      <th>C</th>\n",
       "    </tr>\n",
       "  </thead>\n",
       "  <tbody>\n",
       "    <tr>\n",
       "      <th>0</th>\n",
       "      <td>데이터 분석</td>\n",
       "      <td>10</td>\n",
       "      <td>ab cd</td>\n",
       "    </tr>\n",
       "    <tr>\n",
       "      <th>1</th>\n",
       "      <td>기본 학습서</td>\n",
       "      <td>20</td>\n",
       "      <td>AB CD</td>\n",
       "    </tr>\n",
       "    <tr>\n",
       "      <th>2</th>\n",
       "      <td>화이팅</td>\n",
       "      <td>30</td>\n",
       "      <td>ab cd</td>\n",
       "    </tr>\n",
       "  </tbody>\n",
       "</table>\n",
       "</div>"
      ],
      "text/plain": [
       "        A   B       C\n",
       "0  데이터 분석  10   ab cd\n",
       "1  기본 학습서  20   AB CD\n",
       "2     화이팅  30  ab cd "
      ]
     },
     "execution_count": 3,
     "metadata": {},
     "output_type": "execute_result"
    }
   ],
   "source": [
    "df['A']=df['A'].replace('분석','시각화')\n",
    "df"
   ]
  },
  {
   "cell_type": "code",
   "execution_count": 5,
   "id": "b6e832bc-db75-4d14-abd5-3c01b2fbdeaa",
   "metadata": {},
   "outputs": [
    {
     "data": {
      "text/html": [
       "<div>\n",
       "<style scoped>\n",
       "    .dataframe tbody tr th:only-of-type {\n",
       "        vertical-align: middle;\n",
       "    }\n",
       "\n",
       "    .dataframe tbody tr th {\n",
       "        vertical-align: top;\n",
       "    }\n",
       "\n",
       "    .dataframe thead th {\n",
       "        text-align: right;\n",
       "    }\n",
       "</style>\n",
       "<table border=\"1\" class=\"dataframe\">\n",
       "  <thead>\n",
       "    <tr style=\"text-align: right;\">\n",
       "      <th></th>\n",
       "      <th>A</th>\n",
       "      <th>B</th>\n",
       "      <th>C</th>\n",
       "    </tr>\n",
       "  </thead>\n",
       "  <tbody>\n",
       "    <tr>\n",
       "      <th>0</th>\n",
       "      <td>데이터 시각화</td>\n",
       "      <td>10</td>\n",
       "      <td>ab cd</td>\n",
       "    </tr>\n",
       "    <tr>\n",
       "      <th>1</th>\n",
       "      <td>기본 학습서</td>\n",
       "      <td>20</td>\n",
       "      <td>AB CD</td>\n",
       "    </tr>\n",
       "    <tr>\n",
       "      <th>2</th>\n",
       "      <td>화이팅</td>\n",
       "      <td>30</td>\n",
       "      <td>ab cd</td>\n",
       "    </tr>\n",
       "  </tbody>\n",
       "</table>\n",
       "</div>"
      ],
      "text/plain": [
       "         A   B       C\n",
       "0  데이터 시각화  10   ab cd\n",
       "1   기본 학습서  20   AB CD\n",
       "2      화이팅  30  ab cd "
      ]
     },
     "execution_count": 5,
     "metadata": {},
     "output_type": "execute_result"
    }
   ],
   "source": [
    "#문자열에서 일부만 바꾸고자 할 경우\n",
    "df['A']=df['A'].str.replace('분석','시각화')\n",
    "df"
   ]
  },
  {
   "cell_type": "code",
   "execution_count": 7,
   "id": "546d9250-228a-4aac-9b7e-25b4a180ae6e",
   "metadata": {},
   "outputs": [
    {
     "data": {
      "text/html": [
       "<div>\n",
       "<style scoped>\n",
       "    .dataframe tbody tr th:only-of-type {\n",
       "        vertical-align: middle;\n",
       "    }\n",
       "\n",
       "    .dataframe tbody tr th {\n",
       "        vertical-align: top;\n",
       "    }\n",
       "\n",
       "    .dataframe thead th {\n",
       "        text-align: right;\n",
       "    }\n",
       "</style>\n",
       "<table border=\"1\" class=\"dataframe\">\n",
       "  <thead>\n",
       "    <tr style=\"text-align: right;\">\n",
       "      <th></th>\n",
       "      <th>A</th>\n",
       "      <th>B</th>\n",
       "      <th>C</th>\n",
       "    </tr>\n",
       "  </thead>\n",
       "  <tbody>\n",
       "    <tr>\n",
       "      <th>0</th>\n",
       "      <td>데이터 시각화</td>\n",
       "      <td>100</td>\n",
       "      <td>ab cd</td>\n",
       "    </tr>\n",
       "    <tr>\n",
       "      <th>1</th>\n",
       "      <td>기본 학습서</td>\n",
       "      <td>20</td>\n",
       "      <td>AB CD</td>\n",
       "    </tr>\n",
       "    <tr>\n",
       "      <th>2</th>\n",
       "      <td>화이팅</td>\n",
       "      <td>30</td>\n",
       "      <td>ab cd</td>\n",
       "    </tr>\n",
       "  </tbody>\n",
       "</table>\n",
       "</div>"
      ],
      "text/plain": [
       "         A    B       C\n",
       "0  데이터 시각화  100   ab cd\n",
       "1   기본 학습서   20   AB CD\n",
       "2      화이팅   30  ab cd "
      ]
     },
     "execution_count": 7,
     "metadata": {},
     "output_type": "execute_result"
    }
   ],
   "source": [
    "df['B']=df['B'].replace(10,100)\n",
    "df"
   ]
  },
  {
   "cell_type": "code",
   "execution_count": 9,
   "id": "41868f69-752a-4da9-b274-6f3dc17c7095",
   "metadata": {},
   "outputs": [
    {
     "data": {
      "text/plain": [
       "0    [데이터, 시각화]\n",
       "1     [기본, 학습서]\n",
       "2         [화이팅]\n",
       "Name: A, dtype: object"
      ]
     },
     "execution_count": 9,
     "metadata": {},
     "output_type": "execute_result"
    }
   ],
   "source": [
    "df['A'].str.split()"
   ]
  },
  {
   "cell_type": "code",
   "execution_count": 11,
   "id": "4622f3c5-9136-4a0d-a43c-a35650f074dc",
   "metadata": {},
   "outputs": [
    {
     "data": {
      "text/plain": [
       "['데이터', '시각화']"
      ]
     },
     "execution_count": 11,
     "metadata": {},
     "output_type": "execute_result"
    }
   ],
   "source": [
    "df['A'].str.split()[0]"
   ]
  },
  {
   "cell_type": "code",
   "execution_count": 15,
   "id": "08fedd95-7cdf-4c74-87a5-0fe2e5b4c024",
   "metadata": {},
   "outputs": [
    {
     "data": {
      "text/html": [
       "<div>\n",
       "<style scoped>\n",
       "    .dataframe tbody tr th:only-of-type {\n",
       "        vertical-align: middle;\n",
       "    }\n",
       "\n",
       "    .dataframe tbody tr th {\n",
       "        vertical-align: top;\n",
       "    }\n",
       "\n",
       "    .dataframe thead th {\n",
       "        text-align: right;\n",
       "    }\n",
       "</style>\n",
       "<table border=\"1\" class=\"dataframe\">\n",
       "  <thead>\n",
       "    <tr style=\"text-align: right;\">\n",
       "      <th></th>\n",
       "      <th>A</th>\n",
       "      <th>B</th>\n",
       "      <th>C</th>\n",
       "      <th>D</th>\n",
       "    </tr>\n",
       "  </thead>\n",
       "  <tbody>\n",
       "    <tr>\n",
       "      <th>0</th>\n",
       "      <td>데이터 시각화</td>\n",
       "      <td>100</td>\n",
       "      <td>ab cd</td>\n",
       "      <td>시각화</td>\n",
       "    </tr>\n",
       "    <tr>\n",
       "      <th>1</th>\n",
       "      <td>기본 학습서</td>\n",
       "      <td>20</td>\n",
       "      <td>AB CD</td>\n",
       "      <td>학습서</td>\n",
       "    </tr>\n",
       "    <tr>\n",
       "      <th>2</th>\n",
       "      <td>화이팅</td>\n",
       "      <td>30</td>\n",
       "      <td>ab cd</td>\n",
       "      <td>화이팅</td>\n",
       "    </tr>\n",
       "  </tbody>\n",
       "</table>\n",
       "</div>"
      ],
      "text/plain": [
       "         A    B       C    D\n",
       "0  데이터 시각화  100   ab cd  시각화\n",
       "1   기본 학습서   20   AB CD  학습서\n",
       "2      화이팅   30  ab cd   화이팅"
      ]
     },
     "execution_count": 15,
     "metadata": {},
     "output_type": "execute_result"
    }
   ],
   "source": [
    "df['D']=df['A'].str.split().str[-1]\n",
    "df"
   ]
  },
  {
   "cell_type": "code",
   "execution_count": 17,
   "id": "e04cd81c-4c0b-402a-80cd-7a761099a585",
   "metadata": {},
   "outputs": [
    {
     "data": {
      "text/plain": [
       "0    False\n",
       "1     True\n",
       "2    False\n",
       "Name: A, dtype: bool"
      ]
     },
     "execution_count": 17,
     "metadata": {},
     "output_type": "execute_result"
    }
   ],
   "source": [
    "#문자 검색\n",
    "df['A'].str.contains('기본')"
   ]
  },
  {
   "cell_type": "code",
   "execution_count": 19,
   "id": "8c9928ca-3579-427c-82a4-68736c7c0fa9",
   "metadata": {},
   "outputs": [
    {
     "data": {
      "text/html": [
       "<div>\n",
       "<style scoped>\n",
       "    .dataframe tbody tr th:only-of-type {\n",
       "        vertical-align: middle;\n",
       "    }\n",
       "\n",
       "    .dataframe tbody tr th {\n",
       "        vertical-align: top;\n",
       "    }\n",
       "\n",
       "    .dataframe thead th {\n",
       "        text-align: right;\n",
       "    }\n",
       "</style>\n",
       "<table border=\"1\" class=\"dataframe\">\n",
       "  <thead>\n",
       "    <tr style=\"text-align: right;\">\n",
       "      <th></th>\n",
       "      <th>A</th>\n",
       "      <th>B</th>\n",
       "      <th>C</th>\n",
       "      <th>D</th>\n",
       "      <th>기본포함유무</th>\n",
       "    </tr>\n",
       "  </thead>\n",
       "  <tbody>\n",
       "    <tr>\n",
       "      <th>0</th>\n",
       "      <td>데이터 시각화</td>\n",
       "      <td>100</td>\n",
       "      <td>ab cd</td>\n",
       "      <td>시각화</td>\n",
       "      <td>False</td>\n",
       "    </tr>\n",
       "    <tr>\n",
       "      <th>1</th>\n",
       "      <td>기본 학습서</td>\n",
       "      <td>20</td>\n",
       "      <td>AB CD</td>\n",
       "      <td>학습서</td>\n",
       "      <td>True</td>\n",
       "    </tr>\n",
       "    <tr>\n",
       "      <th>2</th>\n",
       "      <td>화이팅</td>\n",
       "      <td>30</td>\n",
       "      <td>ab cd</td>\n",
       "      <td>화이팅</td>\n",
       "      <td>False</td>\n",
       "    </tr>\n",
       "  </tbody>\n",
       "</table>\n",
       "</div>"
      ],
      "text/plain": [
       "         A    B       C    D  기본포함유무\n",
       "0  데이터 시각화  100   ab cd  시각화   False\n",
       "1   기본 학습서   20   AB CD  학습서    True\n",
       "2      화이팅   30  ab cd   화이팅   False"
      ]
     },
     "execution_count": 19,
     "metadata": {},
     "output_type": "execute_result"
    }
   ],
   "source": [
    "df['기본포함유무']=df['A'].str.contains('기본')\n",
    "df"
   ]
  },
  {
   "cell_type": "code",
   "execution_count": 21,
   "id": "35615a1c-eac7-4cd0-bb95-79ce4b9c0fa8",
   "metadata": {},
   "outputs": [
    {
     "data": {
      "text/plain": [
       "0     True\n",
       "1    False\n",
       "2     True\n",
       "dtype: bool"
      ]
     },
     "execution_count": 21,
     "metadata": {},
     "output_type": "execute_result"
    }
   ],
   "source": [
    "#단어가 다 똑같아야지만 찾을 수 있음\n",
    "menu = pd.Series(['맛난버거 세트','매운 치즈버거','더블 치즈버거'])\n",
    "menu.isin(['맛난버거 세트','더블 치즈버거'])"
   ]
  },
  {
   "cell_type": "code",
   "execution_count": 23,
   "id": "4ad12548-e1b2-4fe4-96ee-58bb3efa9a56",
   "metadata": {},
   "outputs": [
    {
     "data": {
      "text/plain": [
       "0     True\n",
       "1    False\n",
       "2    False\n",
       "dtype: bool"
      ]
     },
     "execution_count": 23,
     "metadata": {},
     "output_type": "execute_result"
    }
   ],
   "source": [
    "#문자 일부만 있어도 되지만 여러개 못찾음. 한 번에 하나씩만 찾을 수 있음\n",
    "menu.str.contains('세트')"
   ]
  },
  {
   "cell_type": "code",
   "execution_count": 25,
   "id": "a1362162-3150-41e8-8248-f87452fa0e71",
   "metadata": {},
   "outputs": [
    {
     "data": {
      "text/html": [
       "<div>\n",
       "<style scoped>\n",
       "    .dataframe tbody tr th:only-of-type {\n",
       "        vertical-align: middle;\n",
       "    }\n",
       "\n",
       "    .dataframe tbody tr th {\n",
       "        vertical-align: top;\n",
       "    }\n",
       "\n",
       "    .dataframe thead th {\n",
       "        text-align: right;\n",
       "    }\n",
       "</style>\n",
       "<table border=\"1\" class=\"dataframe\">\n",
       "  <thead>\n",
       "    <tr style=\"text-align: right;\">\n",
       "      <th></th>\n",
       "      <th>A</th>\n",
       "      <th>B</th>\n",
       "      <th>C</th>\n",
       "      <th>D</th>\n",
       "      <th>기본포함유무</th>\n",
       "      <th>문자길이</th>\n",
       "    </tr>\n",
       "  </thead>\n",
       "  <tbody>\n",
       "    <tr>\n",
       "      <th>0</th>\n",
       "      <td>데이터 시각화</td>\n",
       "      <td>100</td>\n",
       "      <td>ab cd</td>\n",
       "      <td>시각화</td>\n",
       "      <td>False</td>\n",
       "      <td>7</td>\n",
       "    </tr>\n",
       "    <tr>\n",
       "      <th>1</th>\n",
       "      <td>기본 학습서</td>\n",
       "      <td>20</td>\n",
       "      <td>AB CD</td>\n",
       "      <td>학습서</td>\n",
       "      <td>True</td>\n",
       "      <td>6</td>\n",
       "    </tr>\n",
       "    <tr>\n",
       "      <th>2</th>\n",
       "      <td>화이팅</td>\n",
       "      <td>30</td>\n",
       "      <td>ab cd</td>\n",
       "      <td>화이팅</td>\n",
       "      <td>False</td>\n",
       "      <td>3</td>\n",
       "    </tr>\n",
       "  </tbody>\n",
       "</table>\n",
       "</div>"
      ],
      "text/plain": [
       "         A    B       C    D  기본포함유무  문자길이\n",
       "0  데이터 시각화  100   ab cd  시각화   False     7\n",
       "1   기본 학습서   20   AB CD  학습서    True     6\n",
       "2      화이팅   30  ab cd   화이팅   False     3"
      ]
     },
     "execution_count": 25,
     "metadata": {},
     "output_type": "execute_result"
    }
   ],
   "source": [
    "df['문자길이']=df['A'].str.len()\n",
    "df"
   ]
  },
  {
   "cell_type": "code",
   "execution_count": 27,
   "id": "ecf0faac-8e5f-4806-8a78-6c5b41466c2d",
   "metadata": {},
   "outputs": [
    {
     "data": {
      "text/plain": [
       "False"
      ]
     },
     "execution_count": 27,
     "metadata": {},
     "output_type": "execute_result"
    }
   ],
   "source": [
    "'AB cd'=='ab CD'"
   ]
  },
  {
   "cell_type": "code",
   "execution_count": 29,
   "id": "c76841c7-5714-4046-90de-8bedf3ae8730",
   "metadata": {},
   "outputs": [
    {
     "data": {
      "text/plain": [
       "0     ab cd\n",
       "1     ab cd\n",
       "2    ab cd \n",
       "Name: C, dtype: object"
      ]
     },
     "execution_count": 29,
     "metadata": {},
     "output_type": "execute_result"
    }
   ],
   "source": [
    "df['C']=df['C'].str.lower()\n",
    "df['C']"
   ]
  },
  {
   "cell_type": "code",
   "execution_count": 31,
   "id": "54779443-647f-46e2-9b08-9761ddc5b195",
   "metadata": {},
   "outputs": [
    {
     "data": {
      "text/plain": [
       "0     AB CD\n",
       "1     AB CD\n",
       "2    AB CD \n",
       "Name: C, dtype: object"
      ]
     },
     "execution_count": 31,
     "metadata": {},
     "output_type": "execute_result"
    }
   ],
   "source": [
    "df['C']=df['C'].str.upper()\n",
    "df['C']"
   ]
  },
  {
   "cell_type": "code",
   "execution_count": 33,
   "id": "5ee8d02f-279a-42c2-99ac-4bd524a801aa",
   "metadata": {},
   "outputs": [
    {
     "data": {
      "text/plain": [
       "0     True\n",
       "1     True\n",
       "2    False\n",
       "Name: C, dtype: bool"
      ]
     },
     "execution_count": 33,
     "metadata": {},
     "output_type": "execute_result"
    }
   ],
   "source": [
    "df['C']=='AB CD' #띄어쓰기 때문에"
   ]
  },
  {
   "cell_type": "code",
   "execution_count": 35,
   "id": "3648feec-ba1d-495b-a2ba-8963eeac56f0",
   "metadata": {},
   "outputs": [
    {
     "data": {
      "text/plain": [
       "0    abcd\n",
       "1    abcd\n",
       "2    abcd\n",
       "Name: C, dtype: object"
      ]
     },
     "execution_count": 35,
     "metadata": {},
     "output_type": "execute_result"
    }
   ],
   "source": [
    "df['C']=df['C'].str.lower()\n",
    "df['C']=df['C'].str.replace(\" \",\"\")\n",
    "df['C']"
   ]
  },
  {
   "cell_type": "code",
   "execution_count": 37,
   "id": "18c65df6-b673-404b-84c0-5764bbc1ca9d",
   "metadata": {},
   "outputs": [
    {
     "data": {
      "text/plain": [
       "0    bc\n",
       "1    bc\n",
       "2    bc\n",
       "Name: C, dtype: object"
      ]
     },
     "execution_count": 37,
     "metadata": {},
     "output_type": "execute_result"
    }
   ],
   "source": [
    "df['C'].str[1:3]"
   ]
  },
  {
   "cell_type": "code",
   "execution_count": 39,
   "id": "de9c390c-79c5-4a50-9ae6-ed22344368a6",
   "metadata": {},
   "outputs": [
    {
     "data": {
      "text/html": [
       "<div>\n",
       "<style scoped>\n",
       "    .dataframe tbody tr th:only-of-type {\n",
       "        vertical-align: middle;\n",
       "    }\n",
       "\n",
       "    .dataframe tbody tr th {\n",
       "        vertical-align: top;\n",
       "    }\n",
       "\n",
       "    .dataframe thead th {\n",
       "        text-align: right;\n",
       "    }\n",
       "</style>\n",
       "<table border=\"1\" class=\"dataframe\">\n",
       "  <thead>\n",
       "    <tr style=\"text-align: right;\">\n",
       "      <th></th>\n",
       "      <th>메뉴</th>\n",
       "      <th>가격</th>\n",
       "      <th>칼로리</th>\n",
       "      <th>원산지</th>\n",
       "      <th>이벤트가</th>\n",
       "    </tr>\n",
       "  </thead>\n",
       "  <tbody>\n",
       "    <tr>\n",
       "      <th>0</th>\n",
       "      <td>밀크티</td>\n",
       "      <td>5500</td>\n",
       "      <td>300</td>\n",
       "      <td>코스타리카</td>\n",
       "      <td>NaN</td>\n",
       "    </tr>\n",
       "    <tr>\n",
       "      <th>1</th>\n",
       "      <td>카페라떼</td>\n",
       "      <td>5000</td>\n",
       "      <td>110</td>\n",
       "      <td>과테말라</td>\n",
       "      <td>1000.0</td>\n",
       "    </tr>\n",
       "  </tbody>\n",
       "</table>\n",
       "</div>"
      ],
      "text/plain": [
       "     메뉴    가격  칼로리    원산지    이벤트가\n",
       "0   밀크티  5500  300  코스타리카     NaN\n",
       "1  카페라떼  5000  110   과테말라  1000.0"
      ]
     },
     "execution_count": 39,
     "metadata": {},
     "output_type": "execute_result"
    }
   ],
   "source": [
    "df=pd.read_csv(\"cafe4.csv\")\n",
    "df.head(2)"
   ]
  },
  {
   "cell_type": "code",
   "execution_count": 41,
   "id": "ba301681-6ce4-400d-92bb-635a82d3d5fa",
   "metadata": {},
   "outputs": [
    {
     "name": "stdout",
     "output_type": "stream",
     "text": [
      "6\n",
      "6\n"
     ]
    }
   ],
   "source": [
    "#행의 수\n",
    "print(len(df))\n",
    "print(df.shape[0])"
   ]
  },
  {
   "cell_type": "code",
   "execution_count": 45,
   "id": "1befa7c9-937b-4052-932c-6281764bcfdc",
   "metadata": {},
   "outputs": [
    {
     "data": {
      "text/plain": [
       "0     True\n",
       "1     True\n",
       "2     True\n",
       "3    False\n",
       "4    False\n",
       "5    False\n",
       "Name: 가격, dtype: bool"
      ]
     },
     "execution_count": 45,
     "metadata": {},
     "output_type": "execute_result"
    }
   ],
   "source": [
    "df['가격']>4000"
   ]
  },
  {
   "cell_type": "code",
   "execution_count": 49,
   "id": "bad25442-4195-42e7-8317-1c198ce49330",
   "metadata": {},
   "outputs": [
    {
     "name": "stdout",
     "output_type": "stream",
     "text": [
      "3\n",
      "3\n"
     ]
    }
   ],
   "source": [
    "cond=df['가격']>4000\n",
    "\n",
    "print(sum(cond))\n",
    "\n",
    "print(len(df[cond]))"
   ]
  },
  {
   "cell_type": "code",
   "execution_count": 51,
   "id": "d84843c0-a64b-4dd6-92cf-4d88a9b49afa",
   "metadata": {},
   "outputs": [
    {
     "data": {
      "text/plain": [
       "가격      24500.0\n",
       "칼로리       720.0\n",
       "이벤트가     2000.0\n",
       "dtype: float64"
      ]
     },
     "execution_count": 51,
     "metadata": {},
     "output_type": "execute_result"
    }
   ],
   "source": [
    "df.sum(numeric_only=True)"
   ]
  },
  {
   "cell_type": "code",
   "execution_count": 53,
   "id": "27c81339-bf60-4eb9-87a2-d54e71930105",
   "metadata": {},
   "outputs": [
    {
     "data": {
      "text/plain": [
       "0    5800.0\n",
       "1    6110.0\n",
       "2    6250.0\n",
       "3    4020.0\n",
       "4    3020.0\n",
       "5    2020.0\n",
       "dtype: float64"
      ]
     },
     "execution_count": 53,
     "metadata": {},
     "output_type": "execute_result"
    }
   ],
   "source": [
    "df.sum(axis=1,numeric_only=True)"
   ]
  },
  {
   "cell_type": "code",
   "execution_count": null,
   "id": "ff7ef5ff-62a2-49d3-ae77-cbb4df7e4192",
   "metadata": {},
   "outputs": [],
   "source": [
    "#참고\n",
    "#drop() : axis=0 -> 행 삭제 / axis = 1 -> 컬럼 삭제\n",
    "#sum() : axis=0 -> 컬럼별 합계 / axis = 1 -> 행별 합"
   ]
  },
  {
   "cell_type": "code",
   "execution_count": 55,
   "id": "cbd807e8-4d23-475e-9139-c1f2672c3a41",
   "metadata": {},
   "outputs": [
    {
     "name": "stdout",
     "output_type": "stream",
     "text": [
      "최대값:  5500\n",
      "최소값:  2000\n",
      "평균값:  4083.3333333333335\n",
      "중앙값:  4500.0\n",
      "합계:  24500\n",
      "표준편차:  1357.0801990548186\n",
      "분산:  1841666.6666666665\n"
     ]
    }
   ],
   "source": [
    "print(\"최대값: \",df['가격'].max())\n",
    "print(\"최소값: \",df['가격'].min())\n",
    "print(\"평균값: \",df['가격'].mean())\n",
    "print(\"중앙값: \",df['가격'].median())\n",
    "print(\"합계: \",df['가격'].sum())\n",
    "print(\"표준편차: \",df['가격'].std())\n",
    "print(\"분산: \",df['가격'].var())"
   ]
  },
  {
   "cell_type": "code",
   "execution_count": 57,
   "id": "baf995b2-1760-4dc0-ae8d-d40011a7ca0a",
   "metadata": {},
   "outputs": [
    {
     "name": "stdout",
     "output_type": "stream",
     "text": [
      "분위수 25% 값 3250.0\n",
      "분위수 75% 값 5000.0\n"
     ]
    }
   ],
   "source": [
    "#분위수\n",
    "print(\"분위수 25% 값\",df['가격'].quantile(.25))\n",
    "print(\"분위수 75% 값\",df['가격'].quantile(.75))"
   ]
  },
  {
   "cell_type": "code",
   "execution_count": 59,
   "id": "3c45cd53-6086-45a9-8cfe-efeef1634654",
   "metadata": {},
   "outputs": [
    {
     "data": {
      "text/html": [
       "<div>\n",
       "<style scoped>\n",
       "    .dataframe tbody tr th:only-of-type {\n",
       "        vertical-align: middle;\n",
       "    }\n",
       "\n",
       "    .dataframe tbody tr th {\n",
       "        vertical-align: top;\n",
       "    }\n",
       "\n",
       "    .dataframe thead th {\n",
       "        text-align: right;\n",
       "    }\n",
       "</style>\n",
       "<table border=\"1\" class=\"dataframe\">\n",
       "  <thead>\n",
       "    <tr style=\"text-align: right;\">\n",
       "      <th></th>\n",
       "      <th>메뉴</th>\n",
       "      <th>가격</th>\n",
       "      <th>칼로리</th>\n",
       "      <th>원산지</th>\n",
       "      <th>이벤트가</th>\n",
       "    </tr>\n",
       "  </thead>\n",
       "  <tbody>\n",
       "    <tr>\n",
       "      <th>4</th>\n",
       "      <td>에스프레소</td>\n",
       "      <td>3000</td>\n",
       "      <td>20</td>\n",
       "      <td>대한민국</td>\n",
       "      <td>NaN</td>\n",
       "    </tr>\n",
       "    <tr>\n",
       "      <th>5</th>\n",
       "      <td>딴짓커피</td>\n",
       "      <td>2000</td>\n",
       "      <td>20</td>\n",
       "      <td>코스타리카</td>\n",
       "      <td>NaN</td>\n",
       "    </tr>\n",
       "  </tbody>\n",
       "</table>\n",
       "</div>"
      ],
      "text/plain": [
       "      메뉴    가격  칼로리    원산지  이벤트가\n",
       "4  에스프레소  3000   20   대한민국   NaN\n",
       "5   딴짓커피  2000   20  코스타리카   NaN"
      ]
     },
     "execution_count": 59,
     "metadata": {},
     "output_type": "execute_result"
    }
   ],
   "source": [
    "#하위 25% 데이터\n",
    "cond=df['가격'].quantile(.25)>df['가격']\n",
    "df[cond]"
   ]
  },
  {
   "cell_type": "code",
   "execution_count": 61,
   "id": "7bbed719-f450-4183-833e-7676316f75b3",
   "metadata": {},
   "outputs": [
    {
     "data": {
      "text/html": [
       "<div>\n",
       "<style scoped>\n",
       "    .dataframe tbody tr th:only-of-type {\n",
       "        vertical-align: middle;\n",
       "    }\n",
       "\n",
       "    .dataframe tbody tr th {\n",
       "        vertical-align: top;\n",
       "    }\n",
       "\n",
       "    .dataframe thead th {\n",
       "        text-align: right;\n",
       "    }\n",
       "</style>\n",
       "<table border=\"1\" class=\"dataframe\">\n",
       "  <thead>\n",
       "    <tr style=\"text-align: right;\">\n",
       "      <th></th>\n",
       "      <th>메뉴</th>\n",
       "      <th>가격</th>\n",
       "      <th>칼로리</th>\n",
       "      <th>원산지</th>\n",
       "      <th>이벤트가</th>\n",
       "    </tr>\n",
       "  </thead>\n",
       "  <tbody>\n",
       "    <tr>\n",
       "      <th>0</th>\n",
       "      <td>밀크티</td>\n",
       "      <td>5500</td>\n",
       "      <td>300</td>\n",
       "      <td>코스타리카</td>\n",
       "      <td>NaN</td>\n",
       "    </tr>\n",
       "  </tbody>\n",
       "</table>\n",
       "</div>"
      ],
      "text/plain": [
       "    메뉴    가격  칼로리    원산지  이벤트가\n",
       "0  밀크티  5500  300  코스타리카   NaN"
      ]
     },
     "execution_count": 61,
     "metadata": {},
     "output_type": "execute_result"
    }
   ],
   "source": [
    "#상위 25% 데이터\n",
    "cond=df['가격'].quantile(.75)<df['가격']\n",
    "df[cond]"
   ]
  },
  {
   "cell_type": "code",
   "execution_count": 63,
   "id": "1e52b24e-be47-4ec2-9081-140f0af2a2ef",
   "metadata": {},
   "outputs": [
    {
     "data": {
      "text/plain": [
       "'과테말라'"
      ]
     },
     "execution_count": 63,
     "metadata": {},
     "output_type": "execute_result"
    }
   ],
   "source": [
    "#최빈값 구하기\n",
    "df['원산지'].mode()[0]"
   ]
  },
  {
   "cell_type": "code",
   "execution_count": 65,
   "id": "0422c958-e46c-47a6-995e-bf962f6d9dd6",
   "metadata": {},
   "outputs": [
    {
     "data": {
      "text/plain": [
       "0"
      ]
     },
     "execution_count": 65,
     "metadata": {},
     "output_type": "execute_result"
    }
   ],
   "source": [
    "df['가격'].idxmax() #가장 큰 값의 인덱스 출력"
   ]
  },
  {
   "cell_type": "code",
   "execution_count": 67,
   "id": "79393b08-e4da-4ce9-8eaa-e503a11eea9d",
   "metadata": {},
   "outputs": [
    {
     "data": {
      "text/plain": [
       "메뉴        밀크티\n",
       "가격       5500\n",
       "칼로리       300\n",
       "원산지     코스타리카\n",
       "이벤트가      NaN\n",
       "Name: 0, dtype: object"
      ]
     },
     "execution_count": 67,
     "metadata": {},
     "output_type": "execute_result"
    }
   ],
   "source": [
    "max_ind=df['가격'].idxmax()\n",
    "df.loc[max_ind]"
   ]
  },
  {
   "cell_type": "code",
   "execution_count": 69,
   "id": "e3c5e564-b309-4b2b-ab11-e6bd7709a704",
   "metadata": {},
   "outputs": [
    {
     "data": {
      "text/plain": [
       "'밀크티'"
      ]
     },
     "execution_count": 69,
     "metadata": {},
     "output_type": "execute_result"
    }
   ],
   "source": [
    "df.loc[max_ind,'메뉴']"
   ]
  },
  {
   "cell_type": "code",
   "execution_count": 71,
   "id": "f243c8e9-cf25-4b82-b593-ba0cf9f84a37",
   "metadata": {},
   "outputs": [
    {
     "data": {
      "text/html": [
       "<div>\n",
       "<style scoped>\n",
       "    .dataframe tbody tr th:only-of-type {\n",
       "        vertical-align: middle;\n",
       "    }\n",
       "\n",
       "    .dataframe tbody tr th {\n",
       "        vertical-align: top;\n",
       "    }\n",
       "\n",
       "    .dataframe thead th {\n",
       "        text-align: right;\n",
       "    }\n",
       "</style>\n",
       "<table border=\"1\" class=\"dataframe\">\n",
       "  <thead>\n",
       "    <tr style=\"text-align: right;\">\n",
       "      <th></th>\n",
       "      <th>메뉴</th>\n",
       "      <th>가격</th>\n",
       "      <th>칼로리</th>\n",
       "      <th>원산지</th>\n",
       "      <th>이벤트가</th>\n",
       "    </tr>\n",
       "  </thead>\n",
       "  <tbody>\n",
       "    <tr>\n",
       "      <th>0</th>\n",
       "      <td>밀크티</td>\n",
       "      <td>5500</td>\n",
       "      <td>300</td>\n",
       "      <td>코스타리카</td>\n",
       "      <td>NaN</td>\n",
       "    </tr>\n",
       "    <tr>\n",
       "      <th>1</th>\n",
       "      <td>카페라떼</td>\n",
       "      <td>5000</td>\n",
       "      <td>110</td>\n",
       "      <td>과테말라</td>\n",
       "      <td>1000.0</td>\n",
       "    </tr>\n",
       "    <tr>\n",
       "      <th>2</th>\n",
       "      <td>카페모카</td>\n",
       "      <td>5000</td>\n",
       "      <td>250</td>\n",
       "      <td>과테말라</td>\n",
       "      <td>1000.0</td>\n",
       "    </tr>\n",
       "  </tbody>\n",
       "</table>\n",
       "</div>"
      ],
      "text/plain": [
       "     메뉴    가격  칼로리    원산지    이벤트가\n",
       "0   밀크티  5500  300  코스타리카     NaN\n",
       "1  카페라떼  5000  110   과테말라  1000.0\n",
       "2  카페모카  5000  250   과테말라  1000.0"
      ]
     },
     "execution_count": 71,
     "metadata": {},
     "output_type": "execute_result"
    }
   ],
   "source": [
    "df.nlargest(3,'가격')"
   ]
  },
  {
   "cell_type": "code",
   "execution_count": 73,
   "id": "1c7baa40-ddf7-4ab5-a5da-e506ebe03d70",
   "metadata": {},
   "outputs": [
    {
     "data": {
      "text/html": [
       "<div>\n",
       "<style scoped>\n",
       "    .dataframe tbody tr th:only-of-type {\n",
       "        vertical-align: middle;\n",
       "    }\n",
       "\n",
       "    .dataframe tbody tr th {\n",
       "        vertical-align: top;\n",
       "    }\n",
       "\n",
       "    .dataframe thead th {\n",
       "        text-align: right;\n",
       "    }\n",
       "</style>\n",
       "<table border=\"1\" class=\"dataframe\">\n",
       "  <thead>\n",
       "    <tr style=\"text-align: right;\">\n",
       "      <th></th>\n",
       "      <th>메뉴</th>\n",
       "      <th>가격</th>\n",
       "      <th>칼로리</th>\n",
       "      <th>원산지</th>\n",
       "      <th>이벤트가</th>\n",
       "    </tr>\n",
       "  </thead>\n",
       "  <tbody>\n",
       "    <tr>\n",
       "      <th>5</th>\n",
       "      <td>딴짓커피</td>\n",
       "      <td>2000</td>\n",
       "      <td>20</td>\n",
       "      <td>코스타리카</td>\n",
       "      <td>NaN</td>\n",
       "    </tr>\n",
       "    <tr>\n",
       "      <th>4</th>\n",
       "      <td>에스프레소</td>\n",
       "      <td>3000</td>\n",
       "      <td>20</td>\n",
       "      <td>대한민국</td>\n",
       "      <td>NaN</td>\n",
       "    </tr>\n",
       "  </tbody>\n",
       "</table>\n",
       "</div>"
      ],
      "text/plain": [
       "      메뉴    가격  칼로리    원산지  이벤트가\n",
       "5   딴짓커피  2000   20  코스타리카   NaN\n",
       "4  에스프레소  3000   20   대한민국   NaN"
      ]
     },
     "execution_count": 73,
     "metadata": {},
     "output_type": "execute_result"
    }
   ],
   "source": [
    "df.nsmallest(2,'가격')"
   ]
  },
  {
   "cell_type": "code",
   "execution_count": 75,
   "id": "df94cab7-6050-45d9-b9f8-7a550a3e93be",
   "metadata": {},
   "outputs": [
    {
     "data": {
      "text/html": [
       "<div>\n",
       "<style scoped>\n",
       "    .dataframe tbody tr th:only-of-type {\n",
       "        vertical-align: middle;\n",
       "    }\n",
       "\n",
       "    .dataframe tbody tr th {\n",
       "        vertical-align: top;\n",
       "    }\n",
       "\n",
       "    .dataframe thead th {\n",
       "        text-align: right;\n",
       "    }\n",
       "</style>\n",
       "<table border=\"1\" class=\"dataframe\">\n",
       "  <thead>\n",
       "    <tr style=\"text-align: right;\">\n",
       "      <th></th>\n",
       "      <th>메뉴</th>\n",
       "      <th>가격</th>\n",
       "      <th>칼로리</th>\n",
       "      <th>원산지</th>\n",
       "      <th>이벤트가</th>\n",
       "      <th>먹어도 될까요</th>\n",
       "    </tr>\n",
       "  </thead>\n",
       "  <tbody>\n",
       "    <tr>\n",
       "      <th>0</th>\n",
       "      <td>밀크티</td>\n",
       "      <td>5500</td>\n",
       "      <td>300</td>\n",
       "      <td>코스타리카</td>\n",
       "      <td>NaN</td>\n",
       "      <td>No</td>\n",
       "    </tr>\n",
       "    <tr>\n",
       "      <th>1</th>\n",
       "      <td>카페라떼</td>\n",
       "      <td>5000</td>\n",
       "      <td>110</td>\n",
       "      <td>과테말라</td>\n",
       "      <td>1000.0</td>\n",
       "      <td>No</td>\n",
       "    </tr>\n",
       "    <tr>\n",
       "      <th>2</th>\n",
       "      <td>카페모카</td>\n",
       "      <td>5000</td>\n",
       "      <td>250</td>\n",
       "      <td>과테말라</td>\n",
       "      <td>1000.0</td>\n",
       "      <td>No</td>\n",
       "    </tr>\n",
       "    <tr>\n",
       "      <th>3</th>\n",
       "      <td>아메리카노</td>\n",
       "      <td>4000</td>\n",
       "      <td>20</td>\n",
       "      <td>콜롬비아</td>\n",
       "      <td>NaN</td>\n",
       "      <td>Yes</td>\n",
       "    </tr>\n",
       "    <tr>\n",
       "      <th>4</th>\n",
       "      <td>에스프레소</td>\n",
       "      <td>3000</td>\n",
       "      <td>20</td>\n",
       "      <td>대한민국</td>\n",
       "      <td>NaN</td>\n",
       "      <td>Yes</td>\n",
       "    </tr>\n",
       "    <tr>\n",
       "      <th>5</th>\n",
       "      <td>딴짓커피</td>\n",
       "      <td>2000</td>\n",
       "      <td>20</td>\n",
       "      <td>코스타리카</td>\n",
       "      <td>NaN</td>\n",
       "      <td>Yes</td>\n",
       "    </tr>\n",
       "  </tbody>\n",
       "</table>\n",
       "</div>"
      ],
      "text/plain": [
       "      메뉴    가격  칼로리    원산지    이벤트가 먹어도 될까요\n",
       "0    밀크티  5500  300  코스타리카     NaN      No\n",
       "1   카페라떼  5000  110   과테말라  1000.0      No\n",
       "2   카페모카  5000  250   과테말라  1000.0      No\n",
       "3  아메리카노  4000   20   콜롬비아     NaN     Yes\n",
       "4  에스프레소  3000   20   대한민국     NaN     Yes\n",
       "5   딴짓커피  2000   20  코스타리카     NaN     Yes"
      ]
     },
     "execution_count": 75,
     "metadata": {},
     "output_type": "execute_result"
    }
   ],
   "source": [
    "def cal(x):\n",
    "    if x>=100:\n",
    "        return \"No\"\n",
    "    else:\n",
    "        return \"Yes\"\n",
    "\n",
    "df['먹어도 될까요']=df['칼로리'].apply(cal)\n",
    "df"
   ]
  },
  {
   "cell_type": "code",
   "execution_count": 77,
   "id": "3a1c8c79-0ad2-49c3-b2f8-503eada94ccc",
   "metadata": {},
   "outputs": [
    {
     "data": {
      "text/html": [
       "<div>\n",
       "<style scoped>\n",
       "    .dataframe tbody tr th:only-of-type {\n",
       "        vertical-align: middle;\n",
       "    }\n",
       "\n",
       "    .dataframe tbody tr th {\n",
       "        vertical-align: top;\n",
       "    }\n",
       "\n",
       "    .dataframe thead th {\n",
       "        text-align: right;\n",
       "    }\n",
       "</style>\n",
       "<table border=\"1\" class=\"dataframe\">\n",
       "  <thead>\n",
       "    <tr style=\"text-align: right;\">\n",
       "      <th></th>\n",
       "      <th>Name</th>\n",
       "      <th>수학</th>\n",
       "      <th>영어</th>\n",
       "      <th>국어</th>\n",
       "    </tr>\n",
       "  </thead>\n",
       "  <tbody>\n",
       "    <tr>\n",
       "      <th>0</th>\n",
       "      <td>쿼카</td>\n",
       "      <td>90</td>\n",
       "      <td>92</td>\n",
       "      <td>91</td>\n",
       "    </tr>\n",
       "    <tr>\n",
       "      <th>1</th>\n",
       "      <td>알파카</td>\n",
       "      <td>93</td>\n",
       "      <td>93</td>\n",
       "      <td>94</td>\n",
       "    </tr>\n",
       "    <tr>\n",
       "      <th>2</th>\n",
       "      <td>시바견</td>\n",
       "      <td>85</td>\n",
       "      <td>86</td>\n",
       "      <td>83</td>\n",
       "    </tr>\n",
       "  </tbody>\n",
       "</table>\n",
       "</div>"
      ],
      "text/plain": [
       "  Name  수학  영어  국어\n",
       "0   쿼카  90  92  91\n",
       "1  알파카  93  93  94\n",
       "2  시바견  85  86  83"
      ]
     },
     "execution_count": 77,
     "metadata": {},
     "output_type": "execute_result"
    }
   ],
   "source": [
    "import pandas as pd\n",
    "df=pd.DataFrame({\n",
    "    'Name':{0: '쿼카', 1: '알파카', 2: '시바견'},\n",
    "    '수학': {0: 90, 1: 93, 2: 85},\n",
    "    '영어': {0: 92, 1: 93, 2: 86},\n",
    "    '국어': {0: 91, 1: 94, 2: 83},\n",
    "})\n",
    "df"
   ]
  },
  {
   "cell_type": "code",
   "execution_count": 79,
   "id": "020419f0-2be0-4364-9b97-ab46dc4ecdfb",
   "metadata": {},
   "outputs": [
    {
     "data": {
      "text/html": [
       "<div>\n",
       "<style scoped>\n",
       "    .dataframe tbody tr th:only-of-type {\n",
       "        vertical-align: middle;\n",
       "    }\n",
       "\n",
       "    .dataframe tbody tr th {\n",
       "        vertical-align: top;\n",
       "    }\n",
       "\n",
       "    .dataframe thead th {\n",
       "        text-align: right;\n",
       "    }\n",
       "</style>\n",
       "<table border=\"1\" class=\"dataframe\">\n",
       "  <thead>\n",
       "    <tr style=\"text-align: right;\">\n",
       "      <th></th>\n",
       "      <th>Name</th>\n",
       "      <th>variable</th>\n",
       "      <th>value</th>\n",
       "    </tr>\n",
       "  </thead>\n",
       "  <tbody>\n",
       "    <tr>\n",
       "      <th>0</th>\n",
       "      <td>쿼카</td>\n",
       "      <td>수학</td>\n",
       "      <td>90</td>\n",
       "    </tr>\n",
       "    <tr>\n",
       "      <th>1</th>\n",
       "      <td>알파카</td>\n",
       "      <td>수학</td>\n",
       "      <td>93</td>\n",
       "    </tr>\n",
       "    <tr>\n",
       "      <th>2</th>\n",
       "      <td>시바견</td>\n",
       "      <td>수학</td>\n",
       "      <td>85</td>\n",
       "    </tr>\n",
       "    <tr>\n",
       "      <th>3</th>\n",
       "      <td>쿼카</td>\n",
       "      <td>영어</td>\n",
       "      <td>92</td>\n",
       "    </tr>\n",
       "    <tr>\n",
       "      <th>4</th>\n",
       "      <td>알파카</td>\n",
       "      <td>영어</td>\n",
       "      <td>93</td>\n",
       "    </tr>\n",
       "    <tr>\n",
       "      <th>5</th>\n",
       "      <td>시바견</td>\n",
       "      <td>영어</td>\n",
       "      <td>86</td>\n",
       "    </tr>\n",
       "    <tr>\n",
       "      <th>6</th>\n",
       "      <td>쿼카</td>\n",
       "      <td>국어</td>\n",
       "      <td>91</td>\n",
       "    </tr>\n",
       "    <tr>\n",
       "      <th>7</th>\n",
       "      <td>알파카</td>\n",
       "      <td>국어</td>\n",
       "      <td>94</td>\n",
       "    </tr>\n",
       "    <tr>\n",
       "      <th>8</th>\n",
       "      <td>시바견</td>\n",
       "      <td>국어</td>\n",
       "      <td>83</td>\n",
       "    </tr>\n",
       "  </tbody>\n",
       "</table>\n",
       "</div>"
      ],
      "text/plain": [
       "  Name variable  value\n",
       "0   쿼카       수학     90\n",
       "1  알파카       수학     93\n",
       "2  시바견       수학     85\n",
       "3   쿼카       영어     92\n",
       "4  알파카       영어     93\n",
       "5  시바견       영어     86\n",
       "6   쿼카       국어     91\n",
       "7  알파카       국어     94\n",
       "8  시바견       국어     83"
      ]
     },
     "execution_count": 79,
     "metadata": {},
     "output_type": "execute_result"
    }
   ],
   "source": [
    "pd.melt(df, id_vars=['Name'])"
   ]
  },
  {
   "cell_type": "code",
   "execution_count": 81,
   "id": "556e98c7-e780-4970-997c-6eff9b19b270",
   "metadata": {},
   "outputs": [
    {
     "data": {
      "text/html": [
       "<div>\n",
       "<style scoped>\n",
       "    .dataframe tbody tr th:only-of-type {\n",
       "        vertical-align: middle;\n",
       "    }\n",
       "\n",
       "    .dataframe tbody tr th {\n",
       "        vertical-align: top;\n",
       "    }\n",
       "\n",
       "    .dataframe thead th {\n",
       "        text-align: right;\n",
       "    }\n",
       "</style>\n",
       "<table border=\"1\" class=\"dataframe\">\n",
       "  <thead>\n",
       "    <tr style=\"text-align: right;\">\n",
       "      <th></th>\n",
       "      <th>Name</th>\n",
       "      <th>variable</th>\n",
       "      <th>value</th>\n",
       "    </tr>\n",
       "  </thead>\n",
       "  <tbody>\n",
       "    <tr>\n",
       "      <th>0</th>\n",
       "      <td>쿼카</td>\n",
       "      <td>수학</td>\n",
       "      <td>90</td>\n",
       "    </tr>\n",
       "    <tr>\n",
       "      <th>1</th>\n",
       "      <td>알파카</td>\n",
       "      <td>수학</td>\n",
       "      <td>93</td>\n",
       "    </tr>\n",
       "    <tr>\n",
       "      <th>2</th>\n",
       "      <td>시바견</td>\n",
       "      <td>수학</td>\n",
       "      <td>85</td>\n",
       "    </tr>\n",
       "    <tr>\n",
       "      <th>3</th>\n",
       "      <td>쿼카</td>\n",
       "      <td>영어</td>\n",
       "      <td>92</td>\n",
       "    </tr>\n",
       "    <tr>\n",
       "      <th>4</th>\n",
       "      <td>알파카</td>\n",
       "      <td>영어</td>\n",
       "      <td>93</td>\n",
       "    </tr>\n",
       "    <tr>\n",
       "      <th>5</th>\n",
       "      <td>시바견</td>\n",
       "      <td>영어</td>\n",
       "      <td>86</td>\n",
       "    </tr>\n",
       "  </tbody>\n",
       "</table>\n",
       "</div>"
      ],
      "text/plain": [
       "  Name variable  value\n",
       "0   쿼카       수학     90\n",
       "1  알파카       수학     93\n",
       "2  시바견       수학     85\n",
       "3   쿼카       영어     92\n",
       "4  알파카       영어     93\n",
       "5  시바견       영어     86"
      ]
     },
     "execution_count": 81,
     "metadata": {},
     "output_type": "execute_result"
    }
   ],
   "source": [
    "pd.melt(df, id_vars=['Name'], value_vars=['수학','영어'])"
   ]
  },
  {
   "cell_type": "code",
   "execution_count": 83,
   "id": "44036b5a-c7c2-46fd-b11f-76ea20ba801c",
   "metadata": {},
   "outputs": [
    {
     "data": {
      "text/html": [
       "<div>\n",
       "<style scoped>\n",
       "    .dataframe tbody tr th:only-of-type {\n",
       "        vertical-align: middle;\n",
       "    }\n",
       "\n",
       "    .dataframe tbody tr th {\n",
       "        vertical-align: top;\n",
       "    }\n",
       "\n",
       "    .dataframe thead th {\n",
       "        text-align: right;\n",
       "    }\n",
       "</style>\n",
       "<table border=\"1\" class=\"dataframe\">\n",
       "  <thead>\n",
       "    <tr style=\"text-align: right;\">\n",
       "      <th></th>\n",
       "      <th>Name</th>\n",
       "      <th>과목</th>\n",
       "      <th>점수</th>\n",
       "    </tr>\n",
       "  </thead>\n",
       "  <tbody>\n",
       "    <tr>\n",
       "      <th>0</th>\n",
       "      <td>쿼카</td>\n",
       "      <td>수학</td>\n",
       "      <td>90</td>\n",
       "    </tr>\n",
       "    <tr>\n",
       "      <th>1</th>\n",
       "      <td>알파카</td>\n",
       "      <td>수학</td>\n",
       "      <td>93</td>\n",
       "    </tr>\n",
       "    <tr>\n",
       "      <th>2</th>\n",
       "      <td>시바견</td>\n",
       "      <td>수학</td>\n",
       "      <td>85</td>\n",
       "    </tr>\n",
       "    <tr>\n",
       "      <th>3</th>\n",
       "      <td>쿼카</td>\n",
       "      <td>영어</td>\n",
       "      <td>92</td>\n",
       "    </tr>\n",
       "    <tr>\n",
       "      <th>4</th>\n",
       "      <td>알파카</td>\n",
       "      <td>영어</td>\n",
       "      <td>93</td>\n",
       "    </tr>\n",
       "    <tr>\n",
       "      <th>5</th>\n",
       "      <td>시바견</td>\n",
       "      <td>영어</td>\n",
       "      <td>86</td>\n",
       "    </tr>\n",
       "    <tr>\n",
       "      <th>6</th>\n",
       "      <td>쿼카</td>\n",
       "      <td>국어</td>\n",
       "      <td>91</td>\n",
       "    </tr>\n",
       "    <tr>\n",
       "      <th>7</th>\n",
       "      <td>알파카</td>\n",
       "      <td>국어</td>\n",
       "      <td>94</td>\n",
       "    </tr>\n",
       "    <tr>\n",
       "      <th>8</th>\n",
       "      <td>시바견</td>\n",
       "      <td>국어</td>\n",
       "      <td>83</td>\n",
       "    </tr>\n",
       "  </tbody>\n",
       "</table>\n",
       "</div>"
      ],
      "text/plain": [
       "  Name  과목  점수\n",
       "0   쿼카  수학  90\n",
       "1  알파카  수학  93\n",
       "2  시바견  수학  85\n",
       "3   쿼카  영어  92\n",
       "4  알파카  영어  93\n",
       "5  시바견  영어  86\n",
       "6   쿼카  국어  91\n",
       "7  알파카  국어  94\n",
       "8  시바견  국어  83"
      ]
     },
     "execution_count": 83,
     "metadata": {},
     "output_type": "execute_result"
    }
   ],
   "source": [
    "pd.melt(df, id_vars=['Name'], var_name='과목', value_name='점수')"
   ]
  },
  {
   "cell_type": "code",
   "execution_count": 85,
   "id": "318d1968-e17c-4ec6-9aa3-52769b03bf2e",
   "metadata": {},
   "outputs": [
    {
     "data": {
      "text/html": [
       "<div>\n",
       "<style scoped>\n",
       "    .dataframe tbody tr th:only-of-type {\n",
       "        vertical-align: middle;\n",
       "    }\n",
       "\n",
       "    .dataframe tbody tr th {\n",
       "        vertical-align: top;\n",
       "    }\n",
       "\n",
       "    .dataframe thead th {\n",
       "        text-align: right;\n",
       "    }\n",
       "</style>\n",
       "<table border=\"1\" class=\"dataframe\">\n",
       "  <thead>\n",
       "    <tr style=\"text-align: right;\">\n",
       "      <th></th>\n",
       "      <th>반</th>\n",
       "      <th>이름</th>\n",
       "      <th>수학</th>\n",
       "      <th>영어</th>\n",
       "      <th>국어</th>\n",
       "    </tr>\n",
       "  </thead>\n",
       "  <tbody>\n",
       "    <tr>\n",
       "      <th>0</th>\n",
       "      <td>A반</td>\n",
       "      <td>쿼카</td>\n",
       "      <td>90</td>\n",
       "      <td>92</td>\n",
       "      <td>91</td>\n",
       "    </tr>\n",
       "    <tr>\n",
       "      <th>1</th>\n",
       "      <td>A반</td>\n",
       "      <td>알파카</td>\n",
       "      <td>93</td>\n",
       "      <td>84</td>\n",
       "      <td>94</td>\n",
       "    </tr>\n",
       "    <tr>\n",
       "      <th>2</th>\n",
       "      <td>B반</td>\n",
       "      <td>시바견</td>\n",
       "      <td>85</td>\n",
       "      <td>86</td>\n",
       "      <td>83</td>\n",
       "    </tr>\n",
       "  </tbody>\n",
       "</table>\n",
       "</div>"
      ],
      "text/plain": [
       "    반   이름  수학  영어  국어\n",
       "0  A반   쿼카  90  92  91\n",
       "1  A반  알파카  93  84  94\n",
       "2  B반  시바견  85  86  83"
      ]
     },
     "execution_count": 85,
     "metadata": {},
     "output_type": "execute_result"
    }
   ],
   "source": [
    "import pandas as pd\n",
    "\n",
    "df=pd.DataFrame({\n",
    "    \"반\": [\"A반\",\"A반\",\"B반\"],\n",
    "    \"이름\": [\"쿼카\",\"알파카\",\"시바견\"],\n",
    "    \"수학\": [90,93,85],\n",
    "    \"영어\": [92,84,86],\n",
    "    \"국어\": [91,94,83]\n",
    "})\n",
    "df"
   ]
  },
  {
   "cell_type": "code",
   "execution_count": 89,
   "id": "06ccb973-7485-4f0f-bdac-e5b2df9eb82b",
   "metadata": {},
   "outputs": [
    {
     "data": {
      "text/html": [
       "<div>\n",
       "<style scoped>\n",
       "    .dataframe tbody tr th:only-of-type {\n",
       "        vertical-align: middle;\n",
       "    }\n",
       "\n",
       "    .dataframe tbody tr th {\n",
       "        vertical-align: top;\n",
       "    }\n",
       "\n",
       "    .dataframe thead th {\n",
       "        text-align: right;\n",
       "    }\n",
       "</style>\n",
       "<table border=\"1\" class=\"dataframe\">\n",
       "  <thead>\n",
       "    <tr style=\"text-align: right;\">\n",
       "      <th></th>\n",
       "      <th>반</th>\n",
       "      <th>이름</th>\n",
       "      <th>과목</th>\n",
       "      <th>점수</th>\n",
       "    </tr>\n",
       "  </thead>\n",
       "  <tbody>\n",
       "    <tr>\n",
       "      <th>0</th>\n",
       "      <td>A반</td>\n",
       "      <td>쿼카</td>\n",
       "      <td>수학</td>\n",
       "      <td>90</td>\n",
       "    </tr>\n",
       "    <tr>\n",
       "      <th>1</th>\n",
       "      <td>A반</td>\n",
       "      <td>알파카</td>\n",
       "      <td>수학</td>\n",
       "      <td>93</td>\n",
       "    </tr>\n",
       "    <tr>\n",
       "      <th>2</th>\n",
       "      <td>B반</td>\n",
       "      <td>시바견</td>\n",
       "      <td>수학</td>\n",
       "      <td>85</td>\n",
       "    </tr>\n",
       "    <tr>\n",
       "      <th>3</th>\n",
       "      <td>A반</td>\n",
       "      <td>쿼카</td>\n",
       "      <td>영어</td>\n",
       "      <td>92</td>\n",
       "    </tr>\n",
       "    <tr>\n",
       "      <th>4</th>\n",
       "      <td>A반</td>\n",
       "      <td>알파카</td>\n",
       "      <td>영어</td>\n",
       "      <td>84</td>\n",
       "    </tr>\n",
       "    <tr>\n",
       "      <th>5</th>\n",
       "      <td>B반</td>\n",
       "      <td>시바견</td>\n",
       "      <td>영어</td>\n",
       "      <td>86</td>\n",
       "    </tr>\n",
       "    <tr>\n",
       "      <th>6</th>\n",
       "      <td>A반</td>\n",
       "      <td>쿼카</td>\n",
       "      <td>국어</td>\n",
       "      <td>91</td>\n",
       "    </tr>\n",
       "    <tr>\n",
       "      <th>7</th>\n",
       "      <td>A반</td>\n",
       "      <td>알파카</td>\n",
       "      <td>국어</td>\n",
       "      <td>94</td>\n",
       "    </tr>\n",
       "    <tr>\n",
       "      <th>8</th>\n",
       "      <td>B반</td>\n",
       "      <td>시바견</td>\n",
       "      <td>국어</td>\n",
       "      <td>83</td>\n",
       "    </tr>\n",
       "  </tbody>\n",
       "</table>\n",
       "</div>"
      ],
      "text/plain": [
       "    반   이름  과목  점수\n",
       "0  A반   쿼카  수학  90\n",
       "1  A반  알파카  수학  93\n",
       "2  B반  시바견  수학  85\n",
       "3  A반   쿼카  영어  92\n",
       "4  A반  알파카  영어  84\n",
       "5  B반  시바견  영어  86\n",
       "6  A반   쿼카  국어  91\n",
       "7  A반  알파카  국어  94\n",
       "8  B반  시바견  국어  83"
      ]
     },
     "execution_count": 89,
     "metadata": {},
     "output_type": "execute_result"
    }
   ],
   "source": [
    "pd.melt(df, id_vars=[\"반\",\"이름\"],var_name=\"과목\", value_name=\"점수\")"
   ]
  },
  {
   "cell_type": "code",
   "execution_count": 91,
   "id": "3df5ab59-bf5e-4e18-ae89-0ef9154be5d4",
   "metadata": {},
   "outputs": [
    {
     "data": {
      "text/html": [
       "<div>\n",
       "<style scoped>\n",
       "    .dataframe tbody tr th:only-of-type {\n",
       "        vertical-align: middle;\n",
       "    }\n",
       "\n",
       "    .dataframe tbody tr th {\n",
       "        vertical-align: top;\n",
       "    }\n",
       "\n",
       "    .dataframe thead th {\n",
       "        text-align: right;\n",
       "    }\n",
       "</style>\n",
       "<table border=\"1\" class=\"dataframe\">\n",
       "  <thead>\n",
       "    <tr style=\"text-align: right;\">\n",
       "      <th></th>\n",
       "      <th>메뉴</th>\n",
       "      <th>가격</th>\n",
       "      <th>칼로리</th>\n",
       "      <th>원산지</th>\n",
       "      <th>이벤트가</th>\n",
       "    </tr>\n",
       "  </thead>\n",
       "  <tbody>\n",
       "    <tr>\n",
       "      <th>0</th>\n",
       "      <td>밀크티</td>\n",
       "      <td>5500</td>\n",
       "      <td>300</td>\n",
       "      <td>코스타리카</td>\n",
       "      <td>NaN</td>\n",
       "    </tr>\n",
       "    <tr>\n",
       "      <th>1</th>\n",
       "      <td>카페라떼</td>\n",
       "      <td>5000</td>\n",
       "      <td>110</td>\n",
       "      <td>과테말라</td>\n",
       "      <td>1000.0</td>\n",
       "    </tr>\n",
       "  </tbody>\n",
       "</table>\n",
       "</div>"
      ],
      "text/plain": [
       "     메뉴    가격  칼로리    원산지    이벤트가\n",
       "0   밀크티  5500  300  코스타리카     NaN\n",
       "1  카페라떼  5000  110   과테말라  1000.0"
      ]
     },
     "execution_count": 91,
     "metadata": {},
     "output_type": "execute_result"
    }
   ],
   "source": [
    "#그룹핑\n",
    "df=pd.read_csv(\"cafe4.csv\")\n",
    "df.head(2)"
   ]
  },
  {
   "cell_type": "code",
   "execution_count": 93,
   "id": "5607aa20-be6a-455b-aeac-8c095e1d56f4",
   "metadata": {},
   "outputs": [
    {
     "data": {
      "text/html": [
       "<div>\n",
       "<style scoped>\n",
       "    .dataframe tbody tr th:only-of-type {\n",
       "        vertical-align: middle;\n",
       "    }\n",
       "\n",
       "    .dataframe tbody tr th {\n",
       "        vertical-align: top;\n",
       "    }\n",
       "\n",
       "    .dataframe thead th {\n",
       "        text-align: right;\n",
       "    }\n",
       "</style>\n",
       "<table border=\"1\" class=\"dataframe\">\n",
       "  <thead>\n",
       "    <tr style=\"text-align: right;\">\n",
       "      <th></th>\n",
       "      <th>가격</th>\n",
       "      <th>칼로리</th>\n",
       "      <th>이벤트가</th>\n",
       "    </tr>\n",
       "    <tr>\n",
       "      <th>원산지</th>\n",
       "      <th></th>\n",
       "      <th></th>\n",
       "      <th></th>\n",
       "    </tr>\n",
       "  </thead>\n",
       "  <tbody>\n",
       "    <tr>\n",
       "      <th>과테말라</th>\n",
       "      <td>5000.0</td>\n",
       "      <td>180.0</td>\n",
       "      <td>1000.0</td>\n",
       "    </tr>\n",
       "    <tr>\n",
       "      <th>대한민국</th>\n",
       "      <td>3000.0</td>\n",
       "      <td>20.0</td>\n",
       "      <td>NaN</td>\n",
       "    </tr>\n",
       "    <tr>\n",
       "      <th>코스타리카</th>\n",
       "      <td>3750.0</td>\n",
       "      <td>160.0</td>\n",
       "      <td>NaN</td>\n",
       "    </tr>\n",
       "    <tr>\n",
       "      <th>콜롬비아</th>\n",
       "      <td>4000.0</td>\n",
       "      <td>20.0</td>\n",
       "      <td>NaN</td>\n",
       "    </tr>\n",
       "  </tbody>\n",
       "</table>\n",
       "</div>"
      ],
      "text/plain": [
       "           가격    칼로리    이벤트가\n",
       "원산지                         \n",
       "과테말라   5000.0  180.0  1000.0\n",
       "대한민국   3000.0   20.0     NaN\n",
       "코스타리카  3750.0  160.0     NaN\n",
       "콜롬비아   4000.0   20.0     NaN"
      ]
     },
     "execution_count": 93,
     "metadata": {},
     "output_type": "execute_result"
    }
   ],
   "source": [
    "#원산지 기준, 평균\n",
    "df.groupby(['원산지']).mean(numeric_only=True)"
   ]
  },
  {
   "cell_type": "code",
   "execution_count": 95,
   "id": "6b19cbd1-0980-43d5-a694-28eb5ee1c777",
   "metadata": {},
   "outputs": [
    {
     "data": {
      "text/html": [
       "<div>\n",
       "<style scoped>\n",
       "    .dataframe tbody tr th:only-of-type {\n",
       "        vertical-align: middle;\n",
       "    }\n",
       "\n",
       "    .dataframe tbody tr th {\n",
       "        vertical-align: top;\n",
       "    }\n",
       "\n",
       "    .dataframe thead th {\n",
       "        text-align: right;\n",
       "    }\n",
       "</style>\n",
       "<table border=\"1\" class=\"dataframe\">\n",
       "  <thead>\n",
       "    <tr style=\"text-align: right;\">\n",
       "      <th></th>\n",
       "      <th></th>\n",
       "      <th>가격</th>\n",
       "      <th>이벤트가</th>\n",
       "    </tr>\n",
       "    <tr>\n",
       "      <th>원산지</th>\n",
       "      <th>칼로리</th>\n",
       "      <th></th>\n",
       "      <th></th>\n",
       "    </tr>\n",
       "  </thead>\n",
       "  <tbody>\n",
       "    <tr>\n",
       "      <th rowspan=\"2\" valign=\"top\">과테말라</th>\n",
       "      <th>110</th>\n",
       "      <td>5000.0</td>\n",
       "      <td>1000.0</td>\n",
       "    </tr>\n",
       "    <tr>\n",
       "      <th>250</th>\n",
       "      <td>5000.0</td>\n",
       "      <td>1000.0</td>\n",
       "    </tr>\n",
       "    <tr>\n",
       "      <th>대한민국</th>\n",
       "      <th>20</th>\n",
       "      <td>3000.0</td>\n",
       "      <td>NaN</td>\n",
       "    </tr>\n",
       "    <tr>\n",
       "      <th rowspan=\"2\" valign=\"top\">코스타리카</th>\n",
       "      <th>20</th>\n",
       "      <td>2000.0</td>\n",
       "      <td>NaN</td>\n",
       "    </tr>\n",
       "    <tr>\n",
       "      <th>300</th>\n",
       "      <td>5500.0</td>\n",
       "      <td>NaN</td>\n",
       "    </tr>\n",
       "    <tr>\n",
       "      <th>콜롬비아</th>\n",
       "      <th>20</th>\n",
       "      <td>4000.0</td>\n",
       "      <td>NaN</td>\n",
       "    </tr>\n",
       "  </tbody>\n",
       "</table>\n",
       "</div>"
      ],
      "text/plain": [
       "               가격    이벤트가\n",
       "원산지   칼로리                \n",
       "과테말라  110  5000.0  1000.0\n",
       "      250  5000.0  1000.0\n",
       "대한민국  20   3000.0     NaN\n",
       "코스타리카 20   2000.0     NaN\n",
       "      300  5500.0     NaN\n",
       "콜롬비아  20   4000.0     NaN"
      ]
     },
     "execution_count": 95,
     "metadata": {},
     "output_type": "execute_result"
    }
   ],
   "source": [
    "df.groupby(['원산지','칼로리']).mean(numeric_only=True)"
   ]
  },
  {
   "cell_type": "code",
   "execution_count": 97,
   "id": "011fbc28-d0ce-4d6d-ad1c-50613c6a727e",
   "metadata": {},
   "outputs": [
    {
     "data": {
      "text/html": [
       "<div>\n",
       "<style scoped>\n",
       "    .dataframe tbody tr th:only-of-type {\n",
       "        vertical-align: middle;\n",
       "    }\n",
       "\n",
       "    .dataframe tbody tr th {\n",
       "        vertical-align: top;\n",
       "    }\n",
       "\n",
       "    .dataframe thead tr th {\n",
       "        text-align: left;\n",
       "    }\n",
       "\n",
       "    .dataframe thead tr:last-of-type th {\n",
       "        text-align: right;\n",
       "    }\n",
       "</style>\n",
       "<table border=\"1\" class=\"dataframe\">\n",
       "  <thead>\n",
       "    <tr>\n",
       "      <th></th>\n",
       "      <th></th>\n",
       "      <th colspan=\"2\" halign=\"left\">가격</th>\n",
       "      <th colspan=\"2\" halign=\"left\">칼로리</th>\n",
       "      <th colspan=\"2\" halign=\"left\">이벤트가</th>\n",
       "    </tr>\n",
       "    <tr>\n",
       "      <th></th>\n",
       "      <th></th>\n",
       "      <th>mean</th>\n",
       "      <th>sum</th>\n",
       "      <th>mean</th>\n",
       "      <th>sum</th>\n",
       "      <th>mean</th>\n",
       "      <th>sum</th>\n",
       "    </tr>\n",
       "    <tr>\n",
       "      <th>원산지</th>\n",
       "      <th>메뉴</th>\n",
       "      <th></th>\n",
       "      <th></th>\n",
       "      <th></th>\n",
       "      <th></th>\n",
       "      <th></th>\n",
       "      <th></th>\n",
       "    </tr>\n",
       "  </thead>\n",
       "  <tbody>\n",
       "    <tr>\n",
       "      <th rowspan=\"2\" valign=\"top\">과테말라</th>\n",
       "      <th>카페라떼</th>\n",
       "      <td>5000.0</td>\n",
       "      <td>5000</td>\n",
       "      <td>110.0</td>\n",
       "      <td>110</td>\n",
       "      <td>1000.0</td>\n",
       "      <td>1000.0</td>\n",
       "    </tr>\n",
       "    <tr>\n",
       "      <th>카페모카</th>\n",
       "      <td>5000.0</td>\n",
       "      <td>5000</td>\n",
       "      <td>250.0</td>\n",
       "      <td>250</td>\n",
       "      <td>1000.0</td>\n",
       "      <td>1000.0</td>\n",
       "    </tr>\n",
       "    <tr>\n",
       "      <th>대한민국</th>\n",
       "      <th>에스프레소</th>\n",
       "      <td>3000.0</td>\n",
       "      <td>3000</td>\n",
       "      <td>20.0</td>\n",
       "      <td>20</td>\n",
       "      <td>NaN</td>\n",
       "      <td>0.0</td>\n",
       "    </tr>\n",
       "    <tr>\n",
       "      <th rowspan=\"2\" valign=\"top\">코스타리카</th>\n",
       "      <th>딴짓커피</th>\n",
       "      <td>2000.0</td>\n",
       "      <td>2000</td>\n",
       "      <td>20.0</td>\n",
       "      <td>20</td>\n",
       "      <td>NaN</td>\n",
       "      <td>0.0</td>\n",
       "    </tr>\n",
       "    <tr>\n",
       "      <th>밀크티</th>\n",
       "      <td>5500.0</td>\n",
       "      <td>5500</td>\n",
       "      <td>300.0</td>\n",
       "      <td>300</td>\n",
       "      <td>NaN</td>\n",
       "      <td>0.0</td>\n",
       "    </tr>\n",
       "    <tr>\n",
       "      <th>콜롬비아</th>\n",
       "      <th>아메리카노</th>\n",
       "      <td>4000.0</td>\n",
       "      <td>4000</td>\n",
       "      <td>20.0</td>\n",
       "      <td>20</td>\n",
       "      <td>NaN</td>\n",
       "      <td>0.0</td>\n",
       "    </tr>\n",
       "  </tbody>\n",
       "</table>\n",
       "</div>"
      ],
      "text/plain": [
       "                 가격          칼로리         이벤트가        \n",
       "               mean   sum   mean  sum    mean     sum\n",
       "원산지   메뉴                                             \n",
       "과테말라  카페라떼   5000.0  5000  110.0  110  1000.0  1000.0\n",
       "      카페모카   5000.0  5000  250.0  250  1000.0  1000.0\n",
       "대한민국  에스프레소  3000.0  3000   20.0   20     NaN     0.0\n",
       "코스타리카 딴짓커피   2000.0  2000   20.0   20     NaN     0.0\n",
       "      밀크티    5500.0  5500  300.0  300     NaN     0.0\n",
       "콜롬비아  아메리카노  4000.0  4000   20.0   20     NaN     0.0"
      ]
     },
     "execution_count": 97,
     "metadata": {},
     "output_type": "execute_result"
    }
   ],
   "source": [
    "#원산지와 메뉴 기준(평균, 합계)\n",
    "df.groupby(['원산지','메뉴']).agg(['mean','sum'])"
   ]
  },
  {
   "cell_type": "code",
   "execution_count": 99,
   "id": "72df5b2c-ffa7-4267-97d5-31d743f71d02",
   "metadata": {},
   "outputs": [
    {
     "data": {
      "text/html": [
       "<div>\n",
       "<style scoped>\n",
       "    .dataframe tbody tr th:only-of-type {\n",
       "        vertical-align: middle;\n",
       "    }\n",
       "\n",
       "    .dataframe tbody tr th {\n",
       "        vertical-align: top;\n",
       "    }\n",
       "\n",
       "    .dataframe thead th {\n",
       "        text-align: right;\n",
       "    }\n",
       "</style>\n",
       "<table border=\"1\" class=\"dataframe\">\n",
       "  <thead>\n",
       "    <tr style=\"text-align: right;\">\n",
       "      <th></th>\n",
       "      <th>원산지</th>\n",
       "      <th>칼로리</th>\n",
       "      <th>가격</th>\n",
       "      <th>이벤트가</th>\n",
       "    </tr>\n",
       "  </thead>\n",
       "  <tbody>\n",
       "    <tr>\n",
       "      <th>0</th>\n",
       "      <td>과테말라</td>\n",
       "      <td>110</td>\n",
       "      <td>5000.0</td>\n",
       "      <td>1000.0</td>\n",
       "    </tr>\n",
       "    <tr>\n",
       "      <th>1</th>\n",
       "      <td>과테말라</td>\n",
       "      <td>250</td>\n",
       "      <td>5000.0</td>\n",
       "      <td>1000.0</td>\n",
       "    </tr>\n",
       "    <tr>\n",
       "      <th>2</th>\n",
       "      <td>대한민국</td>\n",
       "      <td>20</td>\n",
       "      <td>3000.0</td>\n",
       "      <td>NaN</td>\n",
       "    </tr>\n",
       "    <tr>\n",
       "      <th>3</th>\n",
       "      <td>코스타리카</td>\n",
       "      <td>20</td>\n",
       "      <td>2000.0</td>\n",
       "      <td>NaN</td>\n",
       "    </tr>\n",
       "    <tr>\n",
       "      <th>4</th>\n",
       "      <td>코스타리카</td>\n",
       "      <td>300</td>\n",
       "      <td>5500.0</td>\n",
       "      <td>NaN</td>\n",
       "    </tr>\n",
       "    <tr>\n",
       "      <th>5</th>\n",
       "      <td>콜롬비아</td>\n",
       "      <td>20</td>\n",
       "      <td>4000.0</td>\n",
       "      <td>NaN</td>\n",
       "    </tr>\n",
       "  </tbody>\n",
       "</table>\n",
       "</div>"
      ],
      "text/plain": [
       "     원산지  칼로리      가격    이벤트가\n",
       "0   과테말라  110  5000.0  1000.0\n",
       "1   과테말라  250  5000.0  1000.0\n",
       "2   대한민국   20  3000.0     NaN\n",
       "3  코스타리카   20  2000.0     NaN\n",
       "4  코스타리카  300  5500.0     NaN\n",
       "5   콜롬비아   20  4000.0     NaN"
      ]
     },
     "execution_count": 99,
     "metadata": {},
     "output_type": "execute_result"
    }
   ],
   "source": [
    "#1개 인덱스 형태로 리셋\n",
    "df.groupby(['원산지','칼로리']).mean(numeric_only=True).reset_index()"
   ]
  },
  {
   "cell_type": "code",
   "execution_count": 101,
   "id": "522d2a48-beee-42e1-ab4b-a3d0b977a8ed",
   "metadata": {},
   "outputs": [
    {
     "data": {
      "text/html": [
       "<div>\n",
       "<style scoped>\n",
       "    .dataframe tbody tr th:only-of-type {\n",
       "        vertical-align: middle;\n",
       "    }\n",
       "\n",
       "    .dataframe tbody tr th {\n",
       "        vertical-align: top;\n",
       "    }\n",
       "\n",
       "    .dataframe thead th {\n",
       "        text-align: right;\n",
       "    }\n",
       "</style>\n",
       "<table border=\"1\" class=\"dataframe\">\n",
       "  <thead>\n",
       "    <tr style=\"text-align: right;\">\n",
       "      <th></th>\n",
       "      <th>과일</th>\n",
       "      <th>가격</th>\n",
       "    </tr>\n",
       "  </thead>\n",
       "  <tbody>\n",
       "    <tr>\n",
       "      <th>0</th>\n",
       "      <td>딸기</td>\n",
       "      <td>1000.0</td>\n",
       "    </tr>\n",
       "    <tr>\n",
       "      <th>1</th>\n",
       "      <td>블루베리</td>\n",
       "      <td>NaN</td>\n",
       "    </tr>\n",
       "    <tr>\n",
       "      <th>2</th>\n",
       "      <td>딸기</td>\n",
       "      <td>1500.0</td>\n",
       "    </tr>\n",
       "    <tr>\n",
       "      <th>3</th>\n",
       "      <td>블루베리</td>\n",
       "      <td>NaN</td>\n",
       "    </tr>\n",
       "    <tr>\n",
       "      <th>4</th>\n",
       "      <td>딸기</td>\n",
       "      <td>2000.0</td>\n",
       "    </tr>\n",
       "    <tr>\n",
       "      <th>5</th>\n",
       "      <td>블루베리</td>\n",
       "      <td>2500.0</td>\n",
       "    </tr>\n",
       "    <tr>\n",
       "      <th>6</th>\n",
       "      <td>딸기</td>\n",
       "      <td>NaN</td>\n",
       "    </tr>\n",
       "    <tr>\n",
       "      <th>7</th>\n",
       "      <td>블루베리</td>\n",
       "      <td>1800.0</td>\n",
       "    </tr>\n",
       "  </tbody>\n",
       "</table>\n",
       "</div>"
      ],
      "text/plain": [
       "     과일      가격\n",
       "0    딸기  1000.0\n",
       "1  블루베리     NaN\n",
       "2    딸기  1500.0\n",
       "3  블루베리     NaN\n",
       "4    딸기  2000.0\n",
       "5  블루베리  2500.0\n",
       "6    딸기     NaN\n",
       "7  블루베리  1800.0"
      ]
     },
     "execution_count": 101,
     "metadata": {},
     "output_type": "execute_result"
    }
   ],
   "source": [
    "#transform\n",
    "import pandas as pd\n",
    "\n",
    "#데이터 생성(일부 결측값 포함)\n",
    "df=pd.DataFrame({\n",
    "    '과일':['딸기','블루베리','딸기','블루베리','딸기','블루베리','딸기','블루베리'],\n",
    "    '가격':[1000,None,1500,None,2000,2500,None,1800]\n",
    "})\n",
    "df"
   ]
  },
  {
   "cell_type": "code",
   "execution_count": 103,
   "id": "ab29f00e-8b63-4950-9092-3c828c167ae9",
   "metadata": {},
   "outputs": [
    {
     "data": {
      "text/plain": [
       "0    1500.0\n",
       "1    2150.0\n",
       "2    1500.0\n",
       "3    2150.0\n",
       "4    1500.0\n",
       "5    2150.0\n",
       "6    1500.0\n",
       "7    2150.0\n",
       "Name: 가격, dtype: float64"
      ]
     },
     "execution_count": 103,
     "metadata": {},
     "output_type": "execute_result"
    }
   ],
   "source": [
    "price=df.groupby('과일')['가격'].transform(\"mean\")\n",
    "price"
   ]
  },
  {
   "cell_type": "code",
   "execution_count": 105,
   "id": "dd88f13c-18b3-4388-a32b-2080275e9d5e",
   "metadata": {},
   "outputs": [
    {
     "data": {
      "text/html": [
       "<div>\n",
       "<style scoped>\n",
       "    .dataframe tbody tr th:only-of-type {\n",
       "        vertical-align: middle;\n",
       "    }\n",
       "\n",
       "    .dataframe tbody tr th {\n",
       "        vertical-align: top;\n",
       "    }\n",
       "\n",
       "    .dataframe thead th {\n",
       "        text-align: right;\n",
       "    }\n",
       "</style>\n",
       "<table border=\"1\" class=\"dataframe\">\n",
       "  <thead>\n",
       "    <tr style=\"text-align: right;\">\n",
       "      <th></th>\n",
       "      <th>가격</th>\n",
       "    </tr>\n",
       "    <tr>\n",
       "      <th>과일</th>\n",
       "      <th></th>\n",
       "    </tr>\n",
       "  </thead>\n",
       "  <tbody>\n",
       "    <tr>\n",
       "      <th>딸기</th>\n",
       "      <td>1500.0</td>\n",
       "    </tr>\n",
       "    <tr>\n",
       "      <th>블루베리</th>\n",
       "      <td>2150.0</td>\n",
       "    </tr>\n",
       "  </tbody>\n",
       "</table>\n",
       "</div>"
      ],
      "text/plain": [
       "          가격\n",
       "과일          \n",
       "딸기    1500.0\n",
       "블루베리  2150.0"
      ]
     },
     "execution_count": 105,
     "metadata": {},
     "output_type": "execute_result"
    }
   ],
   "source": [
    "df.groupby('과일').mean()"
   ]
  },
  {
   "cell_type": "code",
   "execution_count": 107,
   "id": "053eb9e1-2cc8-4954-8c2f-915c1ab6398b",
   "metadata": {},
   "outputs": [
    {
     "data": {
      "text/html": [
       "<div>\n",
       "<style scoped>\n",
       "    .dataframe tbody tr th:only-of-type {\n",
       "        vertical-align: middle;\n",
       "    }\n",
       "\n",
       "    .dataframe tbody tr th {\n",
       "        vertical-align: top;\n",
       "    }\n",
       "\n",
       "    .dataframe thead th {\n",
       "        text-align: right;\n",
       "    }\n",
       "</style>\n",
       "<table border=\"1\" class=\"dataframe\">\n",
       "  <thead>\n",
       "    <tr style=\"text-align: right;\">\n",
       "      <th></th>\n",
       "      <th>과일</th>\n",
       "      <th>가격</th>\n",
       "    </tr>\n",
       "  </thead>\n",
       "  <tbody>\n",
       "    <tr>\n",
       "      <th>0</th>\n",
       "      <td>딸기</td>\n",
       "      <td>1000.0</td>\n",
       "    </tr>\n",
       "    <tr>\n",
       "      <th>1</th>\n",
       "      <td>블루베리</td>\n",
       "      <td>2150.0</td>\n",
       "    </tr>\n",
       "    <tr>\n",
       "      <th>2</th>\n",
       "      <td>딸기</td>\n",
       "      <td>1500.0</td>\n",
       "    </tr>\n",
       "    <tr>\n",
       "      <th>3</th>\n",
       "      <td>블루베리</td>\n",
       "      <td>2150.0</td>\n",
       "    </tr>\n",
       "    <tr>\n",
       "      <th>4</th>\n",
       "      <td>딸기</td>\n",
       "      <td>2000.0</td>\n",
       "    </tr>\n",
       "    <tr>\n",
       "      <th>5</th>\n",
       "      <td>블루베리</td>\n",
       "      <td>2500.0</td>\n",
       "    </tr>\n",
       "    <tr>\n",
       "      <th>6</th>\n",
       "      <td>딸기</td>\n",
       "      <td>1500.0</td>\n",
       "    </tr>\n",
       "    <tr>\n",
       "      <th>7</th>\n",
       "      <td>블루베리</td>\n",
       "      <td>1800.0</td>\n",
       "    </tr>\n",
       "  </tbody>\n",
       "</table>\n",
       "</div>"
      ],
      "text/plain": [
       "     과일      가격\n",
       "0    딸기  1000.0\n",
       "1  블루베리  2150.0\n",
       "2    딸기  1500.0\n",
       "3  블루베리  2150.0\n",
       "4    딸기  2000.0\n",
       "5  블루베리  2500.0\n",
       "6    딸기  1500.0\n",
       "7  블루베리  1800.0"
      ]
     },
     "execution_count": 107,
     "metadata": {},
     "output_type": "execute_result"
    }
   ],
   "source": [
    "df['가격']=df['가격'].fillna(price)\n",
    "df"
   ]
  },
  {
   "cell_type": "code",
   "execution_count": 109,
   "id": "cc27ed16-d271-4d06-9e7b-9a318475af25",
   "metadata": {},
   "outputs": [
    {
     "data": {
      "text/html": [
       "<div>\n",
       "<style scoped>\n",
       "    .dataframe tbody tr th:only-of-type {\n",
       "        vertical-align: middle;\n",
       "    }\n",
       "\n",
       "    .dataframe tbody tr th {\n",
       "        vertical-align: top;\n",
       "    }\n",
       "\n",
       "    .dataframe thead th {\n",
       "        text-align: right;\n",
       "    }\n",
       "</style>\n",
       "<table border=\"1\" class=\"dataframe\">\n",
       "  <thead>\n",
       "    <tr style=\"text-align: right;\">\n",
       "      <th></th>\n",
       "      <th>과일</th>\n",
       "      <th>등급</th>\n",
       "      <th>가격</th>\n",
       "    </tr>\n",
       "  </thead>\n",
       "  <tbody>\n",
       "    <tr>\n",
       "      <th>0</th>\n",
       "      <td>딸기</td>\n",
       "      <td>B</td>\n",
       "      <td>1000.0</td>\n",
       "    </tr>\n",
       "    <tr>\n",
       "      <th>1</th>\n",
       "      <td>블루베리</td>\n",
       "      <td>B</td>\n",
       "      <td>NaN</td>\n",
       "    </tr>\n",
       "    <tr>\n",
       "      <th>2</th>\n",
       "      <td>딸기</td>\n",
       "      <td>A</td>\n",
       "      <td>1500.0</td>\n",
       "    </tr>\n",
       "    <tr>\n",
       "      <th>3</th>\n",
       "      <td>블루베리</td>\n",
       "      <td>A</td>\n",
       "      <td>NaN</td>\n",
       "    </tr>\n",
       "    <tr>\n",
       "      <th>4</th>\n",
       "      <td>딸기</td>\n",
       "      <td>A</td>\n",
       "      <td>2000.0</td>\n",
       "    </tr>\n",
       "    <tr>\n",
       "      <th>5</th>\n",
       "      <td>블루베리</td>\n",
       "      <td>A</td>\n",
       "      <td>2500.0</td>\n",
       "    </tr>\n",
       "    <tr>\n",
       "      <th>6</th>\n",
       "      <td>딸기</td>\n",
       "      <td>B</td>\n",
       "      <td>NaN</td>\n",
       "    </tr>\n",
       "    <tr>\n",
       "      <th>7</th>\n",
       "      <td>블루베리</td>\n",
       "      <td>B</td>\n",
       "      <td>1800.0</td>\n",
       "    </tr>\n",
       "  </tbody>\n",
       "</table>\n",
       "</div>"
      ],
      "text/plain": [
       "     과일 등급      가격\n",
       "0    딸기  B  1000.0\n",
       "1  블루베리  B     NaN\n",
       "2    딸기  A  1500.0\n",
       "3  블루베리  A     NaN\n",
       "4    딸기  A  2000.0\n",
       "5  블루베리  A  2500.0\n",
       "6    딸기  B     NaN\n",
       "7  블루베리  B  1800.0"
      ]
     },
     "execution_count": 109,
     "metadata": {},
     "output_type": "execute_result"
    }
   ],
   "source": [
    "df=pd.DataFrame({\n",
    "    '과일':['딸기','블루베리','딸기','블루베리','딸기','블루베리','딸기','블루베리'],\n",
    "    '등급':['B','B','A','A','A','A','B','B'],\n",
    "    '가격':[1000,None,1500,None,2000,2500,None,1800]\n",
    "})\n",
    "df"
   ]
  },
  {
   "cell_type": "code",
   "execution_count": 115,
   "id": "91aa67d2-e665-4d73-984b-1ca5d0c5223e",
   "metadata": {},
   "outputs": [
    {
     "data": {
      "text/plain": [
       "0    1000.0\n",
       "1    1800.0\n",
       "2    1750.0\n",
       "3    2500.0\n",
       "4    1750.0\n",
       "5    2500.0\n",
       "6    1000.0\n",
       "7    1800.0\n",
       "Name: 가격, dtype: float64"
      ]
     },
     "execution_count": 115,
     "metadata": {},
     "output_type": "execute_result"
    }
   ],
   "source": [
    "price=df.groupby(['과일','등급'])['가격'].transform(\"mean\")\n",
    "price"
   ]
  },
  {
   "cell_type": "code",
   "execution_count": 117,
   "id": "2928bbdf-1616-4f09-a58e-e3e8831a9105",
   "metadata": {},
   "outputs": [
    {
     "data": {
      "text/html": [
       "<div>\n",
       "<style scoped>\n",
       "    .dataframe tbody tr th:only-of-type {\n",
       "        vertical-align: middle;\n",
       "    }\n",
       "\n",
       "    .dataframe tbody tr th {\n",
       "        vertical-align: top;\n",
       "    }\n",
       "\n",
       "    .dataframe thead th {\n",
       "        text-align: right;\n",
       "    }\n",
       "</style>\n",
       "<table border=\"1\" class=\"dataframe\">\n",
       "  <thead>\n",
       "    <tr style=\"text-align: right;\">\n",
       "      <th></th>\n",
       "      <th>과일</th>\n",
       "      <th>등급</th>\n",
       "      <th>가격</th>\n",
       "    </tr>\n",
       "  </thead>\n",
       "  <tbody>\n",
       "    <tr>\n",
       "      <th>0</th>\n",
       "      <td>딸기</td>\n",
       "      <td>B</td>\n",
       "      <td>1000.0</td>\n",
       "    </tr>\n",
       "    <tr>\n",
       "      <th>1</th>\n",
       "      <td>블루베리</td>\n",
       "      <td>B</td>\n",
       "      <td>1800.0</td>\n",
       "    </tr>\n",
       "    <tr>\n",
       "      <th>2</th>\n",
       "      <td>딸기</td>\n",
       "      <td>A</td>\n",
       "      <td>1500.0</td>\n",
       "    </tr>\n",
       "    <tr>\n",
       "      <th>3</th>\n",
       "      <td>블루베리</td>\n",
       "      <td>A</td>\n",
       "      <td>2500.0</td>\n",
       "    </tr>\n",
       "    <tr>\n",
       "      <th>4</th>\n",
       "      <td>딸기</td>\n",
       "      <td>A</td>\n",
       "      <td>2000.0</td>\n",
       "    </tr>\n",
       "    <tr>\n",
       "      <th>5</th>\n",
       "      <td>블루베리</td>\n",
       "      <td>A</td>\n",
       "      <td>2500.0</td>\n",
       "    </tr>\n",
       "    <tr>\n",
       "      <th>6</th>\n",
       "      <td>딸기</td>\n",
       "      <td>B</td>\n",
       "      <td>1000.0</td>\n",
       "    </tr>\n",
       "    <tr>\n",
       "      <th>7</th>\n",
       "      <td>블루베리</td>\n",
       "      <td>B</td>\n",
       "      <td>1800.0</td>\n",
       "    </tr>\n",
       "  </tbody>\n",
       "</table>\n",
       "</div>"
      ],
      "text/plain": [
       "     과일 등급      가격\n",
       "0    딸기  B  1000.0\n",
       "1  블루베리  B  1800.0\n",
       "2    딸기  A  1500.0\n",
       "3  블루베리  A  2500.0\n",
       "4    딸기  A  2000.0\n",
       "5  블루베리  A  2500.0\n",
       "6    딸기  B  1000.0\n",
       "7  블루베리  B  1800.0"
      ]
     },
     "execution_count": 117,
     "metadata": {},
     "output_type": "execute_result"
    }
   ],
   "source": [
    "df['가격']=df['가격'].fillna(price)\n",
    "df"
   ]
  },
  {
   "cell_type": "code",
   "execution_count": 119,
   "id": "6f1de554-31de-42f3-9b58-398001a7e1ae",
   "metadata": {},
   "outputs": [
    {
     "data": {
      "text/html": [
       "<div>\n",
       "<style scoped>\n",
       "    .dataframe tbody tr th:only-of-type {\n",
       "        vertical-align: middle;\n",
       "    }\n",
       "\n",
       "    .dataframe tbody tr th {\n",
       "        vertical-align: top;\n",
       "    }\n",
       "\n",
       "    .dataframe thead th {\n",
       "        text-align: right;\n",
       "    }\n",
       "</style>\n",
       "<table border=\"1\" class=\"dataframe\">\n",
       "  <thead>\n",
       "    <tr style=\"text-align: right;\">\n",
       "      <th></th>\n",
       "      <th>커피종류</th>\n",
       "      <th>컵크기</th>\n",
       "      <th>판매량</th>\n",
       "    </tr>\n",
       "  </thead>\n",
       "  <tbody>\n",
       "    <tr>\n",
       "      <th>0</th>\n",
       "      <td>아메리카노</td>\n",
       "      <td>Small</td>\n",
       "      <td>120</td>\n",
       "    </tr>\n",
       "    <tr>\n",
       "      <th>1</th>\n",
       "      <td>아메리카노</td>\n",
       "      <td>Medium</td>\n",
       "      <td>150</td>\n",
       "    </tr>\n",
       "    <tr>\n",
       "      <th>2</th>\n",
       "      <td>아메리카노</td>\n",
       "      <td>Large</td>\n",
       "      <td>200</td>\n",
       "    </tr>\n",
       "    <tr>\n",
       "      <th>3</th>\n",
       "      <td>라떼</td>\n",
       "      <td>Small</td>\n",
       "      <td>100</td>\n",
       "    </tr>\n",
       "    <tr>\n",
       "      <th>4</th>\n",
       "      <td>라떼</td>\n",
       "      <td>Medium</td>\n",
       "      <td>130</td>\n",
       "    </tr>\n",
       "    <tr>\n",
       "      <th>5</th>\n",
       "      <td>라떼</td>\n",
       "      <td>Large</td>\n",
       "      <td>180</td>\n",
       "    </tr>\n",
       "  </tbody>\n",
       "</table>\n",
       "</div>"
      ],
      "text/plain": [
       "    커피종류     컵크기  판매량\n",
       "0  아메리카노   Small  120\n",
       "1  아메리카노  Medium  150\n",
       "2  아메리카노   Large  200\n",
       "3     라떼   Small  100\n",
       "4     라떼  Medium  130\n",
       "5     라떼   Large  180"
      ]
     },
     "execution_count": 119,
     "metadata": {},
     "output_type": "execute_result"
    }
   ],
   "source": [
    "#unstack\n",
    "import pandas as pd\n",
    "\n",
    "coffee_data={\n",
    "    '커피종류':['아메리카노','아메리카노','아메리카노','라떼','라떼','라떼'],\n",
    "    '컵크기':['Small','Medium','Large','Small','Medium','Large'],\n",
    "    '판매량':[120,150,200,100,130,180]\n",
    "}\n",
    "df=pd.DataFrame(coffee_data)\n",
    "df"
   ]
  },
  {
   "cell_type": "code",
   "execution_count": 123,
   "id": "79f114e0-5569-4a3f-815c-5a0e007259b2",
   "metadata": {},
   "outputs": [
    {
     "data": {
      "text/plain": [
       "커피종류   컵크기   \n",
       "라떼     Large     180\n",
       "       Medium    130\n",
       "       Small     100\n",
       "아메리카노  Large     200\n",
       "       Medium    150\n",
       "       Small     120\n",
       "Name: 판매량, dtype: int64"
      ]
     },
     "execution_count": 123,
     "metadata": {},
     "output_type": "execute_result"
    }
   ],
   "source": [
    "grouped = df.groupby(['커피종류','컵크기'])['판매량'].sum()\n",
    "grouped"
   ]
  },
  {
   "cell_type": "code",
   "execution_count": 125,
   "id": "463f86aa-8521-4db2-b496-95b01b5b9401",
   "metadata": {},
   "outputs": [
    {
     "data": {
      "text/html": [
       "<div>\n",
       "<style scoped>\n",
       "    .dataframe tbody tr th:only-of-type {\n",
       "        vertical-align: middle;\n",
       "    }\n",
       "\n",
       "    .dataframe tbody tr th {\n",
       "        vertical-align: top;\n",
       "    }\n",
       "\n",
       "    .dataframe thead th {\n",
       "        text-align: right;\n",
       "    }\n",
       "</style>\n",
       "<table border=\"1\" class=\"dataframe\">\n",
       "  <thead>\n",
       "    <tr style=\"text-align: right;\">\n",
       "      <th>컵크기</th>\n",
       "      <th>Large</th>\n",
       "      <th>Medium</th>\n",
       "      <th>Small</th>\n",
       "    </tr>\n",
       "    <tr>\n",
       "      <th>커피종류</th>\n",
       "      <th></th>\n",
       "      <th></th>\n",
       "      <th></th>\n",
       "    </tr>\n",
       "  </thead>\n",
       "  <tbody>\n",
       "    <tr>\n",
       "      <th>라떼</th>\n",
       "      <td>180</td>\n",
       "      <td>130</td>\n",
       "      <td>100</td>\n",
       "    </tr>\n",
       "    <tr>\n",
       "      <th>아메리카노</th>\n",
       "      <td>200</td>\n",
       "      <td>150</td>\n",
       "      <td>120</td>\n",
       "    </tr>\n",
       "  </tbody>\n",
       "</table>\n",
       "</div>"
      ],
      "text/plain": [
       "컵크기    Large  Medium  Small\n",
       "커피종류                       \n",
       "라떼       180     130    100\n",
       "아메리카노    200     150    120"
      ]
     },
     "execution_count": 125,
     "metadata": {},
     "output_type": "execute_result"
    }
   ],
   "source": [
    "#컵크기를 컬럼으로 변환\n",
    "grouped.unstack()"
   ]
  },
  {
   "cell_type": "code",
   "execution_count": 127,
   "id": "a93d55ca-6640-44a5-8682-38d0d4335f07",
   "metadata": {},
   "outputs": [
    {
     "data": {
      "text/html": [
       "<div>\n",
       "<style scoped>\n",
       "    .dataframe tbody tr th:only-of-type {\n",
       "        vertical-align: middle;\n",
       "    }\n",
       "\n",
       "    .dataframe tbody tr th {\n",
       "        vertical-align: top;\n",
       "    }\n",
       "\n",
       "    .dataframe thead th {\n",
       "        text-align: right;\n",
       "    }\n",
       "</style>\n",
       "<table border=\"1\" class=\"dataframe\">\n",
       "  <thead>\n",
       "    <tr style=\"text-align: right;\">\n",
       "      <th>커피종류</th>\n",
       "      <th>라떼</th>\n",
       "      <th>아메리카노</th>\n",
       "    </tr>\n",
       "    <tr>\n",
       "      <th>컵크기</th>\n",
       "      <th></th>\n",
       "      <th></th>\n",
       "    </tr>\n",
       "  </thead>\n",
       "  <tbody>\n",
       "    <tr>\n",
       "      <th>Large</th>\n",
       "      <td>180</td>\n",
       "      <td>200</td>\n",
       "    </tr>\n",
       "    <tr>\n",
       "      <th>Medium</th>\n",
       "      <td>130</td>\n",
       "      <td>150</td>\n",
       "    </tr>\n",
       "    <tr>\n",
       "      <th>Small</th>\n",
       "      <td>100</td>\n",
       "      <td>120</td>\n",
       "    </tr>\n",
       "  </tbody>\n",
       "</table>\n",
       "</div>"
      ],
      "text/plain": [
       "커피종류     라떼  아메리카노\n",
       "컵크기               \n",
       "Large   180    200\n",
       "Medium  130    150\n",
       "Small   100    120"
      ]
     },
     "execution_count": 127,
     "metadata": {},
     "output_type": "execute_result"
    }
   ],
   "source": [
    "#커피종류를 컬럼으로 변환\n",
    "grouped.unstack(level=0)"
   ]
  },
  {
   "cell_type": "code",
   "execution_count": 129,
   "id": "27b54d9b-eb34-4326-afb6-f66406ca89a7",
   "metadata": {},
   "outputs": [
    {
     "data": {
      "text/plain": [
       "컵크기     커피종류 \n",
       "Large   라떼       180\n",
       "        아메리카노    200\n",
       "Medium  라떼       130\n",
       "        아메리카노    150\n",
       "Small   라떼       100\n",
       "        아메리카노    120\n",
       "dtype: int64"
      ]
     },
     "execution_count": 129,
     "metadata": {},
     "output_type": "execute_result"
    }
   ],
   "source": [
    "grouped.unstack().unstack()"
   ]
  },
  {
   "cell_type": "code",
   "execution_count": 131,
   "id": "d29ff960-62c8-4ad6-8f2b-343a0fde45a6",
   "metadata": {},
   "outputs": [
    {
     "name": "stdout",
     "output_type": "stream",
     "text": [
      "    Menu  Price\n",
      "0  Salad   5000\n",
      "1   Soup   3000\n",
      "2  Bread   2000\n",
      "      Menu  Price\n",
      "0    Steak  15000\n",
      "1    Pasta  12000\n",
      "2  Chicken  10000\n"
     ]
    }
   ],
   "source": [
    "import pandas as pd\n",
    "\n",
    "#에피타이저 메뉴\n",
    "appetizer=pd.DataFrame({\n",
    "    'Menu':['Salad','Soup','Bread'],\n",
    "    'Price':[5000,3000,2000]\n",
    "})\n",
    "\n",
    "#메인 메뉴\n",
    "main=pd.DataFrame({\n",
    "    'Menu':['Steak','Pasta','Chicken'],\n",
    "    'Price':[15000,12000,10000]\n",
    "})\n",
    "print(appetizer)\n",
    "print(main)"
   ]
  },
  {
   "cell_type": "code",
   "execution_count": 133,
   "id": "fa800bea-dc47-4cb9-aeb3-8e17c5344287",
   "metadata": {},
   "outputs": [
    {
     "data": {
      "text/html": [
       "<div>\n",
       "<style scoped>\n",
       "    .dataframe tbody tr th:only-of-type {\n",
       "        vertical-align: middle;\n",
       "    }\n",
       "\n",
       "    .dataframe tbody tr th {\n",
       "        vertical-align: top;\n",
       "    }\n",
       "\n",
       "    .dataframe thead th {\n",
       "        text-align: right;\n",
       "    }\n",
       "</style>\n",
       "<table border=\"1\" class=\"dataframe\">\n",
       "  <thead>\n",
       "    <tr style=\"text-align: right;\">\n",
       "      <th></th>\n",
       "      <th>Menu</th>\n",
       "      <th>Price</th>\n",
       "    </tr>\n",
       "  </thead>\n",
       "  <tbody>\n",
       "    <tr>\n",
       "      <th>0</th>\n",
       "      <td>Salad</td>\n",
       "      <td>5000</td>\n",
       "    </tr>\n",
       "    <tr>\n",
       "      <th>1</th>\n",
       "      <td>Soup</td>\n",
       "      <td>3000</td>\n",
       "    </tr>\n",
       "    <tr>\n",
       "      <th>2</th>\n",
       "      <td>Bread</td>\n",
       "      <td>2000</td>\n",
       "    </tr>\n",
       "    <tr>\n",
       "      <th>3</th>\n",
       "      <td>Steak</td>\n",
       "      <td>15000</td>\n",
       "    </tr>\n",
       "    <tr>\n",
       "      <th>4</th>\n",
       "      <td>Pasta</td>\n",
       "      <td>12000</td>\n",
       "    </tr>\n",
       "    <tr>\n",
       "      <th>5</th>\n",
       "      <td>Chicken</td>\n",
       "      <td>10000</td>\n",
       "    </tr>\n",
       "  </tbody>\n",
       "</table>\n",
       "</div>"
      ],
      "text/plain": [
       "      Menu  Price\n",
       "0    Salad   5000\n",
       "1     Soup   3000\n",
       "2    Bread   2000\n",
       "3    Steak  15000\n",
       "4    Pasta  12000\n",
       "5  Chicken  10000"
      ]
     },
     "execution_count": 133,
     "metadata": {},
     "output_type": "execute_result"
    }
   ],
   "source": [
    "#두 메뉴를 수직으로 연결\n",
    "full_menu=pd.concat([appetizer, main], ignore_index=True)\n",
    "full_menu"
   ]
  },
  {
   "cell_type": "code",
   "execution_count": 135,
   "id": "05c11590-1f75-4dbd-8b0b-2c92fe74e974",
   "metadata": {},
   "outputs": [
    {
     "data": {
      "text/html": [
       "<div>\n",
       "<style scoped>\n",
       "    .dataframe tbody tr th:only-of-type {\n",
       "        vertical-align: middle;\n",
       "    }\n",
       "\n",
       "    .dataframe tbody tr th {\n",
       "        vertical-align: top;\n",
       "    }\n",
       "\n",
       "    .dataframe thead th {\n",
       "        text-align: right;\n",
       "    }\n",
       "</style>\n",
       "<table border=\"1\" class=\"dataframe\">\n",
       "  <thead>\n",
       "    <tr style=\"text-align: right;\">\n",
       "      <th></th>\n",
       "      <th>Menu</th>\n",
       "      <th>Price</th>\n",
       "      <th>Menu</th>\n",
       "      <th>Price</th>\n",
       "    </tr>\n",
       "  </thead>\n",
       "  <tbody>\n",
       "    <tr>\n",
       "      <th>0</th>\n",
       "      <td>Salad</td>\n",
       "      <td>5000</td>\n",
       "      <td>Steak</td>\n",
       "      <td>15000</td>\n",
       "    </tr>\n",
       "    <tr>\n",
       "      <th>1</th>\n",
       "      <td>Soup</td>\n",
       "      <td>3000</td>\n",
       "      <td>Pasta</td>\n",
       "      <td>12000</td>\n",
       "    </tr>\n",
       "    <tr>\n",
       "      <th>2</th>\n",
       "      <td>Bread</td>\n",
       "      <td>2000</td>\n",
       "      <td>Chicken</td>\n",
       "      <td>10000</td>\n",
       "    </tr>\n",
       "  </tbody>\n",
       "</table>\n",
       "</div>"
      ],
      "text/plain": [
       "    Menu  Price     Menu  Price\n",
       "0  Salad   5000    Steak  15000\n",
       "1   Soup   3000    Pasta  12000\n",
       "2  Bread   2000  Chicken  10000"
      ]
     },
     "execution_count": 135,
     "metadata": {},
     "output_type": "execute_result"
    }
   ],
   "source": [
    "#두 메뉴를 좌우로 연결\n",
    "full_menu=pd.concat([appetizer, main], axis=1)\n",
    "full_menu"
   ]
  },
  {
   "cell_type": "code",
   "execution_count": 137,
   "id": "f5608433-0816-4163-a1da-2c5d0e0b69cf",
   "metadata": {},
   "outputs": [
    {
     "data": {
      "text/html": [
       "<div>\n",
       "<style scoped>\n",
       "    .dataframe tbody tr th:only-of-type {\n",
       "        vertical-align: middle;\n",
       "    }\n",
       "\n",
       "    .dataframe tbody tr th {\n",
       "        vertical-align: top;\n",
       "    }\n",
       "\n",
       "    .dataframe thead th {\n",
       "        text-align: right;\n",
       "    }\n",
       "</style>\n",
       "<table border=\"1\" class=\"dataframe\">\n",
       "  <thead>\n",
       "    <tr style=\"text-align: right;\">\n",
       "      <th></th>\n",
       "      <th>Menu</th>\n",
       "      <th>Price</th>\n",
       "      <th>Calories</th>\n",
       "    </tr>\n",
       "  </thead>\n",
       "  <tbody>\n",
       "    <tr>\n",
       "      <th>0</th>\n",
       "      <td>Salad</td>\n",
       "      <td>5000</td>\n",
       "      <td>150</td>\n",
       "    </tr>\n",
       "    <tr>\n",
       "      <th>1</th>\n",
       "      <td>Soup</td>\n",
       "      <td>3000</td>\n",
       "      <td>100</td>\n",
       "    </tr>\n",
       "    <tr>\n",
       "      <th>2</th>\n",
       "      <td>Steak</td>\n",
       "      <td>15000</td>\n",
       "      <td>500</td>\n",
       "    </tr>\n",
       "    <tr>\n",
       "      <th>3</th>\n",
       "      <td>Pasta</td>\n",
       "      <td>12000</td>\n",
       "      <td>400</td>\n",
       "    </tr>\n",
       "  </tbody>\n",
       "</table>\n",
       "</div>"
      ],
      "text/plain": [
       "    Menu  Price  Calories\n",
       "0  Salad   5000       150\n",
       "1   Soup   3000       100\n",
       "2  Steak  15000       500\n",
       "3  Pasta  12000       400"
      ]
     },
     "execution_count": 137,
     "metadata": {},
     "output_type": "execute_result"
    }
   ],
   "source": [
    "price=pd.DataFrame({\n",
    "    'Menu':['Salad','Soup','Steak','Pasta'],\n",
    "    'Price':[5000,3000,15000,12000]\n",
    "})\n",
    "\n",
    "cal=pd.DataFrame({\n",
    "    'Menu':['Soup','Steak','Pasta','Salad'],\n",
    "    'Calories':[100,500,400,150]\n",
    "})\n",
    "\n",
    "#두 데이터프레임을 'Menu'를 기준으로 병합\n",
    "menu_info=pd.merge(price,cal,on='Menu')\n",
    "menu_info"
   ]
  },
  {
   "cell_type": "code",
   "execution_count": 139,
   "id": "91daa878-65d2-4aea-ab9e-1600850693d0",
   "metadata": {},
   "outputs": [
    {
     "name": "stdout",
     "output_type": "stream",
     "text": [
      "[원본 데이터]\n",
      "   이름  부서    급여\n",
      "0  서아  개발  3000\n",
      "1  다인  기획  3200\n",
      "2  채아  개발  3100\n",
      "3  예담  기획  3300\n",
      "4  종현  개발  2900\n",
      "5  태헌  기획  3100\n",
      "\n",
      "[부서별 평균 급여]\n",
      "        급여\n",
      "부서        \n",
      "개발  3000.0\n",
      "기획  3200.0\n"
     ]
    }
   ],
   "source": [
    "#피벗테이블\n",
    "import pandas as pd\n",
    "\n",
    "data={\n",
    "    '이름':['서아','다인','채아','예담','종현','태헌'],\n",
    "    '부서':['개발','기획','개발','기획','개발','기획'],\n",
    "    '급여':[3000,3200,3100,3300,2900,3100]\n",
    "}\n",
    "df=pd.DataFrame(data)\n",
    "print(\"[원본 데이터]\")\n",
    "print(df)\n",
    "\n",
    "pt=df.pivot_table(index='부서',values='급여',aggfunc='mean')\n",
    "print(\"\\n[부서별 평균 급여]\")\n",
    "print(pt)"
   ]
  },
  {
   "cell_type": "code",
   "execution_count": 141,
   "id": "6c6b1833-9f36-4466-9e24-f60ef1d42787",
   "metadata": {},
   "outputs": [
    {
     "name": "stdout",
     "output_type": "stream",
     "text": [
      "[원본 데이터]\n",
      "   부서  직급    급여\n",
      "0  개발  대리  3000\n",
      "1  기획  과장  4000\n",
      "2  개발  대리  3200\n",
      "3  개발  과장  4200\n",
      "4  기획  대리  3500\n",
      "5  기획  과장  4500\n",
      "\n",
      "[부서 및 직급별 급여 합계]\n",
      "직급    과장    대리\n",
      "부서            \n",
      "개발  4200  6200\n",
      "기획  8500  3500\n"
     ]
    }
   ],
   "source": [
    "data={\n",
    "    '부서':['개발','기획','개발','개발','기획','기획'],\n",
    "    '직급':['대리','과장','대리','과장','대리','과장'],\n",
    "    '급여':[3000,4000,3200,4200,3500,4500]\n",
    "}\n",
    "df=pd.DataFrame(data)\n",
    "print(\"[원본 데이터]\")\n",
    "print(df)\n",
    "\n",
    "#부서 및 직급별 급여 합계 계산\n",
    "pt=df.pivot_table(index='부서',columns='직급',values='급여',aggfunc='sum')\n",
    "print(\"\\n[부서 및 직급별 급여 합계]\")\n",
    "print(pt)"
   ]
  },
  {
   "cell_type": "code",
   "execution_count": 145,
   "id": "c9c4bffb-90d1-46c4-89f5-5daa4cc016c7",
   "metadata": {},
   "outputs": [
    {
     "name": "stdout",
     "output_type": "stream",
     "text": [
      "[원본 데이터]\n",
      "   부서 성별  근속연수\n",
      "0  개발  남     3\n",
      "1  기획  여     5\n",
      "2  기획  남     4\n",
      "3  기획  여     6\n",
      "4  개발  남     7\n",
      "5  개발  여     8\n",
      "\n",
      "[부서 및 성별 평균 근속연수]\n",
      "성별    남    여\n",
      "부서          \n",
      "개발  5.0  8.0\n",
      "기획  4.0  5.5\n"
     ]
    }
   ],
   "source": [
    "#부서와 성별, 근속연수 정보\n",
    "data={\n",
    "    '부서':['개발','기획','기획','기획','개발','개발'],\n",
    "    '성별':['남','여','남','여','남','여'],\n",
    "    '근속연수':[3,5,4,6,7,8]\n",
    "}\n",
    "df=pd.DataFrame(data)\n",
    "print(\"[원본 데이터]\")\n",
    "print(df)\n",
    "\n",
    "#부서 및 성별 평균 근속연수 계산\n",
    "pt=df.pivot_table(index='부서',columns='성별',values='근속연수',aggfunc='mean')\n",
    "print(\"\\n[부서 및 성별 평균 근속연수]\")\n",
    "print(pt)"
   ]
  },
  {
   "cell_type": "code",
   "execution_count": 147,
   "id": "e33ffe55-935b-470e-b534-cb500695a656",
   "metadata": {},
   "outputs": [
    {
     "name": "stdout",
     "output_type": "stream",
     "text": [
      "   구분  유형  크기  수량  금액\n",
      "0  전자  일반  소형   1   2\n",
      "1  전자  일반  대형   2   4\n",
      "2  전자  일반  대형   2   5\n",
      "3  전자  특수  소형   3   5\n",
      "4  전자  특수  소형   3   6\n",
      "5  가전  일반  대형   4   6\n",
      "6  가전  일반  소형   5   8\n",
      "7  가전  특수  소형   6   9\n",
      "8  가전  특수  대형   7   9\n"
     ]
    }
   ],
   "source": [
    "#다양한 집계를 위한 데이터셋\n",
    "import pandas as pd\n",
    "\n",
    "df=pd.DataFrame({\n",
    "    \"구분\":[\"전자\",\"전자\",\"전자\",\"전자\",\"전자\",\"가전\",\"가전\",\"가전\",\"가전\"],\n",
    "    \"유형\":[\"일반\",\"일반\",\"일반\",\"특수\",\"특수\",\"일반\",\"일반\",\"특수\",\"특수\"],\n",
    "    \"크기\":[\"소형\",\"대형\",\"대형\",\"소형\",\"소형\",\"대형\",\"소형\",\"소형\",\"대형\"],\n",
    "    \"수량\":[1,2,2,3,3,4,5,6,7],\n",
    "    \"금액\":[2,4,5,5,6,6,8,9,9]\n",
    "})\n",
    "print(df)"
   ]
  },
  {
   "cell_type": "code",
   "execution_count": 149,
   "id": "f1e1b012-fba5-4bc0-b390-6017e9e9361d",
   "metadata": {},
   "outputs": [
    {
     "data": {
      "text/html": [
       "<div>\n",
       "<style scoped>\n",
       "    .dataframe tbody tr th:only-of-type {\n",
       "        vertical-align: middle;\n",
       "    }\n",
       "\n",
       "    .dataframe tbody tr th {\n",
       "        vertical-align: top;\n",
       "    }\n",
       "\n",
       "    .dataframe thead th {\n",
       "        text-align: right;\n",
       "    }\n",
       "</style>\n",
       "<table border=\"1\" class=\"dataframe\">\n",
       "  <thead>\n",
       "    <tr style=\"text-align: right;\">\n",
       "      <th></th>\n",
       "      <th>크기</th>\n",
       "      <th>대형</th>\n",
       "      <th>소형</th>\n",
       "    </tr>\n",
       "    <tr>\n",
       "      <th>구분</th>\n",
       "      <th>유형</th>\n",
       "      <th></th>\n",
       "      <th></th>\n",
       "    </tr>\n",
       "  </thead>\n",
       "  <tbody>\n",
       "    <tr>\n",
       "      <th rowspan=\"2\" valign=\"top\">가전</th>\n",
       "      <th>일반</th>\n",
       "      <td>4.0</td>\n",
       "      <td>5.0</td>\n",
       "    </tr>\n",
       "    <tr>\n",
       "      <th>특수</th>\n",
       "      <td>7.0</td>\n",
       "      <td>6.0</td>\n",
       "    </tr>\n",
       "    <tr>\n",
       "      <th rowspan=\"2\" valign=\"top\">전자</th>\n",
       "      <th>일반</th>\n",
       "      <td>4.0</td>\n",
       "      <td>1.0</td>\n",
       "    </tr>\n",
       "    <tr>\n",
       "      <th>특수</th>\n",
       "      <td>NaN</td>\n",
       "      <td>6.0</td>\n",
       "    </tr>\n",
       "  </tbody>\n",
       "</table>\n",
       "</div>"
      ],
      "text/plain": [
       "크기      대형   소형\n",
       "구분 유형          \n",
       "가전 일반  4.0  5.0\n",
       "   특수  7.0  6.0\n",
       "전자 일반  4.0  1.0\n",
       "   특수  NaN  6.0"
      ]
     },
     "execution_count": 149,
     "metadata": {},
     "output_type": "execute_result"
    }
   ],
   "source": [
    "#단일 값에 대해 집계\n",
    "pt=df.pivot_table(\n",
    "    index=['구분','유형'],\n",
    "    columns='크기',\n",
    "    values='수량',\n",
    "    aggfunc='sum'\n",
    ")\n",
    "pt"
   ]
  },
  {
   "cell_type": "code",
   "execution_count": 151,
   "id": "cba48560-ab29-4493-8e04-7a80e2f5ae97",
   "metadata": {},
   "outputs": [
    {
     "data": {
      "text/html": [
       "<div>\n",
       "<style scoped>\n",
       "    .dataframe tbody tr th:only-of-type {\n",
       "        vertical-align: middle;\n",
       "    }\n",
       "\n",
       "    .dataframe tbody tr th {\n",
       "        vertical-align: top;\n",
       "    }\n",
       "\n",
       "    .dataframe thead th {\n",
       "        text-align: right;\n",
       "    }\n",
       "</style>\n",
       "<table border=\"1\" class=\"dataframe\">\n",
       "  <thead>\n",
       "    <tr style=\"text-align: right;\">\n",
       "      <th></th>\n",
       "      <th>크기</th>\n",
       "      <th>대형</th>\n",
       "      <th>소형</th>\n",
       "    </tr>\n",
       "    <tr>\n",
       "      <th>구분</th>\n",
       "      <th>유형</th>\n",
       "      <th></th>\n",
       "      <th></th>\n",
       "    </tr>\n",
       "  </thead>\n",
       "  <tbody>\n",
       "    <tr>\n",
       "      <th rowspan=\"2\" valign=\"top\">가전</th>\n",
       "      <th>일반</th>\n",
       "      <td>4</td>\n",
       "      <td>5</td>\n",
       "    </tr>\n",
       "    <tr>\n",
       "      <th>특수</th>\n",
       "      <td>7</td>\n",
       "      <td>6</td>\n",
       "    </tr>\n",
       "    <tr>\n",
       "      <th rowspan=\"2\" valign=\"top\">전자</th>\n",
       "      <th>일반</th>\n",
       "      <td>4</td>\n",
       "      <td>1</td>\n",
       "    </tr>\n",
       "    <tr>\n",
       "      <th>특수</th>\n",
       "      <td>0</td>\n",
       "      <td>6</td>\n",
       "    </tr>\n",
       "  </tbody>\n",
       "</table>\n",
       "</div>"
      ],
      "text/plain": [
       "크기     대형  소형\n",
       "구분 유형        \n",
       "가전 일반   4   5\n",
       "   특수   7   6\n",
       "전자 일반   4   1\n",
       "   특수   0   6"
      ]
     },
     "execution_count": 151,
     "metadata": {},
     "output_type": "execute_result"
    }
   ],
   "source": [
    "#단일 값에 대해 집계(누락값 0처리)\n",
    "pt=df.pivot_table(\n",
    "    index=['구분','유형'],\n",
    "    columns='크기',\n",
    "    values='수량',\n",
    "    aggfunc='sum',\n",
    "    fill_value=0\n",
    ")\n",
    "pt"
   ]
  },
  {
   "cell_type": "code",
   "execution_count": 153,
   "id": "c11b5851-0786-4a62-8964-f9180287f65b",
   "metadata": {},
   "outputs": [
    {
     "data": {
      "text/html": [
       "<div>\n",
       "<style scoped>\n",
       "    .dataframe tbody tr th:only-of-type {\n",
       "        vertical-align: middle;\n",
       "    }\n",
       "\n",
       "    .dataframe tbody tr th {\n",
       "        vertical-align: top;\n",
       "    }\n",
       "\n",
       "    .dataframe thead th {\n",
       "        text-align: right;\n",
       "    }\n",
       "</style>\n",
       "<table border=\"1\" class=\"dataframe\">\n",
       "  <thead>\n",
       "    <tr style=\"text-align: right;\">\n",
       "      <th></th>\n",
       "      <th></th>\n",
       "      <th>금액</th>\n",
       "      <th>수량</th>\n",
       "    </tr>\n",
       "    <tr>\n",
       "      <th>구분</th>\n",
       "      <th>크기</th>\n",
       "      <th></th>\n",
       "      <th></th>\n",
       "    </tr>\n",
       "  </thead>\n",
       "  <tbody>\n",
       "    <tr>\n",
       "      <th rowspan=\"2\" valign=\"top\">가전</th>\n",
       "      <th>대형</th>\n",
       "      <td>7.500000</td>\n",
       "      <td>5.500000</td>\n",
       "    </tr>\n",
       "    <tr>\n",
       "      <th>소형</th>\n",
       "      <td>8.500000</td>\n",
       "      <td>5.500000</td>\n",
       "    </tr>\n",
       "    <tr>\n",
       "      <th rowspan=\"2\" valign=\"top\">전자</th>\n",
       "      <th>대형</th>\n",
       "      <td>4.500000</td>\n",
       "      <td>2.000000</td>\n",
       "    </tr>\n",
       "    <tr>\n",
       "      <th>소형</th>\n",
       "      <td>4.333333</td>\n",
       "      <td>2.333333</td>\n",
       "    </tr>\n",
       "  </tbody>\n",
       "</table>\n",
       "</div>"
      ],
      "text/plain": [
       "             금액        수량\n",
       "구분 크기                    \n",
       "가전 대형  7.500000  5.500000\n",
       "   소형  8.500000  5.500000\n",
       "전자 대형  4.500000  2.000000\n",
       "   소형  4.333333  2.333333"
      ]
     },
     "execution_count": 153,
     "metadata": {},
     "output_type": "execute_result"
    }
   ],
   "source": [
    "#여러 열에 대해 각기 다른 집계 함수 적용\n",
    "pt=df.pivot_table(\n",
    "    index=['구분','크기'],\n",
    "    values=['수량','금액'],\n",
    "    aggfunc={'수량':\"mean\", '금액':\"mean\"}\n",
    ")\n",
    "pt"
   ]
  },
  {
   "cell_type": "code",
   "execution_count": 155,
   "id": "79c33346-538c-4477-aca0-fbf8e184db5a",
   "metadata": {},
   "outputs": [
    {
     "data": {
      "text/html": [
       "<div>\n",
       "<style scoped>\n",
       "    .dataframe tbody tr th:only-of-type {\n",
       "        vertical-align: middle;\n",
       "    }\n",
       "\n",
       "    .dataframe tbody tr th {\n",
       "        vertical-align: top;\n",
       "    }\n",
       "\n",
       "    .dataframe thead tr th {\n",
       "        text-align: left;\n",
       "    }\n",
       "\n",
       "    .dataframe thead tr:last-of-type th {\n",
       "        text-align: right;\n",
       "    }\n",
       "</style>\n",
       "<table border=\"1\" class=\"dataframe\">\n",
       "  <thead>\n",
       "    <tr>\n",
       "      <th></th>\n",
       "      <th></th>\n",
       "      <th colspan=\"3\" halign=\"left\">금액</th>\n",
       "      <th>수량</th>\n",
       "    </tr>\n",
       "    <tr>\n",
       "      <th></th>\n",
       "      <th></th>\n",
       "      <th>max</th>\n",
       "      <th>mean</th>\n",
       "      <th>min</th>\n",
       "      <th>mean</th>\n",
       "    </tr>\n",
       "    <tr>\n",
       "      <th>구분</th>\n",
       "      <th>크기</th>\n",
       "      <th></th>\n",
       "      <th></th>\n",
       "      <th></th>\n",
       "      <th></th>\n",
       "    </tr>\n",
       "  </thead>\n",
       "  <tbody>\n",
       "    <tr>\n",
       "      <th rowspan=\"2\" valign=\"top\">가전</th>\n",
       "      <th>대형</th>\n",
       "      <td>9</td>\n",
       "      <td>7.500000</td>\n",
       "      <td>6</td>\n",
       "      <td>5.500000</td>\n",
       "    </tr>\n",
       "    <tr>\n",
       "      <th>소형</th>\n",
       "      <td>9</td>\n",
       "      <td>8.500000</td>\n",
       "      <td>8</td>\n",
       "      <td>5.500000</td>\n",
       "    </tr>\n",
       "    <tr>\n",
       "      <th rowspan=\"2\" valign=\"top\">전자</th>\n",
       "      <th>대형</th>\n",
       "      <td>5</td>\n",
       "      <td>4.500000</td>\n",
       "      <td>4</td>\n",
       "      <td>2.000000</td>\n",
       "    </tr>\n",
       "    <tr>\n",
       "      <th>소형</th>\n",
       "      <td>6</td>\n",
       "      <td>4.333333</td>\n",
       "      <td>2</td>\n",
       "      <td>2.333333</td>\n",
       "    </tr>\n",
       "  </tbody>\n",
       "</table>\n",
       "</div>"
      ],
      "text/plain": [
       "       금액                      수량\n",
       "      max      mean min      mean\n",
       "구분 크기                            \n",
       "가전 대형   9  7.500000   6  5.500000\n",
       "   소형   9  8.500000   8  5.500000\n",
       "전자 대형   5  4.500000   4  2.000000\n",
       "   소형   6  4.333333   2  2.333333"
      ]
     },
     "execution_count": 155,
     "metadata": {},
     "output_type": "execute_result"
    }
   ],
   "source": [
    "pt=df.pivot_table(\n",
    "    index=['구분','크기'],\n",
    "    values=['수량','금액'],\n",
    "    aggfunc={'수량':\"mean\", '금액':[\"min\",\"max\",\"mean\"]}\n",
    ")\n",
    "pt"
   ]
  },
  {
   "cell_type": "code",
   "execution_count": 157,
   "id": "141cd0e5-8327-43b1-926e-00c5f63a73cd",
   "metadata": {},
   "outputs": [
    {
     "data": {
      "text/html": [
       "<div>\n",
       "<style scoped>\n",
       "    .dataframe tbody tr th:only-of-type {\n",
       "        vertical-align: middle;\n",
       "    }\n",
       "\n",
       "    .dataframe tbody tr th {\n",
       "        vertical-align: top;\n",
       "    }\n",
       "\n",
       "    .dataframe thead tr th {\n",
       "        text-align: left;\n",
       "    }\n",
       "</style>\n",
       "<table border=\"1\" class=\"dataframe\">\n",
       "  <thead>\n",
       "    <tr>\n",
       "      <th></th>\n",
       "      <th>구분</th>\n",
       "      <th>크기</th>\n",
       "      <th colspan=\"3\" halign=\"left\">금액</th>\n",
       "      <th>수량</th>\n",
       "    </tr>\n",
       "    <tr>\n",
       "      <th></th>\n",
       "      <th></th>\n",
       "      <th></th>\n",
       "      <th>max</th>\n",
       "      <th>mean</th>\n",
       "      <th>min</th>\n",
       "      <th>mean</th>\n",
       "    </tr>\n",
       "  </thead>\n",
       "  <tbody>\n",
       "    <tr>\n",
       "      <th>0</th>\n",
       "      <td>가전</td>\n",
       "      <td>대형</td>\n",
       "      <td>9</td>\n",
       "      <td>7.500000</td>\n",
       "      <td>6</td>\n",
       "      <td>5.500000</td>\n",
       "    </tr>\n",
       "    <tr>\n",
       "      <th>1</th>\n",
       "      <td>가전</td>\n",
       "      <td>소형</td>\n",
       "      <td>9</td>\n",
       "      <td>8.500000</td>\n",
       "      <td>8</td>\n",
       "      <td>5.500000</td>\n",
       "    </tr>\n",
       "    <tr>\n",
       "      <th>2</th>\n",
       "      <td>전자</td>\n",
       "      <td>대형</td>\n",
       "      <td>5</td>\n",
       "      <td>4.500000</td>\n",
       "      <td>4</td>\n",
       "      <td>2.000000</td>\n",
       "    </tr>\n",
       "    <tr>\n",
       "      <th>3</th>\n",
       "      <td>전자</td>\n",
       "      <td>소형</td>\n",
       "      <td>6</td>\n",
       "      <td>4.333333</td>\n",
       "      <td>2</td>\n",
       "      <td>2.333333</td>\n",
       "    </tr>\n",
       "  </tbody>\n",
       "</table>\n",
       "</div>"
      ],
      "text/plain": [
       "   구분  크기  금액                      수량\n",
       "          max      mean min      mean\n",
       "0  가전  대형   9  7.500000   6  5.500000\n",
       "1  가전  소형   9  8.500000   8  5.500000\n",
       "2  전자  대형   5  4.500000   4  2.000000\n",
       "3  전자  소형   6  4.333333   2  2.333333"
      ]
     },
     "execution_count": 157,
     "metadata": {},
     "output_type": "execute_result"
    }
   ],
   "source": [
    "pt.reset_index()"
   ]
  },
  {
   "cell_type": "code",
   "execution_count": 159,
   "id": "49c9de92-f945-4972-9deb-4fc8bee06f0c",
   "metadata": {},
   "outputs": [
    {
     "data": {
      "text/html": [
       "<div>\n",
       "<style scoped>\n",
       "    .dataframe tbody tr th:only-of-type {\n",
       "        vertical-align: middle;\n",
       "    }\n",
       "\n",
       "    .dataframe tbody tr th {\n",
       "        vertical-align: top;\n",
       "    }\n",
       "\n",
       "    .dataframe thead th {\n",
       "        text-align: right;\n",
       "    }\n",
       "</style>\n",
       "<table border=\"1\" class=\"dataframe\">\n",
       "  <thead>\n",
       "    <tr style=\"text-align: right;\">\n",
       "      <th></th>\n",
       "      <th>Date1</th>\n",
       "      <th>Date2</th>\n",
       "      <th>Date3</th>\n",
       "      <th>Date4</th>\n",
       "      <th>Date5</th>\n",
       "      <th>Date6</th>\n",
       "      <th>DateTime1</th>\n",
       "      <th>DateTime2</th>\n",
       "      <th>DateTime3</th>\n",
       "      <th>DateTime4</th>\n",
       "    </tr>\n",
       "  </thead>\n",
       "  <tbody>\n",
       "    <tr>\n",
       "      <th>0</th>\n",
       "      <td>2024-02-17</td>\n",
       "      <td>2024:02:17</td>\n",
       "      <td>24/02/17</td>\n",
       "      <td>02/17/2024</td>\n",
       "      <td>17-Feb-2024</td>\n",
       "      <td>2024년02월17일</td>\n",
       "      <td>24-02-17 11:45:30</td>\n",
       "      <td>2024-02-17 11-45-30</td>\n",
       "      <td>02/17/2024 11:45:30 AM</td>\n",
       "      <td>17 Feb 2024 11:45:30</td>\n",
       "    </tr>\n",
       "    <tr>\n",
       "      <th>1</th>\n",
       "      <td>2024-02-18</td>\n",
       "      <td>2024:02:18</td>\n",
       "      <td>24/02/18</td>\n",
       "      <td>02/18/2024</td>\n",
       "      <td>18-Feb-2024</td>\n",
       "      <td>2024년02월18일</td>\n",
       "      <td>24-02-18 12:55:45</td>\n",
       "      <td>2024-02-18 12-55-45</td>\n",
       "      <td>02/18/2024 12:55:45 PM</td>\n",
       "      <td>18 Feb 2024 12:55:45</td>\n",
       "    </tr>\n",
       "    <tr>\n",
       "      <th>2</th>\n",
       "      <td>2024-02-19</td>\n",
       "      <td>2024:02:19</td>\n",
       "      <td>24/02/19</td>\n",
       "      <td>02/19/2024</td>\n",
       "      <td>19-Feb-2024</td>\n",
       "      <td>2024년02월19일</td>\n",
       "      <td>24-02-19 13:30:15</td>\n",
       "      <td>2024-02-19 13-30-15</td>\n",
       "      <td>02/19/2024 01:30:15 PM</td>\n",
       "      <td>19 Feb 2024 13:30:15</td>\n",
       "    </tr>\n",
       "  </tbody>\n",
       "</table>\n",
       "</div>"
      ],
      "text/plain": [
       "        Date1       Date2     Date3       Date4        Date5        Date6  \\\n",
       "0  2024-02-17  2024:02:17  24/02/17  02/17/2024  17-Feb-2024  2024년02월17일   \n",
       "1  2024-02-18  2024:02:18  24/02/18  02/18/2024  18-Feb-2024  2024년02월18일   \n",
       "2  2024-02-19  2024:02:19  24/02/19  02/19/2024  19-Feb-2024  2024년02월19일   \n",
       "\n",
       "           DateTime1            DateTime2               DateTime3  \\\n",
       "0  24-02-17 11:45:30  2024-02-17 11-45-30  02/17/2024 11:45:30 AM   \n",
       "1  24-02-18 12:55:45  2024-02-18 12-55-45  02/18/2024 12:55:45 PM   \n",
       "2  24-02-19 13:30:15  2024-02-19 13-30-15  02/19/2024 01:30:15 PM   \n",
       "\n",
       "              DateTime4  \n",
       "0  17 Feb 2024 11:45:30  \n",
       "1  18 Feb 2024 12:55:45  \n",
       "2  19 Feb 2024 13:30:15  "
      ]
     },
     "execution_count": 159,
     "metadata": {},
     "output_type": "execute_result"
    }
   ],
   "source": [
    "#시계열데터터\n",
    "import pandas as pd\n",
    "data={\n",
    "    'Date1': ['2024-02-17', '2024-02-18', '2024-02-19'],\n",
    "    'Date2': ['2024:02:17', '2024:02:18', '2024:02:19'],\n",
    "    'Date3': ['24/02/17', '24/02/18', '24/02/19'],\n",
    "    'Date4': ['02/17/2024', '02/18/2024', '02/19/2024'],\n",
    "    'Date5': ['17-Feb-2024', '18-Feb-2024', '19-Feb-2024'],\n",
    "    'Date6': ['2024년02월17일', '2024년02월18일', '2024년02월19일'],\n",
    "    'DateTime1': ['24-02-17 11:45:30', '24-02-18 12:55:45', '24-02-19 13:30:15'],\n",
    "    'DateTime2': ['2024-02-17 11-45-30', '2024-02-18 12-55-45', '2024-02-19 13-30-15'],\n",
    "    'DateTime3': ['02/17/2024 11:45:30 AM', '02/18/2024 12:55:45 PM', '02/19/2024 01:30:15 PM'],\n",
    "    'DateTime4': ['17 Feb 2024 11:45:30', '18 Feb 2024 12:55:45', '19 Feb 2024 13:30:15']\n",
    "}\n",
    "\n",
    "df=pd.DataFrame(data)\n",
    "df.to_csv(\"date.csv\", index=False)\n",
    "df"
   ]
  },
  {
   "cell_type": "code",
   "execution_count": 161,
   "id": "1b2e0d7c-c3ca-496d-bf37-0b7f9645d4ec",
   "metadata": {},
   "outputs": [
    {
     "data": {
      "text/plain": [
       "0   2024-02-17\n",
       "1   2024-02-18\n",
       "2   2024-02-19\n",
       "Name: Date1, dtype: datetime64[ns]"
      ]
     },
     "execution_count": 161,
     "metadata": {},
     "output_type": "execute_result"
    }
   ],
   "source": [
    "pd.to_datetime(df['Date1'])"
   ]
  },
  {
   "cell_type": "code",
   "execution_count": 163,
   "id": "0f224ffd-5e32-47ac-8c22-8def7f09a24d",
   "metadata": {},
   "outputs": [
    {
     "name": "stdout",
     "output_type": "stream",
     "text": [
      "0    2024-02-17\n",
      "1    2024-02-18\n",
      "2    2024-02-19\n",
      "Name: Date1, dtype: object\n",
      "0   2024-02-17\n",
      "1   2024-02-18\n",
      "2   2024-02-19\n",
      "Name: Date1, dtype: datetime64[ns]\n"
     ]
    }
   ],
   "source": [
    "# Date1\n",
    "df = pd.read_csv(\"date.csv\")\n",
    "print(df['Date1'])\n",
    "df['Date1'] = pd.to_datetime(df['Date1'])\n",
    "print(df['Date1'])"
   ]
  },
  {
   "cell_type": "code",
   "execution_count": 171,
   "id": "0cdac69c-4aa7-4321-84c7-3253d8944cbf",
   "metadata": {},
   "outputs": [
    {
     "name": "stdout",
     "output_type": "stream",
     "text": [
      "0    2024:02:17\n",
      "1    2024:02:18\n",
      "2    2024:02:19\n",
      "Name: Date2, dtype: object\n",
      "0   2024-02-17\n",
      "1   2024-02-18\n",
      "2   2024-02-19\n",
      "Name: Date2, dtype: datetime64[ns]\n"
     ]
    }
   ],
   "source": [
    "df = pd.read_csv(\"date.csv\")\n",
    "print(df['Date2'])\n",
    "df['Date2'] = pd.to_datetime(df['Date2'],format=\"%Y:%m:%d\")\n",
    "print(df['Date2'])"
   ]
  },
  {
   "cell_type": "code",
   "execution_count": 173,
   "id": "3b4b89ea-9535-4e7b-a431-01fdb40fa185",
   "metadata": {},
   "outputs": [
    {
     "name": "stdout",
     "output_type": "stream",
     "text": [
      "0    24/02/17\n",
      "1    24/02/18\n",
      "2    24/02/19\n",
      "Name: Date3, dtype: object\n",
      "0   2024-02-17\n",
      "1   2024-02-18\n",
      "2   2024-02-19\n",
      "Name: Date3, dtype: datetime64[ns]\n"
     ]
    }
   ],
   "source": [
    "df = pd.read_csv(\"date.csv\")\n",
    "print(df['Date3'])\n",
    "df['Date3'] = pd.to_datetime(df['Date3'], format=\"%y/%m/%d\")\n",
    "print(df['Date3'])"
   ]
  },
  {
   "cell_type": "code",
   "execution_count": 175,
   "id": "a9e42419-73bd-42f6-8b33-e0e1028ba1a5",
   "metadata": {},
   "outputs": [
    {
     "name": "stdout",
     "output_type": "stream",
     "text": [
      "0    02/17/2024\n",
      "1    02/18/2024\n",
      "2    02/19/2024\n",
      "Name: Date4, dtype: object\n",
      "0   2024-02-17\n",
      "1   2024-02-18\n",
      "2   2024-02-19\n",
      "Name: Date4, dtype: datetime64[ns]\n"
     ]
    }
   ],
   "source": [
    "df = pd.read_csv(\"date.csv\")\n",
    "print(df['Date4'])\n",
    "df['Date4'] = pd.to_datetime(df['Date4'])\n",
    "print(df['Date4'])"
   ]
  },
  {
   "cell_type": "code",
   "execution_count": 177,
   "id": "7c378ec6-7766-4e25-9fb9-216a34c7a825",
   "metadata": {},
   "outputs": [
    {
     "name": "stdout",
     "output_type": "stream",
     "text": [
      "0    17-Feb-2024\n",
      "1    18-Feb-2024\n",
      "2    19-Feb-2024\n",
      "Name: Date5, dtype: object\n",
      "0   2024-02-17\n",
      "1   2024-02-18\n",
      "2   2024-02-19\n",
      "Name: Date5, dtype: datetime64[ns]\n"
     ]
    }
   ],
   "source": [
    "df = pd.read_csv(\"date.csv\")\n",
    "print(df['Date5'])\n",
    "df['Date5'] = pd.to_datetime(df['Date5'])\n",
    "print(df['Date5'])"
   ]
  },
  {
   "cell_type": "code",
   "execution_count": 181,
   "id": "95dac379-57f7-41ba-b663-10c3f4cc05b1",
   "metadata": {},
   "outputs": [
    {
     "name": "stdout",
     "output_type": "stream",
     "text": [
      "0    2024년02월17일\n",
      "1    2024년02월18일\n",
      "2    2024년02월19일\n",
      "Name: Date6, dtype: object\n",
      "0   2024-02-17\n",
      "1   2024-02-18\n",
      "2   2024-02-19\n",
      "Name: Date6, dtype: datetime64[ns]\n"
     ]
    }
   ],
   "source": [
    "df = pd.read_csv(\"date.csv\")\n",
    "print(df['Date6'])\n",
    "df['Date6'] = pd.to_datetime(df['Date6'], format=\"%Y년%m월%d일\")\n",
    "print(df['Date6'])"
   ]
  },
  {
   "cell_type": "code",
   "execution_count": 187,
   "id": "27f75a7c-b076-45fe-8adb-db2cf9180c93",
   "metadata": {},
   "outputs": [
    {
     "name": "stdout",
     "output_type": "stream",
     "text": [
      "0    24-02-17 11:45:30\n",
      "1    24-02-18 12:55:45\n",
      "2    24-02-19 13:30:15\n",
      "Name: DateTime1, dtype: object\n",
      "0   2024-02-17 11:45:30\n",
      "1   2024-02-18 12:55:45\n",
      "2   2024-02-19 13:30:15\n",
      "Name: DateTime1, dtype: datetime64[ns]\n"
     ]
    }
   ],
   "source": [
    "df = pd.read_csv(\"date.csv\")\n",
    "print(df['DateTime1'])\n",
    "df['DateTime1'] = pd.to_datetime(df['DateTime1'],format=\"%y-%m-%d %H:%M:%S\")\n",
    "print(df['DateTime1'])"
   ]
  },
  {
   "cell_type": "code",
   "execution_count": 191,
   "id": "7b1c2de5-4a25-4ad7-b7a7-4c8fd1d18856",
   "metadata": {},
   "outputs": [
    {
     "name": "stdout",
     "output_type": "stream",
     "text": [
      "0    2024-02-17 11-45-30\n",
      "1    2024-02-18 12-55-45\n",
      "2    2024-02-19 13-30-15\n",
      "Name: DateTime2, dtype: object\n",
      "0   2024-02-17 11:45:30\n",
      "1   2024-02-18 12:55:45\n",
      "2   2024-02-19 13:30:15\n",
      "Name: DateTime2, dtype: datetime64[ns]\n"
     ]
    }
   ],
   "source": [
    "df = pd.read_csv(\"date.csv\")\n",
    "print(df['DateTime2'])\n",
    "df['DateTime2'] = pd.to_datetime(df['DateTime2'],format=\"%Y-%m-%d %H-%M-%S\")\n",
    "print(df['DateTime2'])"
   ]
  },
  {
   "cell_type": "code",
   "execution_count": 193,
   "id": "4d133182-563e-4422-a9b5-e7ee33755345",
   "metadata": {},
   "outputs": [
    {
     "name": "stdout",
     "output_type": "stream",
     "text": [
      "0    02/17/2024 11:45:30 AM\n",
      "1    02/18/2024 12:55:45 PM\n",
      "2    02/19/2024 01:30:15 PM\n",
      "Name: DateTime3, dtype: object\n",
      "0   2024-02-17 11:45:30\n",
      "1   2024-02-18 12:55:45\n",
      "2   2024-02-19 13:30:15\n",
      "Name: DateTime3, dtype: datetime64[ns]\n"
     ]
    }
   ],
   "source": [
    "df = pd.read_csv(\"date.csv\")\n",
    "print(df['DateTime3'])\n",
    "df['DateTime3'] = pd.to_datetime(df['DateTime3'])\n",
    "print(df['DateTime3'])"
   ]
  },
  {
   "cell_type": "code",
   "execution_count": 195,
   "id": "cb5a29f2-fbb8-48ab-938b-1068a1ea1e91",
   "metadata": {},
   "outputs": [
    {
     "name": "stdout",
     "output_type": "stream",
     "text": [
      "0    17 Feb 2024 11:45:30\n",
      "1    18 Feb 2024 12:55:45\n",
      "2    19 Feb 2024 13:30:15\n",
      "Name: DateTime4, dtype: object\n",
      "0   2024-02-17 11:45:30\n",
      "1   2024-02-18 12:55:45\n",
      "2   2024-02-19 13:30:15\n",
      "Name: DateTime4, dtype: datetime64[ns]\n"
     ]
    }
   ],
   "source": [
    "df = pd.read_csv(\"date.csv\")\n",
    "print(df['DateTime4'])\n",
    "df['DateTime4'] = pd.to_datetime(df['DateTime4'])\n",
    "print(df['DateTime4'])"
   ]
  },
  {
   "cell_type": "code",
   "execution_count": 197,
   "id": "a60e4e45-5706-4efe-b407-f4f61c878e0f",
   "metadata": {},
   "outputs": [
    {
     "name": "stdout",
     "output_type": "stream",
     "text": [
      "<class 'pandas.core.frame.DataFrame'>\n",
      "RangeIndex: 3 entries, 0 to 2\n",
      "Data columns (total 10 columns):\n",
      " #   Column     Non-Null Count  Dtype         \n",
      "---  ------     --------------  -----         \n",
      " 0   Date1      3 non-null      object        \n",
      " 1   Date2      3 non-null      object        \n",
      " 2   Date3      3 non-null      object        \n",
      " 3   Date4      3 non-null      object        \n",
      " 4   Date5      3 non-null      object        \n",
      " 5   Date6      3 non-null      object        \n",
      " 6   DateTime1  3 non-null      object        \n",
      " 7   DateTime2  3 non-null      object        \n",
      " 8   DateTime3  3 non-null      object        \n",
      " 9   DateTime4  3 non-null      datetime64[ns]\n",
      "dtypes: datetime64[ns](1), object(9)\n",
      "memory usage: 372.0+ bytes\n"
     ]
    }
   ],
   "source": [
    "df.info()"
   ]
  },
  {
   "cell_type": "code",
   "execution_count": 201,
   "id": "84b01227-e8b5-4a78-abe8-1075a06cff6a",
   "metadata": {},
   "outputs": [
    {
     "data": {
      "text/html": [
       "<div>\n",
       "<style scoped>\n",
       "    .dataframe tbody tr th:only-of-type {\n",
       "        vertical-align: middle;\n",
       "    }\n",
       "\n",
       "    .dataframe tbody tr th {\n",
       "        vertical-align: top;\n",
       "    }\n",
       "\n",
       "    .dataframe thead th {\n",
       "        text-align: right;\n",
       "    }\n",
       "</style>\n",
       "<table border=\"1\" class=\"dataframe\">\n",
       "  <thead>\n",
       "    <tr style=\"text-align: right;\">\n",
       "      <th></th>\n",
       "      <th>Date1</th>\n",
       "      <th>Date2</th>\n",
       "      <th>Date3</th>\n",
       "      <th>Date4</th>\n",
       "      <th>Date5</th>\n",
       "      <th>Date6</th>\n",
       "      <th>DateTime1</th>\n",
       "      <th>DateTime2</th>\n",
       "      <th>DateTime3</th>\n",
       "      <th>DateTime4</th>\n",
       "      <th>year</th>\n",
       "      <th>month</th>\n",
       "      <th>day</th>\n",
       "      <th>hour</th>\n",
       "      <th>minute</th>\n",
       "      <th>second</th>\n",
       "    </tr>\n",
       "  </thead>\n",
       "  <tbody>\n",
       "    <tr>\n",
       "      <th>0</th>\n",
       "      <td>2024-02-17</td>\n",
       "      <td>2024:02:17</td>\n",
       "      <td>24/02/17</td>\n",
       "      <td>02/17/2024</td>\n",
       "      <td>17-Feb-2024</td>\n",
       "      <td>2024년02월17일</td>\n",
       "      <td>24-02-17 11:45:30</td>\n",
       "      <td>2024-02-17 11-45-30</td>\n",
       "      <td>02/17/2024 11:45:30 AM</td>\n",
       "      <td>2024-02-17 11:45:30</td>\n",
       "      <td>2024</td>\n",
       "      <td>2</td>\n",
       "      <td>17</td>\n",
       "      <td>11</td>\n",
       "      <td>45</td>\n",
       "      <td>30</td>\n",
       "    </tr>\n",
       "    <tr>\n",
       "      <th>1</th>\n",
       "      <td>2024-02-18</td>\n",
       "      <td>2024:02:18</td>\n",
       "      <td>24/02/18</td>\n",
       "      <td>02/18/2024</td>\n",
       "      <td>18-Feb-2024</td>\n",
       "      <td>2024년02월18일</td>\n",
       "      <td>24-02-18 12:55:45</td>\n",
       "      <td>2024-02-18 12-55-45</td>\n",
       "      <td>02/18/2024 12:55:45 PM</td>\n",
       "      <td>2024-02-18 12:55:45</td>\n",
       "      <td>2024</td>\n",
       "      <td>2</td>\n",
       "      <td>18</td>\n",
       "      <td>12</td>\n",
       "      <td>55</td>\n",
       "      <td>45</td>\n",
       "    </tr>\n",
       "    <tr>\n",
       "      <th>2</th>\n",
       "      <td>2024-02-19</td>\n",
       "      <td>2024:02:19</td>\n",
       "      <td>24/02/19</td>\n",
       "      <td>02/19/2024</td>\n",
       "      <td>19-Feb-2024</td>\n",
       "      <td>2024년02월19일</td>\n",
       "      <td>24-02-19 13:30:15</td>\n",
       "      <td>2024-02-19 13-30-15</td>\n",
       "      <td>02/19/2024 01:30:15 PM</td>\n",
       "      <td>2024-02-19 13:30:15</td>\n",
       "      <td>2024</td>\n",
       "      <td>2</td>\n",
       "      <td>19</td>\n",
       "      <td>13</td>\n",
       "      <td>30</td>\n",
       "      <td>15</td>\n",
       "    </tr>\n",
       "  </tbody>\n",
       "</table>\n",
       "</div>"
      ],
      "text/plain": [
       "        Date1       Date2     Date3       Date4        Date5        Date6  \\\n",
       "0  2024-02-17  2024:02:17  24/02/17  02/17/2024  17-Feb-2024  2024년02월17일   \n",
       "1  2024-02-18  2024:02:18  24/02/18  02/18/2024  18-Feb-2024  2024년02월18일   \n",
       "2  2024-02-19  2024:02:19  24/02/19  02/19/2024  19-Feb-2024  2024년02월19일   \n",
       "\n",
       "           DateTime1            DateTime2               DateTime3  \\\n",
       "0  24-02-17 11:45:30  2024-02-17 11-45-30  02/17/2024 11:45:30 AM   \n",
       "1  24-02-18 12:55:45  2024-02-18 12-55-45  02/18/2024 12:55:45 PM   \n",
       "2  24-02-19 13:30:15  2024-02-19 13-30-15  02/19/2024 01:30:15 PM   \n",
       "\n",
       "            DateTime4  year  month  day  hour  minute  second  \n",
       "0 2024-02-17 11:45:30  2024      2   17    11      45      30  \n",
       "1 2024-02-18 12:55:45  2024      2   18    12      55      45  \n",
       "2 2024-02-19 13:30:15  2024      2   19    13      30      15  "
      ]
     },
     "execution_count": 201,
     "metadata": {},
     "output_type": "execute_result"
    }
   ],
   "source": [
    "df['year']=df['DateTime4'].dt.year\n",
    "df['month']=df['DateTime4'].dt.month\n",
    "df['day']=df['DateTime4'].dt.day\n",
    "df['hour']=df['DateTime4'].dt.hour\n",
    "df['minute']=df['DateTime4'].dt.minute\n",
    "df['second']=df['DateTime4'].dt.second\n",
    "df"
   ]
  },
  {
   "cell_type": "code",
   "execution_count": 203,
   "id": "2703276c-687e-4bf9-bacb-acaec88df8f7",
   "metadata": {},
   "outputs": [
    {
     "data": {
      "text/plain": [
       "0    5\n",
       "1    6\n",
       "2    0\n",
       "Name: DateTime4, dtype: int32"
      ]
     },
     "execution_count": 203,
     "metadata": {},
     "output_type": "execute_result"
    }
   ],
   "source": [
    "#요일 dayofweek 0:월 1:화 2:수 3:목 4:금 5:토 6:일\n",
    "df['DateTime4'].dt.dayofweek"
   ]
  },
  {
   "cell_type": "code",
   "execution_count": 207,
   "id": "11e608dd-7df3-4157-8b5d-77207f990f09",
   "metadata": {},
   "outputs": [
    {
     "data": {
      "text/html": [
       "<div>\n",
       "<style scoped>\n",
       "    .dataframe tbody tr th:only-of-type {\n",
       "        vertical-align: middle;\n",
       "    }\n",
       "\n",
       "    .dataframe tbody tr th {\n",
       "        vertical-align: top;\n",
       "    }\n",
       "\n",
       "    .dataframe thead th {\n",
       "        text-align: right;\n",
       "    }\n",
       "</style>\n",
       "<table border=\"1\" class=\"dataframe\">\n",
       "  <thead>\n",
       "    <tr style=\"text-align: right;\">\n",
       "      <th></th>\n",
       "      <th>Date1</th>\n",
       "      <th>Date2</th>\n",
       "      <th>Date3</th>\n",
       "      <th>Date4</th>\n",
       "      <th>Date5</th>\n",
       "      <th>Date6</th>\n",
       "      <th>DateTime1</th>\n",
       "      <th>DateTime2</th>\n",
       "      <th>DateTime3</th>\n",
       "      <th>DateTime4</th>\n",
       "      <th>year</th>\n",
       "      <th>month</th>\n",
       "      <th>day</th>\n",
       "      <th>hour</th>\n",
       "      <th>minute</th>\n",
       "      <th>second</th>\n",
       "      <th>is주말</th>\n",
       "    </tr>\n",
       "  </thead>\n",
       "  <tbody>\n",
       "    <tr>\n",
       "      <th>0</th>\n",
       "      <td>2024-02-17</td>\n",
       "      <td>2024:02:17</td>\n",
       "      <td>24/02/17</td>\n",
       "      <td>02/17/2024</td>\n",
       "      <td>17-Feb-2024</td>\n",
       "      <td>2024년02월17일</td>\n",
       "      <td>24-02-17 11:45:30</td>\n",
       "      <td>2024-02-17 11-45-30</td>\n",
       "      <td>02/17/2024 11:45:30 AM</td>\n",
       "      <td>2024-02-17 11:45:30</td>\n",
       "      <td>2024</td>\n",
       "      <td>2</td>\n",
       "      <td>17</td>\n",
       "      <td>11</td>\n",
       "      <td>45</td>\n",
       "      <td>30</td>\n",
       "      <td>True</td>\n",
       "    </tr>\n",
       "    <tr>\n",
       "      <th>1</th>\n",
       "      <td>2024-02-18</td>\n",
       "      <td>2024:02:18</td>\n",
       "      <td>24/02/18</td>\n",
       "      <td>02/18/2024</td>\n",
       "      <td>18-Feb-2024</td>\n",
       "      <td>2024년02월18일</td>\n",
       "      <td>24-02-18 12:55:45</td>\n",
       "      <td>2024-02-18 12-55-45</td>\n",
       "      <td>02/18/2024 12:55:45 PM</td>\n",
       "      <td>2024-02-18 12:55:45</td>\n",
       "      <td>2024</td>\n",
       "      <td>2</td>\n",
       "      <td>18</td>\n",
       "      <td>12</td>\n",
       "      <td>55</td>\n",
       "      <td>45</td>\n",
       "      <td>True</td>\n",
       "    </tr>\n",
       "    <tr>\n",
       "      <th>2</th>\n",
       "      <td>2024-02-19</td>\n",
       "      <td>2024:02:19</td>\n",
       "      <td>24/02/19</td>\n",
       "      <td>02/19/2024</td>\n",
       "      <td>19-Feb-2024</td>\n",
       "      <td>2024년02월19일</td>\n",
       "      <td>24-02-19 13:30:15</td>\n",
       "      <td>2024-02-19 13-30-15</td>\n",
       "      <td>02/19/2024 01:30:15 PM</td>\n",
       "      <td>2024-02-19 13:30:15</td>\n",
       "      <td>2024</td>\n",
       "      <td>2</td>\n",
       "      <td>19</td>\n",
       "      <td>13</td>\n",
       "      <td>30</td>\n",
       "      <td>15</td>\n",
       "      <td>False</td>\n",
       "    </tr>\n",
       "  </tbody>\n",
       "</table>\n",
       "</div>"
      ],
      "text/plain": [
       "        Date1       Date2     Date3       Date4        Date5        Date6  \\\n",
       "0  2024-02-17  2024:02:17  24/02/17  02/17/2024  17-Feb-2024  2024년02월17일   \n",
       "1  2024-02-18  2024:02:18  24/02/18  02/18/2024  18-Feb-2024  2024년02월18일   \n",
       "2  2024-02-19  2024:02:19  24/02/19  02/19/2024  19-Feb-2024  2024년02월19일   \n",
       "\n",
       "           DateTime1            DateTime2               DateTime3  \\\n",
       "0  24-02-17 11:45:30  2024-02-17 11-45-30  02/17/2024 11:45:30 AM   \n",
       "1  24-02-18 12:55:45  2024-02-18 12-55-45  02/18/2024 12:55:45 PM   \n",
       "2  24-02-19 13:30:15  2024-02-19 13-30-15  02/19/2024 01:30:15 PM   \n",
       "\n",
       "            DateTime4  year  month  day  hour  minute  second   is주말  \n",
       "0 2024-02-17 11:45:30  2024      2   17    11      45      30   True  \n",
       "1 2024-02-18 12:55:45  2024      2   18    12      55      45   True  \n",
       "2 2024-02-19 13:30:15  2024      2   19    13      30      15  False  "
      ]
     },
     "execution_count": 207,
     "metadata": {},
     "output_type": "execute_result"
    }
   ],
   "source": [
    "#주말\n",
    "df['is주말']=df['DateTime4'].dt.dayofweek>=5\n",
    "df"
   ]
  },
  {
   "cell_type": "code",
   "execution_count": 231,
   "id": "2833ec71-cd0a-4faf-8b32-d8b45587c2fb",
   "metadata": {},
   "outputs": [
    {
     "data": {
      "text/html": [
       "<div>\n",
       "<style scoped>\n",
       "    .dataframe tbody tr th:only-of-type {\n",
       "        vertical-align: middle;\n",
       "    }\n",
       "\n",
       "    .dataframe tbody tr th {\n",
       "        vertical-align: top;\n",
       "    }\n",
       "\n",
       "    .dataframe thead th {\n",
       "        text-align: right;\n",
       "    }\n",
       "</style>\n",
       "<table border=\"1\" class=\"dataframe\">\n",
       "  <thead>\n",
       "    <tr style=\"text-align: right;\">\n",
       "      <th></th>\n",
       "      <th>DateTime4</th>\n",
       "    </tr>\n",
       "  </thead>\n",
       "  <tbody>\n",
       "    <tr>\n",
       "      <th>0</th>\n",
       "      <td>2024-02-17 11:45:30</td>\n",
       "    </tr>\n",
       "    <tr>\n",
       "      <th>1</th>\n",
       "      <td>2024-02-18 12:55:45</td>\n",
       "    </tr>\n",
       "    <tr>\n",
       "      <th>2</th>\n",
       "      <td>2024-02-19 13:30:15</td>\n",
       "    </tr>\n",
       "  </tbody>\n",
       "</table>\n",
       "</div>"
      ],
      "text/plain": [
       "            DateTime4\n",
       "0 2024-02-17 11:45:30\n",
       "1 2024-02-18 12:55:45\n",
       "2 2024-02-19 13:30:15"
      ]
     },
     "execution_count": 231,
     "metadata": {},
     "output_type": "execute_result"
    }
   ],
   "source": [
    "df=pd.read_csv(\"date.csv\",usecols=['DateTime4'], parse_dates=['DateTime4'])\n",
    "df"
   ]
  },
  {
   "cell_type": "code",
   "execution_count": 233,
   "id": "ed1adb92-30ad-4cb9-b091-e5b0714e43b3",
   "metadata": {},
   "outputs": [
    {
     "data": {
      "text/html": [
       "<div>\n",
       "<style scoped>\n",
       "    .dataframe tbody tr th:only-of-type {\n",
       "        vertical-align: middle;\n",
       "    }\n",
       "\n",
       "    .dataframe tbody tr th {\n",
       "        vertical-align: top;\n",
       "    }\n",
       "\n",
       "    .dataframe thead th {\n",
       "        text-align: right;\n",
       "    }\n",
       "</style>\n",
       "<table border=\"1\" class=\"dataframe\">\n",
       "  <thead>\n",
       "    <tr style=\"text-align: right;\">\n",
       "      <th></th>\n",
       "      <th>DateTime4</th>\n",
       "      <th>100일</th>\n",
       "    </tr>\n",
       "  </thead>\n",
       "  <tbody>\n",
       "    <tr>\n",
       "      <th>0</th>\n",
       "      <td>2024-02-17 11:45:30</td>\n",
       "      <td>2024-05-26 11:45:30</td>\n",
       "    </tr>\n",
       "    <tr>\n",
       "      <th>1</th>\n",
       "      <td>2024-02-18 12:55:45</td>\n",
       "      <td>2024-05-27 12:55:45</td>\n",
       "    </tr>\n",
       "    <tr>\n",
       "      <th>2</th>\n",
       "      <td>2024-02-19 13:30:15</td>\n",
       "      <td>2024-05-28 13:30:15</td>\n",
       "    </tr>\n",
       "  </tbody>\n",
       "</table>\n",
       "</div>"
      ],
      "text/plain": [
       "            DateTime4                100일\n",
       "0 2024-02-17 11:45:30 2024-05-26 11:45:30\n",
       "1 2024-02-18 12:55:45 2024-05-27 12:55:45\n",
       "2 2024-02-19 13:30:15 2024-05-28 13:30:15"
      ]
     },
     "execution_count": 233,
     "metadata": {},
     "output_type": "execute_result"
    }
   ],
   "source": [
    "day=pd.Timedelta(days=99)\n",
    "df['100일']=df['DateTime4']+day\n",
    "df"
   ]
  },
  {
   "cell_type": "code",
   "execution_count": 235,
   "id": "17beb5c6-7118-40b6-8924-80d12baa4982",
   "metadata": {},
   "outputs": [
    {
     "data": {
      "text/html": [
       "<div>\n",
       "<style scoped>\n",
       "    .dataframe tbody tr th:only-of-type {\n",
       "        vertical-align: middle;\n",
       "    }\n",
       "\n",
       "    .dataframe tbody tr th {\n",
       "        vertical-align: top;\n",
       "    }\n",
       "\n",
       "    .dataframe thead th {\n",
       "        text-align: right;\n",
       "    }\n",
       "</style>\n",
       "<table border=\"1\" class=\"dataframe\">\n",
       "  <thead>\n",
       "    <tr style=\"text-align: right;\">\n",
       "      <th></th>\n",
       "      <th>DateTime4</th>\n",
       "      <th>100일</th>\n",
       "      <th>100시간</th>\n",
       "    </tr>\n",
       "  </thead>\n",
       "  <tbody>\n",
       "    <tr>\n",
       "      <th>0</th>\n",
       "      <td>2024-02-17 11:45:30</td>\n",
       "      <td>2024-05-26 11:45:30</td>\n",
       "      <td>2024-02-21 15:45:30</td>\n",
       "    </tr>\n",
       "    <tr>\n",
       "      <th>1</th>\n",
       "      <td>2024-02-18 12:55:45</td>\n",
       "      <td>2024-05-27 12:55:45</td>\n",
       "      <td>2024-02-22 16:55:45</td>\n",
       "    </tr>\n",
       "    <tr>\n",
       "      <th>2</th>\n",
       "      <td>2024-02-19 13:30:15</td>\n",
       "      <td>2024-05-28 13:30:15</td>\n",
       "      <td>2024-02-23 17:30:15</td>\n",
       "    </tr>\n",
       "  </tbody>\n",
       "</table>\n",
       "</div>"
      ],
      "text/plain": [
       "            DateTime4                100일               100시간\n",
       "0 2024-02-17 11:45:30 2024-05-26 11:45:30 2024-02-21 15:45:30\n",
       "1 2024-02-18 12:55:45 2024-05-27 12:55:45 2024-02-22 16:55:45\n",
       "2 2024-02-19 13:30:15 2024-05-28 13:30:15 2024-02-23 17:30:15"
      ]
     },
     "execution_count": 235,
     "metadata": {},
     "output_type": "execute_result"
    }
   ],
   "source": [
    "hour=pd.Timedelta(hours=100)\n",
    "df['100시간']=df['DateTime4']+hour\n",
    "df"
   ]
  },
  {
   "cell_type": "code",
   "execution_count": 237,
   "id": "2f97c5e0-ae3c-49dd-a53f-2ce6854db938",
   "metadata": {},
   "outputs": [
    {
     "data": {
      "text/html": [
       "<div>\n",
       "<style scoped>\n",
       "    .dataframe tbody tr th:only-of-type {\n",
       "        vertical-align: middle;\n",
       "    }\n",
       "\n",
       "    .dataframe tbody tr th {\n",
       "        vertical-align: top;\n",
       "    }\n",
       "\n",
       "    .dataframe thead th {\n",
       "        text-align: right;\n",
       "    }\n",
       "</style>\n",
       "<table border=\"1\" class=\"dataframe\">\n",
       "  <thead>\n",
       "    <tr style=\"text-align: right;\">\n",
       "      <th></th>\n",
       "      <th>DateTime4</th>\n",
       "      <th>100일</th>\n",
       "      <th>100시간</th>\n",
       "      <th>+diff</th>\n",
       "      <th>-diff</th>\n",
       "    </tr>\n",
       "  </thead>\n",
       "  <tbody>\n",
       "    <tr>\n",
       "      <th>0</th>\n",
       "      <td>2024-02-17 11:45:30</td>\n",
       "      <td>2024-05-26 11:45:30</td>\n",
       "      <td>2024-02-21 15:45:30</td>\n",
       "      <td>2024-03-12 14:48:33</td>\n",
       "      <td>2024-01-24 08:42:27</td>\n",
       "    </tr>\n",
       "    <tr>\n",
       "      <th>1</th>\n",
       "      <td>2024-02-18 12:55:45</td>\n",
       "      <td>2024-05-27 12:55:45</td>\n",
       "      <td>2024-02-22 16:55:45</td>\n",
       "      <td>2024-03-13 15:58:48</td>\n",
       "      <td>2024-01-25 09:52:42</td>\n",
       "    </tr>\n",
       "    <tr>\n",
       "      <th>2</th>\n",
       "      <td>2024-02-19 13:30:15</td>\n",
       "      <td>2024-05-28 13:30:15</td>\n",
       "      <td>2024-02-23 17:30:15</td>\n",
       "      <td>2024-03-14 16:33:18</td>\n",
       "      <td>2024-01-26 10:27:12</td>\n",
       "    </tr>\n",
       "  </tbody>\n",
       "</table>\n",
       "</div>"
      ],
      "text/plain": [
       "            DateTime4                100일               100시간  \\\n",
       "0 2024-02-17 11:45:30 2024-05-26 11:45:30 2024-02-21 15:45:30   \n",
       "1 2024-02-18 12:55:45 2024-05-27 12:55:45 2024-02-22 16:55:45   \n",
       "2 2024-02-19 13:30:15 2024-05-28 13:30:15 2024-02-23 17:30:15   \n",
       "\n",
       "                +diff               -diff  \n",
       "0 2024-03-12 14:48:33 2024-01-24 08:42:27  \n",
       "1 2024-03-13 15:58:48 2024-01-25 09:52:42  \n",
       "2 2024-03-14 16:33:18 2024-01-26 10:27:12  "
      ]
     },
     "execution_count": 237,
     "metadata": {},
     "output_type": "execute_result"
    }
   ],
   "source": [
    "diff=pd.Timedelta(weeks=3,days=3,hours=3,minutes=3,seconds=3)\n",
    "df['+diff']=df['DateTime4']+diff\n",
    "df['-diff']=df['DateTime4']-diff\n",
    "df"
   ]
  },
  {
   "cell_type": "code",
   "execution_count": 239,
   "id": "dab07bcb-6d3d-4cdb-9bd3-f326908380cc",
   "metadata": {},
   "outputs": [
    {
     "data": {
      "text/plain": [
       "0   94 days 20:00:00\n",
       "1   94 days 20:00:00\n",
       "2   94 days 20:00:00\n",
       "dtype: timedelta64[ns]"
      ]
     },
     "execution_count": 239,
     "metadata": {},
     "output_type": "execute_result"
    }
   ],
   "source": [
    "diff=df['100일']-df['100시간']\n",
    "diff"
   ]
  },
  {
   "cell_type": "code",
   "execution_count": 251,
   "id": "e5768fb8-1eef-42ac-afc0-20c8c0cddc3e",
   "metadata": {},
   "outputs": [
    {
     "name": "stdout",
     "output_type": "stream",
     "text": [
      "0    8193600.0\n",
      "1    8193600.0\n",
      "2    8193600.0\n",
      "dtype: float64\n",
      "0    136560.0\n",
      "1    136560.0\n",
      "2    136560.0\n",
      "dtype: float64\n",
      "0    2276.0\n",
      "1    2276.0\n",
      "2    2276.0\n",
      "dtype: float64\n",
      "0    94.833333\n",
      "1    94.833333\n",
      "2    94.833333\n",
      "dtype: float64\n"
     ]
    }
   ],
   "source": [
    "print(diff.dt.total_seconds())\n",
    "print(diff.dt.total_seconds()/60)\n",
    "print(diff.dt.total_seconds()/60/60)\n",
    "print(diff.dt.total_seconds()/60/60/24)"
   ]
  },
  {
   "cell_type": "code",
   "execution_count": 253,
   "id": "0ce6f872-35c8-4926-abbe-0c60257bca4d",
   "metadata": {},
   "outputs": [
    {
     "data": {
      "text/plain": [
       "5"
      ]
     },
     "execution_count": 253,
     "metadata": {},
     "output_type": "execute_result"
    }
   ],
   "source": [
    "#반올림(ex:5.49분) 30초 이상이면 올림, 미만이면 버림\n",
    "value=5.49\n",
    "round(value)"
   ]
  },
  {
   "cell_type": "code",
   "execution_count": null,
   "id": "936c716e-2dc3-459e-baba-162e437d558e",
   "metadata": {},
   "outputs": [],
   "source": []
  }
 ],
 "metadata": {
  "kernelspec": {
   "display_name": "Python 3 (ipykernel)",
   "language": "python",
   "name": "python3"
  },
  "language_info": {
   "codemirror_mode": {
    "name": "ipython",
    "version": 3
   },
   "file_extension": ".py",
   "mimetype": "text/x-python",
   "name": "python",
   "nbconvert_exporter": "python",
   "pygments_lexer": "ipython3",
   "version": "3.12.3"
  }
 },
 "nbformat": 4,
 "nbformat_minor": 5
}
