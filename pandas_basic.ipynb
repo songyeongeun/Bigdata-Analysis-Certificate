{
 "cells": [
  {
   "cell_type": "code",
   "execution_count": 4,
   "id": "d0584026-1dad-4a52-a92d-c451a3b17d9e",
   "metadata": {},
   "outputs": [],
   "source": [
    "import pandas as pd"
   ]
  },
  {
   "cell_type": "code",
   "execution_count": 7,
   "id": "00e29e8b-51da-439f-b295-1f4b8c5f2726",
   "metadata": {},
   "outputs": [
    {
     "data": {
      "text/plain": [
       "0    육회비빔밥\n",
       "1     타코야끼\n",
       "2    불닭볶음면\n",
       "dtype: object"
      ]
     },
     "execution_count": 7,
     "metadata": {},
     "output_type": "execute_result"
    }
   ],
   "source": [
    "#시리즈 만들기(문자열)\n",
    "menu = pd.Series(['육회비빔밥','타코야끼','불닭볶음면'])\n",
    "menu"
   ]
  },
  {
   "cell_type": "code",
   "execution_count": 8,
   "id": "af20fef4-4cab-49b5-9f33-1a87b1dd0e82",
   "metadata": {},
   "outputs": [
    {
     "data": {
      "text/plain": [
       "0    10000\n",
       "1     9000\n",
       "2     3000\n",
       "dtype: int64"
      ]
     },
     "execution_count": 8,
     "metadata": {},
     "output_type": "execute_result"
    }
   ],
   "source": [
    "#시리즈 만들기(정수)\n",
    "price = pd.Series([10000,9000,3000])\n",
    "price"
   ]
  },
  {
   "cell_type": "code",
   "execution_count": 9,
   "id": "9e66e8e9-c850-41c7-a104-b0d3b46a93a3",
   "metadata": {},
   "outputs": [
    {
     "data": {
      "text/html": [
       "<div>\n",
       "<style scoped>\n",
       "    .dataframe tbody tr th:only-of-type {\n",
       "        vertical-align: middle;\n",
       "    }\n",
       "\n",
       "    .dataframe tbody tr th {\n",
       "        vertical-align: top;\n",
       "    }\n",
       "\n",
       "    .dataframe thead th {\n",
       "        text-align: right;\n",
       "    }\n",
       "</style>\n",
       "<table border=\"1\" class=\"dataframe\">\n",
       "  <thead>\n",
       "    <tr style=\"text-align: right;\">\n",
       "      <th></th>\n",
       "      <th>메뉴</th>\n",
       "      <th>가격</th>\n",
       "    </tr>\n",
       "  </thead>\n",
       "  <tbody>\n",
       "    <tr>\n",
       "      <th>0</th>\n",
       "      <td>육회비빔밥</td>\n",
       "      <td>10000</td>\n",
       "    </tr>\n",
       "    <tr>\n",
       "      <th>1</th>\n",
       "      <td>타코야끼</td>\n",
       "      <td>9000</td>\n",
       "    </tr>\n",
       "    <tr>\n",
       "      <th>2</th>\n",
       "      <td>불닭볶음면</td>\n",
       "      <td>3000</td>\n",
       "    </tr>\n",
       "  </tbody>\n",
       "</table>\n",
       "</div>"
      ],
      "text/plain": [
       "      메뉴     가격\n",
       "0  육회비빔밥  10000\n",
       "1   타코야끼   9000\n",
       "2  불닭볶음면   3000"
      ]
     },
     "execution_count": 9,
     "metadata": {},
     "output_type": "execute_result"
    }
   ],
   "source": [
    "#데이터 프레임 만들기 pd.DataFrame({\"컬럼명\":데이터})\n",
    "pd.DataFrame({\n",
    "    \"메뉴\":menu,\n",
    "    \"가격\":price\n",
    "})"
   ]
  },
  {
   "cell_type": "code",
   "execution_count": 11,
   "id": "ad54c1bb-9365-480d-94c5-735d3ecdf34d",
   "metadata": {},
   "outputs": [
    {
     "data": {
      "text/html": [
       "<div>\n",
       "<style scoped>\n",
       "    .dataframe tbody tr th:only-of-type {\n",
       "        vertical-align: middle;\n",
       "    }\n",
       "\n",
       "    .dataframe tbody tr th {\n",
       "        vertical-align: top;\n",
       "    }\n",
       "\n",
       "    .dataframe thead th {\n",
       "        text-align: right;\n",
       "    }\n",
       "</style>\n",
       "<table border=\"1\" class=\"dataframe\">\n",
       "  <thead>\n",
       "    <tr style=\"text-align: right;\">\n",
       "      <th></th>\n",
       "      <th>메뉴</th>\n",
       "      <th>가격</th>\n",
       "      <th>원산지</th>\n",
       "    </tr>\n",
       "  </thead>\n",
       "  <tbody>\n",
       "    <tr>\n",
       "      <th>0</th>\n",
       "      <td>육회비빔밥</td>\n",
       "      <td>10000</td>\n",
       "      <td>국내산</td>\n",
       "    </tr>\n",
       "    <tr>\n",
       "      <th>1</th>\n",
       "      <td>타코야끼</td>\n",
       "      <td>9000</td>\n",
       "      <td>국내산</td>\n",
       "    </tr>\n",
       "    <tr>\n",
       "      <th>2</th>\n",
       "      <td>불닭볶음면</td>\n",
       "      <td>3000</td>\n",
       "      <td>국내산</td>\n",
       "    </tr>\n",
       "  </tbody>\n",
       "</table>\n",
       "</div>"
      ],
      "text/plain": [
       "      메뉴     가격  원산지\n",
       "0  육회비빔밥  10000  국내산\n",
       "1   타코야끼   9000  국내산\n",
       "2  불닭볶음면   3000  국내산"
      ]
     },
     "execution_count": 11,
     "metadata": {},
     "output_type": "execute_result"
    }
   ],
   "source": [
    "#데이터 프레임 만들기 pd.DataFrame({\"컬럼명\":데이터})\n",
    "df = pd.DataFrame({\n",
    "    \"메뉴\":['육회비빔밥','타코야끼','불닭볶음면'],\n",
    "    \"가격\":['10000','9000','3000'],\n",
    "    \"원산지\":['국내산','국내산','국내산']\n",
    "})\n",
    "df"
   ]
  },
  {
   "cell_type": "code",
   "execution_count": 15,
   "id": "03ae9828-b869-4904-bbd9-d8001b511e0a",
   "metadata": {},
   "outputs": [
    {
     "data": {
      "text/plain": [
       "0    육회비빔밥\n",
       "1     타코야끼\n",
       "2    불닭볶음면\n",
       "Name: 메뉴, dtype: object"
      ]
     },
     "execution_count": 15,
     "metadata": {},
     "output_type": "execute_result"
    }
   ],
   "source": [
    "#시리즈 선택(메뉴)\n",
    "df['메뉴']"
   ]
  },
  {
   "cell_type": "code",
   "execution_count": 16,
   "id": "5efc350f-9bda-4d37-84c2-7febd031a62c",
   "metadata": {},
   "outputs": [
    {
     "data": {
      "text/html": [
       "<div>\n",
       "<style scoped>\n",
       "    .dataframe tbody tr th:only-of-type {\n",
       "        vertical-align: middle;\n",
       "    }\n",
       "\n",
       "    .dataframe tbody tr th {\n",
       "        vertical-align: top;\n",
       "    }\n",
       "\n",
       "    .dataframe thead th {\n",
       "        text-align: right;\n",
       "    }\n",
       "</style>\n",
       "<table border=\"1\" class=\"dataframe\">\n",
       "  <thead>\n",
       "    <tr style=\"text-align: right;\">\n",
       "      <th></th>\n",
       "      <th>메뉴</th>\n",
       "      <th>가격</th>\n",
       "    </tr>\n",
       "  </thead>\n",
       "  <tbody>\n",
       "    <tr>\n",
       "      <th>0</th>\n",
       "      <td>육회비빔밥</td>\n",
       "      <td>10000</td>\n",
       "    </tr>\n",
       "    <tr>\n",
       "      <th>1</th>\n",
       "      <td>타코야끼</td>\n",
       "      <td>9000</td>\n",
       "    </tr>\n",
       "    <tr>\n",
       "      <th>2</th>\n",
       "      <td>불닭볶음면</td>\n",
       "      <td>3000</td>\n",
       "    </tr>\n",
       "  </tbody>\n",
       "</table>\n",
       "</div>"
      ],
      "text/plain": [
       "      메뉴     가격\n",
       "0  육회비빔밥  10000\n",
       "1   타코야끼   9000\n",
       "2  불닭볶음면   3000"
      ]
     },
     "execution_count": 16,
     "metadata": {},
     "output_type": "execute_result"
    }
   ],
   "source": [
    "#데이터 프레임 선택(메뉴,가격)\n",
    "df[['메뉴','가격']]"
   ]
  },
  {
   "cell_type": "code",
   "execution_count": 17,
   "id": "a1ef08cc-8f1b-4440-b028-661e2c58abae",
   "metadata": {},
   "outputs": [
    {
     "data": {
      "text/html": [
       "<div>\n",
       "<style scoped>\n",
       "    .dataframe tbody tr th:only-of-type {\n",
       "        vertical-align: middle;\n",
       "    }\n",
       "\n",
       "    .dataframe tbody tr th {\n",
       "        vertical-align: top;\n",
       "    }\n",
       "\n",
       "    .dataframe thead th {\n",
       "        text-align: right;\n",
       "    }\n",
       "</style>\n",
       "<table border=\"1\" class=\"dataframe\">\n",
       "  <thead>\n",
       "    <tr style=\"text-align: right;\">\n",
       "      <th></th>\n",
       "      <th>메뉴</th>\n",
       "      <th>가격</th>\n",
       "    </tr>\n",
       "  </thead>\n",
       "  <tbody>\n",
       "    <tr>\n",
       "      <th>0</th>\n",
       "      <td>육회비빔밥</td>\n",
       "      <td>10000</td>\n",
       "    </tr>\n",
       "    <tr>\n",
       "      <th>1</th>\n",
       "      <td>타코야끼</td>\n",
       "      <td>9000</td>\n",
       "    </tr>\n",
       "    <tr>\n",
       "      <th>2</th>\n",
       "      <td>불닭볶음면</td>\n",
       "      <td>3000</td>\n",
       "    </tr>\n",
       "  </tbody>\n",
       "</table>\n",
       "</div>"
      ],
      "text/plain": [
       "      메뉴     가격\n",
       "0  육회비빔밥  10000\n",
       "1   타코야끼   9000\n",
       "2  불닭볶음면   3000"
      ]
     },
     "execution_count": 17,
     "metadata": {},
     "output_type": "execute_result"
    }
   ],
   "source": [
    "#데이터 프레임 선택(메뉴,가격)\n",
    "cols = ['메뉴','가격']\n",
    "df[cols]"
   ]
  },
  {
   "cell_type": "code",
   "execution_count": 21,
   "id": "837fc67a-0758-4fca-937c-b4e73807b4c5",
   "metadata": {},
   "outputs": [
    {
     "name": "stdout",
     "output_type": "stream",
     "text": [
      "df           :  <class 'pandas.core.frame.DataFrame'>\n",
      "df['가격']   :  <class 'pandas.core.series.Series'>\n",
      "df[['가격']] :  <class 'pandas.core.frame.DataFrame'>\n"
     ]
    }
   ],
   "source": [
    "#데이터 프레임 type 확인\n",
    "print(\"df           : \",type(df))\n",
    "print(\"df['가격']   : \",type(df['가격']))\n",
    "print(\"df[['가격']] : \",type(df[['가격']]))"
   ]
  },
  {
   "cell_type": "code",
   "execution_count": 22,
   "id": "6710e94f-7822-4a58-933a-d5c9a81de89b",
   "metadata": {},
   "outputs": [
    {
     "data": {
      "text/html": [
       "<div>\n",
       "<style scoped>\n",
       "    .dataframe tbody tr th:only-of-type {\n",
       "        vertical-align: middle;\n",
       "    }\n",
       "\n",
       "    .dataframe tbody tr th {\n",
       "        vertical-align: top;\n",
       "    }\n",
       "\n",
       "    .dataframe thead th {\n",
       "        text-align: right;\n",
       "    }\n",
       "</style>\n",
       "<table border=\"1\" class=\"dataframe\">\n",
       "  <thead>\n",
       "    <tr style=\"text-align: right;\">\n",
       "      <th></th>\n",
       "      <th>메뉴</th>\n",
       "      <th>가격</th>\n",
       "      <th>칼로리</th>\n",
       "    </tr>\n",
       "  </thead>\n",
       "  <tbody>\n",
       "    <tr>\n",
       "      <th>0</th>\n",
       "      <td>아메리카노</td>\n",
       "      <td>4000</td>\n",
       "      <td>20</td>\n",
       "    </tr>\n",
       "    <tr>\n",
       "      <th>1</th>\n",
       "      <td>카페라뗴</td>\n",
       "      <td>5000</td>\n",
       "      <td>110</td>\n",
       "    </tr>\n",
       "    <tr>\n",
       "      <th>2</th>\n",
       "      <td>카페모카</td>\n",
       "      <td>5000</td>\n",
       "      <td>250</td>\n",
       "    </tr>\n",
       "    <tr>\n",
       "      <th>3</th>\n",
       "      <td>에스프레소</td>\n",
       "      <td>3000</td>\n",
       "      <td>20</td>\n",
       "    </tr>\n",
       "    <tr>\n",
       "      <th>4</th>\n",
       "      <td>밀크티</td>\n",
       "      <td>5500</td>\n",
       "      <td>300</td>\n",
       "    </tr>\n",
       "  </tbody>\n",
       "</table>\n",
       "</div>"
      ],
      "text/plain": [
       "      메뉴    가격  칼로리\n",
       "0  아메리카노  4000   20\n",
       "1   카페라뗴  5000  110\n",
       "2   카페모카  5000  250\n",
       "3  에스프레소  3000   20\n",
       "4    밀크티  5500  300"
      ]
     },
     "execution_count": 22,
     "metadata": {},
     "output_type": "execute_result"
    }
   ],
   "source": [
    "df = pd.DataFrame({\n",
    "    \"메뉴\":['아메리카노','카페라뗴','카페모카','에스프레소','밀크티'],\n",
    "    \"가격\":[4000,5000,5000,3000,5500],\n",
    "    \"칼로리\":[20,110,250,20,300],\n",
    "})\n",
    "df"
   ]
  },
  {
   "cell_type": "code",
   "execution_count": 23,
   "id": "dd2d809d-8a45-4b57-8014-b54f5ac63829",
   "metadata": {},
   "outputs": [],
   "source": [
    "df.to_csv('temp.csv')"
   ]
  },
  {
   "cell_type": "code",
   "execution_count": 24,
   "id": "ec995b03-bc03-47d0-8fe0-bae6adea074c",
   "metadata": {},
   "outputs": [
    {
     "data": {
      "text/html": [
       "<div>\n",
       "<style scoped>\n",
       "    .dataframe tbody tr th:only-of-type {\n",
       "        vertical-align: middle;\n",
       "    }\n",
       "\n",
       "    .dataframe tbody tr th {\n",
       "        vertical-align: top;\n",
       "    }\n",
       "\n",
       "    .dataframe thead th {\n",
       "        text-align: right;\n",
       "    }\n",
       "</style>\n",
       "<table border=\"1\" class=\"dataframe\">\n",
       "  <thead>\n",
       "    <tr style=\"text-align: right;\">\n",
       "      <th></th>\n",
       "      <th>Unnamed: 0</th>\n",
       "      <th>메뉴</th>\n",
       "      <th>가격</th>\n",
       "      <th>칼로리</th>\n",
       "    </tr>\n",
       "  </thead>\n",
       "  <tbody>\n",
       "    <tr>\n",
       "      <th>0</th>\n",
       "      <td>0</td>\n",
       "      <td>아메리카노</td>\n",
       "      <td>4000</td>\n",
       "      <td>20</td>\n",
       "    </tr>\n",
       "    <tr>\n",
       "      <th>1</th>\n",
       "      <td>1</td>\n",
       "      <td>카페라뗴</td>\n",
       "      <td>5000</td>\n",
       "      <td>110</td>\n",
       "    </tr>\n",
       "    <tr>\n",
       "      <th>2</th>\n",
       "      <td>2</td>\n",
       "      <td>카페모카</td>\n",
       "      <td>5000</td>\n",
       "      <td>250</td>\n",
       "    </tr>\n",
       "    <tr>\n",
       "      <th>3</th>\n",
       "      <td>3</td>\n",
       "      <td>에스프레소</td>\n",
       "      <td>3000</td>\n",
       "      <td>20</td>\n",
       "    </tr>\n",
       "    <tr>\n",
       "      <th>4</th>\n",
       "      <td>4</td>\n",
       "      <td>밀크티</td>\n",
       "      <td>5500</td>\n",
       "      <td>300</td>\n",
       "    </tr>\n",
       "  </tbody>\n",
       "</table>\n",
       "</div>"
      ],
      "text/plain": [
       "   Unnamed: 0     메뉴    가격  칼로리\n",
       "0           0  아메리카노  4000   20\n",
       "1           1   카페라뗴  5000  110\n",
       "2           2   카페모카  5000  250\n",
       "3           3  에스프레소  3000   20\n",
       "4           4    밀크티  5500  300"
      ]
     },
     "execution_count": 24,
     "metadata": {},
     "output_type": "execute_result"
    }
   ],
   "source": [
    "temp_df = pd.read_csv('temp.csv')\n",
    "temp_df.head()\n",
    "#갑자기 unnamed가 생긴 것을 볼 수 있음"
   ]
  },
  {
   "cell_type": "code",
   "execution_count": 25,
   "id": "2e587603-6bfe-4205-95b6-0ac8bfabcaa4",
   "metadata": {},
   "outputs": [
    {
     "data": {
      "text/html": [
       "<div>\n",
       "<style scoped>\n",
       "    .dataframe tbody tr th:only-of-type {\n",
       "        vertical-align: middle;\n",
       "    }\n",
       "\n",
       "    .dataframe tbody tr th {\n",
       "        vertical-align: top;\n",
       "    }\n",
       "\n",
       "    .dataframe thead th {\n",
       "        text-align: right;\n",
       "    }\n",
       "</style>\n",
       "<table border=\"1\" class=\"dataframe\">\n",
       "  <thead>\n",
       "    <tr style=\"text-align: right;\">\n",
       "      <th></th>\n",
       "      <th>메뉴</th>\n",
       "      <th>가격</th>\n",
       "      <th>칼로리</th>\n",
       "    </tr>\n",
       "  </thead>\n",
       "  <tbody>\n",
       "    <tr>\n",
       "      <th>0</th>\n",
       "      <td>아메리카노</td>\n",
       "      <td>4000</td>\n",
       "      <td>20</td>\n",
       "    </tr>\n",
       "    <tr>\n",
       "      <th>1</th>\n",
       "      <td>카페라뗴</td>\n",
       "      <td>5000</td>\n",
       "      <td>110</td>\n",
       "    </tr>\n",
       "    <tr>\n",
       "      <th>2</th>\n",
       "      <td>카페모카</td>\n",
       "      <td>5000</td>\n",
       "      <td>250</td>\n",
       "    </tr>\n",
       "    <tr>\n",
       "      <th>3</th>\n",
       "      <td>에스프레소</td>\n",
       "      <td>3000</td>\n",
       "      <td>20</td>\n",
       "    </tr>\n",
       "    <tr>\n",
       "      <th>4</th>\n",
       "      <td>밀크티</td>\n",
       "      <td>5500</td>\n",
       "      <td>300</td>\n",
       "    </tr>\n",
       "  </tbody>\n",
       "</table>\n",
       "</div>"
      ],
      "text/plain": [
       "      메뉴    가격  칼로리\n",
       "0  아메리카노  4000   20\n",
       "1   카페라뗴  5000  110\n",
       "2   카페모카  5000  250\n",
       "3  에스프레소  3000   20\n",
       "4    밀크티  5500  300"
      ]
     },
     "execution_count": 25,
     "metadata": {},
     "output_type": "execute_result"
    }
   ],
   "source": [
    "df.to_csv('cafe.csv',index=False) #index 저장하지 않겠다\n",
    "df = pd.read_csv('cafe.csv')\n",
    "df.head()"
   ]
  },
  {
   "cell_type": "code",
   "execution_count": 26,
   "id": "415757ce-1a5f-4552-b0dc-2cdaca786229",
   "metadata": {},
   "outputs": [
    {
     "data": {
      "text/html": [
       "<div>\n",
       "<style scoped>\n",
       "    .dataframe tbody tr th:only-of-type {\n",
       "        vertical-align: middle;\n",
       "    }\n",
       "\n",
       "    .dataframe tbody tr th {\n",
       "        vertical-align: top;\n",
       "    }\n",
       "\n",
       "    .dataframe thead th {\n",
       "        text-align: right;\n",
       "    }\n",
       "</style>\n",
       "<table border=\"1\" class=\"dataframe\">\n",
       "  <thead>\n",
       "    <tr style=\"text-align: right;\">\n",
       "      <th></th>\n",
       "      <th>메뉴</th>\n",
       "      <th>가격</th>\n",
       "      <th>칼로리</th>\n",
       "    </tr>\n",
       "  </thead>\n",
       "  <tbody>\n",
       "    <tr>\n",
       "      <th>0</th>\n",
       "      <td>아메리카노</td>\n",
       "      <td>4000</td>\n",
       "      <td>20</td>\n",
       "    </tr>\n",
       "    <tr>\n",
       "      <th>1</th>\n",
       "      <td>카페라뗴</td>\n",
       "      <td>5000</td>\n",
       "      <td>110</td>\n",
       "    </tr>\n",
       "  </tbody>\n",
       "</table>\n",
       "</div>"
      ],
      "text/plain": [
       "      메뉴    가격  칼로리\n",
       "0  아메리카노  4000   20\n",
       "1   카페라뗴  5000  110"
      ]
     },
     "execution_count": 26,
     "metadata": {},
     "output_type": "execute_result"
    }
   ],
   "source": [
    "df.head(2)"
   ]
  },
  {
   "cell_type": "code",
   "execution_count": 27,
   "id": "e4ccd5d3-8600-485d-884e-e428e7b2045f",
   "metadata": {},
   "outputs": [
    {
     "data": {
      "text/html": [
       "<div>\n",
       "<style scoped>\n",
       "    .dataframe tbody tr th:only-of-type {\n",
       "        vertical-align: middle;\n",
       "    }\n",
       "\n",
       "    .dataframe tbody tr th {\n",
       "        vertical-align: top;\n",
       "    }\n",
       "\n",
       "    .dataframe thead th {\n",
       "        text-align: right;\n",
       "    }\n",
       "</style>\n",
       "<table border=\"1\" class=\"dataframe\">\n",
       "  <thead>\n",
       "    <tr style=\"text-align: right;\">\n",
       "      <th></th>\n",
       "      <th>메뉴</th>\n",
       "      <th>가격</th>\n",
       "      <th>칼로리</th>\n",
       "    </tr>\n",
       "  </thead>\n",
       "  <tbody>\n",
       "    <tr>\n",
       "      <th>2</th>\n",
       "      <td>카페모카</td>\n",
       "      <td>5000</td>\n",
       "      <td>250</td>\n",
       "    </tr>\n",
       "    <tr>\n",
       "      <th>3</th>\n",
       "      <td>에스프레소</td>\n",
       "      <td>3000</td>\n",
       "      <td>20</td>\n",
       "    </tr>\n",
       "    <tr>\n",
       "      <th>4</th>\n",
       "      <td>밀크티</td>\n",
       "      <td>5500</td>\n",
       "      <td>300</td>\n",
       "    </tr>\n",
       "  </tbody>\n",
       "</table>\n",
       "</div>"
      ],
      "text/plain": [
       "      메뉴    가격  칼로리\n",
       "2   카페모카  5000  250\n",
       "3  에스프레소  3000   20\n",
       "4    밀크티  5500  300"
      ]
     },
     "execution_count": 27,
     "metadata": {},
     "output_type": "execute_result"
    }
   ],
   "source": [
    "df.tail(3)"
   ]
  },
  {
   "cell_type": "code",
   "execution_count": 28,
   "id": "87aa7500-654a-46dd-814e-93f43fde0086",
   "metadata": {},
   "outputs": [
    {
     "data": {
      "text/html": [
       "<div>\n",
       "<style scoped>\n",
       "    .dataframe tbody tr th:only-of-type {\n",
       "        vertical-align: middle;\n",
       "    }\n",
       "\n",
       "    .dataframe tbody tr th {\n",
       "        vertical-align: top;\n",
       "    }\n",
       "\n",
       "    .dataframe thead th {\n",
       "        text-align: right;\n",
       "    }\n",
       "</style>\n",
       "<table border=\"1\" class=\"dataframe\">\n",
       "  <thead>\n",
       "    <tr style=\"text-align: right;\">\n",
       "      <th></th>\n",
       "      <th>메뉴</th>\n",
       "      <th>가격</th>\n",
       "      <th>칼로리</th>\n",
       "    </tr>\n",
       "  </thead>\n",
       "  <tbody>\n",
       "    <tr>\n",
       "      <th>4</th>\n",
       "      <td>밀크티</td>\n",
       "      <td>5500</td>\n",
       "      <td>300</td>\n",
       "    </tr>\n",
       "    <tr>\n",
       "      <th>0</th>\n",
       "      <td>아메리카노</td>\n",
       "      <td>4000</td>\n",
       "      <td>20</td>\n",
       "    </tr>\n",
       "    <tr>\n",
       "      <th>2</th>\n",
       "      <td>카페모카</td>\n",
       "      <td>5000</td>\n",
       "      <td>250</td>\n",
       "    </tr>\n",
       "  </tbody>\n",
       "</table>\n",
       "</div>"
      ],
      "text/plain": [
       "      메뉴    가격  칼로리\n",
       "4    밀크티  5500  300\n",
       "0  아메리카노  4000   20\n",
       "2   카페모카  5000  250"
      ]
     },
     "execution_count": 28,
     "metadata": {},
     "output_type": "execute_result"
    }
   ],
   "source": [
    "df.sample(3) #랜덤으로 보여짐"
   ]
  },
  {
   "cell_type": "code",
   "execution_count": 29,
   "id": "42f0ea12-c3af-463c-bf80-a46aee663ca4",
   "metadata": {},
   "outputs": [
    {
     "data": {
      "text/plain": [
       "(5, 3)"
      ]
     },
     "execution_count": 29,
     "metadata": {},
     "output_type": "execute_result"
    }
   ],
   "source": [
    "#데이터프레임 크기(행, 컬럼)\n",
    "df.shape"
   ]
  },
  {
   "cell_type": "code",
   "execution_count": 30,
   "id": "812f81ed-a5bd-44b0-82cb-d970328027f0",
   "metadata": {},
   "outputs": [
    {
     "name": "stdout",
     "output_type": "stream",
     "text": [
      "<class 'pandas.core.frame.DataFrame'>\n",
      "RangeIndex: 5 entries, 0 to 4\n",
      "Data columns (total 3 columns):\n",
      " #   Column  Non-Null Count  Dtype \n",
      "---  ------  --------------  ----- \n",
      " 0   메뉴      5 non-null      object\n",
      " 1   가격      5 non-null      int64 \n",
      " 2   칼로리     5 non-null      int64 \n",
      "dtypes: int64(2), object(1)\n",
      "memory usage: 252.0+ bytes\n"
     ]
    }
   ],
   "source": [
    "#컬럼 형태(type)\n",
    "df.info()"
   ]
  },
  {
   "cell_type": "code",
   "execution_count": 31,
   "id": "aec364d3-98de-4693-8d0e-ff26e226b5a3",
   "metadata": {},
   "outputs": [
    {
     "data": {
      "text/html": [
       "<div>\n",
       "<style scoped>\n",
       "    .dataframe tbody tr th:only-of-type {\n",
       "        vertical-align: middle;\n",
       "    }\n",
       "\n",
       "    .dataframe tbody tr th {\n",
       "        vertical-align: top;\n",
       "    }\n",
       "\n",
       "    .dataframe thead th {\n",
       "        text-align: right;\n",
       "    }\n",
       "</style>\n",
       "<table border=\"1\" class=\"dataframe\">\n",
       "  <thead>\n",
       "    <tr style=\"text-align: right;\">\n",
       "      <th></th>\n",
       "      <th>가격</th>\n",
       "      <th>칼로리</th>\n",
       "    </tr>\n",
       "  </thead>\n",
       "  <tbody>\n",
       "    <tr>\n",
       "      <th>가격</th>\n",
       "      <td>1.000000</td>\n",
       "      <td>0.847408</td>\n",
       "    </tr>\n",
       "    <tr>\n",
       "      <th>칼로리</th>\n",
       "      <td>0.847408</td>\n",
       "      <td>1.000000</td>\n",
       "    </tr>\n",
       "  </tbody>\n",
       "</table>\n",
       "</div>"
      ],
      "text/plain": [
       "           가격       칼로리\n",
       "가격   1.000000  0.847408\n",
       "칼로리  0.847408  1.000000"
      ]
     },
     "execution_count": 31,
     "metadata": {},
     "output_type": "execute_result"
    }
   ],
   "source": [
    "#상관관계\n",
    "df.corr(numeric_only=True) #데이터프레임에 object컬럼이 있기 때문에"
   ]
  },
  {
   "cell_type": "code",
   "execution_count": 32,
   "id": "d2befdfd-cc0c-443d-ae50-63d075403215",
   "metadata": {},
   "outputs": [
    {
     "data": {
      "text/html": [
       "<div>\n",
       "<style scoped>\n",
       "    .dataframe tbody tr th:only-of-type {\n",
       "        vertical-align: middle;\n",
       "    }\n",
       "\n",
       "    .dataframe tbody tr th {\n",
       "        vertical-align: top;\n",
       "    }\n",
       "\n",
       "    .dataframe thead th {\n",
       "        text-align: right;\n",
       "    }\n",
       "</style>\n",
       "<table border=\"1\" class=\"dataframe\">\n",
       "  <thead>\n",
       "    <tr style=\"text-align: right;\">\n",
       "      <th></th>\n",
       "      <th>car</th>\n",
       "      <th>size</th>\n",
       "    </tr>\n",
       "  </thead>\n",
       "  <tbody>\n",
       "    <tr>\n",
       "      <th>0</th>\n",
       "      <td>Sedan</td>\n",
       "      <td>S</td>\n",
       "    </tr>\n",
       "    <tr>\n",
       "      <th>1</th>\n",
       "      <td>SUV</td>\n",
       "      <td>M</td>\n",
       "    </tr>\n",
       "    <tr>\n",
       "      <th>2</th>\n",
       "      <td>Sedan</td>\n",
       "      <td>S</td>\n",
       "    </tr>\n",
       "  </tbody>\n",
       "</table>\n",
       "</div>"
      ],
      "text/plain": [
       "     car size\n",
       "0  Sedan    S\n",
       "1    SUV    M\n",
       "2  Sedan    S"
      ]
     },
     "execution_count": 32,
     "metadata": {},
     "output_type": "execute_result"
    }
   ],
   "source": [
    "df_car = pd.DataFrame({\n",
    "    \"car\":['Sedan','SUV','Sedan','SUV','SUV','SUV','Sedan','SUV','Sedan','Sedan'],\n",
    "    \"size\":['S','M','S','S','M','M','L','S','S','M']\n",
    "})\n",
    "df_car.head(3)"
   ]
  },
  {
   "cell_type": "code",
   "execution_count": 33,
   "id": "f82e06b6-699d-4171-8dea-6790accb283f",
   "metadata": {},
   "outputs": [
    {
     "data": {
      "text/plain": [
       "car     2\n",
       "size    3\n",
       "dtype: int64"
      ]
     },
     "execution_count": 33,
     "metadata": {},
     "output_type": "execute_result"
    }
   ],
   "source": [
    "#항목 종류 \n",
    "df_car.nunique() #숫자"
   ]
  },
  {
   "cell_type": "code",
   "execution_count": 34,
   "id": "d21ac841-f9e5-41b9-b197-c41cd644bf6b",
   "metadata": {},
   "outputs": [
    {
     "name": "stdout",
     "output_type": "stream",
     "text": [
      "['Sedan' 'SUV']\n",
      "['S' 'M' 'L']\n"
     ]
    }
   ],
   "source": [
    "#항목 종류\n",
    "print(df_car['car'].unique())\n",
    "print(df_car['size'].unique())"
   ]
  },
  {
   "cell_type": "code",
   "execution_count": 35,
   "id": "a583dc8d-d415-4503-80a2-d5c66bfd4620",
   "metadata": {},
   "outputs": [
    {
     "name": "stdout",
     "output_type": "stream",
     "text": [
      "car\n",
      "Sedan    5\n",
      "SUV      5\n",
      "Name: count, dtype: int64\n",
      "size\n",
      "S    5\n",
      "M    4\n",
      "L    1\n",
      "Name: count, dtype: int64\n"
     ]
    }
   ],
   "source": [
    "#항목별 개수\n",
    "print(df_car['car'].value_counts())\n",
    "print(df_car['size'].value_counts())"
   ]
  },
  {
   "cell_type": "code",
   "execution_count": 36,
   "id": "b89b35e2-723a-4410-bc95-1168b4d4dd12",
   "metadata": {},
   "outputs": [
    {
     "data": {
      "text/html": [
       "<div>\n",
       "<style scoped>\n",
       "    .dataframe tbody tr th:only-of-type {\n",
       "        vertical-align: middle;\n",
       "    }\n",
       "\n",
       "    .dataframe tbody tr th {\n",
       "        vertical-align: top;\n",
       "    }\n",
       "\n",
       "    .dataframe thead th {\n",
       "        text-align: right;\n",
       "    }\n",
       "</style>\n",
       "<table border=\"1\" class=\"dataframe\">\n",
       "  <thead>\n",
       "    <tr style=\"text-align: right;\">\n",
       "      <th></th>\n",
       "      <th>가격</th>\n",
       "      <th>칼로리</th>\n",
       "    </tr>\n",
       "  </thead>\n",
       "  <tbody>\n",
       "    <tr>\n",
       "      <th>count</th>\n",
       "      <td>5.0</td>\n",
       "      <td>5.00000</td>\n",
       "    </tr>\n",
       "    <tr>\n",
       "      <th>mean</th>\n",
       "      <td>4500.0</td>\n",
       "      <td>140.00000</td>\n",
       "    </tr>\n",
       "    <tr>\n",
       "      <th>std</th>\n",
       "      <td>1000.0</td>\n",
       "      <td>129.80755</td>\n",
       "    </tr>\n",
       "    <tr>\n",
       "      <th>min</th>\n",
       "      <td>3000.0</td>\n",
       "      <td>20.00000</td>\n",
       "    </tr>\n",
       "    <tr>\n",
       "      <th>25%</th>\n",
       "      <td>4000.0</td>\n",
       "      <td>20.00000</td>\n",
       "    </tr>\n",
       "    <tr>\n",
       "      <th>50%</th>\n",
       "      <td>5000.0</td>\n",
       "      <td>110.00000</td>\n",
       "    </tr>\n",
       "    <tr>\n",
       "      <th>75%</th>\n",
       "      <td>5000.0</td>\n",
       "      <td>250.00000</td>\n",
       "    </tr>\n",
       "    <tr>\n",
       "      <th>max</th>\n",
       "      <td>5500.0</td>\n",
       "      <td>300.00000</td>\n",
       "    </tr>\n",
       "  </tbody>\n",
       "</table>\n",
       "</div>"
      ],
      "text/plain": [
       "           가격        칼로리\n",
       "count     5.0    5.00000\n",
       "mean   4500.0  140.00000\n",
       "std    1000.0  129.80755\n",
       "min    3000.0   20.00000\n",
       "25%    4000.0   20.00000\n",
       "50%    5000.0  110.00000\n",
       "75%    5000.0  250.00000\n",
       "max    5500.0  300.00000"
      ]
     },
     "execution_count": 36,
     "metadata": {},
     "output_type": "execute_result"
    }
   ],
   "source": [
    "df.describe()"
   ]
  },
  {
   "cell_type": "code",
   "execution_count": 37,
   "id": "63104314-3ae6-4957-a277-beea993816ee",
   "metadata": {},
   "outputs": [
    {
     "data": {
      "text/html": [
       "<div>\n",
       "<style scoped>\n",
       "    .dataframe tbody tr th:only-of-type {\n",
       "        vertical-align: middle;\n",
       "    }\n",
       "\n",
       "    .dataframe tbody tr th {\n",
       "        vertical-align: top;\n",
       "    }\n",
       "\n",
       "    .dataframe thead th {\n",
       "        text-align: right;\n",
       "    }\n",
       "</style>\n",
       "<table border=\"1\" class=\"dataframe\">\n",
       "  <thead>\n",
       "    <tr style=\"text-align: right;\">\n",
       "      <th></th>\n",
       "      <th>car</th>\n",
       "      <th>size</th>\n",
       "    </tr>\n",
       "  </thead>\n",
       "  <tbody>\n",
       "    <tr>\n",
       "      <th>count</th>\n",
       "      <td>10</td>\n",
       "      <td>10</td>\n",
       "    </tr>\n",
       "    <tr>\n",
       "      <th>unique</th>\n",
       "      <td>2</td>\n",
       "      <td>3</td>\n",
       "    </tr>\n",
       "    <tr>\n",
       "      <th>top</th>\n",
       "      <td>Sedan</td>\n",
       "      <td>S</td>\n",
       "    </tr>\n",
       "    <tr>\n",
       "      <th>freq</th>\n",
       "      <td>5</td>\n",
       "      <td>5</td>\n",
       "    </tr>\n",
       "  </tbody>\n",
       "</table>\n",
       "</div>"
      ],
      "text/plain": [
       "          car size\n",
       "count      10   10\n",
       "unique      2    3\n",
       "top     Sedan    S\n",
       "freq        5    5"
      ]
     },
     "execution_count": 37,
     "metadata": {},
     "output_type": "execute_result"
    }
   ],
   "source": [
    "df_car.describe(include=\"O\")"
   ]
  },
  {
   "cell_type": "code",
   "execution_count": 38,
   "id": "8e226525-7bcd-40db-b87a-f9f088723f77",
   "metadata": {},
   "outputs": [
    {
     "data": {
      "text/html": [
       "<div>\n",
       "<style scoped>\n",
       "    .dataframe tbody tr th:only-of-type {\n",
       "        vertical-align: middle;\n",
       "    }\n",
       "\n",
       "    .dataframe tbody tr th {\n",
       "        vertical-align: top;\n",
       "    }\n",
       "\n",
       "    .dataframe thead th {\n",
       "        text-align: right;\n",
       "    }\n",
       "</style>\n",
       "<table border=\"1\" class=\"dataframe\">\n",
       "  <thead>\n",
       "    <tr style=\"text-align: right;\">\n",
       "      <th></th>\n",
       "      <th>메뉴</th>\n",
       "    </tr>\n",
       "  </thead>\n",
       "  <tbody>\n",
       "    <tr>\n",
       "      <th>count</th>\n",
       "      <td>5</td>\n",
       "    </tr>\n",
       "    <tr>\n",
       "      <th>unique</th>\n",
       "      <td>5</td>\n",
       "    </tr>\n",
       "    <tr>\n",
       "      <th>top</th>\n",
       "      <td>아메리카노</td>\n",
       "    </tr>\n",
       "    <tr>\n",
       "      <th>freq</th>\n",
       "      <td>1</td>\n",
       "    </tr>\n",
       "  </tbody>\n",
       "</table>\n",
       "</div>"
      ],
      "text/plain": [
       "           메뉴\n",
       "count       5\n",
       "unique      5\n",
       "top     아메리카노\n",
       "freq        1"
      ]
     },
     "execution_count": 38,
     "metadata": {},
     "output_type": "execute_result"
    }
   ],
   "source": [
    "df.describe(include=\"O\")"
   ]
  },
  {
   "cell_type": "code",
   "execution_count": 40,
   "id": "b3313e04-e45f-4bcf-882b-37922b564013",
   "metadata": {},
   "outputs": [
    {
     "name": "stdout",
     "output_type": "stream",
     "text": [
      "<class 'pandas.core.frame.DataFrame'>\n",
      "RangeIndex: 5 entries, 0 to 4\n",
      "Data columns (total 3 columns):\n",
      " #   Column  Non-Null Count  Dtype  \n",
      "---  ------  --------------  -----  \n",
      " 0   메뉴      5 non-null      object \n",
      " 1   가격      5 non-null      float64\n",
      " 2   칼로리     5 non-null      object \n",
      "dtypes: float64(1), object(2)\n",
      "memory usage: 252.0+ bytes\n"
     ]
    }
   ],
   "source": [
    "data = {\n",
    "    \"메뉴\":['아메리카노','카페라뗴','카페모카','에스프레소','밀크티'],\n",
    "    \"가격\":[4000.0,5000.0,5000.0,3000.0,5500.0],\n",
    "    \"칼로리\":['20','110','250','20','300'],\n",
    "}\n",
    "df=pd.DataFrame(data)\n",
    "df.info()"
   ]
  },
  {
   "cell_type": "code",
   "execution_count": 41,
   "id": "dcedb5a6-e1f4-46df-9f69-259a3a67e1ac",
   "metadata": {},
   "outputs": [
    {
     "name": "stdout",
     "output_type": "stream",
     "text": [
      "<class 'pandas.core.frame.DataFrame'>\n",
      "RangeIndex: 5 entries, 0 to 4\n",
      "Data columns (total 3 columns):\n",
      " #   Column  Non-Null Count  Dtype \n",
      "---  ------  --------------  ----- \n",
      " 0   메뉴      5 non-null      object\n",
      " 1   가격      5 non-null      int64 \n",
      " 2   칼로리     5 non-null      object\n",
      "dtypes: int64(1), object(2)\n",
      "memory usage: 252.0+ bytes\n"
     ]
    }
   ],
   "source": [
    "#자료형 변환 / astype / float->int\n",
    "df['가격'] = df['가격'].astype('int')\n",
    "df.info()"
   ]
  },
  {
   "cell_type": "code",
   "execution_count": 42,
   "id": "99b2c300-bd2d-4d2a-8991-5d9f44d58089",
   "metadata": {},
   "outputs": [
    {
     "name": "stdout",
     "output_type": "stream",
     "text": [
      "<class 'pandas.core.frame.DataFrame'>\n",
      "RangeIndex: 5 entries, 0 to 4\n",
      "Data columns (total 3 columns):\n",
      " #   Column  Non-Null Count  Dtype  \n",
      "---  ------  --------------  -----  \n",
      " 0   메뉴      5 non-null      object \n",
      " 1   가격      5 non-null      int64  \n",
      " 2   칼로리     5 non-null      float64\n",
      "dtypes: float64(1), int64(1), object(1)\n",
      "memory usage: 252.0+ bytes\n"
     ]
    }
   ],
   "source": [
    "#자료형 변환 / astype / object->float\n",
    "df['칼로리'] = df['칼로리'].astype('float')\n",
    "df.info()"
   ]
  },
  {
   "cell_type": "code",
   "execution_count": 44,
   "id": "03217062-4bd6-45c7-b680-70ccd4a042b2",
   "metadata": {},
   "outputs": [
    {
     "data": {
      "text/html": [
       "<div>\n",
       "<style scoped>\n",
       "    .dataframe tbody tr th:only-of-type {\n",
       "        vertical-align: middle;\n",
       "    }\n",
       "\n",
       "    .dataframe tbody tr th {\n",
       "        vertical-align: top;\n",
       "    }\n",
       "\n",
       "    .dataframe thead th {\n",
       "        text-align: right;\n",
       "    }\n",
       "</style>\n",
       "<table border=\"1\" class=\"dataframe\">\n",
       "  <thead>\n",
       "    <tr style=\"text-align: right;\">\n",
       "      <th></th>\n",
       "      <th>메뉴</th>\n",
       "      <th>가격</th>\n",
       "      <th>칼로리</th>\n",
       "    </tr>\n",
       "  </thead>\n",
       "  <tbody>\n",
       "    <tr>\n",
       "      <th>0</th>\n",
       "      <td>아메리카노</td>\n",
       "      <td>4000</td>\n",
       "      <td>20</td>\n",
       "    </tr>\n",
       "    <tr>\n",
       "      <th>1</th>\n",
       "      <td>카페라뗴</td>\n",
       "      <td>5000</td>\n",
       "      <td>110</td>\n",
       "    </tr>\n",
       "  </tbody>\n",
       "</table>\n",
       "</div>"
      ],
      "text/plain": [
       "      메뉴    가격  칼로리\n",
       "0  아메리카노  4000   20\n",
       "1   카페라뗴  5000  110"
      ]
     },
     "execution_count": 44,
     "metadata": {},
     "output_type": "execute_result"
    }
   ],
   "source": [
    "df = pd.read_csv('cafe.csv')\n",
    "df.head(2)"
   ]
  },
  {
   "cell_type": "code",
   "execution_count": 45,
   "id": "ff4fafaf-1966-492b-bd0d-5912aba4b35e",
   "metadata": {},
   "outputs": [
    {
     "data": {
      "text/html": [
       "<div>\n",
       "<style scoped>\n",
       "    .dataframe tbody tr th:only-of-type {\n",
       "        vertical-align: middle;\n",
       "    }\n",
       "\n",
       "    .dataframe tbody tr th {\n",
       "        vertical-align: top;\n",
       "    }\n",
       "\n",
       "    .dataframe thead th {\n",
       "        text-align: right;\n",
       "    }\n",
       "</style>\n",
       "<table border=\"1\" class=\"dataframe\">\n",
       "  <thead>\n",
       "    <tr style=\"text-align: right;\">\n",
       "      <th></th>\n",
       "      <th>메뉴</th>\n",
       "      <th>가격</th>\n",
       "      <th>칼로리</th>\n",
       "      <th>new</th>\n",
       "    </tr>\n",
       "  </thead>\n",
       "  <tbody>\n",
       "    <tr>\n",
       "      <th>0</th>\n",
       "      <td>아메리카노</td>\n",
       "      <td>4000</td>\n",
       "      <td>20</td>\n",
       "      <td>0</td>\n",
       "    </tr>\n",
       "    <tr>\n",
       "      <th>1</th>\n",
       "      <td>카페라뗴</td>\n",
       "      <td>5000</td>\n",
       "      <td>110</td>\n",
       "      <td>0</td>\n",
       "    </tr>\n",
       "  </tbody>\n",
       "</table>\n",
       "</div>"
      ],
      "text/plain": [
       "      메뉴    가격  칼로리  new\n",
       "0  아메리카노  4000   20    0\n",
       "1   카페라뗴  5000  110    0"
      ]
     },
     "execution_count": 45,
     "metadata": {},
     "output_type": "execute_result"
    }
   ],
   "source": [
    "#새로운 컬럼 추가 (값은 0)\n",
    "df['new'] = 0\n",
    "df.head(2)"
   ]
  },
  {
   "cell_type": "code",
   "execution_count": 46,
   "id": "3dd81d76-771e-433b-9c8d-4d3f6d24480e",
   "metadata": {},
   "outputs": [
    {
     "data": {
      "text/html": [
       "<div>\n",
       "<style scoped>\n",
       "    .dataframe tbody tr th:only-of-type {\n",
       "        vertical-align: middle;\n",
       "    }\n",
       "\n",
       "    .dataframe tbody tr th {\n",
       "        vertical-align: top;\n",
       "    }\n",
       "\n",
       "    .dataframe thead th {\n",
       "        text-align: right;\n",
       "    }\n",
       "</style>\n",
       "<table border=\"1\" class=\"dataframe\">\n",
       "  <thead>\n",
       "    <tr style=\"text-align: right;\">\n",
       "      <th></th>\n",
       "      <th>메뉴</th>\n",
       "      <th>가격</th>\n",
       "      <th>칼로리</th>\n",
       "      <th>new</th>\n",
       "      <th>할인가</th>\n",
       "    </tr>\n",
       "  </thead>\n",
       "  <tbody>\n",
       "    <tr>\n",
       "      <th>0</th>\n",
       "      <td>아메리카노</td>\n",
       "      <td>4000</td>\n",
       "      <td>20</td>\n",
       "      <td>0</td>\n",
       "      <td>3200.0</td>\n",
       "    </tr>\n",
       "    <tr>\n",
       "      <th>1</th>\n",
       "      <td>카페라뗴</td>\n",
       "      <td>5000</td>\n",
       "      <td>110</td>\n",
       "      <td>0</td>\n",
       "      <td>4000.0</td>\n",
       "    </tr>\n",
       "  </tbody>\n",
       "</table>\n",
       "</div>"
      ],
      "text/plain": [
       "      메뉴    가격  칼로리  new     할인가\n",
       "0  아메리카노  4000   20    0  3200.0\n",
       "1   카페라뗴  5000  110    0  4000.0"
      ]
     },
     "execution_count": 46,
     "metadata": {},
     "output_type": "execute_result"
    }
   ],
   "source": [
    "#할인가 컬럼 추가\n",
    "discount=0.2\n",
    "df['할인가']=df['가격'] * (1-discount)\n",
    "df.head(2)"
   ]
  },
  {
   "cell_type": "code",
   "execution_count": 48,
   "id": "e66f6648-a70a-44e5-b918-f32b42736c8e",
   "metadata": {},
   "outputs": [
    {
     "data": {
      "text/html": [
       "<div>\n",
       "<style scoped>\n",
       "    .dataframe tbody tr th:only-of-type {\n",
       "        vertical-align: middle;\n",
       "    }\n",
       "\n",
       "    .dataframe tbody tr th {\n",
       "        vertical-align: top;\n",
       "    }\n",
       "\n",
       "    .dataframe thead th {\n",
       "        text-align: right;\n",
       "    }\n",
       "</style>\n",
       "<table border=\"1\" class=\"dataframe\">\n",
       "  <thead>\n",
       "    <tr style=\"text-align: right;\">\n",
       "      <th></th>\n",
       "      <th>메뉴</th>\n",
       "      <th>가격</th>\n",
       "      <th>칼로리</th>\n",
       "      <th>new</th>\n",
       "      <th>할인가</th>\n",
       "    </tr>\n",
       "  </thead>\n",
       "  <tbody>\n",
       "    <tr>\n",
       "      <th>0</th>\n",
       "      <td>아메리카노</td>\n",
       "      <td>4000</td>\n",
       "      <td>20</td>\n",
       "      <td>0</td>\n",
       "      <td>3200.0</td>\n",
       "    </tr>\n",
       "    <tr>\n",
       "      <th>2</th>\n",
       "      <td>카페모카</td>\n",
       "      <td>5000</td>\n",
       "      <td>250</td>\n",
       "      <td>0</td>\n",
       "      <td>4000.0</td>\n",
       "    </tr>\n",
       "    <tr>\n",
       "      <th>3</th>\n",
       "      <td>에스프레소</td>\n",
       "      <td>3000</td>\n",
       "      <td>20</td>\n",
       "      <td>0</td>\n",
       "      <td>2400.0</td>\n",
       "    </tr>\n",
       "  </tbody>\n",
       "</table>\n",
       "</div>"
      ],
      "text/plain": [
       "      메뉴    가격  칼로리  new     할인가\n",
       "0  아메리카노  4000   20    0  3200.0\n",
       "2   카페모카  5000  250    0  4000.0\n",
       "3  에스프레소  3000   20    0  2400.0"
      ]
     },
     "execution_count": 48,
     "metadata": {},
     "output_type": "execute_result"
    }
   ],
   "source": [
    "#행 삭제\n",
    "df = df.drop(1,axis=0)\n",
    "df.head(3)"
   ]
  },
  {
   "cell_type": "code",
   "execution_count": 50,
   "id": "8d1966e2-c738-4edc-8e2d-7b5838441e7c",
   "metadata": {},
   "outputs": [
    {
     "data": {
      "text/html": [
       "<div>\n",
       "<style scoped>\n",
       "    .dataframe tbody tr th:only-of-type {\n",
       "        vertical-align: middle;\n",
       "    }\n",
       "\n",
       "    .dataframe tbody tr th {\n",
       "        vertical-align: top;\n",
       "    }\n",
       "\n",
       "    .dataframe thead th {\n",
       "        text-align: right;\n",
       "    }\n",
       "</style>\n",
       "<table border=\"1\" class=\"dataframe\">\n",
       "  <thead>\n",
       "    <tr style=\"text-align: right;\">\n",
       "      <th></th>\n",
       "      <th>메뉴</th>\n",
       "      <th>가격</th>\n",
       "      <th>new</th>\n",
       "      <th>할인가</th>\n",
       "    </tr>\n",
       "  </thead>\n",
       "  <tbody>\n",
       "    <tr>\n",
       "      <th>0</th>\n",
       "      <td>아메리카노</td>\n",
       "      <td>4000</td>\n",
       "      <td>0</td>\n",
       "      <td>3200.0</td>\n",
       "    </tr>\n",
       "    <tr>\n",
       "      <th>2</th>\n",
       "      <td>카페모카</td>\n",
       "      <td>5000</td>\n",
       "      <td>0</td>\n",
       "      <td>4000.0</td>\n",
       "    </tr>\n",
       "    <tr>\n",
       "      <th>3</th>\n",
       "      <td>에스프레소</td>\n",
       "      <td>3000</td>\n",
       "      <td>0</td>\n",
       "      <td>2400.0</td>\n",
       "    </tr>\n",
       "  </tbody>\n",
       "</table>\n",
       "</div>"
      ],
      "text/plain": [
       "      메뉴    가격  new     할인가\n",
       "0  아메리카노  4000    0  3200.0\n",
       "2   카페모카  5000    0  4000.0\n",
       "3  에스프레소  3000    0  2400.0"
      ]
     },
     "execution_count": 50,
     "metadata": {},
     "output_type": "execute_result"
    }
   ],
   "source": [
    "#컬럼 삭제\n",
    "#axis=0:행방향, axis=1:열방향(컬럼)\n",
    "df = df.drop('칼로리',axis=1)\n",
    "df.head(3)"
   ]
  },
  {
   "cell_type": "code",
   "execution_count": 51,
   "id": "7f7274de-e30a-4183-8b26-6adc89dfd7e6",
   "metadata": {},
   "outputs": [
    {
     "data": {
      "text/html": [
       "<div>\n",
       "<style scoped>\n",
       "    .dataframe tbody tr th:only-of-type {\n",
       "        vertical-align: middle;\n",
       "    }\n",
       "\n",
       "    .dataframe tbody tr th {\n",
       "        vertical-align: top;\n",
       "    }\n",
       "\n",
       "    .dataframe thead th {\n",
       "        text-align: right;\n",
       "    }\n",
       "</style>\n",
       "<table border=\"1\" class=\"dataframe\">\n",
       "  <thead>\n",
       "    <tr style=\"text-align: right;\">\n",
       "      <th></th>\n",
       "      <th>메뉴</th>\n",
       "      <th>가격</th>\n",
       "      <th>칼로리</th>\n",
       "    </tr>\n",
       "  </thead>\n",
       "  <tbody>\n",
       "    <tr>\n",
       "      <th>0</th>\n",
       "      <td>아메리카노</td>\n",
       "      <td>4000</td>\n",
       "      <td>20</td>\n",
       "    </tr>\n",
       "    <tr>\n",
       "      <th>1</th>\n",
       "      <td>카페라뗴</td>\n",
       "      <td>5000</td>\n",
       "      <td>110</td>\n",
       "    </tr>\n",
       "  </tbody>\n",
       "</table>\n",
       "</div>"
      ],
      "text/plain": [
       "      메뉴    가격  칼로리\n",
       "0  아메리카노  4000   20\n",
       "1   카페라뗴  5000  110"
      ]
     },
     "execution_count": 51,
     "metadata": {},
     "output_type": "execute_result"
    }
   ],
   "source": [
    "df = pd.read_csv('cafe.csv')\n",
    "df.head(2)"
   ]
  },
  {
   "cell_type": "code",
   "execution_count": 52,
   "id": "c393954e-3edd-4028-b75f-b7f7657765cd",
   "metadata": {},
   "outputs": [
    {
     "data": {
      "text/plain": [
       "메뉴     아메리카노\n",
       "가격      4000\n",
       "칼로리       20\n",
       "Name: 0, dtype: object"
      ]
     },
     "execution_count": 52,
     "metadata": {},
     "output_type": "execute_result"
    }
   ],
   "source": [
    "#인덱싱 (행 전체)\n",
    "#아메리카노\n",
    "df.loc[0]"
   ]
  },
  {
   "cell_type": "code",
   "execution_count": 54,
   "id": "a4bf4520-5f6e-4c82-b46e-ae28ab5bf465",
   "metadata": {},
   "outputs": [
    {
     "name": "stdout",
     "output_type": "stream",
     "text": [
      "5000\n"
     ]
    }
   ],
   "source": [
    "#카페라뗴 가격\n",
    "df.loc[1,\"가격\"]\n",
    "print(df.loc[1,\"가격\"])"
   ]
  },
  {
   "cell_type": "code",
   "execution_count": 55,
   "id": "508c6437-c199-484f-bb27-de12f86ff2e9",
   "metadata": {},
   "outputs": [
    {
     "data": {
      "text/plain": [
       "0    4000\n",
       "1    5000\n",
       "2    5000\n",
       "3    3000\n",
       "4    5500\n",
       "Name: 가격, dtype: int64"
      ]
     },
     "execution_count": 55,
     "metadata": {},
     "output_type": "execute_result"
    }
   ],
   "source": [
    "#슬라이싱 (컬럼 전체)\n",
    "#가격\n",
    "df.loc[:,\"가격\"]"
   ]
  },
  {
   "cell_type": "code",
   "execution_count": 56,
   "id": "9b2fd7ca-4e3a-409d-b35c-66f62f016a7c",
   "metadata": {},
   "outputs": [
    {
     "data": {
      "text/plain": [
       "메뉴     카페모카\n",
       "가격     5000\n",
       "칼로리     250\n",
       "Name: 2, dtype: object"
      ]
     },
     "execution_count": 56,
     "metadata": {},
     "output_type": "execute_result"
    }
   ],
   "source": [
    "#슬라이싱\n",
    "df.loc[2,'메뉴':'칼로리']"
   ]
  },
  {
   "cell_type": "code",
   "execution_count": 57,
   "id": "06f25180-db5d-4fc1-921e-9f083492de63",
   "metadata": {},
   "outputs": [
    {
     "data": {
      "text/plain": [
       "메뉴     카페모카\n",
       "칼로리     250\n",
       "Name: 2, dtype: object"
      ]
     },
     "execution_count": 57,
     "metadata": {},
     "output_type": "execute_result"
    }
   ],
   "source": [
    "#슬라이싱\n",
    "#카페모카 메뉴와 칼로리\n",
    "df.loc[2,['메뉴','칼로리']]"
   ]
  },
  {
   "cell_type": "code",
   "execution_count": 59,
   "id": "64d4c836-bad3-47fa-a77a-2cab71527e1d",
   "metadata": {},
   "outputs": [
    {
     "data": {
      "text/html": [
       "<div>\n",
       "<style scoped>\n",
       "    .dataframe tbody tr th:only-of-type {\n",
       "        vertical-align: middle;\n",
       "    }\n",
       "\n",
       "    .dataframe tbody tr th {\n",
       "        vertical-align: top;\n",
       "    }\n",
       "\n",
       "    .dataframe thead th {\n",
       "        text-align: right;\n",
       "    }\n",
       "</style>\n",
       "<table border=\"1\" class=\"dataframe\">\n",
       "  <thead>\n",
       "    <tr style=\"text-align: right;\">\n",
       "      <th></th>\n",
       "      <th>메뉴</th>\n",
       "      <th>가격</th>\n",
       "    </tr>\n",
       "  </thead>\n",
       "  <tbody>\n",
       "    <tr>\n",
       "      <th>1</th>\n",
       "      <td>카페라뗴</td>\n",
       "      <td>5000</td>\n",
       "    </tr>\n",
       "    <tr>\n",
       "      <th>2</th>\n",
       "      <td>카페모카</td>\n",
       "      <td>5000</td>\n",
       "    </tr>\n",
       "    <tr>\n",
       "      <th>3</th>\n",
       "      <td>에스프레소</td>\n",
       "      <td>3000</td>\n",
       "    </tr>\n",
       "  </tbody>\n",
       "</table>\n",
       "</div>"
      ],
      "text/plain": [
       "      메뉴    가격\n",
       "1   카페라뗴  5000\n",
       "2   카페모카  5000\n",
       "3  에스프레소  3000"
      ]
     },
     "execution_count": 59,
     "metadata": {},
     "output_type": "execute_result"
    }
   ],
   "source": [
    "#슬라이싱\n",
    "df.loc[1:3,['메뉴','가격']]"
   ]
  },
  {
   "cell_type": "code",
   "execution_count": 60,
   "id": "a91e5cd7-984f-4671-8674-e14a0730ee3d",
   "metadata": {},
   "outputs": [
    {
     "data": {
      "text/html": [
       "<div>\n",
       "<style scoped>\n",
       "    .dataframe tbody tr th:only-of-type {\n",
       "        vertical-align: middle;\n",
       "    }\n",
       "\n",
       "    .dataframe tbody tr th {\n",
       "        vertical-align: top;\n",
       "    }\n",
       "\n",
       "    .dataframe thead th {\n",
       "        text-align: right;\n",
       "    }\n",
       "</style>\n",
       "<table border=\"1\" class=\"dataframe\">\n",
       "  <thead>\n",
       "    <tr style=\"text-align: right;\">\n",
       "      <th></th>\n",
       "      <th>메뉴</th>\n",
       "      <th>가격</th>\n",
       "      <th>칼로리</th>\n",
       "    </tr>\n",
       "  </thead>\n",
       "  <tbody>\n",
       "    <tr>\n",
       "      <th>1</th>\n",
       "      <td>카페라뗴</td>\n",
       "      <td>5000</td>\n",
       "      <td>110</td>\n",
       "    </tr>\n",
       "    <tr>\n",
       "      <th>2</th>\n",
       "      <td>카페모카</td>\n",
       "      <td>5000</td>\n",
       "      <td>250</td>\n",
       "    </tr>\n",
       "  </tbody>\n",
       "</table>\n",
       "</div>"
      ],
      "text/plain": [
       "     메뉴    가격  칼로리\n",
       "1  카페라뗴  5000  110\n",
       "2  카페모카  5000  250"
      ]
     },
     "execution_count": 60,
     "metadata": {},
     "output_type": "execute_result"
    }
   ],
   "source": [
    "df = pd.read_csv('cafe.csv')\n",
    "df = df.drop(0,axis=0)#첫번째행 삭제\n",
    "df.head(2)"
   ]
  },
  {
   "cell_type": "code",
   "execution_count": 61,
   "id": "74595b6e-ff18-43f3-9b10-7fb973937328",
   "metadata": {},
   "outputs": [
    {
     "data": {
      "text/plain": [
       "메뉴     카페라뗴\n",
       "가격     5000\n",
       "칼로리     110\n",
       "Name: 1, dtype: object"
      ]
     },
     "execution_count": 61,
     "metadata": {},
     "output_type": "execute_result"
    }
   ],
   "source": [
    "#인덱싱(행 전체)\n",
    "#카페라뗴\n",
    "df.iloc[0]"
   ]
  },
  {
   "cell_type": "code",
   "execution_count": 62,
   "id": "dabbc3e9-3bf2-43cf-825c-ddd692b125a8",
   "metadata": {},
   "outputs": [
    {
     "data": {
      "text/plain": [
       "1    5000\n",
       "2    5000\n",
       "3    3000\n",
       "4    5500\n",
       "Name: 가격, dtype: int64"
      ]
     },
     "execution_count": 62,
     "metadata": {},
     "output_type": "execute_result"
    }
   ],
   "source": [
    "#슬라이싱(컬럼 전체)\n",
    "#가격\n",
    "df.iloc[:,1]"
   ]
  },
  {
   "cell_type": "code",
   "execution_count": 63,
   "id": "d7908113-1a25-4af9-8832-20f433db7fd2",
   "metadata": {},
   "outputs": [
    {
     "data": {
      "text/html": [
       "<div>\n",
       "<style scoped>\n",
       "    .dataframe tbody tr th:only-of-type {\n",
       "        vertical-align: middle;\n",
       "    }\n",
       "\n",
       "    .dataframe tbody tr th {\n",
       "        vertical-align: top;\n",
       "    }\n",
       "\n",
       "    .dataframe thead th {\n",
       "        text-align: right;\n",
       "    }\n",
       "</style>\n",
       "<table border=\"1\" class=\"dataframe\">\n",
       "  <thead>\n",
       "    <tr style=\"text-align: right;\">\n",
       "      <th></th>\n",
       "      <th>메뉴</th>\n",
       "      <th>가격</th>\n",
       "      <th>칼로리</th>\n",
       "    </tr>\n",
       "  </thead>\n",
       "  <tbody>\n",
       "    <tr>\n",
       "      <th>1</th>\n",
       "      <td>카페라뗴</td>\n",
       "      <td>5000</td>\n",
       "      <td>110</td>\n",
       "    </tr>\n",
       "    <tr>\n",
       "      <th>2</th>\n",
       "      <td>카페모카</td>\n",
       "      <td>5000</td>\n",
       "      <td>250</td>\n",
       "    </tr>\n",
       "    <tr>\n",
       "      <th>3</th>\n",
       "      <td>에스프레소</td>\n",
       "      <td>3000</td>\n",
       "      <td>20</td>\n",
       "    </tr>\n",
       "    <tr>\n",
       "      <th>4</th>\n",
       "      <td>밀크티</td>\n",
       "      <td>5500</td>\n",
       "      <td>300</td>\n",
       "    </tr>\n",
       "  </tbody>\n",
       "</table>\n",
       "</div>"
      ],
      "text/plain": [
       "      메뉴    가격  칼로리\n",
       "1   카페라뗴  5000  110\n",
       "2   카페모카  5000  250\n",
       "3  에스프레소  3000   20\n",
       "4    밀크티  5500  300"
      ]
     },
     "execution_count": 63,
     "metadata": {},
     "output_type": "execute_result"
    }
   ],
   "source": [
    "df"
   ]
  },
  {
   "cell_type": "code",
   "execution_count": 64,
   "id": "6fef0f4e-01f9-4125-8abc-37c28798e1a5",
   "metadata": {},
   "outputs": [
    {
     "data": {
      "text/plain": [
       "메뉴    에스프레소\n",
       "가격     3000\n",
       "Name: 3, dtype: object"
      ]
     },
     "execution_count": 64,
     "metadata": {},
     "output_type": "execute_result"
    }
   ],
   "source": [
    "#슬라이싱\n",
    "#에스프레소 메뉴와 가격\n",
    "df.iloc[2,0:2]"
   ]
  },
  {
   "cell_type": "code",
   "execution_count": 65,
   "id": "62722b7d-11a9-4e2d-b64c-65dbf257619a",
   "metadata": {},
   "outputs": [
    {
     "data": {
      "text/html": [
       "<div>\n",
       "<style scoped>\n",
       "    .dataframe tbody tr th:only-of-type {\n",
       "        vertical-align: middle;\n",
       "    }\n",
       "\n",
       "    .dataframe tbody tr th {\n",
       "        vertical-align: top;\n",
       "    }\n",
       "\n",
       "    .dataframe thead th {\n",
       "        text-align: right;\n",
       "    }\n",
       "</style>\n",
       "<table border=\"1\" class=\"dataframe\">\n",
       "  <thead>\n",
       "    <tr style=\"text-align: right;\">\n",
       "      <th></th>\n",
       "      <th>메뉴</th>\n",
       "      <th>가격</th>\n",
       "      <th>칼로리</th>\n",
       "    </tr>\n",
       "  </thead>\n",
       "  <tbody>\n",
       "    <tr>\n",
       "      <th>2</th>\n",
       "      <td>카페모카</td>\n",
       "      <td>5000</td>\n",
       "      <td>250</td>\n",
       "    </tr>\n",
       "    <tr>\n",
       "      <th>3</th>\n",
       "      <td>에스프레소</td>\n",
       "      <td>3000</td>\n",
       "      <td>20</td>\n",
       "    </tr>\n",
       "  </tbody>\n",
       "</table>\n",
       "</div>"
      ],
      "text/plain": [
       "      메뉴    가격  칼로리\n",
       "2   카페모카  5000  250\n",
       "3  에스프레소  3000   20"
      ]
     },
     "execution_count": 65,
     "metadata": {},
     "output_type": "execute_result"
    }
   ],
   "source": [
    "#슬라이싱(카페모카와 에스프레소의 전체 데이터)\n",
    "df.iloc[1:3]"
   ]
  },
  {
   "cell_type": "code",
   "execution_count": 66,
   "id": "b79fdb47-f0af-4d1a-a62a-12758532c7b4",
   "metadata": {},
   "outputs": [
    {
     "data": {
      "text/html": [
       "<div>\n",
       "<style scoped>\n",
       "    .dataframe tbody tr th:only-of-type {\n",
       "        vertical-align: middle;\n",
       "    }\n",
       "\n",
       "    .dataframe tbody tr th {\n",
       "        vertical-align: top;\n",
       "    }\n",
       "\n",
       "    .dataframe thead th {\n",
       "        text-align: right;\n",
       "    }\n",
       "</style>\n",
       "<table border=\"1\" class=\"dataframe\">\n",
       "  <thead>\n",
       "    <tr style=\"text-align: right;\">\n",
       "      <th></th>\n",
       "      <th>메뉴</th>\n",
       "      <th>가격</th>\n",
       "      <th>칼로리</th>\n",
       "    </tr>\n",
       "  </thead>\n",
       "  <tbody>\n",
       "    <tr>\n",
       "      <th>2</th>\n",
       "      <td>카페모카</td>\n",
       "      <td>5000</td>\n",
       "      <td>250</td>\n",
       "    </tr>\n",
       "    <tr>\n",
       "      <th>3</th>\n",
       "      <td>에스프레소</td>\n",
       "      <td>3000</td>\n",
       "      <td>20</td>\n",
       "    </tr>\n",
       "  </tbody>\n",
       "</table>\n",
       "</div>"
      ],
      "text/plain": [
       "      메뉴    가격  칼로리\n",
       "2   카페모카  5000  250\n",
       "3  에스프레소  3000   20"
      ]
     },
     "execution_count": 66,
     "metadata": {},
     "output_type": "execute_result"
    }
   ],
   "source": [
    "#loc 슬라이싱(카페모카와 에스프레소의 전체 데이터)\n",
    "df.loc[2:3,'메뉴':'칼로리']"
   ]
  },
  {
   "cell_type": "code",
   "execution_count": 71,
   "id": "75e8b980-07a4-4f4a-80ec-057d51d00f3f",
   "metadata": {},
   "outputs": [
    {
     "data": {
      "text/html": [
       "<div>\n",
       "<style scoped>\n",
       "    .dataframe tbody tr th:only-of-type {\n",
       "        vertical-align: middle;\n",
       "    }\n",
       "\n",
       "    .dataframe tbody tr th {\n",
       "        vertical-align: top;\n",
       "    }\n",
       "\n",
       "    .dataframe thead th {\n",
       "        text-align: right;\n",
       "    }\n",
       "</style>\n",
       "<table border=\"1\" class=\"dataframe\">\n",
       "  <thead>\n",
       "    <tr style=\"text-align: right;\">\n",
       "      <th></th>\n",
       "      <th>메뉴</th>\n",
       "      <th>가격</th>\n",
       "      <th>칼로리</th>\n",
       "      <th>원산지</th>\n",
       "    </tr>\n",
       "  </thead>\n",
       "  <tbody>\n",
       "    <tr>\n",
       "      <th>4</th>\n",
       "      <td>밀크티</td>\n",
       "      <td>5500</td>\n",
       "      <td>300</td>\n",
       "      <td>NaN</td>\n",
       "    </tr>\n",
       "    <tr>\n",
       "      <th>1</th>\n",
       "      <td>카페라뗴</td>\n",
       "      <td>5000</td>\n",
       "      <td>110</td>\n",
       "      <td>NaN</td>\n",
       "    </tr>\n",
       "    <tr>\n",
       "      <th>2</th>\n",
       "      <td>카페모카</td>\n",
       "      <td>5000</td>\n",
       "      <td>250</td>\n",
       "      <td>NaN</td>\n",
       "    </tr>\n",
       "    <tr>\n",
       "      <th>0</th>\n",
       "      <td>아메리카노</td>\n",
       "      <td>4000</td>\n",
       "      <td>20</td>\n",
       "      <td>NaN</td>\n",
       "    </tr>\n",
       "  </tbody>\n",
       "</table>\n",
       "</div>"
      ],
      "text/plain": [
       "      메뉴    가격  칼로리  원산지\n",
       "4    밀크티  5500  300  NaN\n",
       "1   카페라뗴  5000  110  NaN\n",
       "2   카페모카  5000  250  NaN\n",
       "0  아메리카노  4000   20  NaN"
      ]
     },
     "execution_count": 71,
     "metadata": {},
     "output_type": "execute_result"
    }
   ],
   "source": [
    "import numpy as np\n",
    "df['원산지']=np.nan\n",
    "df.head(4)"
   ]
  },
  {
   "cell_type": "code",
   "execution_count": 73,
   "id": "0887a3f5-e2af-4bc7-ab00-47e71fcd57bf",
   "metadata": {},
   "outputs": [
    {
     "data": {
      "text/html": [
       "<div>\n",
       "<style scoped>\n",
       "    .dataframe tbody tr th:only-of-type {\n",
       "        vertical-align: middle;\n",
       "    }\n",
       "\n",
       "    .dataframe tbody tr th {\n",
       "        vertical-align: top;\n",
       "    }\n",
       "\n",
       "    .dataframe thead th {\n",
       "        text-align: right;\n",
       "    }\n",
       "</style>\n",
       "<table border=\"1\" class=\"dataframe\">\n",
       "  <thead>\n",
       "    <tr style=\"text-align: right;\">\n",
       "      <th></th>\n",
       "      <th>메뉴</th>\n",
       "      <th>가격</th>\n",
       "      <th>칼로리</th>\n",
       "      <th>원산지</th>\n",
       "    </tr>\n",
       "  </thead>\n",
       "  <tbody>\n",
       "    <tr>\n",
       "      <th>4</th>\n",
       "      <td>밀크티</td>\n",
       "      <td>5500</td>\n",
       "      <td>300</td>\n",
       "      <td>NaN</td>\n",
       "    </tr>\n",
       "    <tr>\n",
       "      <th>1</th>\n",
       "      <td>카페라뗴</td>\n",
       "      <td>5000</td>\n",
       "      <td>110</td>\n",
       "      <td>과테말라</td>\n",
       "    </tr>\n",
       "    <tr>\n",
       "      <th>2</th>\n",
       "      <td>카페모카</td>\n",
       "      <td>5000</td>\n",
       "      <td>250</td>\n",
       "      <td>과테말라</td>\n",
       "    </tr>\n",
       "    <tr>\n",
       "      <th>0</th>\n",
       "      <td>아메리카노</td>\n",
       "      <td>4000</td>\n",
       "      <td>20</td>\n",
       "      <td>콜롬비아</td>\n",
       "    </tr>\n",
       "  </tbody>\n",
       "</table>\n",
       "</div>"
      ],
      "text/plain": [
       "      메뉴    가격  칼로리   원산지\n",
       "4    밀크티  5500  300   NaN\n",
       "1   카페라뗴  5000  110  과테말라\n",
       "2   카페모카  5000  250  과테말라\n",
       "0  아메리카노  4000   20  콜롬비아"
      ]
     },
     "execution_count": 73,
     "metadata": {},
     "output_type": "execute_result"
    }
   ],
   "source": [
    "df.loc[0,\"원산지\"]='콜롬비아'\n",
    "df.loc[1:2, \"원산지\"]='과테말라'\n",
    "df.head(4)"
   ]
  },
  {
   "cell_type": "code",
   "execution_count": 75,
   "id": "00b205fc-dcad-4ece-9dc9-92291adea26f",
   "metadata": {},
   "outputs": [
    {
     "data": {
      "text/html": [
       "<div>\n",
       "<style scoped>\n",
       "    .dataframe tbody tr th:only-of-type {\n",
       "        vertical-align: middle;\n",
       "    }\n",
       "\n",
       "    .dataframe tbody tr th {\n",
       "        vertical-align: top;\n",
       "    }\n",
       "\n",
       "    .dataframe thead th {\n",
       "        text-align: right;\n",
       "    }\n",
       "</style>\n",
       "<table border=\"1\" class=\"dataframe\">\n",
       "  <thead>\n",
       "    <tr style=\"text-align: right;\">\n",
       "      <th></th>\n",
       "      <th>메뉴</th>\n",
       "      <th>가격</th>\n",
       "      <th>칼로리</th>\n",
       "      <th>원산지</th>\n",
       "    </tr>\n",
       "  </thead>\n",
       "  <tbody>\n",
       "    <tr>\n",
       "      <th>0</th>\n",
       "      <td>아메리카노</td>\n",
       "      <td>4000</td>\n",
       "      <td>20</td>\n",
       "      <td>콜롬비아</td>\n",
       "    </tr>\n",
       "    <tr>\n",
       "      <th>3</th>\n",
       "      <td>에스프레소</td>\n",
       "      <td>3000</td>\n",
       "      <td>20</td>\n",
       "      <td>과테말라</td>\n",
       "    </tr>\n",
       "    <tr>\n",
       "      <th>시즌</th>\n",
       "      <td>크리스마스라떼</td>\n",
       "      <td>600</td>\n",
       "      <td>300</td>\n",
       "      <td>한국</td>\n",
       "    </tr>\n",
       "  </tbody>\n",
       "</table>\n",
       "</div>"
      ],
      "text/plain": [
       "         메뉴    가격  칼로리   원산지\n",
       "0     아메리카노  4000   20  콜롬비아\n",
       "3     에스프레소  3000   20  과테말라\n",
       "시즌  크리스마스라떼   600  300    한국"
      ]
     },
     "execution_count": 75,
     "metadata": {},
     "output_type": "execute_result"
    }
   ],
   "source": [
    "df.loc['시즌']=['크리스마스라떼',600,300,'한국']\n",
    "df.tail(3)"
   ]
  },
  {
   "cell_type": "code",
   "execution_count": 76,
   "id": "cd27c027-cca9-4abe-a7b2-65d817d897d8",
   "metadata": {},
   "outputs": [
    {
     "data": {
      "text/html": [
       "<div>\n",
       "<style scoped>\n",
       "    .dataframe tbody tr th:only-of-type {\n",
       "        vertical-align: middle;\n",
       "    }\n",
       "\n",
       "    .dataframe tbody tr th {\n",
       "        vertical-align: top;\n",
       "    }\n",
       "\n",
       "    .dataframe thead th {\n",
       "        text-align: right;\n",
       "    }\n",
       "</style>\n",
       "<table border=\"1\" class=\"dataframe\">\n",
       "  <thead>\n",
       "    <tr style=\"text-align: right;\">\n",
       "      <th></th>\n",
       "      <th>메뉴</th>\n",
       "      <th>가격</th>\n",
       "      <th>칼로리</th>\n",
       "      <th>원산지</th>\n",
       "    </tr>\n",
       "  </thead>\n",
       "  <tbody>\n",
       "    <tr>\n",
       "      <th>3</th>\n",
       "      <td>에스프레소</td>\n",
       "      <td>3000</td>\n",
       "      <td>20</td>\n",
       "      <td>과테말라</td>\n",
       "    </tr>\n",
       "    <tr>\n",
       "      <th>시즌</th>\n",
       "      <td>크리스마스라떼</td>\n",
       "      <td>600</td>\n",
       "      <td>300</td>\n",
       "      <td>한국</td>\n",
       "    </tr>\n",
       "    <tr>\n",
       "      <th>7</th>\n",
       "      <td>딴짓커피</td>\n",
       "      <td>2000</td>\n",
       "      <td>20</td>\n",
       "      <td>NaN</td>\n",
       "    </tr>\n",
       "  </tbody>\n",
       "</table>\n",
       "</div>"
      ],
      "text/plain": [
       "         메뉴    가격  칼로리   원산지\n",
       "3     에스프레소  3000   20  과테말라\n",
       "시즌  크리스마스라떼   600  300    한국\n",
       "7      딴짓커피  2000   20   NaN"
      ]
     },
     "execution_count": 76,
     "metadata": {},
     "output_type": "execute_result"
    }
   ],
   "source": [
    "df.loc[7]={'메뉴':'딴짓커피','가격':2000,'칼로리':20}\n",
    "df.tail(3)"
   ]
  },
  {
   "cell_type": "code",
   "execution_count": 78,
   "id": "74879f92-853a-4870-bee6-e293ff6b2fea",
   "metadata": {},
   "outputs": [
    {
     "ename": "KeyError",
     "evalue": "\"['시즌'] not found in axis\"",
     "output_type": "error",
     "traceback": [
      "\u001b[31m---------------------------------------------------------------------------\u001b[39m",
      "\u001b[31mKeyError\u001b[39m                                  Traceback (most recent call last)",
      "\u001b[36mCell\u001b[39m\u001b[36m \u001b[39m\u001b[32mIn[78]\u001b[39m\u001b[32m, line 1\u001b[39m\n\u001b[32m----> \u001b[39m\u001b[32m1\u001b[39m df = \u001b[43mdf\u001b[49m\u001b[43m.\u001b[49m\u001b[43mdrop\u001b[49m\u001b[43m(\u001b[49m\u001b[33;43m\"\u001b[39;49m\u001b[33;43m시즌\u001b[39;49m\u001b[33;43m\"\u001b[39;49m\u001b[43m,\u001b[49m\u001b[43maxis\u001b[49m\u001b[43m=\u001b[49m\u001b[32;43m0\u001b[39;49m\u001b[43m)\u001b[49m\n\u001b[32m      2\u001b[39m df.to_csv(\u001b[33m'\u001b[39m\u001b[33mcafe2.csv\u001b[39m\u001b[33m'\u001b[39m,index=\u001b[38;5;28;01mFalse\u001b[39;00m)\n",
      "\u001b[36mFile \u001b[39m\u001b[32mC:\\Python313\\Lib\\site-packages\\pandas\\core\\frame.py:5588\u001b[39m, in \u001b[36mDataFrame.drop\u001b[39m\u001b[34m(self, labels, axis, index, columns, level, inplace, errors)\u001b[39m\n\u001b[32m   5440\u001b[39m \u001b[38;5;28;01mdef\u001b[39;00m\u001b[38;5;250m \u001b[39m\u001b[34mdrop\u001b[39m(\n\u001b[32m   5441\u001b[39m     \u001b[38;5;28mself\u001b[39m,\n\u001b[32m   5442\u001b[39m     labels: IndexLabel | \u001b[38;5;28;01mNone\u001b[39;00m = \u001b[38;5;28;01mNone\u001b[39;00m,\n\u001b[32m   (...)\u001b[39m\u001b[32m   5449\u001b[39m     errors: IgnoreRaise = \u001b[33m\"\u001b[39m\u001b[33mraise\u001b[39m\u001b[33m\"\u001b[39m,\n\u001b[32m   5450\u001b[39m ) -> DataFrame | \u001b[38;5;28;01mNone\u001b[39;00m:\n\u001b[32m   5451\u001b[39m \u001b[38;5;250m    \u001b[39m\u001b[33;03m\"\"\"\u001b[39;00m\n\u001b[32m   5452\u001b[39m \u001b[33;03m    Drop specified labels from rows or columns.\u001b[39;00m\n\u001b[32m   5453\u001b[39m \n\u001b[32m   (...)\u001b[39m\u001b[32m   5586\u001b[39m \u001b[33;03m            weight  1.0     0.8\u001b[39;00m\n\u001b[32m   5587\u001b[39m \u001b[33;03m    \"\"\"\u001b[39;00m\n\u001b[32m-> \u001b[39m\u001b[32m5588\u001b[39m     \u001b[38;5;28;01mreturn\u001b[39;00m \u001b[38;5;28;43msuper\u001b[39;49m\u001b[43m(\u001b[49m\u001b[43m)\u001b[49m\u001b[43m.\u001b[49m\u001b[43mdrop\u001b[49m\u001b[43m(\u001b[49m\n\u001b[32m   5589\u001b[39m \u001b[43m        \u001b[49m\u001b[43mlabels\u001b[49m\u001b[43m=\u001b[49m\u001b[43mlabels\u001b[49m\u001b[43m,\u001b[49m\n\u001b[32m   5590\u001b[39m \u001b[43m        \u001b[49m\u001b[43maxis\u001b[49m\u001b[43m=\u001b[49m\u001b[43maxis\u001b[49m\u001b[43m,\u001b[49m\n\u001b[32m   5591\u001b[39m \u001b[43m        \u001b[49m\u001b[43mindex\u001b[49m\u001b[43m=\u001b[49m\u001b[43mindex\u001b[49m\u001b[43m,\u001b[49m\n\u001b[32m   5592\u001b[39m \u001b[43m        \u001b[49m\u001b[43mcolumns\u001b[49m\u001b[43m=\u001b[49m\u001b[43mcolumns\u001b[49m\u001b[43m,\u001b[49m\n\u001b[32m   5593\u001b[39m \u001b[43m        \u001b[49m\u001b[43mlevel\u001b[49m\u001b[43m=\u001b[49m\u001b[43mlevel\u001b[49m\u001b[43m,\u001b[49m\n\u001b[32m   5594\u001b[39m \u001b[43m        \u001b[49m\u001b[43minplace\u001b[49m\u001b[43m=\u001b[49m\u001b[43minplace\u001b[49m\u001b[43m,\u001b[49m\n\u001b[32m   5595\u001b[39m \u001b[43m        \u001b[49m\u001b[43merrors\u001b[49m\u001b[43m=\u001b[49m\u001b[43merrors\u001b[49m\u001b[43m,\u001b[49m\n\u001b[32m   5596\u001b[39m \u001b[43m    \u001b[49m\u001b[43m)\u001b[49m\n",
      "\u001b[36mFile \u001b[39m\u001b[32mC:\\Python313\\Lib\\site-packages\\pandas\\core\\generic.py:4807\u001b[39m, in \u001b[36mNDFrame.drop\u001b[39m\u001b[34m(self, labels, axis, index, columns, level, inplace, errors)\u001b[39m\n\u001b[32m   4805\u001b[39m \u001b[38;5;28;01mfor\u001b[39;00m axis, labels \u001b[38;5;129;01min\u001b[39;00m axes.items():\n\u001b[32m   4806\u001b[39m     \u001b[38;5;28;01mif\u001b[39;00m labels \u001b[38;5;129;01mis\u001b[39;00m \u001b[38;5;129;01mnot\u001b[39;00m \u001b[38;5;28;01mNone\u001b[39;00m:\n\u001b[32m-> \u001b[39m\u001b[32m4807\u001b[39m         obj = \u001b[43mobj\u001b[49m\u001b[43m.\u001b[49m\u001b[43m_drop_axis\u001b[49m\u001b[43m(\u001b[49m\u001b[43mlabels\u001b[49m\u001b[43m,\u001b[49m\u001b[43m \u001b[49m\u001b[43maxis\u001b[49m\u001b[43m,\u001b[49m\u001b[43m \u001b[49m\u001b[43mlevel\u001b[49m\u001b[43m=\u001b[49m\u001b[43mlevel\u001b[49m\u001b[43m,\u001b[49m\u001b[43m \u001b[49m\u001b[43merrors\u001b[49m\u001b[43m=\u001b[49m\u001b[43merrors\u001b[49m\u001b[43m)\u001b[49m\n\u001b[32m   4809\u001b[39m \u001b[38;5;28;01mif\u001b[39;00m inplace:\n\u001b[32m   4810\u001b[39m     \u001b[38;5;28mself\u001b[39m._update_inplace(obj)\n",
      "\u001b[36mFile \u001b[39m\u001b[32mC:\\Python313\\Lib\\site-packages\\pandas\\core\\generic.py:4849\u001b[39m, in \u001b[36mNDFrame._drop_axis\u001b[39m\u001b[34m(self, labels, axis, level, errors, only_slice)\u001b[39m\n\u001b[32m   4847\u001b[39m         new_axis = axis.drop(labels, level=level, errors=errors)\n\u001b[32m   4848\u001b[39m     \u001b[38;5;28;01melse\u001b[39;00m:\n\u001b[32m-> \u001b[39m\u001b[32m4849\u001b[39m         new_axis = \u001b[43maxis\u001b[49m\u001b[43m.\u001b[49m\u001b[43mdrop\u001b[49m\u001b[43m(\u001b[49m\u001b[43mlabels\u001b[49m\u001b[43m,\u001b[49m\u001b[43m \u001b[49m\u001b[43merrors\u001b[49m\u001b[43m=\u001b[49m\u001b[43merrors\u001b[49m\u001b[43m)\u001b[49m\n\u001b[32m   4850\u001b[39m     indexer = axis.get_indexer(new_axis)\n\u001b[32m   4852\u001b[39m \u001b[38;5;66;03m# Case for non-unique axis\u001b[39;00m\n\u001b[32m   4853\u001b[39m \u001b[38;5;28;01melse\u001b[39;00m:\n",
      "\u001b[36mFile \u001b[39m\u001b[32mC:\\Python313\\Lib\\site-packages\\pandas\\core\\indexes\\base.py:7098\u001b[39m, in \u001b[36mIndex.drop\u001b[39m\u001b[34m(self, labels, errors)\u001b[39m\n\u001b[32m   7096\u001b[39m \u001b[38;5;28;01mif\u001b[39;00m mask.any():\n\u001b[32m   7097\u001b[39m     \u001b[38;5;28;01mif\u001b[39;00m errors != \u001b[33m\"\u001b[39m\u001b[33mignore\u001b[39m\u001b[33m\"\u001b[39m:\n\u001b[32m-> \u001b[39m\u001b[32m7098\u001b[39m         \u001b[38;5;28;01mraise\u001b[39;00m \u001b[38;5;167;01mKeyError\u001b[39;00m(\u001b[33mf\u001b[39m\u001b[33m\"\u001b[39m\u001b[38;5;132;01m{\u001b[39;00mlabels[mask].tolist()\u001b[38;5;132;01m}\u001b[39;00m\u001b[33m not found in axis\u001b[39m\u001b[33m\"\u001b[39m)\n\u001b[32m   7099\u001b[39m     indexer = indexer[~mask]\n\u001b[32m   7100\u001b[39m \u001b[38;5;28;01mreturn\u001b[39;00m \u001b[38;5;28mself\u001b[39m.delete(indexer)\n",
      "\u001b[31mKeyError\u001b[39m: \"['시즌'] not found in axis\""
     ]
    }
   ],
   "source": [
    "df = df.drop(\"시즌\",axis=0)\n",
    "df.to_csv('cafe2.csv',index=False)"
   ]
  },
  {
   "cell_type": "code",
   "execution_count": 97,
   "id": "9270f867-34db-4fb4-b378-d83b4c59a6f0",
   "metadata": {},
   "outputs": [
    {
     "data": {
      "text/html": [
       "<div>\n",
       "<style scoped>\n",
       "    .dataframe tbody tr th:only-of-type {\n",
       "        vertical-align: middle;\n",
       "    }\n",
       "\n",
       "    .dataframe tbody tr th {\n",
       "        vertical-align: top;\n",
       "    }\n",
       "\n",
       "    .dataframe thead th {\n",
       "        text-align: right;\n",
       "    }\n",
       "</style>\n",
       "<table border=\"1\" class=\"dataframe\">\n",
       "  <thead>\n",
       "    <tr style=\"text-align: right;\">\n",
       "      <th></th>\n",
       "      <th>메뉴</th>\n",
       "      <th>가격</th>\n",
       "      <th>칼로리</th>\n",
       "      <th>원산지</th>\n",
       "    </tr>\n",
       "  </thead>\n",
       "  <tbody>\n",
       "    <tr>\n",
       "      <th>0</th>\n",
       "      <td>밀크티</td>\n",
       "      <td>5500</td>\n",
       "      <td>300</td>\n",
       "      <td>NaN</td>\n",
       "    </tr>\n",
       "    <tr>\n",
       "      <th>1</th>\n",
       "      <td>카페라뗴</td>\n",
       "      <td>5000</td>\n",
       "      <td>110</td>\n",
       "      <td>과테말라</td>\n",
       "    </tr>\n",
       "  </tbody>\n",
       "</table>\n",
       "</div>"
      ],
      "text/plain": [
       "     메뉴    가격  칼로리   원산지\n",
       "0   밀크티  5500  300   NaN\n",
       "1  카페라뗴  5000  110  과테말라"
      ]
     },
     "execution_count": 97,
     "metadata": {},
     "output_type": "execute_result"
    }
   ],
   "source": [
    "df=pd.read_csv('cafe2.csv')\n",
    "df.head(2)"
   ]
  },
  {
   "cell_type": "code",
   "execution_count": 98,
   "id": "21324351-0369-4c0d-989b-314f47d17988",
   "metadata": {},
   "outputs": [
    {
     "data": {
      "text/html": [
       "<div>\n",
       "<style scoped>\n",
       "    .dataframe tbody tr th:only-of-type {\n",
       "        vertical-align: middle;\n",
       "    }\n",
       "\n",
       "    .dataframe tbody tr th {\n",
       "        vertical-align: top;\n",
       "    }\n",
       "\n",
       "    .dataframe thead th {\n",
       "        text-align: right;\n",
       "    }\n",
       "</style>\n",
       "<table border=\"1\" class=\"dataframe\">\n",
       "  <thead>\n",
       "    <tr style=\"text-align: right;\">\n",
       "      <th></th>\n",
       "      <th>메뉴</th>\n",
       "      <th>가격</th>\n",
       "      <th>칼로리</th>\n",
       "      <th>원산지</th>\n",
       "    </tr>\n",
       "  </thead>\n",
       "  <tbody>\n",
       "    <tr>\n",
       "      <th>2</th>\n",
       "      <td>카페모카</td>\n",
       "      <td>5000</td>\n",
       "      <td>250</td>\n",
       "      <td>과테말라</td>\n",
       "    </tr>\n",
       "    <tr>\n",
       "      <th>1</th>\n",
       "      <td>카페라뗴</td>\n",
       "      <td>5000</td>\n",
       "      <td>110</td>\n",
       "      <td>과테말라</td>\n",
       "    </tr>\n",
       "    <tr>\n",
       "      <th>4</th>\n",
       "      <td>에스프레소</td>\n",
       "      <td>3000</td>\n",
       "      <td>20</td>\n",
       "      <td>과테말라</td>\n",
       "    </tr>\n",
       "    <tr>\n",
       "      <th>3</th>\n",
       "      <td>아메리카노</td>\n",
       "      <td>4000</td>\n",
       "      <td>20</td>\n",
       "      <td>콜롬비아</td>\n",
       "    </tr>\n",
       "    <tr>\n",
       "      <th>0</th>\n",
       "      <td>밀크티</td>\n",
       "      <td>5500</td>\n",
       "      <td>300</td>\n",
       "      <td>NaN</td>\n",
       "    </tr>\n",
       "    <tr>\n",
       "      <th>5</th>\n",
       "      <td>딴짓커피</td>\n",
       "      <td>2000</td>\n",
       "      <td>20</td>\n",
       "      <td>NaN</td>\n",
       "    </tr>\n",
       "  </tbody>\n",
       "</table>\n",
       "</div>"
      ],
      "text/plain": [
       "      메뉴    가격  칼로리   원산지\n",
       "2   카페모카  5000  250  과테말라\n",
       "1   카페라뗴  5000  110  과테말라\n",
       "4  에스프레소  3000   20  과테말라\n",
       "3  아메리카노  4000   20  콜롬비아\n",
       "0    밀크티  5500  300   NaN\n",
       "5   딴짓커피  2000   20   NaN"
      ]
     },
     "execution_count": 98,
     "metadata": {},
     "output_type": "execute_result"
    }
   ],
   "source": [
    "df.sort_values('메뉴',ascending=False)"
   ]
  },
  {
   "cell_type": "code",
   "execution_count": 99,
   "id": "8a0e4ae9-9f55-4da1-97a3-a7b49f25e61c",
   "metadata": {},
   "outputs": [
    {
     "data": {
      "text/html": [
       "<div>\n",
       "<style scoped>\n",
       "    .dataframe tbody tr th:only-of-type {\n",
       "        vertical-align: middle;\n",
       "    }\n",
       "\n",
       "    .dataframe tbody tr th {\n",
       "        vertical-align: top;\n",
       "    }\n",
       "\n",
       "    .dataframe thead th {\n",
       "        text-align: right;\n",
       "    }\n",
       "</style>\n",
       "<table border=\"1\" class=\"dataframe\">\n",
       "  <thead>\n",
       "    <tr style=\"text-align: right;\">\n",
       "      <th></th>\n",
       "      <th>메뉴</th>\n",
       "      <th>가격</th>\n",
       "      <th>칼로리</th>\n",
       "      <th>원산지</th>\n",
       "    </tr>\n",
       "  </thead>\n",
       "  <tbody>\n",
       "    <tr>\n",
       "      <th>0</th>\n",
       "      <td>밀크티</td>\n",
       "      <td>5500</td>\n",
       "      <td>300</td>\n",
       "      <td>NaN</td>\n",
       "    </tr>\n",
       "    <tr>\n",
       "      <th>1</th>\n",
       "      <td>카페라뗴</td>\n",
       "      <td>5000</td>\n",
       "      <td>110</td>\n",
       "      <td>과테말라</td>\n",
       "    </tr>\n",
       "    <tr>\n",
       "      <th>2</th>\n",
       "      <td>카페모카</td>\n",
       "      <td>5000</td>\n",
       "      <td>250</td>\n",
       "      <td>과테말라</td>\n",
       "    </tr>\n",
       "    <tr>\n",
       "      <th>3</th>\n",
       "      <td>아메리카노</td>\n",
       "      <td>4000</td>\n",
       "      <td>20</td>\n",
       "      <td>콜롬비아</td>\n",
       "    </tr>\n",
       "    <tr>\n",
       "      <th>4</th>\n",
       "      <td>에스프레소</td>\n",
       "      <td>3000</td>\n",
       "      <td>20</td>\n",
       "      <td>과테말라</td>\n",
       "    </tr>\n",
       "    <tr>\n",
       "      <th>5</th>\n",
       "      <td>딴짓커피</td>\n",
       "      <td>2000</td>\n",
       "      <td>20</td>\n",
       "      <td>NaN</td>\n",
       "    </tr>\n",
       "  </tbody>\n",
       "</table>\n",
       "</div>"
      ],
      "text/plain": [
       "      메뉴    가격  칼로리   원산지\n",
       "0    밀크티  5500  300   NaN\n",
       "1   카페라뗴  5000  110  과테말라\n",
       "2   카페모카  5000  250  과테말라\n",
       "3  아메리카노  4000   20  콜롬비아\n",
       "4  에스프레소  3000   20  과테말라\n",
       "5   딴짓커피  2000   20   NaN"
      ]
     },
     "execution_count": 99,
     "metadata": {},
     "output_type": "execute_result"
    }
   ],
   "source": [
    "#가격과 메뉴 기준 정렬\n",
    "df=df.sort_values(['가격','메뉴'], ascending=[False, True])\n",
    "df"
   ]
  },
  {
   "cell_type": "code",
   "execution_count": 100,
   "id": "63ab9be8-e2dd-4979-8fc8-fd03357a5066",
   "metadata": {},
   "outputs": [
    {
     "data": {
      "text/html": [
       "<div>\n",
       "<style scoped>\n",
       "    .dataframe tbody tr th:only-of-type {\n",
       "        vertical-align: middle;\n",
       "    }\n",
       "\n",
       "    .dataframe tbody tr th {\n",
       "        vertical-align: top;\n",
       "    }\n",
       "\n",
       "    .dataframe thead th {\n",
       "        text-align: right;\n",
       "    }\n",
       "</style>\n",
       "<table border=\"1\" class=\"dataframe\">\n",
       "  <thead>\n",
       "    <tr style=\"text-align: right;\">\n",
       "      <th></th>\n",
       "      <th>메뉴</th>\n",
       "      <th>가격</th>\n",
       "      <th>칼로리</th>\n",
       "      <th>원산지</th>\n",
       "    </tr>\n",
       "  </thead>\n",
       "  <tbody>\n",
       "    <tr>\n",
       "      <th>0</th>\n",
       "      <td>밀크티</td>\n",
       "      <td>5500</td>\n",
       "      <td>300</td>\n",
       "      <td>NaN</td>\n",
       "    </tr>\n",
       "    <tr>\n",
       "      <th>1</th>\n",
       "      <td>카페라뗴</td>\n",
       "      <td>5000</td>\n",
       "      <td>110</td>\n",
       "      <td>과테말라</td>\n",
       "    </tr>\n",
       "    <tr>\n",
       "      <th>2</th>\n",
       "      <td>카페모카</td>\n",
       "      <td>5000</td>\n",
       "      <td>250</td>\n",
       "      <td>과테말라</td>\n",
       "    </tr>\n",
       "    <tr>\n",
       "      <th>3</th>\n",
       "      <td>아메리카노</td>\n",
       "      <td>4000</td>\n",
       "      <td>20</td>\n",
       "      <td>콜롬비아</td>\n",
       "    </tr>\n",
       "    <tr>\n",
       "      <th>4</th>\n",
       "      <td>에스프레소</td>\n",
       "      <td>3000</td>\n",
       "      <td>20</td>\n",
       "      <td>과테말라</td>\n",
       "    </tr>\n",
       "    <tr>\n",
       "      <th>5</th>\n",
       "      <td>딴짓커피</td>\n",
       "      <td>2000</td>\n",
       "      <td>20</td>\n",
       "      <td>NaN</td>\n",
       "    </tr>\n",
       "  </tbody>\n",
       "</table>\n",
       "</div>"
      ],
      "text/plain": [
       "      메뉴    가격  칼로리   원산지\n",
       "0    밀크티  5500  300   NaN\n",
       "1   카페라뗴  5000  110  과테말라\n",
       "2   카페모카  5000  250  과테말라\n",
       "3  아메리카노  4000   20  콜롬비아\n",
       "4  에스프레소  3000   20  과테말라\n",
       "5   딴짓커피  2000   20   NaN"
      ]
     },
     "execution_count": 100,
     "metadata": {},
     "output_type": "execute_result"
    }
   ],
   "source": [
    "#인덱스 새로 만들기 drop=True\n",
    "df.reset_index(drop=True)"
   ]
  },
  {
   "cell_type": "code",
   "execution_count": 112,
   "id": "ea8fec76-18b3-4ed8-acf2-6e2769836026",
   "metadata": {},
   "outputs": [
    {
     "data": {
      "text/html": [
       "<div>\n",
       "<style scoped>\n",
       "    .dataframe tbody tr th:only-of-type {\n",
       "        vertical-align: middle;\n",
       "    }\n",
       "\n",
       "    .dataframe tbody tr th {\n",
       "        vertical-align: top;\n",
       "    }\n",
       "\n",
       "    .dataframe thead th {\n",
       "        text-align: right;\n",
       "    }\n",
       "</style>\n",
       "<table border=\"1\" class=\"dataframe\">\n",
       "  <thead>\n",
       "    <tr style=\"text-align: right;\">\n",
       "      <th></th>\n",
       "      <th>메뉴</th>\n",
       "      <th>가격</th>\n",
       "      <th>칼로리</th>\n",
       "      <th>원산지</th>\n",
       "    </tr>\n",
       "  </thead>\n",
       "  <tbody>\n",
       "    <tr>\n",
       "      <th>0</th>\n",
       "      <td>밀크티</td>\n",
       "      <td>5500</td>\n",
       "      <td>300</td>\n",
       "      <td>NaN</td>\n",
       "    </tr>\n",
       "    <tr>\n",
       "      <th>1</th>\n",
       "      <td>카페라뗴</td>\n",
       "      <td>5000</td>\n",
       "      <td>110</td>\n",
       "      <td>과테말라</td>\n",
       "    </tr>\n",
       "  </tbody>\n",
       "</table>\n",
       "</div>"
      ],
      "text/plain": [
       "     메뉴    가격  칼로리   원산지\n",
       "0   밀크티  5500  300   NaN\n",
       "1  카페라뗴  5000  110  과테말라"
      ]
     },
     "execution_count": 112,
     "metadata": {},
     "output_type": "execute_result"
    }
   ],
   "source": [
    "df = pd.read_csv('cafe2.csv')\n",
    "df.head(2)"
   ]
  },
  {
   "cell_type": "code",
   "execution_count": 113,
   "id": "ac3a4f35-38b4-4f51-b1dc-d712275b0678",
   "metadata": {},
   "outputs": [
    {
     "data": {
      "text/plain": [
       "0    False\n",
       "1    False\n",
       "2    False\n",
       "3     True\n",
       "4     True\n",
       "5     True\n",
       "Name: 칼로리, dtype: bool"
      ]
     },
     "execution_count": 113,
     "metadata": {},
     "output_type": "execute_result"
    }
   ],
   "source": [
    "df['칼로리']<50"
   ]
  },
  {
   "cell_type": "code",
   "execution_count": 114,
   "id": "99c12e54-675d-45e0-bda6-2897544fabf6",
   "metadata": {},
   "outputs": [
    {
     "data": {
      "text/html": [
       "<div>\n",
       "<style scoped>\n",
       "    .dataframe tbody tr th:only-of-type {\n",
       "        vertical-align: middle;\n",
       "    }\n",
       "\n",
       "    .dataframe tbody tr th {\n",
       "        vertical-align: top;\n",
       "    }\n",
       "\n",
       "    .dataframe thead th {\n",
       "        text-align: right;\n",
       "    }\n",
       "</style>\n",
       "<table border=\"1\" class=\"dataframe\">\n",
       "  <thead>\n",
       "    <tr style=\"text-align: right;\">\n",
       "      <th></th>\n",
       "      <th>메뉴</th>\n",
       "      <th>가격</th>\n",
       "      <th>칼로리</th>\n",
       "      <th>원산지</th>\n",
       "    </tr>\n",
       "  </thead>\n",
       "  <tbody>\n",
       "    <tr>\n",
       "      <th>3</th>\n",
       "      <td>아메리카노</td>\n",
       "      <td>4000</td>\n",
       "      <td>20</td>\n",
       "      <td>콜롬비아</td>\n",
       "    </tr>\n",
       "    <tr>\n",
       "      <th>4</th>\n",
       "      <td>에스프레소</td>\n",
       "      <td>3000</td>\n",
       "      <td>20</td>\n",
       "      <td>과테말라</td>\n",
       "    </tr>\n",
       "    <tr>\n",
       "      <th>5</th>\n",
       "      <td>딴짓커피</td>\n",
       "      <td>2000</td>\n",
       "      <td>20</td>\n",
       "      <td>NaN</td>\n",
       "    </tr>\n",
       "  </tbody>\n",
       "</table>\n",
       "</div>"
      ],
      "text/plain": [
       "      메뉴    가격  칼로리   원산지\n",
       "3  아메리카노  4000   20  콜롬비아\n",
       "4  에스프레소  3000   20  과테말라\n",
       "5   딴짓커피  2000   20   NaN"
      ]
     },
     "execution_count": 114,
     "metadata": {},
     "output_type": "execute_result"
    }
   ],
   "source": [
    "#1개 조건\n",
    "cond=df['칼로리']<50\n",
    "df[cond]"
   ]
  },
  {
   "cell_type": "code",
   "execution_count": 115,
   "id": "a2f33f26-321a-4274-9864-ad8ba9e0765f",
   "metadata": {},
   "outputs": [
    {
     "data": {
      "text/html": [
       "<div>\n",
       "<style scoped>\n",
       "    .dataframe tbody tr th:only-of-type {\n",
       "        vertical-align: middle;\n",
       "    }\n",
       "\n",
       "    .dataframe tbody tr th {\n",
       "        vertical-align: top;\n",
       "    }\n",
       "\n",
       "    .dataframe thead th {\n",
       "        text-align: right;\n",
       "    }\n",
       "</style>\n",
       "<table border=\"1\" class=\"dataframe\">\n",
       "  <thead>\n",
       "    <tr style=\"text-align: right;\">\n",
       "      <th></th>\n",
       "      <th>메뉴</th>\n",
       "      <th>가격</th>\n",
       "      <th>칼로리</th>\n",
       "      <th>원산지</th>\n",
       "    </tr>\n",
       "  </thead>\n",
       "  <tbody>\n",
       "    <tr>\n",
       "      <th>3</th>\n",
       "      <td>아메리카노</td>\n",
       "      <td>4000</td>\n",
       "      <td>20</td>\n",
       "      <td>콜롬비아</td>\n",
       "    </tr>\n",
       "    <tr>\n",
       "      <th>4</th>\n",
       "      <td>에스프레소</td>\n",
       "      <td>3000</td>\n",
       "      <td>20</td>\n",
       "      <td>과테말라</td>\n",
       "    </tr>\n",
       "    <tr>\n",
       "      <th>5</th>\n",
       "      <td>딴짓커피</td>\n",
       "      <td>2000</td>\n",
       "      <td>20</td>\n",
       "      <td>NaN</td>\n",
       "    </tr>\n",
       "  </tbody>\n",
       "</table>\n",
       "</div>"
      ],
      "text/plain": [
       "      메뉴    가격  칼로리   원산지\n",
       "3  아메리카노  4000   20  콜롬비아\n",
       "4  에스프레소  3000   20  과테말라\n",
       "5   딴짓커피  2000   20   NaN"
      ]
     },
     "execution_count": 115,
     "metadata": {},
     "output_type": "execute_result"
    }
   ],
   "source": [
    "#1개 조건\n",
    "df[df['칼로리']<50]"
   ]
  },
  {
   "cell_type": "code",
   "execution_count": 116,
   "id": "8188224a-03b0-4ddf-a354-b58a81bd5092",
   "metadata": {},
   "outputs": [
    {
     "data": {
      "text/html": [
       "<div>\n",
       "<style scoped>\n",
       "    .dataframe tbody tr th:only-of-type {\n",
       "        vertical-align: middle;\n",
       "    }\n",
       "\n",
       "    .dataframe tbody tr th {\n",
       "        vertical-align: top;\n",
       "    }\n",
       "\n",
       "    .dataframe thead th {\n",
       "        text-align: right;\n",
       "    }\n",
       "</style>\n",
       "<table border=\"1\" class=\"dataframe\">\n",
       "  <thead>\n",
       "    <tr style=\"text-align: right;\">\n",
       "      <th></th>\n",
       "      <th>메뉴</th>\n",
       "      <th>가격</th>\n",
       "      <th>칼로리</th>\n",
       "      <th>원산지</th>\n",
       "    </tr>\n",
       "  </thead>\n",
       "  <tbody>\n",
       "    <tr>\n",
       "      <th>0</th>\n",
       "      <td>밀크티</td>\n",
       "      <td>5500</td>\n",
       "      <td>300</td>\n",
       "      <td>NaN</td>\n",
       "    </tr>\n",
       "    <tr>\n",
       "      <th>1</th>\n",
       "      <td>카페라뗴</td>\n",
       "      <td>5000</td>\n",
       "      <td>110</td>\n",
       "      <td>과테말라</td>\n",
       "    </tr>\n",
       "    <tr>\n",
       "      <th>2</th>\n",
       "      <td>카페모카</td>\n",
       "      <td>5000</td>\n",
       "      <td>250</td>\n",
       "      <td>과테말라</td>\n",
       "    </tr>\n",
       "  </tbody>\n",
       "</table>\n",
       "</div>"
      ],
      "text/plain": [
       "     메뉴    가격  칼로리   원산지\n",
       "0   밀크티  5500  300   NaN\n",
       "1  카페라뗴  5000  110  과테말라\n",
       "2  카페모카  5000  250  과테말라"
      ]
     },
     "execution_count": 116,
     "metadata": {},
     "output_type": "execute_result"
    }
   ],
   "source": [
    "#2개 이상일 때(and)\n",
    "cond1 = df['가격'] >= 5000\n",
    "cond2 = df['칼로리'] > 100\n",
    "df[cond1 & cond2]"
   ]
  },
  {
   "cell_type": "code",
   "execution_count": 117,
   "id": "ebf7a5e4-f2c4-452a-8cad-09e9c617ad75",
   "metadata": {},
   "outputs": [
    {
     "data": {
      "text/html": [
       "<div>\n",
       "<style scoped>\n",
       "    .dataframe tbody tr th:only-of-type {\n",
       "        vertical-align: middle;\n",
       "    }\n",
       "\n",
       "    .dataframe tbody tr th {\n",
       "        vertical-align: top;\n",
       "    }\n",
       "\n",
       "    .dataframe thead th {\n",
       "        text-align: right;\n",
       "    }\n",
       "</style>\n",
       "<table border=\"1\" class=\"dataframe\">\n",
       "  <thead>\n",
       "    <tr style=\"text-align: right;\">\n",
       "      <th></th>\n",
       "      <th>메뉴</th>\n",
       "      <th>가격</th>\n",
       "      <th>칼로리</th>\n",
       "      <th>원산지</th>\n",
       "    </tr>\n",
       "  </thead>\n",
       "  <tbody>\n",
       "    <tr>\n",
       "      <th>0</th>\n",
       "      <td>밀크티</td>\n",
       "      <td>5500</td>\n",
       "      <td>300</td>\n",
       "      <td>NaN</td>\n",
       "    </tr>\n",
       "    <tr>\n",
       "      <th>1</th>\n",
       "      <td>카페라뗴</td>\n",
       "      <td>5000</td>\n",
       "      <td>110</td>\n",
       "      <td>과테말라</td>\n",
       "    </tr>\n",
       "    <tr>\n",
       "      <th>2</th>\n",
       "      <td>카페모카</td>\n",
       "      <td>5000</td>\n",
       "      <td>250</td>\n",
       "      <td>과테말라</td>\n",
       "    </tr>\n",
       "  </tbody>\n",
       "</table>\n",
       "</div>"
      ],
      "text/plain": [
       "     메뉴    가격  칼로리   원산지\n",
       "0   밀크티  5500  300   NaN\n",
       "1  카페라뗴  5000  110  과테말라\n",
       "2  카페모카  5000  250  과테말라"
      ]
     },
     "execution_count": 117,
     "metadata": {},
     "output_type": "execute_result"
    }
   ],
   "source": [
    "#2개 이상일 때(or)\n",
    "df[cond1 | cond2]"
   ]
  },
  {
   "cell_type": "code",
   "execution_count": 118,
   "id": "7ed2dc4e-6492-457a-8892-aa6fe246c8db",
   "metadata": {},
   "outputs": [
    {
     "data": {
      "text/plain": [
       "0     True\n",
       "1    False\n",
       "2    False\n",
       "3    False\n",
       "4    False\n",
       "5    False\n",
       "Name: 메뉴, dtype: bool"
      ]
     },
     "execution_count": 118,
     "metadata": {},
     "output_type": "execute_result"
    }
   ],
   "source": [
    "df['메뉴'].isin(['밀크티'])"
   ]
  },
  {
   "cell_type": "code",
   "execution_count": 119,
   "id": "da0bf108-eeb3-4f8f-94ee-c1c4ac13a3ab",
   "metadata": {},
   "outputs": [
    {
     "data": {
      "text/html": [
       "<div>\n",
       "<style scoped>\n",
       "    .dataframe tbody tr th:only-of-type {\n",
       "        vertical-align: middle;\n",
       "    }\n",
       "\n",
       "    .dataframe tbody tr th {\n",
       "        vertical-align: top;\n",
       "    }\n",
       "\n",
       "    .dataframe thead th {\n",
       "        text-align: right;\n",
       "    }\n",
       "</style>\n",
       "<table border=\"1\" class=\"dataframe\">\n",
       "  <thead>\n",
       "    <tr style=\"text-align: right;\">\n",
       "      <th></th>\n",
       "      <th>메뉴</th>\n",
       "      <th>가격</th>\n",
       "      <th>칼로리</th>\n",
       "      <th>원산지</th>\n",
       "    </tr>\n",
       "  </thead>\n",
       "  <tbody>\n",
       "    <tr>\n",
       "      <th>0</th>\n",
       "      <td>밀크티</td>\n",
       "      <td>5500</td>\n",
       "      <td>300</td>\n",
       "      <td>NaN</td>\n",
       "    </tr>\n",
       "  </tbody>\n",
       "</table>\n",
       "</div>"
      ],
      "text/plain": [
       "    메뉴    가격  칼로리  원산지\n",
       "0  밀크티  5500  300  NaN"
      ]
     },
     "execution_count": 119,
     "metadata": {},
     "output_type": "execute_result"
    }
   ],
   "source": [
    "cond = df['메뉴'].isin(['밀크티'])\n",
    "df[cond]"
   ]
  },
  {
   "cell_type": "code",
   "execution_count": 120,
   "id": "3e92ab5b-3e27-4091-98ec-fd39101e8bc3",
   "metadata": {},
   "outputs": [
    {
     "data": {
      "text/html": [
       "<div>\n",
       "<style scoped>\n",
       "    .dataframe tbody tr th:only-of-type {\n",
       "        vertical-align: middle;\n",
       "    }\n",
       "\n",
       "    .dataframe tbody tr th {\n",
       "        vertical-align: top;\n",
       "    }\n",
       "\n",
       "    .dataframe thead th {\n",
       "        text-align: right;\n",
       "    }\n",
       "</style>\n",
       "<table border=\"1\" class=\"dataframe\">\n",
       "  <thead>\n",
       "    <tr style=\"text-align: right;\">\n",
       "      <th></th>\n",
       "      <th>메뉴</th>\n",
       "      <th>가격</th>\n",
       "      <th>칼로리</th>\n",
       "      <th>원산지</th>\n",
       "    </tr>\n",
       "  </thead>\n",
       "  <tbody>\n",
       "    <tr>\n",
       "      <th>0</th>\n",
       "      <td>밀크티</td>\n",
       "      <td>5500</td>\n",
       "      <td>300</td>\n",
       "      <td>NaN</td>\n",
       "    </tr>\n",
       "    <tr>\n",
       "      <th>1</th>\n",
       "      <td>카페라뗴</td>\n",
       "      <td>5000</td>\n",
       "      <td>110</td>\n",
       "      <td>과테말라</td>\n",
       "    </tr>\n",
       "    <tr>\n",
       "      <th>3</th>\n",
       "      <td>아메리카노</td>\n",
       "      <td>4000</td>\n",
       "      <td>20</td>\n",
       "      <td>콜롬비아</td>\n",
       "    </tr>\n",
       "  </tbody>\n",
       "</table>\n",
       "</div>"
      ],
      "text/plain": [
       "      메뉴    가격  칼로리   원산지\n",
       "0    밀크티  5500  300   NaN\n",
       "1   카페라뗴  5000  110  과테말라\n",
       "3  아메리카노  4000   20  콜롬비아"
      ]
     },
     "execution_count": 120,
     "metadata": {},
     "output_type": "execute_result"
    }
   ],
   "source": [
    "box=['아메리카노','카페라뗴','밀크티']\n",
    "cond=df['메뉴'].isin(box)\n",
    "df[cond]"
   ]
  },
  {
   "cell_type": "code",
   "execution_count": 123,
   "id": "a3b03efa-82dd-4432-b1fd-13a60c6f80b4",
   "metadata": {},
   "outputs": [
    {
     "data": {
      "text/html": [
       "<div>\n",
       "<style scoped>\n",
       "    .dataframe tbody tr th:only-of-type {\n",
       "        vertical-align: middle;\n",
       "    }\n",
       "\n",
       "    .dataframe tbody tr th {\n",
       "        vertical-align: top;\n",
       "    }\n",
       "\n",
       "    .dataframe thead th {\n",
       "        text-align: right;\n",
       "    }\n",
       "</style>\n",
       "<table border=\"1\" class=\"dataframe\">\n",
       "  <thead>\n",
       "    <tr style=\"text-align: right;\">\n",
       "      <th></th>\n",
       "      <th>메뉴</th>\n",
       "      <th>가격</th>\n",
       "      <th>칼로리</th>\n",
       "      <th>원산지</th>\n",
       "    </tr>\n",
       "  </thead>\n",
       "  <tbody>\n",
       "    <tr>\n",
       "      <th>0</th>\n",
       "      <td>밀크티</td>\n",
       "      <td>5500</td>\n",
       "      <td>300</td>\n",
       "      <td>NaN</td>\n",
       "    </tr>\n",
       "    <tr>\n",
       "      <th>1</th>\n",
       "      <td>카페라뗴</td>\n",
       "      <td>5000</td>\n",
       "      <td>110</td>\n",
       "      <td>과테말라</td>\n",
       "    </tr>\n",
       "  </tbody>\n",
       "</table>\n",
       "</div>"
      ],
      "text/plain": [
       "     메뉴    가격  칼로리   원산지\n",
       "0   밀크티  5500  300   NaN\n",
       "1  카페라뗴  5000  110  과테말라"
      ]
     },
     "execution_count": 123,
     "metadata": {},
     "output_type": "execute_result"
    }
   ],
   "source": [
    "df = pd.read_csv('cafe2.csv')\n",
    "df.head(2)"
   ]
  },
  {
   "cell_type": "code",
   "execution_count": 125,
   "id": "d0cbcfb7-d6d8-4d4a-a7c9-76a984c71f3c",
   "metadata": {},
   "outputs": [
    {
     "data": {
      "text/html": [
       "<div>\n",
       "<style scoped>\n",
       "    .dataframe tbody tr th:only-of-type {\n",
       "        vertical-align: middle;\n",
       "    }\n",
       "\n",
       "    .dataframe tbody tr th {\n",
       "        vertical-align: top;\n",
       "    }\n",
       "\n",
       "    .dataframe thead th {\n",
       "        text-align: right;\n",
       "    }\n",
       "</style>\n",
       "<table border=\"1\" class=\"dataframe\">\n",
       "  <thead>\n",
       "    <tr style=\"text-align: right;\">\n",
       "      <th></th>\n",
       "      <th>메뉴</th>\n",
       "      <th>가격</th>\n",
       "      <th>칼로리</th>\n",
       "      <th>원산지</th>\n",
       "    </tr>\n",
       "  </thead>\n",
       "  <tbody>\n",
       "    <tr>\n",
       "      <th>0</th>\n",
       "      <td>밀크티</td>\n",
       "      <td>5500</td>\n",
       "      <td>300</td>\n",
       "      <td>NaN</td>\n",
       "    </tr>\n",
       "    <tr>\n",
       "      <th>1</th>\n",
       "      <td>카페라뗴</td>\n",
       "      <td>5000</td>\n",
       "      <td>110</td>\n",
       "      <td>과테말라</td>\n",
       "    </tr>\n",
       "    <tr>\n",
       "      <th>2</th>\n",
       "      <td>카페모카</td>\n",
       "      <td>5000</td>\n",
       "      <td>250</td>\n",
       "      <td>과테말라</td>\n",
       "    </tr>\n",
       "    <tr>\n",
       "      <th>3</th>\n",
       "      <td>아메리카노</td>\n",
       "      <td>4000</td>\n",
       "      <td>20</td>\n",
       "      <td>콜롬비아</td>\n",
       "    </tr>\n",
       "    <tr>\n",
       "      <th>4</th>\n",
       "      <td>에스프레소</td>\n",
       "      <td>3000</td>\n",
       "      <td>20</td>\n",
       "      <td>과테말라</td>\n",
       "    </tr>\n",
       "    <tr>\n",
       "      <th>5</th>\n",
       "      <td>딴짓커피</td>\n",
       "      <td>2000</td>\n",
       "      <td>20</td>\n",
       "      <td>NaN</td>\n",
       "    </tr>\n",
       "  </tbody>\n",
       "</table>\n",
       "</div>"
      ],
      "text/plain": [
       "      메뉴    가격  칼로리   원산지\n",
       "0    밀크티  5500  300   NaN\n",
       "1   카페라뗴  5000  110  과테말라\n",
       "2   카페모카  5000  250  과테말라\n",
       "3  아메리카노  4000   20  콜롬비아\n",
       "4  에스프레소  3000   20  과테말라\n",
       "5   딴짓커피  2000   20   NaN"
      ]
     },
     "execution_count": 125,
     "metadata": {},
     "output_type": "execute_result"
    }
   ],
   "source": [
    "df"
   ]
  },
  {
   "cell_type": "code",
   "execution_count": 126,
   "id": "2b2bc60a-10df-4d95-87bd-b3c434e31bee",
   "metadata": {},
   "outputs": [
    {
     "data": {
      "text/html": [
       "<div>\n",
       "<style scoped>\n",
       "    .dataframe tbody tr th:only-of-type {\n",
       "        vertical-align: middle;\n",
       "    }\n",
       "\n",
       "    .dataframe tbody tr th {\n",
       "        vertical-align: top;\n",
       "    }\n",
       "\n",
       "    .dataframe thead th {\n",
       "        text-align: right;\n",
       "    }\n",
       "</style>\n",
       "<table border=\"1\" class=\"dataframe\">\n",
       "  <thead>\n",
       "    <tr style=\"text-align: right;\">\n",
       "      <th></th>\n",
       "      <th>메뉴</th>\n",
       "      <th>가격</th>\n",
       "      <th>칼로리</th>\n",
       "      <th>원산지</th>\n",
       "    </tr>\n",
       "  </thead>\n",
       "  <tbody>\n",
       "    <tr>\n",
       "      <th>0</th>\n",
       "      <td>밀크티</td>\n",
       "      <td>5500</td>\n",
       "      <td>300</td>\n",
       "      <td>코스타리카</td>\n",
       "    </tr>\n",
       "    <tr>\n",
       "      <th>1</th>\n",
       "      <td>카페라뗴</td>\n",
       "      <td>5000</td>\n",
       "      <td>110</td>\n",
       "      <td>과테말라</td>\n",
       "    </tr>\n",
       "    <tr>\n",
       "      <th>2</th>\n",
       "      <td>카페모카</td>\n",
       "      <td>5000</td>\n",
       "      <td>250</td>\n",
       "      <td>과테말라</td>\n",
       "    </tr>\n",
       "    <tr>\n",
       "      <th>3</th>\n",
       "      <td>아메리카노</td>\n",
       "      <td>4000</td>\n",
       "      <td>20</td>\n",
       "      <td>콜롬비아</td>\n",
       "    </tr>\n",
       "    <tr>\n",
       "      <th>4</th>\n",
       "      <td>에스프레소</td>\n",
       "      <td>3000</td>\n",
       "      <td>20</td>\n",
       "      <td>과테말라</td>\n",
       "    </tr>\n",
       "    <tr>\n",
       "      <th>5</th>\n",
       "      <td>딴짓커피</td>\n",
       "      <td>2000</td>\n",
       "      <td>20</td>\n",
       "      <td>코스타리카</td>\n",
       "    </tr>\n",
       "  </tbody>\n",
       "</table>\n",
       "</div>"
      ],
      "text/plain": [
       "      메뉴    가격  칼로리    원산지\n",
       "0    밀크티  5500  300  코스타리카\n",
       "1   카페라뗴  5000  110   과테말라\n",
       "2   카페모카  5000  250   과테말라\n",
       "3  아메리카노  4000   20   콜롬비아\n",
       "4  에스프레소  3000   20   과테말라\n",
       "5   딴짓커피  2000   20  코스타리카"
      ]
     },
     "execution_count": 126,
     "metadata": {},
     "output_type": "execute_result"
    }
   ],
   "source": [
    "df['원산지']=df['원산지'].fillna('코스타리카')\n",
    "df"
   ]
  },
  {
   "cell_type": "code",
   "execution_count": 127,
   "id": "f4726cd8-fdc2-4cbe-9701-7c3c15c01c06",
   "metadata": {},
   "outputs": [],
   "source": [
    "df.to_csv(\"cafe3.csv\",index=False)"
   ]
  },
  {
   "cell_type": "code",
   "execution_count": 128,
   "id": "1f2a3c63-8868-4897-b6e5-8ebbb895eddc",
   "metadata": {},
   "outputs": [
    {
     "data": {
      "text/html": [
       "<div>\n",
       "<style scoped>\n",
       "    .dataframe tbody tr th:only-of-type {\n",
       "        vertical-align: middle;\n",
       "    }\n",
       "\n",
       "    .dataframe tbody tr th {\n",
       "        vertical-align: top;\n",
       "    }\n",
       "\n",
       "    .dataframe thead th {\n",
       "        text-align: right;\n",
       "    }\n",
       "</style>\n",
       "<table border=\"1\" class=\"dataframe\">\n",
       "  <thead>\n",
       "    <tr style=\"text-align: right;\">\n",
       "      <th></th>\n",
       "      <th>메뉴</th>\n",
       "      <th>가격</th>\n",
       "      <th>칼로리</th>\n",
       "      <th>원산지</th>\n",
       "    </tr>\n",
       "  </thead>\n",
       "  <tbody>\n",
       "    <tr>\n",
       "      <th>0</th>\n",
       "      <td>밀크티</td>\n",
       "      <td>5500</td>\n",
       "      <td>300</td>\n",
       "      <td>코스타리카</td>\n",
       "    </tr>\n",
       "    <tr>\n",
       "      <th>1</th>\n",
       "      <td>카페라뗴</td>\n",
       "      <td>5000</td>\n",
       "      <td>110</td>\n",
       "      <td>과테말라</td>\n",
       "    </tr>\n",
       "    <tr>\n",
       "      <th>2</th>\n",
       "      <td>카페모카</td>\n",
       "      <td>5000</td>\n",
       "      <td>250</td>\n",
       "      <td>과테말라</td>\n",
       "    </tr>\n",
       "  </tbody>\n",
       "</table>\n",
       "</div>"
      ],
      "text/plain": [
       "     메뉴    가격  칼로리    원산지\n",
       "0   밀크티  5500  300  코스타리카\n",
       "1  카페라뗴  5000  110   과테말라\n",
       "2  카페모카  5000  250   과테말라"
      ]
     },
     "execution_count": 128,
     "metadata": {},
     "output_type": "execute_result"
    }
   ],
   "source": [
    "pd.read_csv(\"cafe3.csv\")\n",
    "df.head(3)"
   ]
  },
  {
   "cell_type": "code",
   "execution_count": 130,
   "id": "d61c06ac-7f25-46dc-a950-5051c63f6732",
   "metadata": {},
   "outputs": [
    {
     "data": {
      "text/html": [
       "<div>\n",
       "<style scoped>\n",
       "    .dataframe tbody tr th:only-of-type {\n",
       "        vertical-align: middle;\n",
       "    }\n",
       "\n",
       "    .dataframe tbody tr th {\n",
       "        vertical-align: top;\n",
       "    }\n",
       "\n",
       "    .dataframe thead th {\n",
       "        text-align: right;\n",
       "    }\n",
       "</style>\n",
       "<table border=\"1\" class=\"dataframe\">\n",
       "  <thead>\n",
       "    <tr style=\"text-align: right;\">\n",
       "      <th></th>\n",
       "      <th>메뉴</th>\n",
       "      <th>가격</th>\n",
       "      <th>칼로리</th>\n",
       "      <th>원산지</th>\n",
       "    </tr>\n",
       "  </thead>\n",
       "  <tbody>\n",
       "    <tr>\n",
       "      <th>0</th>\n",
       "      <td>그린티</td>\n",
       "      <td>5500</td>\n",
       "      <td>300</td>\n",
       "      <td>코스타리카</td>\n",
       "    </tr>\n",
       "    <tr>\n",
       "      <th>1</th>\n",
       "      <td>자허블</td>\n",
       "      <td>5000</td>\n",
       "      <td>110</td>\n",
       "      <td>과테말라</td>\n",
       "    </tr>\n",
       "    <tr>\n",
       "      <th>2</th>\n",
       "      <td>카페모카</td>\n",
       "      <td>5000</td>\n",
       "      <td>250</td>\n",
       "      <td>과테말라</td>\n",
       "    </tr>\n",
       "    <tr>\n",
       "      <th>3</th>\n",
       "      <td>아메리카노</td>\n",
       "      <td>4000</td>\n",
       "      <td>20</td>\n",
       "      <td>콜롬비아</td>\n",
       "    </tr>\n",
       "    <tr>\n",
       "      <th>4</th>\n",
       "      <td>에스프레소</td>\n",
       "      <td>3000</td>\n",
       "      <td>20</td>\n",
       "      <td>과테말라</td>\n",
       "    </tr>\n",
       "    <tr>\n",
       "      <th>5</th>\n",
       "      <td>딴짓커피</td>\n",
       "      <td>2000</td>\n",
       "      <td>20</td>\n",
       "      <td>코스타리카</td>\n",
       "    </tr>\n",
       "  </tbody>\n",
       "</table>\n",
       "</div>"
      ],
      "text/plain": [
       "      메뉴    가격  칼로리    원산지\n",
       "0    그린티  5500  300  코스타리카\n",
       "1    자허블  5000  110   과테말라\n",
       "2   카페모카  5000  250   과테말라\n",
       "3  아메리카노  4000   20   콜롬비아\n",
       "4  에스프레소  3000   20   과테말라\n",
       "5   딴짓커피  2000   20  코스타리카"
      ]
     },
     "execution_count": 130,
     "metadata": {},
     "output_type": "execute_result"
    }
   ],
   "source": [
    "#문자 변경\n",
    "df=df.replace('카페라뗴','자허블')\n",
    "df=df.replace('밀크티','그린티')\n",
    "df"
   ]
  },
  {
   "cell_type": "code",
   "execution_count": 132,
   "id": "00ec5457-de6e-4448-a462-98775534f675",
   "metadata": {},
   "outputs": [
    {
     "data": {
      "text/html": [
       "<div>\n",
       "<style scoped>\n",
       "    .dataframe tbody tr th:only-of-type {\n",
       "        vertical-align: middle;\n",
       "    }\n",
       "\n",
       "    .dataframe tbody tr th {\n",
       "        vertical-align: top;\n",
       "    }\n",
       "\n",
       "    .dataframe thead th {\n",
       "        text-align: right;\n",
       "    }\n",
       "</style>\n",
       "<table border=\"1\" class=\"dataframe\">\n",
       "  <thead>\n",
       "    <tr style=\"text-align: right;\">\n",
       "      <th></th>\n",
       "      <th>메뉴</th>\n",
       "      <th>가격</th>\n",
       "      <th>칼로리</th>\n",
       "      <th>원산지</th>\n",
       "    </tr>\n",
       "  </thead>\n",
       "  <tbody>\n",
       "    <tr>\n",
       "      <th>0</th>\n",
       "      <td>밀크티</td>\n",
       "      <td>5500</td>\n",
       "      <td>300</td>\n",
       "      <td>코스타리카</td>\n",
       "    </tr>\n",
       "    <tr>\n",
       "      <th>1</th>\n",
       "      <td>카페라떼</td>\n",
       "      <td>5000</td>\n",
       "      <td>110</td>\n",
       "      <td>과테말라</td>\n",
       "    </tr>\n",
       "    <tr>\n",
       "      <th>2</th>\n",
       "      <td>카페모카</td>\n",
       "      <td>5000</td>\n",
       "      <td>250</td>\n",
       "      <td>과테말라</td>\n",
       "    </tr>\n",
       "    <tr>\n",
       "      <th>3</th>\n",
       "      <td>아메리카노</td>\n",
       "      <td>4000</td>\n",
       "      <td>20</td>\n",
       "      <td>콜롬비아</td>\n",
       "    </tr>\n",
       "    <tr>\n",
       "      <th>4</th>\n",
       "      <td>에스프레소</td>\n",
       "      <td>3000</td>\n",
       "      <td>20</td>\n",
       "      <td>과테말라</td>\n",
       "    </tr>\n",
       "    <tr>\n",
       "      <th>5</th>\n",
       "      <td>딴짓커피</td>\n",
       "      <td>2000</td>\n",
       "      <td>20</td>\n",
       "      <td>코스타리카</td>\n",
       "    </tr>\n",
       "  </tbody>\n",
       "</table>\n",
       "</div>"
      ],
      "text/plain": [
       "      메뉴    가격  칼로리    원산지\n",
       "0    밀크티  5500  300  코스타리카\n",
       "1   카페라떼  5000  110   과테말라\n",
       "2   카페모카  5000  250   과테말라\n",
       "3  아메리카노  4000   20   콜롬비아\n",
       "4  에스프레소  3000   20   과테말라\n",
       "5   딴짓커피  2000   20  코스타리카"
      ]
     },
     "execution_count": 132,
     "metadata": {},
     "output_type": "execute_result"
    }
   ],
   "source": [
    "change = {'자허블':'카페라떼','그린티':'밀크티'}\n",
    "df=df.replace(change) #딕셔너리로 먼저 매핑 사전 만들어놓고 나중에 변경 가능\n",
    "df"
   ]
  },
  {
   "cell_type": "code",
   "execution_count": 133,
   "id": "868a9b6a-8c8c-4120-8442-aa7c9b22202e",
   "metadata": {},
   "outputs": [
    {
     "data": {
      "text/html": [
       "<div>\n",
       "<style scoped>\n",
       "    .dataframe tbody tr th:only-of-type {\n",
       "        vertical-align: middle;\n",
       "    }\n",
       "\n",
       "    .dataframe tbody tr th {\n",
       "        vertical-align: top;\n",
       "    }\n",
       "\n",
       "    .dataframe thead th {\n",
       "        text-align: right;\n",
       "    }\n",
       "</style>\n",
       "<table border=\"1\" class=\"dataframe\">\n",
       "  <thead>\n",
       "    <tr style=\"text-align: right;\">\n",
       "      <th></th>\n",
       "      <th>메뉴</th>\n",
       "      <th>가격</th>\n",
       "      <th>칼로리</th>\n",
       "      <th>원산지</th>\n",
       "    </tr>\n",
       "  </thead>\n",
       "  <tbody>\n",
       "    <tr>\n",
       "      <th>3</th>\n",
       "      <td>아메리카노</td>\n",
       "      <td>4000</td>\n",
       "      <td>20</td>\n",
       "      <td>콜롬비아</td>\n",
       "    </tr>\n",
       "    <tr>\n",
       "      <th>4</th>\n",
       "      <td>에스프레소</td>\n",
       "      <td>3000</td>\n",
       "      <td>20</td>\n",
       "      <td>대한민국</td>\n",
       "    </tr>\n",
       "    <tr>\n",
       "      <th>5</th>\n",
       "      <td>딴짓커피</td>\n",
       "      <td>2000</td>\n",
       "      <td>20</td>\n",
       "      <td>코스타리카</td>\n",
       "    </tr>\n",
       "  </tbody>\n",
       "</table>\n",
       "</div>"
      ],
      "text/plain": [
       "      메뉴    가격  칼로리    원산지\n",
       "3  아메리카노  4000   20   콜롬비아\n",
       "4  에스프레소  3000   20   대한민국\n",
       "5   딴짓커피  2000   20  코스타리카"
      ]
     },
     "execution_count": 133,
     "metadata": {},
     "output_type": "execute_result"
    }
   ],
   "source": [
    "df.loc[4,'원산지']='대한민국'\n",
    "df.tail(3)"
   ]
  },
  {
   "cell_type": "code",
   "execution_count": 134,
   "id": "d2218886-e466-464b-a3b8-127bdc21c022",
   "metadata": {},
   "outputs": [
    {
     "data": {
      "text/html": [
       "<div>\n",
       "<style scoped>\n",
       "    .dataframe tbody tr th:only-of-type {\n",
       "        vertical-align: middle;\n",
       "    }\n",
       "\n",
       "    .dataframe tbody tr th {\n",
       "        vertical-align: top;\n",
       "    }\n",
       "\n",
       "    .dataframe thead th {\n",
       "        text-align: right;\n",
       "    }\n",
       "</style>\n",
       "<table border=\"1\" class=\"dataframe\">\n",
       "  <thead>\n",
       "    <tr style=\"text-align: right;\">\n",
       "      <th></th>\n",
       "      <th>메뉴</th>\n",
       "      <th>가격</th>\n",
       "      <th>칼로리</th>\n",
       "      <th>원산지</th>\n",
       "      <th>이벤트가</th>\n",
       "    </tr>\n",
       "  </thead>\n",
       "  <tbody>\n",
       "    <tr>\n",
       "      <th>0</th>\n",
       "      <td>밀크티</td>\n",
       "      <td>5500</td>\n",
       "      <td>300</td>\n",
       "      <td>코스타리카</td>\n",
       "      <td>NaN</td>\n",
       "    </tr>\n",
       "    <tr>\n",
       "      <th>1</th>\n",
       "      <td>카페라떼</td>\n",
       "      <td>5000</td>\n",
       "      <td>110</td>\n",
       "      <td>과테말라</td>\n",
       "      <td>1000.0</td>\n",
       "    </tr>\n",
       "    <tr>\n",
       "      <th>2</th>\n",
       "      <td>카페모카</td>\n",
       "      <td>5000</td>\n",
       "      <td>250</td>\n",
       "      <td>과테말라</td>\n",
       "      <td>1000.0</td>\n",
       "    </tr>\n",
       "    <tr>\n",
       "      <th>3</th>\n",
       "      <td>아메리카노</td>\n",
       "      <td>4000</td>\n",
       "      <td>20</td>\n",
       "      <td>콜롬비아</td>\n",
       "      <td>NaN</td>\n",
       "    </tr>\n",
       "    <tr>\n",
       "      <th>4</th>\n",
       "      <td>에스프레소</td>\n",
       "      <td>3000</td>\n",
       "      <td>20</td>\n",
       "      <td>대한민국</td>\n",
       "      <td>NaN</td>\n",
       "    </tr>\n",
       "  </tbody>\n",
       "</table>\n",
       "</div>"
      ],
      "text/plain": [
       "      메뉴    가격  칼로리    원산지    이벤트가\n",
       "0    밀크티  5500  300  코스타리카     NaN\n",
       "1   카페라떼  5000  110   과테말라  1000.0\n",
       "2   카페모카  5000  250   과테말라  1000.0\n",
       "3  아메리카노  4000   20   콜롬비아     NaN\n",
       "4  에스프레소  3000   20   대한민국     NaN"
      ]
     },
     "execution_count": 134,
     "metadata": {},
     "output_type": "execute_result"
    }
   ],
   "source": [
    "df.loc[1:2,'이벤트가']=1000\n",
    "df.head()"
   ]
  },
  {
   "cell_type": "code",
   "execution_count": 135,
   "id": "386dfea5-140b-4b12-99e2-660ecb627854",
   "metadata": {},
   "outputs": [],
   "source": [
    "df.to_csv(\"cafe4.csv\",index=False)"
   ]
  },
  {
   "cell_type": "code",
   "execution_count": null,
   "id": "846918a8-5ad8-42da-a7d4-96ffe88ccca5",
   "metadata": {},
   "outputs": [],
   "source": []
  }
 ],
 "metadata": {
  "kernelspec": {
   "display_name": "Python 3 (ipykernel)",
   "language": "python",
   "name": "python3"
  },
  "language_info": {
   "codemirror_mode": {
    "name": "ipython",
    "version": 3
   },
   "file_extension": ".py",
   "mimetype": "text/x-python",
   "name": "python",
   "nbconvert_exporter": "python",
   "pygments_lexer": "ipython3",
   "version": "3.13.3"
  }
 },
 "nbformat": 4,
 "nbformat_minor": 5
}
