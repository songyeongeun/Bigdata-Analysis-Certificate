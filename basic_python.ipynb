{
 "cells": [
  {
   "cell_type": "code",
   "execution_count": 3,
   "id": "9876a695-d14b-4a14-88b4-70c7bf26ee4a",
   "metadata": {},
   "outputs": [
    {
     "data": {
      "text/plain": [
       "['감사', '행복', '사랑', '습관', '긍정', '변화', '성장', '공감', '희망']"
      ]
     },
     "execution_count": 3,
     "metadata": {},
     "output_type": "execute_result"
    }
   ],
   "source": [
    "listbox = [\"감사\",\"행복\",\"사랑\",\"습관\",\"긍정\",\"변화\",\"성장\",\"공감\",\"희망\"]\n",
    "listbox"
   ]
  },
  {
   "cell_type": "code",
   "execution_count": 7,
   "id": "9a4a53b1-35cc-4f2e-93d6-d3805131921d",
   "metadata": {},
   "outputs": [
    {
     "data": {
      "text/plain": [
       "9"
      ]
     },
     "execution_count": 7,
     "metadata": {},
     "output_type": "execute_result"
    }
   ],
   "source": [
    "len(listbox)"
   ]
  },
  {
   "cell_type": "code",
   "execution_count": 11,
   "id": "98289c8c-8ae5-4a06-af99-8a57a69229ba",
   "metadata": {},
   "outputs": [
    {
     "data": {
      "text/plain": [
       "'감사'"
      ]
     },
     "execution_count": 11,
     "metadata": {},
     "output_type": "execute_result"
    }
   ],
   "source": [
    "listbox[0]"
   ]
  },
  {
   "cell_type": "code",
   "execution_count": 15,
   "id": "bf8d1e81-fe6b-4709-83d3-6008e5080cfd",
   "metadata": {},
   "outputs": [
    {
     "data": {
      "text/plain": [
       "'희망'"
      ]
     },
     "execution_count": 15,
     "metadata": {},
     "output_type": "execute_result"
    }
   ],
   "source": [
    "listbox[-1]"
   ]
  },
  {
   "cell_type": "code",
   "execution_count": 19,
   "id": "f59f8ae2-146b-4efa-9899-2af1b5503d2e",
   "metadata": {},
   "outputs": [
    {
     "data": {
      "text/plain": [
       "['감사', '행복', '사랑']"
      ]
     },
     "execution_count": 19,
     "metadata": {},
     "output_type": "execute_result"
    }
   ],
   "source": [
    "listbox[0:3]"
   ]
  },
  {
   "cell_type": "code",
   "execution_count": 21,
   "id": "aa744429-e4c5-4c8a-bdf7-4dcc4a14513c",
   "metadata": {},
   "outputs": [
    {
     "data": {
      "text/plain": [
       "'공감'"
      ]
     },
     "execution_count": 21,
     "metadata": {},
     "output_type": "execute_result"
    }
   ],
   "source": [
    "listbox[-2]"
   ]
  },
  {
   "cell_type": "code",
   "execution_count": 23,
   "id": "e669f23b-661b-433a-8f9a-3d4b7b55fb72",
   "metadata": {},
   "outputs": [
    {
     "data": {
      "text/plain": [
       "['행복', '사랑']"
      ]
     },
     "execution_count": 23,
     "metadata": {},
     "output_type": "execute_result"
    }
   ],
   "source": [
    "listbox[1:3]"
   ]
  },
  {
   "cell_type": "code",
   "execution_count": 27,
   "id": "f7219bb8-bdce-4fb8-bdc3-a8ae6198cb97",
   "metadata": {},
   "outputs": [
    {
     "name": "stdout",
     "output_type": "stream",
     "text": [
      "0\n",
      "1\n",
      "2\n",
      "3\n",
      "4\n"
     ]
    }
   ],
   "source": [
    "for item in range(5):\n",
    "    print(item)"
   ]
  },
  {
   "cell_type": "code",
   "execution_count": 31,
   "id": "63a2c6b3-155a-42c6-a213-6f0ce4df1479",
   "metadata": {},
   "outputs": [
    {
     "name": "stdout",
     "output_type": "stream",
     "text": [
      "5\n",
      "6\n",
      "7\n",
      "8\n",
      "9\n"
     ]
    }
   ],
   "source": [
    "for i in range(5,10):\n",
    "    print (i)"
   ]
  },
  {
   "cell_type": "code",
   "execution_count": 33,
   "id": "c4d03703-90c6-44e9-9f1b-1e34c6e44289",
   "metadata": {},
   "outputs": [
    {
     "name": "stdout",
     "output_type": "stream",
     "text": [
      "2\n",
      "4\n",
      "6\n",
      "8\n",
      "10\n"
     ]
    }
   ],
   "source": [
    "listbox = [2,4,6,8,10]\n",
    "for item in listbox:\n",
    "    print(item)"
   ]
  },
  {
   "cell_type": "code",
   "execution_count": 35,
   "id": "dd3940c7-6032-470c-8a79-915e63d6fdc5",
   "metadata": {},
   "outputs": [
    {
     "name": "stdout",
     "output_type": "stream",
     "text": [
      "3\n",
      "5\n",
      "7\n",
      "9\n",
      "11\n"
     ]
    }
   ],
   "source": [
    "listbox = [2,4,6,8,10]\n",
    "for item in listbox:\n",
    "    result=item+1\n",
    "    print(result)"
   ]
  },
  {
   "cell_type": "code",
   "execution_count": 37,
   "id": "598a1948-3fca-448d-85c2-5a2316e18f27",
   "metadata": {},
   "outputs": [
    {
     "name": "stdout",
     "output_type": "stream",
     "text": [
      "네모\n",
      "세모\n",
      "동그라미\n"
     ]
    }
   ],
   "source": [
    "listbox=['네모','세모','동그라미']\n",
    "for item in listbox:\n",
    "    print(item)"
   ]
  },
  {
   "cell_type": "code",
   "execution_count": 39,
   "id": "ff608734-8ea1-4b34-87e0-6701d48808dd",
   "metadata": {},
   "outputs": [
    {
     "name": "stdout",
     "output_type": "stream",
     "text": [
      "0\n",
      "네모\n",
      "1\n",
      "세모\n",
      "2\n",
      "동그라미\n"
     ]
    }
   ],
   "source": [
    "listbox=['네모','세모','동그라미']\n",
    "for index,item in enumerate(listbox):\n",
    "    print(index)\n",
    "    print(item)"
   ]
  },
  {
   "cell_type": "code",
   "execution_count": 45,
   "id": "be3fa195-928c-4a7f-a614-517422cf1cb3",
   "metadata": {},
   "outputs": [
    {
     "name": "stdout",
     "output_type": "stream",
     "text": [
      "인덱스 0인 값은 네모입니다.\n",
      "인덱스 1인 값은 세모입니다.\n",
      "인덱스 2인 값은 동그라미입니다.\n"
     ]
    }
   ],
   "source": [
    "for index,item in enumerate(listbox):\n",
    "    print(f'인덱스 {index}인 값은 {item}입니다.')"
   ]
  },
  {
   "cell_type": "code",
   "execution_count": 43,
   "id": "3883686c-5826-453e-824c-6620885999b2",
   "metadata": {},
   "outputs": [
    {
     "name": "stdout",
     "output_type": "stream",
     "text": [
      "name\n",
      "age\n",
      "phone\n"
     ]
    }
   ],
   "source": [
    "cols = ['name','age','phone']\n",
    "for item in cols:\n",
    "    print(item)"
   ]
  },
  {
   "cell_type": "code",
   "execution_count": 47,
   "id": "9a013769-819e-4e33-8d37-f118c7d90595",
   "metadata": {},
   "outputs": [],
   "source": [
    "def plus(x,y):\n",
    "    print(x+y)"
   ]
  },
  {
   "cell_type": "code",
   "execution_count": 51,
   "id": "8264095f-6c6e-4f6b-acac-66b214398750",
   "metadata": {},
   "outputs": [
    {
     "name": "stdout",
     "output_type": "stream",
     "text": [
      "5\n"
     ]
    }
   ],
   "source": [
    "a=2\n",
    "b=3\n",
    "plus(a,b)"
   ]
  },
  {
   "cell_type": "code",
   "execution_count": 53,
   "id": "75c72af6-b0a3-45ce-819a-2328d26f08a1",
   "metadata": {},
   "outputs": [],
   "source": [
    "def plus(x,y):\n",
    "    result = x+y\n",
    "    return result"
   ]
  },
  {
   "cell_type": "code",
   "execution_count": 59,
   "id": "291ee5c8-ef76-47fd-85bb-35dfc93063ee",
   "metadata": {},
   "outputs": [],
   "source": [
    "a = plus(2,3)"
   ]
  },
  {
   "cell_type": "code",
   "execution_count": 61,
   "id": "e1248091-d5b3-43d6-8b7e-ef44dc1f5a7e",
   "metadata": {},
   "outputs": [
    {
     "name": "stdout",
     "output_type": "stream",
     "text": [
      "5\n"
     ]
    }
   ],
   "source": [
    "print(a)"
   ]
  },
  {
   "cell_type": "code",
   "execution_count": 67,
   "id": "5c7ce377-14d2-4f38-8af7-7cdb09de9286",
   "metadata": {},
   "outputs": [
    {
     "name": "stdout",
     "output_type": "stream",
     "text": [
      "15 78\n"
     ]
    }
   ],
   "source": [
    "#리턴값이 2개(최소, 최대값을 구하는 함수)\n",
    "listbox = [15,46,78,24,56]\n",
    "def min_max(data):\n",
    "    mi = min(data)\n",
    "    ma = max(data)\n",
    "    return mi, ma\n",
    "a,b = min_max(listbox)\n",
    "print(a,b)"
   ]
  },
  {
   "cell_type": "code",
   "execution_count": 69,
   "id": "822451c4-6657-4ec0-ab4b-dfd7e282bda9",
   "metadata": {},
   "outputs": [
    {
     "data": {
      "text/plain": [
       "43.8"
      ]
     },
     "execution_count": 69,
     "metadata": {},
     "output_type": "execute_result"
    }
   ],
   "source": [
    "listbox = [15,46,78,24,56]\n",
    "\n",
    "def mean(data):\n",
    "    return sum(data)/len(data)\n",
    "\n",
    "mean(listbox)"
   ]
  },
  {
   "cell_type": "code",
   "execution_count": 71,
   "id": "8fc3e03c-bd69-46bb-bd4a-10ce25b2b476",
   "metadata": {},
   "outputs": [
    {
     "name": "stdout",
     "output_type": "stream",
     "text": [
      "63\n"
     ]
    }
   ],
   "source": [
    "listbox = [15,46,78,24,56]\n",
    "\n",
    "def max_sub_min(data):\n",
    "    mi = min(data)\n",
    "    ma = max(data)\n",
    "    return ma-mi\n",
    "\n",
    "result = max_sub_min(listbox)\n",
    "print(result)"
   ]
  }
 ],
 "metadata": {
  "kernelspec": {
   "display_name": "Python 3 (ipykernel)",
   "language": "python",
   "name": "python3"
  },
  "language_info": {
   "codemirror_mode": {
    "name": "ipython",
    "version": 3
   },
   "file_extension": ".py",
   "mimetype": "text/x-python",
   "name": "python",
   "nbconvert_exporter": "python",
   "pygments_lexer": "ipython3",
   "version": "3.12.3"
  }
 },
 "nbformat": 4,
 "nbformat_minor": 5
}
