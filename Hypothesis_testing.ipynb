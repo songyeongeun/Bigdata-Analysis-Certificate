{
 "cells": [
  {
   "cell_type": "markdown",
   "id": "b7c5b171-47a6-4fdb-a8af-d9e1f0032b75",
   "metadata": {},
   "source": [
    "# 가설검정\n",
    "\n",
    "## 귀무가설과 대립가설\n",
    "- 귀무가설(H0): 효과/차이 없음\n",
    "- 대립가설(H1): 효과/차이 있음\n",
    "\n",
    "## 검정 결과 해석\n",
    "- 검정통계량: 데이터가 H0와 얼마나 다른지 나타내는 값\n",
    "- p-value (예: α=0.05)\n",
    "  - p < α  -> H0 기각 (H1 채택)\n",
    "  - p ≥ α -> H0 기각 불가 (H0 채택)\n",
    "\n",
    "## 가설 검정 프로세스\n",
    "1) 가설 설정: H0, H1\n",
    "2) 유의수준 결정: α=0.05 등\n",
    "3) 검정통계량 및 p-value 계산\n",
    "4) 결과 도출 및 해석\n",
    "\n",
    "# t-검정(t-test) 개요\n",
    "\n",
    "## 유형 요약\n",
    "| 검정 유형            | 표본/모집단 구조        | 비교 관계        | 예시                         |\n",
    "|---------------------|-------------------------|------------------|------------------------------|\n",
    "| 단일 표본 t-검정     | 모집단 1, 표본 1        | 한 그룹 vs 기준값 | 과자 무게가 200g과 다른지    |\n",
    "| 대응(쌍체) t-검정    | 같은 집단 전후/짝 자료  | 같은 그룹(쌍)     | 신약 전후 효과               |\n",
    "| 독립 표본 t-검정     | 서로 다른 두 집단       | 서로 다른 그룹    | 1반 vs 2반 성적 차이         |\n",
    "\n",
    "## 단일 표본 t-검정 (One-sample)\n",
    "- 정규성 검정: shapiro(data)\n",
    "  - Yes -> ttest_1samp(data, popmean)\n",
    "  - No  -> wilcoxon(data - popmean)\n",
    "\n",
    "## 대응(쌍체) t-검정 (Paired)\n",
    "- diff = data1 - data2, 정규성: shapiro(diff)\n",
    "  - Yes -> ttest_rel(data1, data2)\n",
    "  - No  -> wilcoxon(data1, data2)\n",
    "\n",
    "## 독립 표본 t-검정 (Independent)\n",
    "- 정규성: shapiro(data1), shapiro(data2)\n",
    "  - Yes -> 등분산: levene(data1, data2)\n",
    "      - 등분산 Yes -> ttest_ind(data1, data2)\n",
    "      - 등분산 No  -> ttest_ind(data1, data2, equal_var=False)   # Welch\n",
    "  - No  -> mannwhitneyu(data1, data2)\n",
    "\n",
    "## SciPy 함수 요약\n",
    "- shapiro(x), levene(x,y)\n",
    "- ttest_1samp(x, popmean)\n",
    "- ttest_rel(x, y)\n",
    "- ttest_ind(x, y, equal_var=True|False)\n",
    "- wilcoxon(x, y) 또는 wilcoxon(x - y)\n",
    "- mannwhitneyu(x, y)\n"
   ]
  },
  {
   "cell_type": "markdown",
   "id": "fb2de372-d93b-409c-8ca9-d1139a915c06",
   "metadata": {},
   "source": []
  }
 ],
 "metadata": {
  "kernelspec": {
   "display_name": "Python 3 (ipykernel)",
   "language": "python",
   "name": "python3"
  },
  "language_info": {
   "codemirror_mode": {
    "name": "ipython",
    "version": 3
   },
   "file_extension": ".py",
   "mimetype": "text/x-python",
   "name": "python",
   "nbconvert_exporter": "python",
   "pygments_lexer": "ipython3",
   "version": "3.12.3"
  }
 },
 "nbformat": 4,
 "nbformat_minor": 5
}
