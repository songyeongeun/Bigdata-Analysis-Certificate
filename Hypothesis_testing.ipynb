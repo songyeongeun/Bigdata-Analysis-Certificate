{
 "cells": [
  {
   "cell_type": "markdown",
   "id": "b7c5b171-47a6-4fdb-a8af-d9e1f0032b75",
   "metadata": {},
   "source": [
    "# 가설검정\n",
    "\n",
    "## 귀무가설과 대립가설\n",
    "- 귀무가설(H0): 효과/차이 없음\n",
    "- 대립가설(H1): 효과/차이 있음\n",
    "\n",
    "## 검정 결과 해석\n",
    "- 검정통계량: 데이터가 H0와 얼마나 다른지 나타내는 값\n",
    "- p-value (예: α=0.05)\n",
    "  - p < α  -> H0 기각 (H1 채택)\n",
    "  - p ≥ α -> H0 기각 불가 (H0 채택)\n",
    "\n",
    "## 가설 검정 프로세스\n",
    "1) 가설 설정: H0, H1\n",
    "2) 유의수준 결정: α=0.05 등\n",
    "3) 검정통계량 및 p-value 계산\n",
    "4) 결과 도출 및 해석\n",
    "\n",
    "# t-검정(t-test) 개요\n",
    "\n",
    "## 유형 요약\n",
    "| 검정 유형            | 표본/모집단 구조        | 비교 관계        | 예시                         |\n",
    "|---------------------|-------------------------|------------------|------------------------------|\n",
    "| 단일 표본 t-검정     | 모집단 1, 표본 1        | 한 그룹 vs 기준값 | 과자 무게가 200g과 다른지    |\n",
    "| 대응(쌍체) t-검정    | 같은 집단 전후/짝 자료  | 같은 그룹(쌍)     | 신약 전후 효과               |\n",
    "| 독립 표본 t-검정     | 서로 다른 두 집단       | 서로 다른 그룹    | 1반 vs 2반 성적 차이         |\n",
    "\n",
    "## 단일 표본 t-검정 (One-sample)\n",
    "- 정규성 검정: shapiro(data)\n",
    "  - Yes -> ttest_1samp(data, popmean)\n",
    "  - No  -> wilcoxon(data - popmean)\n",
    "\n",
    "## 대응(쌍체) t-검정 (Paired)\n",
    "- diff = data1 - data2, 정규성: shapiro(diff)\n",
    "  - Yes -> ttest_rel(data1, data2)\n",
    "  - No  -> wilcoxon(data1, data2)\n",
    "\n",
    "## 독립 표본 t-검정 (Independent)\n",
    "- 정규성: shapiro(data1), shapiro(data2)\n",
    "  - Yes -> 등분산: levene(data1, data2)\n",
    "      - 등분산 Yes -> ttest_ind(data1, data2)\n",
    "      - 등분산 No  -> ttest_ind(data1, data2, equal_var=False)   # Welch\n",
    "  - No  -> mannwhitneyu(data1, data2)\n",
    "\n",
    "## SciPy 함수 요약\n",
    "- shapiro(x), levene(x,y)\n",
    "- ttest_1samp(x, popmean)\n",
    "- ttest_rel(x, y)\n",
    "- ttest_ind(x, y, equal_var=True|False)\n",
    "- wilcoxon(x, y) 또는 wilcoxon(x - y)\n",
    "- mannwhitneyu(x, y)\n"
   ]
  },
  {
   "cell_type": "markdown",
   "id": "9d585d23-3ea5-4f3c-b86c-f7a200a4ff9f",
   "metadata": {},
   "source": [
    "# 귀무가설: \"합격 원두\" 상품의 평균 무게는 120g이다.\n",
    "# 대립가설: \"합격 원두\" 상품의 평균 무게는 120g이 아니다.\n",
    "import pandas as pd\n",
    "df = pd.DataFrame({\n",
    "    '무게':[119,121,121,119,125,115,121,118,117,127,\n",
    "             123,129,119,124,114,126,122,124,121,116,\n",
    "             123,123,127,118,122,117,124,125,123,121],\n",
    "})"
   ]
  },
  {
   "cell_type": "code",
   "execution_count": 19,
   "id": "37fabe99-1e20-4f70-b1ab-3739254fcff3",
   "metadata": {},
   "outputs": [
    {
     "name": "stdout",
     "output_type": "stream",
     "text": [
      "TtestResult(statistic=2.153709967150663, pvalue=0.03970987897788578, df=29)\n"
     ]
    }
   ],
   "source": [
    "#단일 표본 검정은 \"데이터는 정규분포를 따른다\"라는 조건이 있을때 진행한다\n",
    "#단일 표본 검정\n",
    "from scipy import stats\n",
    "print(stats.ttest_1samp(df['무게'],120))"
   ]
  },
  {
   "cell_type": "code",
   "execution_count": 21,
   "id": "91310e69-4edb-42bc-9690-d0dfa167a60d",
   "metadata": {},
   "outputs": [
    {
     "name": "stdout",
     "output_type": "stream",
     "text": [
      "TtestResult(statistic=2.153709967150663, pvalue=0.03970987897788578, df=29)\n"
     ]
    }
   ],
   "source": [
    "#대립가설  : \"합격 원두\" 상품의 평균 무게는 120g이 아니다.\n",
    "print(stats.ttest_1samp(df['무게'],120, alternative='two-sided'))\n",
    "#=> 귀무가설 기각"
   ]
  },
  {
   "cell_type": "code",
   "execution_count": 23,
   "id": "3db0e16d-ac8e-41b0-b6ce-2ab098d647fe",
   "metadata": {},
   "outputs": [
    {
     "name": "stdout",
     "output_type": "stream",
     "text": [
      "TtestResult(statistic=2.153709967150663, pvalue=0.01985493948894289, df=29)\n"
     ]
    }
   ],
   "source": [
    "#대립가설  : \"합격 원두\" 상품의 평균 무게는 120g보다 크다.\n",
    "print(stats.ttest_1samp(df['무게'],120, alternative='greater'))\n",
    "#=> 귀무가설 기각"
   ]
  },
  {
   "cell_type": "code",
   "execution_count": 25,
   "id": "197edf7a-e7b5-4de3-afbe-d21b806d2682",
   "metadata": {},
   "outputs": [
    {
     "name": "stdout",
     "output_type": "stream",
     "text": [
      "TtestResult(statistic=2.153709967150663, pvalue=0.9801450605110571, df=29)\n"
     ]
    }
   ],
   "source": [
    "#대립가설  : \"합격 원두\" 상품의 평균 무게는 120g보다 작다.\n",
    "print(stats.ttest_1samp(df['무게'],120, alternative='less'))\n",
    "#=> 귀무가설 채택"
   ]
  },
  {
   "cell_type": "code",
   "execution_count": 31,
   "id": "15ee9af3-1b12-4754-bf89-7a2a94329473",
   "metadata": {},
   "outputs": [],
   "source": [
    "# 데이터 (정규성에 만족하지 않게 일부 변경)\n",
    "import pandas as pd\n",
    "df = pd.DataFrame({\n",
    "    '무게':[219,121,121,119,125,115,121,118,117,127,\n",
    "             123,129,119,124,114,126,122,124,121,116,\n",
    "             123,123,127,118,122,117,124,125,123,121],\n",
    "})"
   ]
  },
  {
   "cell_type": "markdown",
   "id": "d58de25a-7d14-45d0-81e6-8d43c3cc4a3e",
   "metadata": {},
   "source": [
    "## Shapiro-Wilk 검정\n",
    "- 귀무가설(H0) : 주어진 데이터 샘플은 정규 분포를 따른다\n",
    "- 대립가설(H1) : 주어진 데이터 샘플은 정규 분포를 따르지 않는다\n",
    "\n",
    "=> 여기서는 귀무가설이 채택되길 바라야 함!!"
   ]
  },
  {
   "cell_type": "code",
   "execution_count": 35,
   "id": "84653f9b-03f7-4697-b342-df59984c3d97",
   "metadata": {},
   "outputs": [
    {
     "data": {
      "text/plain": [
       "ShapiroResult(statistic=0.35728970196526855, pvalue=2.2139240997414947e-10)"
      ]
     },
     "execution_count": 35,
     "metadata": {},
     "output_type": "execute_result"
    }
   ],
   "source": [
    "#shapiro-wilk 정규성 검정\n",
    "from scipy import stats\n",
    "stats.shapiro(df['무게'])\n",
    "#지수표기법으로 되어있음. 소수점이 앞으로 10칸 움직이면 pvalue값이 0.05보다 작기 때문엥 정규분포를 따르지 않는다. (대립가설 채택)"
   ]
  },
  {
   "cell_type": "markdown",
   "id": "5953f83e-685c-4f18-8395-41bc236e64af",
   "metadata": {},
   "source": [
    "## Wilcoxon 검정\n",
    "- 귀무가설(H0): \"합격 원두\" 상품의 평균 무게는 120g이다.\n",
    "- 대립가설(H1): \"합격 원두\" 상품의 평균 무게는 120g보다 작다."
   ]
  },
  {
   "cell_type": "code",
   "execution_count": 38,
   "id": "6a309d12-9a43-484e-9111-c12a8e23da4c",
   "metadata": {},
   "outputs": [
    {
     "data": {
      "text/plain": [
       "WilcoxonResult(statistic=341.0, pvalue=0.9882949283346534)"
      ]
     },
     "execution_count": 38,
     "metadata": {},
     "output_type": "execute_result"
    }
   ],
   "source": [
    "#Wilcoxon(윌콕슨)의 부호 순위 검정 수행\n",
    "stats.wilcoxon(df['무게']-120, alternative='less')"
   ]
  },
  {
   "cell_type": "markdown",
   "id": "5e29a6c9-3936-4821-ac15-fb7f8c2afd4a",
   "metadata": {},
   "source": [
    "# 대응 표본 검정\n",
    "동일한 집단에 대해서 두 번 측정한 결과를 비교할 때 사용\n",
    "ex) 약물의 효과, 교육 프로그램의 효과.. 사후 데이터 비교\n",
    "\n",
    "(데이터는 정규분포를 따른다고 가정)\n",
    "α = (before - after)의 평균\n",
    "\n",
    "- 귀무가설 : α >= 0, 새로운 교육 프로그램은 효과가 없다.\n",
    "- 귀무가설 : α < 0, 새로운 교육 프로그램은 효과가 있다. "
   ]
  },
  {
   "cell_type": "code",
   "execution_count": 41,
   "id": "781f744e-2349-44d1-bb38-208e70b27039",
   "metadata": {},
   "outputs": [],
   "source": [
    "import pandas as pd\n",
    "df = pd.DataFrame({\n",
    "    'before':[80,90,92,88,86,89,83,87,65,50],\n",
    "    'after':[88,89,96,89,85,88,85,89,78,61]\n",
    "})"
   ]
  },
  {
   "cell_type": "code",
   "execution_count": 43,
   "id": "8c560c5d-503e-4b17-8d28-6cf0ec85dd54",
   "metadata": {},
   "outputs": [
    {
     "data": {
      "text/plain": [
       "TtestResult(statistic=-2.338738328607322, pvalue=0.022055667780336068, df=9)"
      ]
     },
     "execution_count": 43,
     "metadata": {},
     "output_type": "execute_result"
    }
   ],
   "source": [
    "#대응표본검정\n",
    "from scipy import stats\n",
    "stats.ttest_rel(df['before'],df['after'],alternative='less')\n",
    "#alternative 넣을 때는 첫번째 값 기준으로 생각"
   ]
  },
  {
   "cell_type": "markdown",
   "id": "12a4f6eb-abe7-4ca5-bbe7-209f9cd6890b",
   "metadata": {},
   "source": [
    "α = (after - before)의 평균\n",
    "\n",
    "- 귀무가설 : α >= 0\n",
    "- 귀무가설 : α > 0"
   ]
  },
  {
   "cell_type": "code",
   "execution_count": 46,
   "id": "413cb02b-e25a-49b3-b795-6529591614b1",
   "metadata": {},
   "outputs": [
    {
     "data": {
      "text/plain": [
       "TtestResult(statistic=2.338738328607322, pvalue=0.022055667780336068, df=9)"
      ]
     },
     "execution_count": 46,
     "metadata": {},
     "output_type": "execute_result"
    }
   ],
   "source": [
    "from scipy import stats\n",
    "stats.ttest_rel(df['after'],df['before'],alternative='greater')\n",
    "# after와 before 의 순서를 잘못 적었다면 pvalue값은 똑같고, 검정통계량값만 부호가 다름"
   ]
  },
  {
   "cell_type": "code",
   "execution_count": 48,
   "id": "b7f55862-ea3a-46a7-9698-978a16595b1b",
   "metadata": {},
   "outputs": [],
   "source": [
    "#앞에서는 정규분포를 따른다고 했는데 만약 그런 말이 없다면?\n",
    "# 정규성을 만족하는지부터 점검\n",
    "# shapiro-wilk 통해서 검정 가능\n",
    "import pandas as pd\n",
    "df = pd.DataFrame({\n",
    "    'before':[80,90,92,88,86,89,83,87,65,50],\n",
    "    'after':[88,89,96,89,85,88,85,89,78,61]\n",
    "})"
   ]
  },
  {
   "cell_type": "code",
   "execution_count": 50,
   "id": "3b7086db-48df-4328-af94-109edb95a9d0",
   "metadata": {},
   "outputs": [
    {
     "data": {
      "text/plain": [
       "ShapiroResult(statistic=0.8579010227454918, pvalue=0.07207684733095153)"
      ]
     },
     "execution_count": 50,
     "metadata": {},
     "output_type": "execute_result"
    }
   ],
   "source": [
    "#Shafiro-Wilk 정규성 검정\n",
    "#대응표본검정에서는 after-before에 대해서 정규성 검정\n",
    "df['diff']=df['after']-df['before']\n",
    "from scipy import stats\n",
    "stats.shapiro(df['diff'])\n",
    "\n",
    "#정규성 검정에서 귀무가설 : 정규 분포를 따른다 / 대립가설 : 정규 분포를 따르지 않는다"
   ]
  },
  {
   "cell_type": "code",
   "execution_count": 53,
   "id": "8101e05d-e230-404c-ba35-9855e4318ebe",
   "metadata": {},
   "outputs": [
    {
     "data": {
      "text/plain": [
       "WilcoxonResult(statistic=47.5, pvalue=0.0244140625)"
      ]
     },
     "execution_count": 53,
     "metadata": {},
     "output_type": "execute_result"
    }
   ],
   "source": [
    "#Wilcoxon 검정\n",
    "stats.wilcoxon(df['after'],df['before'],alternative='greater')"
   ]
  },
  {
   "cell_type": "markdown",
   "id": "ea4a1f67-0cd1-4ffa-a2a1-fd0d9e08c900",
   "metadata": {},
   "source": [
    "# 독립 표본 검정\n",
    "두 그룹의 차이를 통계적으로 검증\n",
    "- 귀무가설(H0): 그룹별 시험 평균 점수는 차이가 없다.\n",
    "- 대립가설(H1) : 그룹별 시험 평균 점수는 차이가 있다.\n",
    "\n",
    "(데이터는 정규분포를 따르고 분산이 동일하다고 가정한다.)"
   ]
  },
  {
   "cell_type": "code",
   "execution_count": 58,
   "id": "854491aa-857c-4a01-b3e0-8f686997bbcd",
   "metadata": {},
   "outputs": [],
   "source": [
    "#대응표본검정에서는 사전,사후이기 때문에 길이가 같아야 하지만 독립 표본 검정에서는 길이가 다를 수 있다\n",
    "A=[85,90,92,88,86,89,83,87,84,50,60,39,28,48,38,28]\n",
    "B=[82,82,88,85,84,74,79,69,78,76,85,84,79,89]"
   ]
  },
  {
   "cell_type": "code",
   "execution_count": 60,
   "id": "fffc143e-3bc3-45b2-90df-046a9fe9ef6e",
   "metadata": {},
   "outputs": [
    {
     "data": {
      "text/plain": [
       "TtestResult(statistic=-2.051813915505951, pvalue=0.04964542271174967, df=28.0)"
      ]
     },
     "execution_count": 60,
     "metadata": {},
     "output_type": "execute_result"
    }
   ],
   "source": [
    "#독립 표본 검정\n",
    "from scipy import stats\n",
    "stats.ttest_ind(A,B) #(처리집단, 대조집단)\n",
    "\n",
    "#0.05보다 작기 때문에 대립가설 채택."
   ]
  },
  {
   "cell_type": "code",
   "execution_count": 63,
   "id": "3c15008a-0adb-4d4a-ba71-452bcb12128e",
   "metadata": {},
   "outputs": [
    {
     "data": {
      "text/plain": [
       "TtestResult(statistic=-2.1837307810153024, pvalue=0.04352730399590312, df=16.729279968729678)"
      ]
     },
     "execution_count": 63,
     "metadata": {},
     "output_type": "execute_result"
    }
   ],
   "source": [
    "#두 집단의 분산이 다르다(equal_var=False)\n",
    "stats.ttest_ind(A,B,equal_var=False)"
   ]
  },
  {
   "cell_type": "markdown",
   "id": "85c5fbf8-06f9-4ebb-ba59-884f95aaa46b",
   "metadata": {},
   "source": [
    "- 귀무가설(H0): 그룹별 시험 평균 점수는 차이가 없다\n",
    "- 대립가설(H1): B그룹 시험 평균 점수가 더 높다"
   ]
  },
  {
   "cell_type": "code",
   "execution_count": 67,
   "id": "32ea3ddc-0e55-4b1e-94e2-b4b35f790583",
   "metadata": {},
   "outputs": [
    {
     "data": {
      "text/plain": [
       "TtestResult(statistic=-2.051813915505951, pvalue=0.024822711355874834, df=28.0)"
      ]
     },
     "execution_count": 67,
     "metadata": {},
     "output_type": "execute_result"
    }
   ],
   "source": [
    "stats.ttest_ind(A,B,equal_var=True,alternative='less')"
   ]
  },
  {
   "cell_type": "markdown",
   "id": "0a8cf559-8f2f-4315-9040-6742986172ed",
   "metadata": {},
   "source": [
    "- 귀무가설(H0): 그룹별 시험 평균 점수는 차이가 없다\n",
    "- 대립가설(H1): A그룹 시험 평균 점수가 더 높다"
   ]
  },
  {
   "cell_type": "code",
   "execution_count": 73,
   "id": "73f24b3e-1627-4c77-813b-911a93ea41dc",
   "metadata": {},
   "outputs": [
    {
     "data": {
      "text/plain": [
       "TtestResult(statistic=-2.051813915505951, pvalue=0.9751772886441252, df=28.0)"
      ]
     },
     "execution_count": 73,
     "metadata": {},
     "output_type": "execute_result"
    }
   ],
   "source": [
    "stats.ttest_ind(A,B,equal_var=True,alternative='greater')"
   ]
  },
  {
   "cell_type": "code",
   "execution_count": 85,
   "id": "20c8c9ca-8fa0-4b2b-9b09-f0bdd5bb6109",
   "metadata": {},
   "outputs": [
    {
     "name": "stdout",
     "output_type": "stream",
     "text": [
      "ShapiroResult(statistic=0.8128696504554708, pvalue=0.00405770158688692)\n"
     ]
    },
    {
     "data": {
      "text/plain": [
       "ShapiroResult(statistic=0.9610027583368682, pvalue=0.739578582064332)"
      ]
     },
     "execution_count": 85,
     "metadata": {},
     "output_type": "execute_result"
    }
   ],
   "source": [
    "#Shapiro-Wilk 정규성 검정\n",
    "from scipy import stats\n",
    "print(stats.shapiro(A))\n",
    "stats.shapiro(B)"
   ]
  },
  {
   "cell_type": "code",
   "execution_count": 89,
   "id": "70d56585-e2e3-4a35-8807-64b08abcbe0c",
   "metadata": {},
   "outputs": [
    {
     "data": {
      "text/plain": [
       "LeveneResult(statistic=8.013957643762076, pvalue=0.008497116974003)"
      ]
     },
     "execution_count": 89,
     "metadata": {},
     "output_type": "execute_result"
    }
   ],
   "source": [
    "#Levene(래빈) 등분산 검정\n",
    "stats.levene(A,B)"
   ]
  },
  {
   "cell_type": "markdown",
   "id": "412f953d-310d-46ff-a54e-8e6538dbfc8f",
   "metadata": {},
   "source": [
    "# Mann-Whitney U 검정(비모수 검정)\n",
    "- 귀무가설(H0): 그룹별 시험 평균 점수는 차이가 없다\n",
    "- 대립가설(H1): B그룹 시험 평균 점수가 더 높다"
   ]
  },
  {
   "cell_type": "code",
   "execution_count": 93,
   "id": "548e5429-d77a-486f-8777-32a3011a2274",
   "metadata": {},
   "outputs": [
    {
     "data": {
      "text/plain": [
       "TtestResult(statistic=-2.1837307810153024, pvalue=0.02176365199795156, df=16.729279968729678)"
      ]
     },
     "execution_count": 93,
     "metadata": {},
     "output_type": "execute_result"
    }
   ],
   "source": [
    "stats.ttest_ind(A,B,equal_var=False,alternative='less')"
   ]
  },
  {
   "cell_type": "code",
   "execution_count": 83,
   "id": "9b1f6c93-a5b7-4dfe-8f55-c0a75796da62",
   "metadata": {},
   "outputs": [
    {
     "data": {
      "text/plain": [
       "MannwhitneyuResult(statistic=106.0, pvalue=0.40944636368515097)"
      ]
     },
     "execution_count": 83,
     "metadata": {},
     "output_type": "execute_result"
    }
   ],
   "source": [
    "#Mann-Whityney U(만 휘트니 유 검정)\n",
    "stats.mannwhitneyu(A,B,alternative='less')"
   ]
  },
  {
   "cell_type": "code",
   "execution_count": null,
   "id": "636aa880-9f85-46f0-ba39-33f82288773d",
   "metadata": {},
   "outputs": [],
   "source": []
  }
 ],
 "metadata": {
  "kernelspec": {
   "display_name": "Python 3 (ipykernel)",
   "language": "python",
   "name": "python3"
  },
  "language_info": {
   "codemirror_mode": {
    "name": "ipython",
    "version": 3
   },
   "file_extension": ".py",
   "mimetype": "text/x-python",
   "name": "python",
   "nbconvert_exporter": "python",
   "pygments_lexer": "ipython3",
   "version": "3.12.3"
  }
 },
 "nbformat": 4,
 "nbformat_minor": 5
}
